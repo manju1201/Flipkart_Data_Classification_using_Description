{
  "nbformat": 4,
  "nbformat_minor": 0,
  "metadata": {
    "colab": {
      "name": "1_Data_Analysis_&_Visualization.ipynb",
      "provenance": [],
      "collapsed_sections": [
        "BB4l5RrVPD6L",
        "yaEiP5pHXPPi",
        "HIAx5wkSYeJA",
        "4Byu8gDsa12N",
        "32_qzABDb4Mp",
        "KpOBUXHrc__R"
      ],
      "toc_visible": true,
      "mount_file_id": "1wouhGr1ZxV80ZciCvEgoXmAcPgOr6Jfi",
      "authorship_tag": "ABX9TyO2itF2wkVBS/sTzGaGFQ0w",
      "include_colab_link": true
    },
    "kernelspec": {
      "name": "python3",
      "display_name": "Python 3"
    },
    "language_info": {
      "name": "python"
    }
  },
  "cells": [
    {
      "cell_type": "markdown",
      "metadata": {
        "id": "view-in-github",
        "colab_type": "text"
      },
      "source": [
        "<a href=\"https://colab.research.google.com/github/manju1201/Flipkart_Data_Classification_using_Description/blob/main/1_Data_Analysis_%26_Visualization.ipynb\" target=\"_parent\"><img src=\"https://colab.research.google.com/assets/colab-badge.svg\" alt=\"Open In Colab\"/></a>"
      ]
    },
    {
      "cell_type": "markdown",
      "metadata": {
        "id": "WPJmuGMO7Hit"
      },
      "source": [
        "# Imports"
      ]
    },
    {
      "cell_type": "code",
      "metadata": {
        "id": "aC3bnaEQxWMe"
      },
      "source": [
        "import csv\n",
        "import pandas as pd\n",
        "import numpy as np\n",
        "import matplotlib.pyplot as plt\n",
        "import seaborn as sns"
      ],
      "execution_count": 1,
      "outputs": []
    },
    {
      "cell_type": "markdown",
      "metadata": {
        "id": "s6KNuAWO7PRE"
      },
      "source": [
        "# Loading DataSet"
      ]
    },
    {
      "cell_type": "code",
      "metadata": {
        "id": "PsB26GrAyVKR"
      },
      "source": [
        "data = pd.read_csv('/content/drive/MyDrive/MIDAS/flipkart_com-ecommerce_sample - flipkart_com-ecommerce_sample - flipkart_com-ecommerce_sample.csv')"
      ],
      "execution_count": 2,
      "outputs": []
    },
    {
      "cell_type": "code",
      "metadata": {
        "colab": {
          "base_uri": "https://localhost:8080/",
          "height": 164
        },
        "id": "iFf-VNce4DRo",
        "outputId": "85d105dd-ffed-462e-fc5f-3eeea519c6a0"
      },
      "source": [
        "data.head(1)"
      ],
      "execution_count": 3,
      "outputs": [
        {
          "output_type": "execute_result",
          "data": {
            "text/html": [
              "<div>\n",
              "<style scoped>\n",
              "    .dataframe tbody tr th:only-of-type {\n",
              "        vertical-align: middle;\n",
              "    }\n",
              "\n",
              "    .dataframe tbody tr th {\n",
              "        vertical-align: top;\n",
              "    }\n",
              "\n",
              "    .dataframe thead th {\n",
              "        text-align: right;\n",
              "    }\n",
              "</style>\n",
              "<table border=\"1\" class=\"dataframe\">\n",
              "  <thead>\n",
              "    <tr style=\"text-align: right;\">\n",
              "      <th></th>\n",
              "      <th>uniq_id</th>\n",
              "      <th>crawl_timestamp</th>\n",
              "      <th>product_url</th>\n",
              "      <th>product_name</th>\n",
              "      <th>product_category_tree</th>\n",
              "      <th>pid</th>\n",
              "      <th>retail_price</th>\n",
              "      <th>discounted_price</th>\n",
              "      <th>image</th>\n",
              "      <th>is_FK_Advantage_product</th>\n",
              "      <th>description</th>\n",
              "      <th>product_rating</th>\n",
              "      <th>overall_rating</th>\n",
              "      <th>brand</th>\n",
              "      <th>product_specifications</th>\n",
              "    </tr>\n",
              "  </thead>\n",
              "  <tbody>\n",
              "    <tr>\n",
              "      <th>0</th>\n",
              "      <td>c2d766ca982eca8304150849735ffef9</td>\n",
              "      <td>2016-03-25 22:59:23 +0000</td>\n",
              "      <td>http://www.flipkart.com/alisha-solid-women-s-c...</td>\n",
              "      <td>Alisha Solid Women's Cycling Shorts</td>\n",
              "      <td>[\"Clothing &gt;&gt; Women's Clothing &gt;&gt; Lingerie, Sl...</td>\n",
              "      <td>SRTEH2FF9KEDEFGF</td>\n",
              "      <td>999.0</td>\n",
              "      <td>379.0</td>\n",
              "      <td>[\"http://img5a.flixcart.com/image/short/u/4/a/...</td>\n",
              "      <td>False</td>\n",
              "      <td>Key Features of Alisha Solid Women's Cycling S...</td>\n",
              "      <td>No rating available</td>\n",
              "      <td>No rating available</td>\n",
              "      <td>Alisha</td>\n",
              "      <td>{\"product_specification\"=&gt;[{\"key\"=&gt;\"Number of ...</td>\n",
              "    </tr>\n",
              "  </tbody>\n",
              "</table>\n",
              "</div>"
            ],
            "text/plain": [
              "                            uniq_id  ...                             product_specifications\n",
              "0  c2d766ca982eca8304150849735ffef9  ...  {\"product_specification\"=>[{\"key\"=>\"Number of ...\n",
              "\n",
              "[1 rows x 15 columns]"
            ]
          },
          "metadata": {
            "tags": []
          },
          "execution_count": 3
        }
      ]
    },
    {
      "cell_type": "markdown",
      "metadata": {
        "id": "r0yj3d3r-XLi"
      },
      "source": [
        "# Data Analysis"
      ]
    },
    {
      "cell_type": "code",
      "metadata": {
        "id": "EmiGvscPygeB",
        "colab": {
          "base_uri": "https://localhost:8080/"
        },
        "outputId": "f60d7c03-3b8a-4a9d-aaf0-47baabc19467"
      },
      "source": [
        "#dimensions of the dataset\n",
        "data.shape "
      ],
      "execution_count": 4,
      "outputs": [
        {
          "output_type": "execute_result",
          "data": {
            "text/plain": [
              "(20000, 15)"
            ]
          },
          "metadata": {
            "tags": []
          },
          "execution_count": 4
        }
      ]
    },
    {
      "cell_type": "code",
      "metadata": {
        "id": "cEt_rx7K-PkO",
        "colab": {
          "base_uri": "https://localhost:8080/"
        },
        "outputId": "a661d297-16c8-411e-b002-572cdfe01909"
      },
      "source": [
        "data.info()  "
      ],
      "execution_count": 5,
      "outputs": [
        {
          "output_type": "stream",
          "text": [
            "<class 'pandas.core.frame.DataFrame'>\n",
            "RangeIndex: 20000 entries, 0 to 19999\n",
            "Data columns (total 15 columns):\n",
            " #   Column                   Non-Null Count  Dtype  \n",
            "---  ------                   --------------  -----  \n",
            " 0   uniq_id                  20000 non-null  object \n",
            " 1   crawl_timestamp          20000 non-null  object \n",
            " 2   product_url              20000 non-null  object \n",
            " 3   product_name             20000 non-null  object \n",
            " 4   product_category_tree    20000 non-null  object \n",
            " 5   pid                      20000 non-null  object \n",
            " 6   retail_price             19922 non-null  float64\n",
            " 7   discounted_price         19922 non-null  float64\n",
            " 8   image                    19997 non-null  object \n",
            " 9   is_FK_Advantage_product  20000 non-null  bool   \n",
            " 10  description              19998 non-null  object \n",
            " 11  product_rating           20000 non-null  object \n",
            " 12  overall_rating           20000 non-null  object \n",
            " 13  brand                    14136 non-null  object \n",
            " 14  product_specifications   19986 non-null  object \n",
            "dtypes: bool(1), float64(2), object(12)\n",
            "memory usage: 2.2+ MB\n"
          ],
          "name": "stdout"
        }
      ]
    },
    {
      "cell_type": "code",
      "metadata": {
        "colab": {
          "base_uri": "https://localhost:8080/"
        },
        "id": "XfMJOtxb3a1H",
        "outputId": "a92397e4-3427-466f-f63f-bb6e4c2b2a7b"
      },
      "source": [
        " #columns names in the dataset\n",
        "data.columns"
      ],
      "execution_count": 6,
      "outputs": [
        {
          "output_type": "execute_result",
          "data": {
            "text/plain": [
              "Index(['uniq_id', 'crawl_timestamp', 'product_url', 'product_name',\n",
              "       'product_category_tree', 'pid', 'retail_price', 'discounted_price',\n",
              "       'image', 'is_FK_Advantage_product', 'description', 'product_rating',\n",
              "       'overall_rating', 'brand', 'product_specifications'],\n",
              "      dtype='object')"
            ]
          },
          "metadata": {
            "tags": []
          },
          "execution_count": 6
        }
      ]
    },
    {
      "cell_type": "code",
      "metadata": {
        "id": "jA4kFfmv91wi",
        "colab": {
          "base_uri": "https://localhost:8080/"
        },
        "outputId": "a1344cb1-78fe-42ce-b224-be5a19e79fa6"
      },
      "source": [
        "#finding the null values in columns\n",
        "data.isnull().sum() "
      ],
      "execution_count": 7,
      "outputs": [
        {
          "output_type": "execute_result",
          "data": {
            "text/plain": [
              "uniq_id                       0\n",
              "crawl_timestamp               0\n",
              "product_url                   0\n",
              "product_name                  0\n",
              "product_category_tree         0\n",
              "pid                           0\n",
              "retail_price                 78\n",
              "discounted_price             78\n",
              "image                         3\n",
              "is_FK_Advantage_product       0\n",
              "description                   2\n",
              "product_rating                0\n",
              "overall_rating                0\n",
              "brand                      5864\n",
              "product_specifications       14\n",
              "dtype: int64"
            ]
          },
          "metadata": {
            "tags": []
          },
          "execution_count": 7
        }
      ]
    },
    {
      "cell_type": "markdown",
      "metadata": {
        "id": "TdeeVIv5442t"
      },
      "source": [
        "The dataset contains null values in 6 columns => retail_price,     discounted_price, image, description, brand, product_specifications\n"
      ]
    },
    {
      "cell_type": "markdown",
      "metadata": {
        "id": "whhH5kAu8VDg"
      },
      "source": [
        "visualizing missing data "
      ]
    },
    {
      "cell_type": "code",
      "metadata": {
        "colab": {
          "base_uri": "https://localhost:8080/",
          "height": 621
        },
        "id": "BGJJEObkIZOT",
        "outputId": "439b139f-06fd-4e36-ba6e-7a1c8d2139ff"
      },
      "source": [
        "plt.figure(figsize =(10,8))\n",
        "sns.heatmap(data.isnull(),yticklabels=False,cmap='plasma',cbar=True)\n",
        "plt.title('Missing Data?',fontsize=20)\n",
        "plt.show()"
      ],
      "execution_count": 8,
      "outputs": [
        {
          "output_type": "display_data",
          "data": {
            "image/png": "[encoded data removed]",
            "text/plain": [
              "<Figure size 720x576 with 2 Axes>"
            ]
          },
          "metadata": {
            "tags": [],
            "needs_background": "light"
          }
        }
      ]
    },
    {
      "cell_type": "code",
      "metadata": {
        "id": "P_bus0LE71D1",
        "colab": {
          "base_uri": "https://localhost:8080/"
        },
        "outputId": "ae76809f-7926-48a7-fe7f-0597f846ae77"
      },
      "source": [
        "data['product_name'].value_counts()         # gives the unique values and their counts"
      ],
      "execution_count": 9,
      "outputs": [
        {
          "output_type": "execute_result",
          "data": {
            "text/plain": [
              "TheLostPuppy Back Cover for Apple iPad Air              134\n",
              "TheLostPuppy Back Cover for Apple iPad Air 2             95\n",
              "S4S Stylish Women's Push-up Bra                          94\n",
              "Voylla Metal, Alloy Necklace                             66\n",
              "WallDesign Small Vinyl Sticker                           65\n",
              "                                                       ... \n",
              "Globalite Pivot Bellies                                   1\n",
              "Jewels5 Daliah Yellow Gold Diamond 18 K Ring              1\n",
              "Fabutex Polyester Purple Striped Eyelet Door Curtain      1\n",
              "Eureka.in GSEB Class VII                                  1\n",
              "Gifts & Arts Remote Control Jeep                          1\n",
              "Name: product_name, Length: 12676, dtype: int64"
            ]
          },
          "metadata": {
            "tags": []
          },
          "execution_count": 9
        }
      ]
    },
    {
      "cell_type": "code",
      "metadata": {
        "id": "LG5j7HUm8PEw",
        "colab": {
          "base_uri": "https://localhost:8080/"
        },
        "outputId": "1c1e74a7-ee11-41b9-ea28-754dc738bb71"
      },
      "source": [
        "data['product_category_tree'].value_counts()"
      ],
      "execution_count": 10,
      "outputs": [
        {
          "output_type": "execute_result",
          "data": {
            "text/plain": [
              "[\"Jewellery >> Necklaces & Chains >> Necklaces\"]                                                                                                                         1567\n",
              "[\"Jewellery >> Rings\"]                                                                                                                                                    710\n",
              "[\"Automotive >> Accessories & Spare parts >> Car Interior & Exterior >> Car Interior >> Car Mats\"]                                                                        522\n",
              "[\"Jewellery >> Bangles, Bracelets & Armlets >> Bangles\"]                                                                                                                  430\n",
              "[\"Tools & Hardware >> Tools >> Gardening Tools >> Plant Containers & Sets >> Plant Container Sets\"]                                                                       332\n",
              "                                                                                                                                                                         ... \n",
              "[\"Toys & School Supplies >> Dupli Color Toys & School Supplies >> Dupli Color Spray Paint Bottle (Set of 1, Signal...\"]                                                     1\n",
              "[\"Clothing >> Women's Clothing >> Ethnic Wear >> Kurtas & Kurtis >> Kurtas >> Gulmohar Jaipur Kurtas >> Gulmohar Jaipur Printed Women's Straight Kurta\"]                    1\n",
              "[\"Watches >> Wrist Watches >> Adino Wrist Watches >> Adino ADF04 Analog Watch  - For Girls\"]                                                                                1\n",
              "[\"Clothing >> Kids' Clothing >> Infants Wear >> Baby Boys >> Polos & T-Shirts >> 612 League Polos & T-Shirts >> 612 League Solid Baby Boy's Flap Collar Neck T-S...\"]       1\n",
              "[\"Pens & Stationery >> Office Supplies >> Desk Organizers >> O Teddy Desk Organizers\"]                                                                                      1\n",
              "Name: product_category_tree, Length: 6466, dtype: int64"
            ]
          },
          "metadata": {
            "tags": []
          },
          "execution_count": 10
        }
      ]
    },
    {
      "cell_type": "code",
      "metadata": {
        "id": "oRl7mtUF8x4o",
        "colab": {
          "base_uri": "https://localhost:8080/"
        },
        "outputId": "08da7c2d-5068-4b63-809c-e90bcb1a3a03"
      },
      "source": [
        "data['pid'].value_counts()"
      ],
      "execution_count": 11,
      "outputs": [
        {
          "output_type": "execute_result",
          "data": {
            "text/plain": [
              "JEAEGE8Q8GXYFTGU    2\n",
              "ACCEJ6TESY7AFT5W    2\n",
              "SHOEGKU9SUZRXPHY    1\n",
              "SHOEE2HFTRGFPCWU    1\n",
              "RNGEJYXA96UREGRT    1\n",
              "                   ..\n",
              "LJGEJUG4GHSHHQ9A    1\n",
              "SNDE7XBNDYY8EWFY    1\n",
              "CAGE53FSFZVFPFHQ    1\n",
              "SHVDG374BYZ35U5Z    1\n",
              "ACCE63YUA7ZPMV33    1\n",
              "Name: pid, Length: 19998, dtype: int64"
            ]
          },
          "metadata": {
            "tags": []
          },
          "execution_count": 11
        }
      ]
    },
    {
      "cell_type": "code",
      "metadata": {
        "colab": {
          "base_uri": "https://localhost:8080/"
        },
        "id": "h7yAmpy-6VFL",
        "outputId": "28ebc1a1-bf33-4ee8-f7de-96c91d3643ee"
      },
      "source": [
        "data['retail_price'].value_counts()"
      ],
      "execution_count": 12,
      "outputs": [
        {
          "output_type": "execute_result",
          "data": {
            "text/plain": [
              "999.0      1286\n",
              "499.0       697\n",
              "599.0       639\n",
              "799.0       583\n",
              "1299.0      558\n",
              "           ... \n",
              "36004.0       1\n",
              "84300.0       1\n",
              "23124.0       1\n",
              "42153.0       1\n",
              "35838.0       1\n",
              "Name: retail_price, Length: 2247, dtype: int64"
            ]
          },
          "metadata": {
            "tags": []
          },
          "execution_count": 12
        }
      ]
    },
    {
      "cell_type": "code",
      "metadata": {
        "colab": {
          "base_uri": "https://localhost:8080/"
        },
        "id": "P-kWX4mc6bSJ",
        "outputId": "1689fb0d-9209-4a5d-deaf-4c2952cbdff1"
      },
      "source": [
        "data['discounted_price'].value_counts()"
      ],
      "execution_count": 13,
      "outputs": [
        {
          "output_type": "execute_result",
          "data": {
            "text/plain": [
              "499.0      993\n",
              "399.0      966\n",
              "599.0      776\n",
              "299.0      743\n",
              "999.0      432\n",
              "          ... \n",
              "2630.0       1\n",
              "1820.0       1\n",
              "26708.0      1\n",
              "5040.0       1\n",
              "25599.0      1\n",
              "Name: discounted_price, Length: 2448, dtype: int64"
            ]
          },
          "metadata": {
            "tags": []
          },
          "execution_count": 13
        }
      ]
    },
    {
      "cell_type": "code",
      "metadata": {
        "colab": {
          "base_uri": "https://localhost:8080/"
        },
        "id": "yh3sQMva6iLI",
        "outputId": "0e3b569d-ad10-4253-ad21-6afe8562cf8a"
      },
      "source": [
        "data['product_rating'].value_counts()"
      ],
      "execution_count": 14,
      "outputs": [
        {
          "output_type": "execute_result",
          "data": {
            "text/plain": [
              "No rating available    18151\n",
              "5                        620\n",
              "4                        246\n",
              "1                        171\n",
              "3                        168\n",
              "2                         80\n",
              "4.5                       67\n",
              "3.7                       51\n",
              "4.2                       47\n",
              "3.5                       45\n",
              "4.3                       45\n",
              "3.6                       25\n",
              "4.1                       24\n",
              "4.7                       24\n",
              "3.8                       23\n",
              "2.5                       23\n",
              "4.8                       21\n",
              "3.2                       20\n",
              "3.3                       17\n",
              "4.4                       16\n",
              "3.9                       15\n",
              "3.4                       13\n",
              "2.3                       12\n",
              "2.8                       11\n",
              "2.7                       10\n",
              "4.6                        9\n",
              "2.2                        8\n",
              "3.1                        7\n",
              "2.9                        5\n",
              "2.4                        5\n",
              "1.7                        4\n",
              "1.5                        4\n",
              "1.3                        4\n",
              "4.9                        4\n",
              "2.6                        3\n",
              "1.8                        2\n",
              "Name: product_rating, dtype: int64"
            ]
          },
          "metadata": {
            "tags": []
          },
          "execution_count": 14
        }
      ]
    },
    {
      "cell_type": "code",
      "metadata": {
        "colab": {
          "base_uri": "https://localhost:8080/"
        },
        "id": "MlIKVrqn6qtz",
        "outputId": "8f723c91-1367-4ff3-9645-7cb09de0cf95"
      },
      "source": [
        "data['overall_rating'].value_counts()"
      ],
      "execution_count": 15,
      "outputs": [
        {
          "output_type": "execute_result",
          "data": {
            "text/plain": [
              "No rating available    18151\n",
              "5                        620\n",
              "4                        246\n",
              "1                        171\n",
              "3                        168\n",
              "2                         80\n",
              "4.5                       67\n",
              "3.7                       51\n",
              "4.2                       47\n",
              "3.5                       45\n",
              "4.3                       45\n",
              "3.6                       25\n",
              "4.1                       24\n",
              "4.7                       24\n",
              "3.8                       23\n",
              "2.5                       23\n",
              "4.8                       21\n",
              "3.2                       20\n",
              "3.3                       17\n",
              "4.4                       16\n",
              "3.9                       15\n",
              "3.4                       13\n",
              "2.3                       12\n",
              "2.8                       11\n",
              "2.7                       10\n",
              "4.6                        9\n",
              "2.2                        8\n",
              "3.1                        7\n",
              "2.9                        5\n",
              "2.4                        5\n",
              "1.7                        4\n",
              "1.5                        4\n",
              "1.3                        4\n",
              "4.9                        4\n",
              "2.6                        3\n",
              "1.8                        2\n",
              "Name: overall_rating, dtype: int64"
            ]
          },
          "metadata": {
            "tags": []
          },
          "execution_count": 15
        }
      ]
    },
    {
      "cell_type": "markdown",
      "metadata": {
        "id": "YqZ4vDCD6rPJ"
      },
      "source": [
        "The columns product_rating and overall_rating are not having null values but for about 18151 rows \"no rating available\"."
      ]
    },
    {
      "cell_type": "code",
      "metadata": {
        "id": "83IBVadj_pzN",
        "colab": {
          "base_uri": "https://localhost:8080/"
        },
        "outputId": "9c248e5a-1d47-4426-b6d9-67fad55287db"
      },
      "source": [
        "data['description'].value_counts()"
      ],
      "execution_count": 16,
      "outputs": [
        {
          "output_type": "execute_result",
          "data": {
            "text/plain": [
              "TheLostPuppy Back Cover for Apple iPad Air (Multicolor)\\n                         Price: Rs. 599\\n\\t\\t\\t\\t\\n\\t\\t\\tDesigned to protect and impress. The Lost Puppy brings you robust mobile covers in all sizes. With the special anti-slip technology this protects your phone in more ways than one. The matte finish and superior quality add elegance, class and sturdiness to the covers.\\nDesigned to protect and impress. The Lost Puppy brings you robust mobile covers in all sizes. With the special anti-slip technology this protects your phone in more ways than one. The matte finish and superior quality add elegance, class and sturdiness to the covers.                                                                                                                                                                                                                                                                                                                                                                                                                                                                                                                                                                                                                                                                                                                                                                                       92\n",
              "Buy HomeeHub Polyester Multicolor Self Design Eyelet Door Curtain at Rs. 1332 at Flipkart.com. Only Genuine Products. Free Shipping. Cash On Delivery!                                                                                                                                                                                                                                                                                                                                                                                                                                                                                                                                                                                                                                                                                                                                                                                                                                                                                                                                                                                                                                                                                                                                                                                                                                                                                                           58\n",
              "TheLostPuppy Back Cover for Apple iPad Air 2 (Multicolor)\\n                         Price: Rs. 599\\n\\t\\t\\t\\t\\n\\t\\t\\tDesigned to protect and impress. The Lost Puppy brings you robust mobile covers in all sizes. With the special anti-slip technology this protects your phone in more ways than one. The matte finish and superior quality add elegance, class and sturdiness to the covers.\\nDesigned to protect and impress. The Lost Puppy brings you robust mobile covers in all sizes. With the special anti-slip technology this protects your phone in more ways than one. The matte finish and superior quality add elegance, class and sturdiness to the covers.                                                                                                                                                                                                                                                                                                                                                                                                                                                                                                                                                                                                                                                                                                                                                                                     58\n",
              "Theskinmantra Sleeve for All versions of Apple ipad (Multicolor)\\n                         Price: Rs. 549\\n\\t\\t\\t\\t\\n\\t\\t\\tThe HOT new Ipad sleeves from the house of Theskinmantra are here. These are Waterproof and fadeproof sleeves for all Ipad versions (Ipad 1, 2, 3, 4, Ipad Air 1, Ipad Air 2, Ipad Air 3) . The cushioned Apple Ipad Sleeves are also compatible with all 9/10 inch tablets such as Nexus 9, Asus Fonepad . These are made of Hydra-Flex Material which means that they are water proof, and the designs on them are fadeproof for life. Made from 4.2 MM thick cushioned Material, These come with a high quality textured chain. These Apple Ipad Sleeves offer Ultimate Utility and style. Carry your gadget in one of these sleeves. Second look Guaranteed!\\nThe HOT new Ipad sleeves from the house of Theskinmantra are here. These are Waterproof and fadeproof sleeves for all Ipad versions (Ipad 1, 2, 3, 4, Ipad Air 1, Ipad Air 2, Ipad Air 3) . The cushioned Apple Ipad Sleeves are also compatible with all 9/10 inch tablets such as Nexus 9, Asus Fonepad . These are made of Hydra-Flex Material which means that they are water proof, and the designs on them are fadeproof for life. Made from 4.2 MM thick cushioned Material, These come with a high quality textured chain. These Apple Ipad Sleeves offer Ultimate Utility and style. Carry your gadget in one of these sleeves. Second look Guaranteed!    43\n",
              "TheLostPuppy Back Cover for Apple iPad Air (Multicolor)\\n                         Price: Rs. 599\\n\\t\\t\\t\\t\\n\\t\\t\\tDesigned To Protect And Impress. The Lost Puppy Brings You Robust Mobile Covers In All Sizes. With The Special Anti-Slip Technology This Protects Your Phone In More Ways Than One. The Matte Finish And Superior Quality Add Elegance, Class And Sturdiness To The Covers.\\nDesigned To Protect And Impress. The Lost Puppy Brings You Robust Mobile Covers In All Sizes. With The Special Anti-Slip Technology This Protects Your Phone In More Ways Than One. The Matte Finish And Superior Quality Add Elegance, Class And Sturdiness To The Covers.                                                                                                                                                                                                                                                                                                                                                                                                                                                                                                                                                                                                                                                                                                                                                                                       42\n",
              "                                                                                                                                                                                                                                                                                                                                                                                                                                                                                                                                                                                                                                                                                                                                                                                                                                                                                                                                                                                                                                                                                                                                                                                                                                                                                                                                                                                                                                                                 ..\n",
              "Nod'R Solid Men's V-neck T-Shirt - Buy Navy Blue Nod'R Solid Men's V-neck T-Shirt For Only Rs. 599 Online in India. Shop Online For Apparels. Huge Collection of Branded Clothes Only at Flipkart.com                                                                                                                                                                                                                                                                                                                                                                                                                                                                                                                                                                                                                                                                                                                                                                                                                                                                                                                                                                                                                                                                                                                                                                                                                                                             1\n",
              "Excellent4U Cotton Baby Towel (3 Medium Baby towels, Multicolor)\\n                         Price: Rs. 274\\n\\t\\t\\t\\t\\n\\t\\t\\tExcellent4U Present to You Baby Strip Towels. These Towels Are Easy To Maintain And Absorbs Well, To Keep Your Child Dry And Cosy After Bath. Long lasting and durable product.\\nExcellent4U Present to You Baby Strip Towels. These Towels Are Easy To Maintain And Absorbs Well, To Keep Your Child Dry And Cosy After Bath. Long lasting and durable product.                                                                                                                                                                                                                                                                                                                                                                                                                                                                                                                                                                                                                                                                                                                                                                                                                                                                                                                                                                       1\n",
              "Flipkart.com: Buy Fenny Women Wedges only for Rs. 499 from Flipkart.com. Only Genuine Products. 30 Day Replacement Guarantee. Free Shipping. Cash On Delivery!                                                                                                                                                                                                                                                                                                                                                                                                                                                                                                                                                                                                                                                                                                                                                                                                                                                                                                                                                                                                                                                                                                                                                                                                                                                                                                    1\n",
              "Key Features of Zikrak Exim Women Wedges Sole Material-Italian Sheet Inner Lining-SYNTHETIC Closing-Slip On Heel height-Medium: 2.5-3.5 Inch Upper Material Details-Synthetic,Zikrak Exim Women Wedges Price: Rs. 649 Rock the party by wearing these Heels from the exclusive collection of Zikrak Exim. The synthetic upper and resin sheet sole ensures comfort and durability. You can team these heels with any outfit of your choice to look cool.,Specifications of Zikrak Exim Women Wedges General Ideal For Women Occasion Party Sandal Details Sole Material TPR Number of Contents in Sales Package Pack of 2 Weight 200 g (per single Sandal) - Weight of the product may vary depending on size. Type Wedges Inner Material Synthetic Heel Height 2.5 inch Removable Insole No Outer Material Synthetic Insole Material TPR Color Red Additional Details Other Details Put your best feet forward and make a lasting impression with your style, on an upcoming social function, wearing these zikrak exim sandals.These sandals are absolutely comfortable owing to their synthetic upper and lining. Care Instructions Surface Dirt can be cleaned with a good quality brush or a damp cloth In the Box 2 Sandals                                                                                                                                                                                                                                 1\n",
              "Karatcraft Ribbon Knot Yellow Gold Diamond 18 K Ring - Buy Karatcraft Ribbon Knot Yellow Gold Diamond 18 K Ring only for Rs. 29926 from Flipkart.com. Only Genuine Products. 30 Day Replacement Guarantee. Free Shipping. Cash On Delivery!                                                                                                                                                                                                                                                                                                                                                                                                                                                                                                                                                                                                                                                                                                                                                                                                                                                                                                                                                                                                                                                                                                                                                                                                                       1\n",
              "Name: description, Length: 17539, dtype: int64"
            ]
          },
          "metadata": {
            "tags": []
          },
          "execution_count": 16
        }
      ]
    },
    {
      "cell_type": "code",
      "metadata": {
        "id": "t0TDK0NT_xNs",
        "colab": {
          "base_uri": "https://localhost:8080/"
        },
        "outputId": "f0639bf5-ab01-401b-8b75-0605793de9fe"
      },
      "source": [
        "data['brand'].value_counts()"
      ],
      "execution_count": 17,
      "outputs": [
        {
          "output_type": "execute_result",
          "data": {
            "text/plain": [
              "Allure Auto     469\n",
              "Regular         313\n",
              "Voylla          299\n",
              "Slim            288\n",
              "TheLostPuppy    229\n",
              "               ... \n",
              "Instyles          1\n",
              "Lodge             1\n",
              "Giftwell          1\n",
              "Hunter            1\n",
              "Crezy             1\n",
              "Name: brand, Length: 3499, dtype: int64"
            ]
          },
          "metadata": {
            "tags": []
          },
          "execution_count": 17
        }
      ]
    },
    {
      "cell_type": "code",
      "metadata": {
        "id": "idoQNR27_6sA",
        "colab": {
          "base_uri": "https://localhost:8080/"
        },
        "outputId": "6981e1c2-1392-4daa-e069-5decc364c23b"
      },
      "source": [
        "data['product_specifications'].value_counts()"
      ],
      "execution_count": 18,
      "outputs": [
        {
          "output_type": "execute_result",
          "data": {
            "text/plain": [
              "{\"product_specification\"=>[{\"key\"=>\"Type\", \"value\"=>\"Mug\"}, {\"key\"=>\"Mug Capacity\", \"value\"=>\"5.5 l\"}, {\"key\"=>\"Freezer Safe\", \"value\"=>\"Yes\"}, {\"key\"=>\"Material\", \"value\"=>\"Ceramic\"}, {\"key\"=>\"Microwave Safe\", \"value\"=>\"Yes\"}, {\"value\"=>\"1 Year Rockmantra Brand Warranty and Free Transit Insurance.\"}, {\"key\"=>\"Diameter\", \"value\"=>\"88 mm\"}, {\"key\"=>\"Weight\", \"value\"=>\"300 g\"}, {\"key\"=>\"Height\", \"value\"=>\"101 mm\"}, {\"key\"=>\"Width\", \"value\"=>\"88 mm\"}, {\"key\"=>\"Sales Package\", \"value\"=>\"1 mug\"}]}                                                                                                                                                                                                                                                                                                                                                                                                                                     71\n",
              "{\"product_specification\"=>nil}                                                                                                                                                                                                                                                                                                                                                                                                                                                                                                                                                                                                                                                                                                                                                                                                                                                                                                                        53\n",
              "{\"product_specification\"=>[{\"key\"=>\"Type\", \"value\"=>\"Mug\"}, {\"key\"=>\"Mug Capacity\", \"value\"=>\"350 g\"}, {\"key\"=>\"Material\", \"value\"=>\"Ceramic\"}, {\"key\"=>\"Freezer Safe\", \"value\"=>\"Yes\"}, {\"key\"=>\"Microwave Safe\", \"value\"=>\"Yes\"}, {\"key\"=>\"Weight\", \"value\"=>\"350 g\"}, {\"key\"=>\"Sales Package\", \"value\"=>\"1 Mug\"}]}                                                                                                                                                                                                                                                                                                                                                                                                                                                                                                                                                                                                                                 51\n",
              "{\"product_specification\"=>[{\"key\"=>\"Type\", \"value\"=>\"Mug\"}, {\"key\"=>\"Mug Capacity\", \"value\"=>\"350 ml\"}, {\"key\"=>\"Material\", \"value\"=>\"Ceramic\"}, {\"key\"=>\"Freezer Safe\", \"value\"=>\"Yes\"}, {\"key\"=>\"Microwave Safe\", \"value\"=>\"Yes\"}, {\"key\"=>\"Weight\", \"value\"=>\"350 g\"}, {\"key\"=>\"Sales Package\", \"value\"=>\"1 Mug\"}]}                                                                                                                                                                                                                                                                                                                                                                                                                                                                                                                                                                                                                                35\n",
              "{\"product_specification\"=>[{\"key\"=>\"Number of Contents in Sales Package\", \"value\"=>\"Pack of 3\"}, {\"key\"=>\"Fabric\", \"value\"=>\"Cotton Lycra\"}, {\"key\"=>\"Type\", \"value\"=>\"Leggings\"}, {\"key\"=>\"Pattern\", \"value\"=>\"Solid\"}, {\"key\"=>\"Ideal For\", \"value\"=>\"Women's\"}]}                                                                                                                                                                                                                                                                                                                                                                                                                                                                                                                                                                                                                                                                                   33\n",
              "                                                                                                                                                                                                                                                                                                                                                                                                                                                                                                                                                                                                                                                                                                                                                                                                                                                                                                                                                      ..\n",
              "{\"product_specification\"=>[{\"key\"=>\"Pan Type\", \"value\"=>\"Tadka\"}, {\"key\"=>\"Brand\", \"value\"=>\"DakshCraft\"}, {\"key\"=>\"Non-stick\", \"value\"=>\"No\"}, {\"key\"=>\"Model Number\", \"value\"=>\"DSCK-012\"}, {\"key\"=>\"Induction Bottom\", \"value\"=>\"No\"}, {\"key\"=>\"Type\", \"value\"=>\"Kadhai\"}, {\"key\"=>\"Model Name\", \"value\"=>\"Handmade Copperware Serving\"}, {\"key\"=>\"Material\", \"value\"=>\"Stainless Steel\"}, {\"key\"=>\"Lid Included\", \"value\"=>\"Yes\"}, {\"key\"=>\"Capacity\", \"value\"=>\"NA L\"}, {\"key\"=>\"Handle Features\", \"value\"=>\"Double Sided Handle\"}, {\"key\"=>\"Color\", \"value\"=>\"Gold, Steel\"}, {\"key\"=>\"Sales Package\", \"value\"=>\"1 Kadhai, 1 Lid\"}, {\"key\"=>\"Pack of\", \"value\"=>\"1\"}, {\"key\"=>\"Diameter\", \"value\"=>\"15 cm\"}, {\"key\"=>\"Weight\", \"value\"=>\"265 g\"}, {\"key\"=>\"Height\", \"value\"=>\"12 cm\"}, {\"key\"=>\"Other Dimensions\", \"value\"=>\"Serveware karahi Indian pan for serving inner steel, outer copper.\"}]}                                               1\n",
              "{\"product_specification\"=>[{\"key\"=>\"Number of Contents in Sales Package\", \"value\"=>\"Pack of 1\"}, {\"key\"=>\"Sales Package\", \"value\"=>\"1 Wall Decal/Sticker, 1 Practice Decal, Instructions\"}, {\"key\"=>\"Ideal Use\", \"value\"=>\"Child Bedroom, Bedroom, Living Room\"}, {\"key\"=>\"Brand\", \"value\"=>\"Wallmantra\"}, {\"key\"=>\"Shape\", \"value\"=>\"Rectangular\"}, {\"key\"=>\"Scratch-resistant\", \"value\"=>\"No\"}, {\"key\"=>\"Laminated\", \"value\"=>\"Yes\"}, {\"key\"=>\"Type\", \"value\"=>\"Vinyl Sticker\"}, {\"key\"=>\"Number of Stickers\", \"value\"=>\"1\"}, {\"key\"=>\"Size in Number\", \"value\"=>\"95 cm\"}, {\"key\"=>\"Material\", \"value\"=>\"Vinyl\"}, {\"key\"=>\"Lamination Type\", \"value\"=>\"Matte\"}, {\"key\"=>\"Size\", \"value\"=>\"Large\"}, {\"key\"=>\"Height\", \"value\"=>\"95 cm\"}, {\"key\"=>\"Width\", \"value\"=>\"68 cm\"}, {\"value\"=>\"If you have received a damaged or defective product or it is not as described, you can get a replacement within 30 days of delivery at no extra cost.\"}]}     1\n",
              "{\"product_specification\"=>[{\"key\"=>\"Material\", \"value\"=>\"Cotton\"}, {\"key\"=>\"Design\", \"value\"=>\"Plain\"}, {\"key\"=>\"Brand\", \"value\"=>\"BigshopOnline\"}, {\"key\"=>\"Type\", \"value\"=>\"Bath Towel\"}, {\"key\"=>\"GSM\", \"value\"=>\"450\"}, {\"key\"=>\"Model Name\", \"value\"=>\"Best1\"}, {\"key\"=>\"Ideal For\", \"value\"=>\"Men, Women\"}, {\"key\"=>\"Model ID\", \"value\"=>\"Best1\"}, {\"key\"=>\"Color\", \"value\"=>\"Multicolor\"}, {\"key\"=>\"Size\", \"value\"=>\"Medium\"}, {\"key\"=>\"Length\", \"value\"=>\"142 inch\"}, {\"key\"=>\"Width\", \"value\"=>\"73 inch\"}, {\"key\"=>\"Number of Contents in Sales Package\", \"value\"=>\"5\"}, {\"key\"=>\"Sales Package\", \"value\"=>\"5 Bath towels\"}]}                                                                                                                                                                                                                                                                                                                 1\n",
              "{\"product_specification\"=>[{\"key\"=>\"Brand\", \"value\"=>\"Easy Gardening\"}, {\"key\"=>\"Shape\", \"value\"=>\"Circular\"}, {\"key\"=>\"Model Number\", \"value\"=>\"Ropt_16_2\"}, {\"key\"=>\"Type\", \"value\"=>\"Indoor, Outdoor\"}, {\"key\"=>\"Model Name\", \"value\"=>\"Home\"}, {\"key\"=>\"Material\", \"value\"=>\"Plastic\"}, {\"key\"=>\"Color\", \"value\"=>\"Brown\"}, {\"key\"=>\"Design\", \"value\"=>\"Round\"}, {\"key\"=>\"Sales Package\", \"value\"=>\"Set of 2 Plant Containers\"}, {\"key\"=>\"Pack of\", \"value\"=>\"2\"}, {\"key\"=>\"External Diameter\", \"value\"=>\"42 cm\"}, {\"key\"=>\"External Depth\", \"value\"=>\"34 cm\"}, {\"key\"=>\"External Width\", \"value\"=>\"42 cm\"}, {\"key\"=>\"Weight\", \"value\"=>\"3200 g\"}, {\"key\"=>\"Height\", \"value\"=>\"34 cm\"}]}                                                                                                                                                                                                                                                           1\n",
              "{\"product_specification\"=>[{\"key\"=>\"Brand\", \"value\"=>\"kits kart\"}, {\"key\"=>\"Shade\", \"value\"=>\"Red\"}, {\"key\"=>\"Material\", \"value\"=>\"Artificial Leather\"}, {\"key\"=>\"Designed for\", \"value\"=>\"Videocon Infinium Z45 Nova+\"}, {\"key\"=>\"Model ID\", \"value\"=>\"HDPRD47#1736\"}, {\"key\"=>\"Color\", \"value\"=>\"Red\"}, {\"key\"=>\"Sales Package\", \"value\"=>\"1 Hand Pouch\"}]}                                                                                                                                                                                                                                                                                                                                                                                                                                                                                                                                                                                          1\n",
              "Name: product_specifications, Length: 18825, dtype: int64"
            ]
          },
          "metadata": {
            "tags": []
          },
          "execution_count": 18
        }
      ]
    },
    {
      "cell_type": "code",
      "metadata": {
        "id": "z9UtNdlKLpsx",
        "colab": {
          "base_uri": "https://localhost:8080/"
        },
        "outputId": "77ce9de6-f7a7-4fce-a18a-afb430839b5e"
      },
      "source": [
        "#make crawl_time column into a datetime type\n",
        "data['crawl_timestamp']=pd.to_datetime(data['crawl_timestamp'])\n",
        "data['crawl_timestamp']"
      ],
      "execution_count": 19,
      "outputs": [
        {
          "output_type": "execute_result",
          "data": {
            "text/plain": [
              "0       2016-03-25 22:59:23+00:00\n",
              "1       2016-03-25 22:59:23+00:00\n",
              "2       2016-03-25 22:59:23+00:00\n",
              "3       2016-03-25 22:59:23+00:00\n",
              "4       2016-03-25 22:59:23+00:00\n",
              "                   ...           \n",
              "19995   2015-12-01 10:15:43+00:00\n",
              "19996   2015-12-01 10:15:43+00:00\n",
              "19997   2015-12-01 10:15:43+00:00\n",
              "19998   2015-12-01 10:15:43+00:00\n",
              "19999   2015-12-01 10:15:43+00:00\n",
              "Name: crawl_timestamp, Length: 20000, dtype: datetime64[ns, UTC]"
            ]
          },
          "metadata": {
            "tags": []
          },
          "execution_count": 19
        }
      ]
    },
    {
      "cell_type": "code",
      "metadata": {
        "id": "UHeZtN5PMoPW",
        "colab": {
          "base_uri": "https://localhost:8080/"
        },
        "outputId": "7412cf8f-f29d-44b8-c9db-b0d738636cdc"
      },
      "source": [
        "data['crawl_year']=data['crawl_timestamp'].apply(lambda x : x.year)\n",
        "data['crawl_year']"
      ],
      "execution_count": 20,
      "outputs": [
        {
          "output_type": "execute_result",
          "data": {
            "text/plain": [
              "0        2016\n",
              "1        2016\n",
              "2        2016\n",
              "3        2016\n",
              "4        2016\n",
              "         ... \n",
              "19995    2015\n",
              "19996    2015\n",
              "19997    2015\n",
              "19998    2015\n",
              "19999    2015\n",
              "Name: crawl_year, Length: 20000, dtype: int64"
            ]
          },
          "metadata": {
            "tags": []
          },
          "execution_count": 20
        }
      ]
    },
    {
      "cell_type": "code",
      "metadata": {
        "id": "M2yU74jDM5Et",
        "colab": {
          "base_uri": "https://localhost:8080/"
        },
        "outputId": "82b1750e-5a5f-4fc1-91d4-d355910616f9"
      },
      "source": [
        "data['Month']=data['crawl_timestamp'].apply(lambda x : x.month)\n",
        "data['Month']"
      ],
      "execution_count": 21,
      "outputs": [
        {
          "output_type": "execute_result",
          "data": {
            "text/plain": [
              "0         3\n",
              "1         3\n",
              "2         3\n",
              "3         3\n",
              "4         3\n",
              "         ..\n",
              "19995    12\n",
              "19996    12\n",
              "19997    12\n",
              "19998    12\n",
              "19999    12\n",
              "Name: Month, Length: 20000, dtype: int64"
            ]
          },
          "metadata": {
            "tags": []
          },
          "execution_count": 21
        }
      ]
    },
    {
      "cell_type": "code",
      "metadata": {
        "colab": {
          "base_uri": "https://localhost:8080/",
          "height": 244
        },
        "id": "HwByQ7zcAK9M",
        "outputId": "8fc6d382-216a-4729-9359-01dbecbd5194"
      },
      "source": [
        " # check null values in description column\n",
        "data[data['description'].isna()]"
      ],
      "execution_count": 22,
      "outputs": [
        {
          "output_type": "execute_result",
          "data": {
            "text/html": [
              "<div>\n",
              "<style scoped>\n",
              "    .dataframe tbody tr th:only-of-type {\n",
              "        vertical-align: middle;\n",
              "    }\n",
              "\n",
              "    .dataframe tbody tr th {\n",
              "        vertical-align: top;\n",
              "    }\n",
              "\n",
              "    .dataframe thead th {\n",
              "        text-align: right;\n",
              "    }\n",
              "</style>\n",
              "<table border=\"1\" class=\"dataframe\">\n",
              "  <thead>\n",
              "    <tr style=\"text-align: right;\">\n",
              "      <th></th>\n",
              "      <th>uniq_id</th>\n",
              "      <th>crawl_timestamp</th>\n",
              "      <th>product_url</th>\n",
              "      <th>product_name</th>\n",
              "      <th>product_category_tree</th>\n",
              "      <th>pid</th>\n",
              "      <th>retail_price</th>\n",
              "      <th>discounted_price</th>\n",
              "      <th>image</th>\n",
              "      <th>is_FK_Advantage_product</th>\n",
              "      <th>description</th>\n",
              "      <th>product_rating</th>\n",
              "      <th>overall_rating</th>\n",
              "      <th>brand</th>\n",
              "      <th>product_specifications</th>\n",
              "      <th>crawl_year</th>\n",
              "      <th>Month</th>\n",
              "    </tr>\n",
              "  </thead>\n",
              "  <tbody>\n",
              "    <tr>\n",
              "      <th>553</th>\n",
              "      <td>ebd53621ef37807f0d60dbde419a1189</td>\n",
              "      <td>2016-01-06 18:20:45+00:00</td>\n",
              "      <td>http://www.flipkart.com/ozel-studio-casual-sle...</td>\n",
              "      <td>Ozel Studio Casual Sleeveless Printed Women's Top</td>\n",
              "      <td>[\"Clothing &gt;&gt; Women's Clothing &gt;&gt; Western Wear...</td>\n",
              "      <td>TOPEYV38KYVJKM54</td>\n",
              "      <td>1290.0</td>\n",
              "      <td>645.0</td>\n",
              "      <td>[\"http://img6a.flixcart.com/image/top/p/z/p/t-...</td>\n",
              "      <td>False</td>\n",
              "      <td>NaN</td>\n",
              "      <td>No rating available</td>\n",
              "      <td>No rating available</td>\n",
              "      <td>NaN</td>\n",
              "      <td>{\"product_specification\"=&gt;[{\"key\"=&gt;\"Ideal For\"...</td>\n",
              "      <td>2016</td>\n",
              "      <td>1</td>\n",
              "    </tr>\n",
              "    <tr>\n",
              "      <th>17299</th>\n",
              "      <td>5c753808021920c85f3a4852f1c58c40</td>\n",
              "      <td>2015-12-20 08:26:17+00:00</td>\n",
              "      <td>http://www.flipkart.com/amore-abstract-cushion...</td>\n",
              "      <td>Amore Abstract Cushions Cover</td>\n",
              "      <td>[\"Home Furnishing &gt;&gt; Cushions, Pillows &amp; Cover...</td>\n",
              "      <td>CPCE2ZME2P7BMJFB</td>\n",
              "      <td>499.0</td>\n",
              "      <td>299.0</td>\n",
              "      <td>[\"http://img6a.flixcart.com/image/cushion-pill...</td>\n",
              "      <td>False</td>\n",
              "      <td>NaN</td>\n",
              "      <td>No rating available</td>\n",
              "      <td>No rating available</td>\n",
              "      <td>Amore</td>\n",
              "      <td>{\"product_specification\"=&gt;[{\"key\"=&gt;\"Brand\", \"v...</td>\n",
              "      <td>2015</td>\n",
              "      <td>12</td>\n",
              "    </tr>\n",
              "  </tbody>\n",
              "</table>\n",
              "</div>"
            ],
            "text/plain": [
              "                                uniq_id  ... Month\n",
              "553    ebd53621ef37807f0d60dbde419a1189  ...     1\n",
              "17299  5c753808021920c85f3a4852f1c58c40  ...    12\n",
              "\n",
              "[2 rows x 17 columns]"
            ]
          },
          "metadata": {
            "tags": []
          },
          "execution_count": 22
        }
      ]
    },
    {
      "cell_type": "code",
      "metadata": {
        "colab": {
          "base_uri": "https://localhost:8080/"
        },
        "id": "1I1JbK0dfRyJ",
        "outputId": "0417a442-3666-4ba4-f488-df07bc62c1d1"
      },
      "source": [
        "# No. of unique columns in description column\n",
        "len(list(data.description.unique()))"
      ],
      "execution_count": 23,
      "outputs": [
        {
          "output_type": "execute_result",
          "data": {
            "text/plain": [
              "17540"
            ]
          },
          "metadata": {
            "tags": []
          },
          "execution_count": 23
        }
      ]
    },
    {
      "cell_type": "code",
      "metadata": {
        "colab": {
          "base_uri": "https://localhost:8080/"
        },
        "id": "Y_L0K2leD_2b",
        "outputId": "da005fb0-a530-4c96-bea7-cf2640ed50b5"
      },
      "source": [
        "# No. of unique columns in description column\n",
        "len(list(data.product_category_tree.unique()))"
      ],
      "execution_count": 24,
      "outputs": [
        {
          "output_type": "execute_result",
          "data": {
            "text/plain": [
              "6466"
            ]
          },
          "metadata": {
            "tags": []
          },
          "execution_count": 24
        }
      ]
    },
    {
      "cell_type": "markdown",
      "metadata": {
        "id": "btYdSrNzXQx2"
      },
      "source": [
        "# Splitting column category_level_tree into 6 category levels\n",
        "\n",
        "---\n",
        "\n"
      ]
    },
    {
      "cell_type": "code",
      "metadata": {
        "id": "ROYp7l5SwwyJ"
      },
      "source": [
        "data['cat_level_1']=data['product_category_tree'].apply(lambda x :x.split('>>')[0][2:len(x.split('>>')[0])-1])\n",
        "def cat_2(value):\n",
        "    try:\n",
        "        return value.split('>>')[1][1:len(value.split('>>')[1])-1]\n",
        "    except IndexError:\n",
        "        return 'None'   \n",
        "data['cat_level_2']=data['product_category_tree'].apply(cat_2)\n",
        "def cat_3(value):\n",
        "    try:\n",
        "        return value.split('>>')[2][1:len(value.split('>>')[2])-1]\n",
        "    except IndexError:\n",
        "        return 'None'\n",
        "data['cat_level_3']=data['product_category_tree'].apply(cat_3)\n",
        "def cat_4(value):\n",
        "    try:\n",
        "        return value.split('>>')[3][1:len(value.split('>>')[3])-1]\n",
        "    except IndexError:\n",
        "        return 'None'\n",
        "data['cat_level_4']=data['product_category_tree'].apply(cat_4)\n",
        "def cat_5(value):\n",
        "    try:\n",
        "        return value.split('>>')[4][1:len(value.split('>>')[4])-1]\n",
        "    except IndexError:\n",
        "        return 'None'\n",
        "data['cat_level_5']=data['product_category_tree'].apply(cat_5)\n",
        "def cat_6(value):\n",
        "    try:\n",
        "        return value.split('>>')[5][1:len(value.split('>>')[5])-1]\n",
        "    except IndexError:\n",
        "        return 'None'\n",
        "data['cat_level_6']=data['product_category_tree'].apply(cat_6)"
      ],
      "execution_count": 25,
      "outputs": []
    },
    {
      "cell_type": "code",
      "metadata": {
        "colab": {
          "base_uri": "https://localhost:8080/",
          "height": 164
        },
        "id": "8SnRreOSPjPa",
        "outputId": "211ee358-9bda-4618-bcb5-7cc26a8d9303"
      },
      "source": [
        "data.head(1)"
      ],
      "execution_count": 26,
      "outputs": [
        {
          "output_type": "execute_result",
          "data": {
            "text/html": [
              "<div>\n",
              "<style scoped>\n",
              "    .dataframe tbody tr th:only-of-type {\n",
              "        vertical-align: middle;\n",
              "    }\n",
              "\n",
              "    .dataframe tbody tr th {\n",
              "        vertical-align: top;\n",
              "    }\n",
              "\n",
              "    .dataframe thead th {\n",
              "        text-align: right;\n",
              "    }\n",
              "</style>\n",
              "<table border=\"1\" class=\"dataframe\">\n",
              "  <thead>\n",
              "    <tr style=\"text-align: right;\">\n",
              "      <th></th>\n",
              "      <th>uniq_id</th>\n",
              "      <th>crawl_timestamp</th>\n",
              "      <th>product_url</th>\n",
              "      <th>product_name</th>\n",
              "      <th>product_category_tree</th>\n",
              "      <th>pid</th>\n",
              "      <th>retail_price</th>\n",
              "      <th>discounted_price</th>\n",
              "      <th>image</th>\n",
              "      <th>is_FK_Advantage_product</th>\n",
              "      <th>description</th>\n",
              "      <th>product_rating</th>\n",
              "      <th>overall_rating</th>\n",
              "      <th>brand</th>\n",
              "      <th>product_specifications</th>\n",
              "      <th>crawl_year</th>\n",
              "      <th>Month</th>\n",
              "      <th>cat_level_1</th>\n",
              "      <th>cat_level_2</th>\n",
              "      <th>cat_level_3</th>\n",
              "      <th>cat_level_4</th>\n",
              "      <th>cat_level_5</th>\n",
              "      <th>cat_level_6</th>\n",
              "    </tr>\n",
              "  </thead>\n",
              "  <tbody>\n",
              "    <tr>\n",
              "      <th>0</th>\n",
              "      <td>c2d766ca982eca8304150849735ffef9</td>\n",
              "      <td>2016-03-25 22:59:23+00:00</td>\n",
              "      <td>http://www.flipkart.com/alisha-solid-women-s-c...</td>\n",
              "      <td>Alisha Solid Women's Cycling Shorts</td>\n",
              "      <td>[\"Clothing &gt;&gt; Women's Clothing &gt;&gt; Lingerie, Sl...</td>\n",
              "      <td>SRTEH2FF9KEDEFGF</td>\n",
              "      <td>999.0</td>\n",
              "      <td>379.0</td>\n",
              "      <td>[\"http://img5a.flixcart.com/image/short/u/4/a/...</td>\n",
              "      <td>False</td>\n",
              "      <td>Key Features of Alisha Solid Women's Cycling S...</td>\n",
              "      <td>No rating available</td>\n",
              "      <td>No rating available</td>\n",
              "      <td>Alisha</td>\n",
              "      <td>{\"product_specification\"=&gt;[{\"key\"=&gt;\"Number of ...</td>\n",
              "      <td>2016</td>\n",
              "      <td>3</td>\n",
              "      <td>Clothing</td>\n",
              "      <td>Women's Clothing</td>\n",
              "      <td>Lingerie, Sleep &amp; Swimwear</td>\n",
              "      <td>Shorts</td>\n",
              "      <td>Alisha Shorts</td>\n",
              "      <td>Alisha Solid Women's Cycling Shorts\"</td>\n",
              "    </tr>\n",
              "  </tbody>\n",
              "</table>\n",
              "</div>"
            ],
            "text/plain": [
              "                            uniq_id  ...                           cat_level_6\n",
              "0  c2d766ca982eca8304150849735ffef9  ...  Alisha Solid Women's Cycling Shorts\"\n",
              "\n",
              "[1 rows x 23 columns]"
            ]
          },
          "metadata": {
            "tags": []
          },
          "execution_count": 26
        }
      ]
    },
    {
      "cell_type": "code",
      "metadata": {
        "colab": {
          "base_uri": "https://localhost:8080/",
          "height": 94
        },
        "id": "H7VY85msdouB",
        "outputId": "daf8aa05-b761-4d53-8aa1-a8e87e888fe1"
      },
      "source": [
        "data[['product_category_tree','cat_level_1','cat_level_2','cat_level_3','cat_level_4','cat_level_5','cat_level_6']].head(1)"
      ],
      "execution_count": 27,
      "outputs": [
        {
          "output_type": "execute_result",
          "data": {
            "text/html": [
              "<div>\n",
              "<style scoped>\n",
              "    .dataframe tbody tr th:only-of-type {\n",
              "        vertical-align: middle;\n",
              "    }\n",
              "\n",
              "    .dataframe tbody tr th {\n",
              "        vertical-align: top;\n",
              "    }\n",
              "\n",
              "    .dataframe thead th {\n",
              "        text-align: right;\n",
              "    }\n",
              "</style>\n",
              "<table border=\"1\" class=\"dataframe\">\n",
              "  <thead>\n",
              "    <tr style=\"text-align: right;\">\n",
              "      <th></th>\n",
              "      <th>product_category_tree</th>\n",
              "      <th>cat_level_1</th>\n",
              "      <th>cat_level_2</th>\n",
              "      <th>cat_level_3</th>\n",
              "      <th>cat_level_4</th>\n",
              "      <th>cat_level_5</th>\n",
              "      <th>cat_level_6</th>\n",
              "    </tr>\n",
              "  </thead>\n",
              "  <tbody>\n",
              "    <tr>\n",
              "      <th>0</th>\n",
              "      <td>[\"Clothing &gt;&gt; Women's Clothing &gt;&gt; Lingerie, Sl...</td>\n",
              "      <td>Clothing</td>\n",
              "      <td>Women's Clothing</td>\n",
              "      <td>Lingerie, Sleep &amp; Swimwear</td>\n",
              "      <td>Shorts</td>\n",
              "      <td>Alisha Shorts</td>\n",
              "      <td>Alisha Solid Women's Cycling Shorts\"</td>\n",
              "    </tr>\n",
              "  </tbody>\n",
              "</table>\n",
              "</div>"
            ],
            "text/plain": [
              "                               product_category_tree  ...                           cat_level_6\n",
              "0  [\"Clothing >> Women's Clothing >> Lingerie, Sl...  ...  Alisha Solid Women's Cycling Shorts\"\n",
              "\n",
              "[1 rows x 7 columns]"
            ]
          },
          "metadata": {
            "tags": []
          },
          "execution_count": 27
        }
      ]
    },
    {
      "cell_type": "code",
      "metadata": {
        "colab": {
          "base_uri": "https://localhost:8080/"
        },
        "id": "6PrhmHGLYlA9",
        "outputId": "9db061d5-e6ea-4c23-ca8d-2bef107c8730"
      },
      "source": [
        "data.shape"
      ],
      "execution_count": 28,
      "outputs": [
        {
          "output_type": "execute_result",
          "data": {
            "text/plain": [
              "(20000, 23)"
            ]
          },
          "metadata": {
            "tags": []
          },
          "execution_count": 28
        }
      ]
    },
    {
      "cell_type": "code",
      "metadata": {
        "colab": {
          "base_uri": "https://localhost:8080/"
        },
        "id": "ZeABISJNTxDg",
        "outputId": "31fc8da2-4721-45cc-aec6-74417b3ffb52"
      },
      "source": [
        "# Printing the unique values in 6 splitted category level columns \n",
        "print(\"Unique values\")\n",
        "print(len(list(data.cat_level_1.unique())))\n",
        "print(len(list(data.cat_level_2.unique())))\n",
        "print(len(list(data.cat_level_3.unique())))\n",
        "print(len(list(data.cat_level_4.unique())))\n",
        "print(len(list(data.cat_level_5.unique())))\n",
        "print(len(list(data.cat_level_6.unique())))\n",
        "# Printing the \"None\" values in 6 splitted category level columns \n",
        "print()\n",
        "print(\"None Values\")\n",
        "print(len(data[data['cat_level_1']=='None']))\n",
        "print(len(data[data['cat_level_2']=='None']))\n",
        "print(len(data[data['cat_level_3']=='None']))\n",
        "print(len(data[data['cat_level_4']=='None']))\n",
        "print(len(data[data['cat_level_5']=='None']))\n",
        "print(len(data[data['cat_level_6']=='None']))"
      ],
      "execution_count": 29,
      "outputs": [
        {
          "output_type": "stream",
          "text": [
            "Unique values\n",
            "266\n",
            "224\n",
            "900\n",
            "2372\n",
            "2638\n",
            "2343\n",
            "\n",
            "None Values\n",
            "0\n",
            "328\n",
            "1457\n",
            "5876\n",
            "10642\n",
            "15552\n"
          ],
          "name": "stdout"
        }
      ]
    },
    {
      "cell_type": "markdown",
      "metadata": {
        "id": "2ZfvVGIkaYQ2"
      },
      "source": [
        "Level 4, 5 and 6 have more None values, By this the primary category can be 1st, 2nd or 3rd levels from product_category_tree"
      ]
    },
    {
      "cell_type": "code",
      "metadata": {
        "colab": {
          "base_uri": "https://localhost:8080/",
          "height": 164
        },
        "id": "l3Ygx4YRbdLT",
        "outputId": "e3de73bd-27d8-4fa9-a9d6-ee83251c1f71"
      },
      "source": [
        "data.head(1)"
      ],
      "execution_count": 30,
      "outputs": [
        {
          "output_type": "execute_result",
          "data": {
            "text/html": [
              "<div>\n",
              "<style scoped>\n",
              "    .dataframe tbody tr th:only-of-type {\n",
              "        vertical-align: middle;\n",
              "    }\n",
              "\n",
              "    .dataframe tbody tr th {\n",
              "        vertical-align: top;\n",
              "    }\n",
              "\n",
              "    .dataframe thead th {\n",
              "        text-align: right;\n",
              "    }\n",
              "</style>\n",
              "<table border=\"1\" class=\"dataframe\">\n",
              "  <thead>\n",
              "    <tr style=\"text-align: right;\">\n",
              "      <th></th>\n",
              "      <th>uniq_id</th>\n",
              "      <th>crawl_timestamp</th>\n",
              "      <th>product_url</th>\n",
              "      <th>product_name</th>\n",
              "      <th>product_category_tree</th>\n",
              "      <th>pid</th>\n",
              "      <th>retail_price</th>\n",
              "      <th>discounted_price</th>\n",
              "      <th>image</th>\n",
              "      <th>is_FK_Advantage_product</th>\n",
              "      <th>description</th>\n",
              "      <th>product_rating</th>\n",
              "      <th>overall_rating</th>\n",
              "      <th>brand</th>\n",
              "      <th>product_specifications</th>\n",
              "      <th>crawl_year</th>\n",
              "      <th>Month</th>\n",
              "      <th>cat_level_1</th>\n",
              "      <th>cat_level_2</th>\n",
              "      <th>cat_level_3</th>\n",
              "      <th>cat_level_4</th>\n",
              "      <th>cat_level_5</th>\n",
              "      <th>cat_level_6</th>\n",
              "    </tr>\n",
              "  </thead>\n",
              "  <tbody>\n",
              "    <tr>\n",
              "      <th>0</th>\n",
              "      <td>c2d766ca982eca8304150849735ffef9</td>\n",
              "      <td>2016-03-25 22:59:23+00:00</td>\n",
              "      <td>http://www.flipkart.com/alisha-solid-women-s-c...</td>\n",
              "      <td>Alisha Solid Women's Cycling Shorts</td>\n",
              "      <td>[\"Clothing &gt;&gt; Women's Clothing &gt;&gt; Lingerie, Sl...</td>\n",
              "      <td>SRTEH2FF9KEDEFGF</td>\n",
              "      <td>999.0</td>\n",
              "      <td>379.0</td>\n",
              "      <td>[\"http://img5a.flixcart.com/image/short/u/4/a/...</td>\n",
              "      <td>False</td>\n",
              "      <td>Key Features of Alisha Solid Women's Cycling S...</td>\n",
              "      <td>No rating available</td>\n",
              "      <td>No rating available</td>\n",
              "      <td>Alisha</td>\n",
              "      <td>{\"product_specification\"=&gt;[{\"key\"=&gt;\"Number of ...</td>\n",
              "      <td>2016</td>\n",
              "      <td>3</td>\n",
              "      <td>Clothing</td>\n",
              "      <td>Women's Clothing</td>\n",
              "      <td>Lingerie, Sleep &amp; Swimwear</td>\n",
              "      <td>Shorts</td>\n",
              "      <td>Alisha Shorts</td>\n",
              "      <td>Alisha Solid Women's Cycling Shorts\"</td>\n",
              "    </tr>\n",
              "  </tbody>\n",
              "</table>\n",
              "</div>"
            ],
            "text/plain": [
              "                            uniq_id  ...                           cat_level_6\n",
              "0  c2d766ca982eca8304150849735ffef9  ...  Alisha Solid Women's Cycling Shorts\"\n",
              "\n",
              "[1 rows x 23 columns]"
            ]
          },
          "metadata": {
            "tags": []
          },
          "execution_count": 30
        }
      ]
    },
    {
      "cell_type": "markdown",
      "metadata": {
        "id": "NkFT2KeKbBhQ"
      },
      "source": [
        "# visualization of products by Month and Category."
      ]
    },
    {
      "cell_type": "markdown",
      "metadata": {
        "id": "di74FEUAePDt"
      },
      "source": [
        "Visualization by Month"
      ]
    },
    {
      "cell_type": "code",
      "metadata": {
        "colab": {
          "base_uri": "https://localhost:8080/"
        },
        "id": "KORjETVLcCnX",
        "outputId": "36bce29d-a8ee-417a-aa8c-bd960bbb6456"
      },
      "source": [
        "data['Month'].value_counts()"
      ],
      "execution_count": 31,
      "outputs": [
        {
          "output_type": "execute_result",
          "data": {
            "text/plain": [
              "12    10315\n",
              "1      4850\n",
              "3      1634\n",
              "4      1137\n",
              "6      1046\n",
              "5       773\n",
              "2       245\n",
              "Name: Month, dtype: int64"
            ]
          },
          "metadata": {
            "tags": []
          },
          "execution_count": 31
        }
      ]
    },
    {
      "cell_type": "code",
      "metadata": {
        "colab": {
          "base_uri": "https://localhost:8080/",
          "height": 514
        },
        "id": "_ub07ydoPkQD",
        "outputId": "c50f0e91-1397-4c68-b0c6-be826bea8bcc"
      },
      "source": [
        "# sales based on month\n",
        "plt.figure(figsize=(10,5))\n",
        "data.groupby('Month')['Month'].count().plot(kind='bar')\n",
        "plt.title('Sales Count based on Month',fontsize=20)\n",
        "plt.yticks(fontsize=12)\n",
        "plt.xticks(fontsize=12)\n",
        "plt.xlabel('Month',fontsize=12)\n",
        "plt.ylabel('Sales Count',fontsize=12)\n",
        "plt.show()\n",
        "print(data.groupby('Month')['Month'].count())"
      ],
      "execution_count": 32,
      "outputs": [
        {
          "output_type": "display_data",
          "data": {
            "image/png": "[encoded data removed]",
            "text/plain": [
              "<Figure size 720x360 with 1 Axes>"
            ]
          },
          "metadata": {
            "tags": [],
            "needs_background": "light"
          }
        },
        {
          "output_type": "stream",
          "text": [
            "Month\n",
            "1      4850\n",
            "2       245\n",
            "3      1634\n",
            "4      1137\n",
            "5       773\n",
            "6      1046\n",
            "12    10315\n",
            "Name: Month, dtype: int64\n"
          ],
          "name": "stdout"
        }
      ]
    },
    {
      "cell_type": "markdown",
      "metadata": {
        "id": "w70MAc9jcOf9"
      },
      "source": [
        "In this data, there is no sales from July to November or no data from july to november and December month od the year has the most number of sales."
      ]
    },
    {
      "cell_type": "markdown",
      "metadata": {
        "id": "PsnUy6oehTeU"
      },
      "source": [
        "# Visualization of Category level 1\n"
      ]
    },
    {
      "cell_type": "code",
      "metadata": {
        "colab": {
          "base_uri": "https://localhost:8080/",
          "height": 894
        },
        "id": "tGQrovHwP6sy",
        "outputId": "54ba8620-3a44-48e0-eee5-04f99e24afb6"
      },
      "source": [
        "plt.figure(figsize=(12,8))\n",
        "data['cat_level_1'].value_counts()[:20].sort_values(ascending=True).plot(kind='barh')\n",
        "plt.title('category_level_1',fontsize=20)\n",
        "plt.yticks(fontsize=12)\n",
        "plt.xticks(fontsize=12)\n",
        "plt.show()\n",
        "print('Top Twenty Level 1 Category Sales.\\n')\n",
        "print(data['cat_level_1'].value_counts()[:20])"
      ],
      "execution_count": 33,
      "outputs": [
        {
          "output_type": "display_data",
          "data": {
            "image/png": "[encoded data removed]",
            "text/plain": [
              "<Figure size 864x576 with 1 Axes>"
            ]
          },
          "metadata": {
            "tags": [],
            "needs_background": "light"
          }
        },
        {
          "output_type": "stream",
          "text": [
            "Top Twenty Level 1 Category Sales.\n",
            "\n",
            "Clothing                      6198\n",
            "Jewellery                     3531\n",
            "Footwear                      1227\n",
            "Mobiles & Accessories         1099\n",
            "Automotive                    1012\n",
            "Home Decor & Festive Needs     929\n",
            "Beauty and Personal Care       710\n",
            "Home Furnishing                700\n",
            "Kitchen & Dining               647\n",
            "Computers                      578\n",
            "Watches                        530\n",
            "Baby Care                      483\n",
            "Tools & Hardware               391\n",
            "Toys & School Supplies         330\n",
            "Pens & Stationery              313\n",
            "Bags, Wallets & Belts          265\n",
            "Furniture                      180\n",
            "Sports & Fitness               166\n",
            "Cameras & Accessories           82\n",
            "Home Improvement                81\n",
            "Name: cat_level_1, dtype: int64\n"
          ],
          "name": "stdout"
        }
      ]
    },
    {
      "cell_type": "markdown",
      "metadata": {
        "id": "zgx_18tqkjfm"
      },
      "source": [
        "Most of users on flipkart buys Clothes"
      ]
    },
    {
      "cell_type": "markdown",
      "metadata": {
        "id": "Lgo4R81Ghj6R"
      },
      "source": [
        "# Visualization of Category level 2"
      ]
    },
    {
      "cell_type": "code",
      "metadata": {
        "colab": {
          "base_uri": "https://localhost:8080/",
          "height": 894
        },
        "id": "VS8SVdczQBpS",
        "outputId": "9dc1b81e-6227-4c5e-df82-be4c83f018fb"
      },
      "source": [
        "plt.figure(figsize=(12,8))\n",
        "data['cat_level_2'].value_counts()[:20].sort_values(ascending=True).plot(kind='barh')\n",
        "plt.title('category_level_2',fontsize=20)\n",
        "plt.yticks(fontsize=12)\n",
        "plt.xticks(fontsize=12)\n",
        "plt.show()\n",
        "print('Top Twenty Level 2 Category Sales.\\n')\n",
        "print(data['cat_level_2'].value_counts()[:20])"
      ],
      "execution_count": 34,
      "outputs": [
        {
          "output_type": "display_data",
          "data": {
            "image/png": "[encoded data removed]",
            "text/plain": [
              "<Figure size 864x576 with 1 Axes>"
            ]
          },
          "metadata": {
            "tags": [],
            "needs_background": "light"
          }
        },
        {
          "output_type": "stream",
          "text": [
            "Top Twenty Level 2 Category Sales.\n",
            "\n",
            "Women's Clothing                3901\n",
            "Men's Clothing                  1773\n",
            "Necklaces & Chains              1606\n",
            "Accessories & Spare parts        925\n",
            "Tablet Accessories               801\n",
            "Women's Footwear                 781\n",
            "Bangles, Bracelets & Armlets     724\n",
            "Rings\"                           710\n",
            "Wrist Watches                    523\n",
            "Kids' Clothing                   520\n",
            "Tools                            403\n",
            "Fragrances                       391\n",
            "Laptop Accessories               343\n",
            "Men's Footwear                   340\n",
            "None                             328\n",
            "Mobile Accessories               304\n",
            "Showpieces                       303\n",
            "Coffee Mugs                      302\n",
            "School Supplies                  300\n",
            "Wall Decor & Clocks              278\n",
            "Name: cat_level_2, dtype: int64\n"
          ],
          "name": "stdout"
        }
      ]
    },
    {
      "cell_type": "markdown",
      "metadata": {
        "id": "66-VGaWpjGt6"
      },
      "source": [
        "Women's Clothing is more than double of men's clothing. By this women users are more than men users. As if that is not enough, looking at 'Necklaces', 'Women's Footwear', 'Rings' and 'Kid's Clothing' proves this true."
      ]
    },
    {
      "cell_type": "markdown",
      "metadata": {
        "id": "fAc1VpdgkBWP"
      },
      "source": [
        "#  Visualization of Category level 3"
      ]
    },
    {
      "cell_type": "code",
      "metadata": {
        "colab": {
          "base_uri": "https://localhost:8080/",
          "height": 894
        },
        "id": "fFWWLGBnQG8E",
        "outputId": "c816142f-ff96-4b14-f157-2ba72e9976c0"
      },
      "source": [
        "plt.figure(figsize=(12,8))\n",
        "data['cat_level_3'].value_counts()[:20].sort_values(ascending=True).plot(kind='barh')\n",
        "plt.title('category_level_3',fontsize=20)\n",
        "plt.yticks(fontsize=12)\n",
        "plt.xticks(fontsize=12)\n",
        "plt.show()\n",
        "print('Top Twenty Level 3 Category Sales.\\n')\n",
        "print(data['cat_level_3'].value_counts()[:20])"
      ],
      "execution_count": 35,
      "outputs": [
        {
          "output_type": "display_data",
          "data": {
            "image/png": "[encoded data removed]",
            "text/plain": [
              "<Figure size 864x576 with 1 Axes>"
            ]
          },
          "metadata": {
            "tags": [],
            "needs_background": "light"
          }
        },
        {
          "output_type": "stream",
          "text": [
            "Top Twenty Level 3 Category Sales.\n",
            "\n",
            "Western Wear                  1981\n",
            "Necklaces\"                    1567\n",
            "None                          1457\n",
            "Lingerie, Sleep & Swimwear    1208\n",
            "T-Shirts                       903\n",
            "Cases & Covers                 796\n",
            "Car Interior & Exterior        677\n",
            "Ethnic Wear                    485\n",
            "Casual Shoes                   454\n",
            "Bangles\"                       430\n",
            "Deodorants                     388\n",
            "Gardening Tools                343\n",
            "Girls Wear                     287\n",
            "Bracelets\"                     251\n",
            "Shirts                         234\n",
            "Winter & Seasonal Wear         225\n",
            "Geometry & Pencil Boxes        221\n",
            "Routers                        199\n",
            "Stickers                       194\n",
            "Blankets, Quilts & Dohars\"     190\n",
            "Name: cat_level_3, dtype: int64\n"
          ],
          "name": "stdout"
        }
      ]
    },
    {
      "cell_type": "markdown",
      "metadata": {
        "id": "FQydNKLlkQGV"
      },
      "source": [
        "*   In previous level, its women who shop more on flipkart and its Western Wear they prefer to buy \n",
        "*   Also \"None\" values are almost equal to the top results \"Western Wear\" and \"Necklacs\"\n",
        "\n",
        "\n",
        "\n",
        "\n",
        "\n"
      ]
    },
    {
      "cell_type": "markdown",
      "metadata": {
        "id": "HzrCYcWroTTh"
      },
      "source": [
        "#  Visualization of Category level 4"
      ]
    },
    {
      "cell_type": "code",
      "metadata": {
        "colab": {
          "base_uri": "https://localhost:8080/",
          "height": 894
        },
        "id": "lAOqI_D8QJt1",
        "outputId": "fb9a2712-8c2e-42d5-c1ee-348e2ecc1589"
      },
      "source": [
        "plt.figure(figsize=(12,8))\n",
        "data['cat_level_4'].value_counts()[:20].sort_values(ascending=True).plot(kind='barh')\n",
        "plt.title('category_level_4',fontsize=20)\n",
        "plt.yticks(fontsize=12)\n",
        "plt.xticks(fontsize=12)\n",
        "plt.show()\n",
        "print('Top Twenty Level 4 Category Sales.\\n')\n",
        "print(data['cat_level_4'].value_counts()[:20])"
      ],
      "execution_count": 36,
      "outputs": [
        {
          "output_type": "display_data",
          "data": {
            "image/png": "[encoded data removed]",
            "text/plain": [
              "<Figure size 864x576 with 1 Axes>"
            ]
          },
          "metadata": {
            "tags": [],
            "needs_background": "light"
          }
        },
        {
          "output_type": "stream",
          "text": [
            "Top Twenty Level 4 Category Sales.\n",
            "\n",
            "None                            5876\n",
            "Shirts, Tops & Tunics           1249\n",
            "Bras                            1036\n",
            "Car Interior                     659\n",
            "Dresses & Skirts                 620\n",
            "Combos                           375\n",
            "Plant Containers & Sets          333\n",
            "TheLostPuppy Cases & Covers\"     229\n",
            "Leggings & Jeggings              209\n",
            "Kurtas & Kurtis                  202\n",
            "DailyObjects Cases & Covers\"     144\n",
            "Numero Uno T-Shirts\"             135\n",
            "Formal Shirts                    128\n",
            "Fabric                           122\n",
            "Boots\"                           118\n",
            "Casual & Party Wear Shirts       106\n",
            "Enthopia Cases & Covers\"         101\n",
            "Sweatshirts                       92\n",
            "Ethnic Wear                       90\n",
            "Woks & Kadhais                    89\n",
            "Name: cat_level_4, dtype: int64\n"
          ],
          "name": "stdout"
        }
      ]
    },
    {
      "cell_type": "markdown",
      "metadata": {
        "id": "VhgGLSwEozCh"
      },
      "source": [
        "Nearly 6000 \"None\" Values. Hereby we can say 4th level cant be a primary category"
      ]
    },
    {
      "cell_type": "markdown",
      "metadata": {
        "id": "qbx7rDzCpLqX"
      },
      "source": [
        "#  Visualization of Category level 5"
      ]
    },
    {
      "cell_type": "code",
      "metadata": {
        "colab": {
          "base_uri": "https://localhost:8080/",
          "height": 894
        },
        "id": "Oyp6bbwcRzpj",
        "outputId": "81b25a6d-0223-4856-bea9-d91ce68d0753"
      },
      "source": [
        "plt.figure(figsize=(12,8))\n",
        "data['cat_level_5'].value_counts()[:20].sort_values(ascending=True).plot(kind='barh')\n",
        "plt.title('category_level_5',fontsize=20)\n",
        "plt.yticks(fontsize=12)\n",
        "plt.xticks(fontsize=12)\n",
        "plt.show()\n",
        "print('Top Twenty Level 5 Category Sales.\\n')\n",
        "print(data['cat_level_5'].value_counts()[:20])"
      ],
      "execution_count": 37,
      "outputs": [
        {
          "output_type": "display_data",
          "data": {
            "image/png": "[encoded data removed]",
            "text/plain": [
              "<Figure size 864x576 with 1 Axes>"
            ]
          },
          "metadata": {
            "tags": [],
            "needs_background": "light"
          }
        },
        {
          "output_type": "stream",
          "text": [
            "Top Twenty Level 5 Category Sales.\n",
            "\n",
            "None                       10642\n",
            "Shirts                       652\n",
            "Dresses                      534\n",
            "Tops                         524\n",
            "Car Mats\"                    522\n",
            "Plant Container Sets\"        332\n",
            "S4S Bras\"                    197\n",
            "Leggings & Jeggings          184\n",
            "Kurtis                       165\n",
            "Grafion Bras\"                101\n",
            "Polos & T-Shirts              86\n",
            "Skirts                        77\n",
            "Blouse Material               70\n",
            "Ploomz Bras\"                  70\n",
            "Car Sun Shades                68\n",
            "Tia by Ten on Ten Bras\"       51\n",
            "Kurtas                        48\n",
            "Dungarees                     47\n",
            "Vehicle Horns\"                47\n",
            "Car Mobile Holders\"           46\n",
            "Name: cat_level_5, dtype: int64\n"
          ],
          "name": "stdout"
        }
      ]
    },
    {
      "cell_type": "markdown",
      "metadata": {
        "id": "t2KzN7uJpbVG"
      },
      "source": [
        "Almost more than half of the rows in 5th level of product category tree is \"None\""
      ]
    },
    {
      "cell_type": "markdown",
      "metadata": {
        "id": "LLYZ0Grzrgpm"
      },
      "source": [
        "#  Visualization of Category level 6"
      ]
    },
    {
      "cell_type": "code",
      "metadata": {
        "colab": {
          "base_uri": "https://localhost:8080/",
          "height": 894
        },
        "id": "x7HD52dgo9H7",
        "outputId": "daa566cf-d3d6-4a63-decc-741fd444f58a"
      },
      "source": [
        "plt.figure(figsize=(12,8))\n",
        "data['cat_level_6'].value_counts()[:20].sort_values(ascending=True).plot(kind='barh')\n",
        "plt.title('category_level_6',fontsize=20)\n",
        "plt.yticks(fontsize=12)\n",
        "plt.xticks(fontsize=12)\n",
        "plt.show()\n",
        "print('Top Twenty Level 6 Category Sales.\\n')\n",
        "print(data['cat_level_6'].value_counts()[:20])"
      ],
      "execution_count": 38,
      "outputs": [
        {
          "output_type": "display_data",
          "data": {
            "image/png": "[encoded data removed]",
            "text/plain": [
              "<Figure size 864x576 with 1 Axes>"
            ]
          },
          "metadata": {
            "tags": [],
            "needs_background": "light"
          }
        },
        {
          "output_type": "stream",
          "text": [
            "Top Twenty Level 6 Category Sales.\n",
            "\n",
            "None                                                    15552\n",
            "Cation Tops\"                                               39\n",
            "AdroitZ Exclusive Barbie Doll Sunshade / curtain...\"       34\n",
            "NE Leggings & Jeggings\"                                    33\n",
            "Babeezworld Dungarees                                      27\n",
            "Bombay High Shirts\"                                        27\n",
            "Hugo Chavez Dresses\"                                       26\n",
            "Simrit Women's Nighty (2 Nighties)\"                        23\n",
            "LIENZ Women's Camisole\"                                    21\n",
            "Tokyo Talkies Shirts\"                                      19\n",
            "Miss Chase Dresses\"                                        19\n",
            "Miss Rich Shirts\"                                          19\n",
            "Marc N' Park Men's Solid Casual Shirt\"                     18\n",
            "People Shirts\"                                             18\n",
            "Mynte Solid Women's Cycling Shorts, Gym Shorts, ...\"       17\n",
            "Kiosha Shirts\"                                             16\n",
            "TeeMoods Tops\"                                             16\n",
            "Shop Rajasthan Kurtis\"                                     16\n",
            "Ladybug Dresses\"                                           16\n",
            "Indi Bargain Dresses\"                                      16\n",
            "Name: cat_level_6, dtype: int64\n"
          ],
          "name": "stdout"
        }
      ]
    },
    {
      "cell_type": "markdown",
      "metadata": {
        "id": "46bPvWSjqCFT"
      },
      "source": [
        "# Analysis on Discounts"
      ]
    },
    {
      "cell_type": "code",
      "metadata": {
        "colab": {
          "base_uri": "https://localhost:8080/"
        },
        "id": "PZ2ziMeWSUXV",
        "outputId": "f974dfbd-2ddb-44b2-c8e6-48e3d8229ebd"
      },
      "source": [
        "data['discounted_price'].max()"
      ],
      "execution_count": 39,
      "outputs": [
        {
          "output_type": "execute_result",
          "data": {
            "text/plain": [
              "571230.0"
            ]
          },
          "metadata": {
            "tags": []
          },
          "execution_count": 39
        }
      ]
    },
    {
      "cell_type": "code",
      "metadata": {
        "colab": {
          "base_uri": "https://localhost:8080/",
          "height": 164
        },
        "id": "M4C_HsEXqheu",
        "outputId": "9f04a82e-279c-4dc6-dde5-302e01c71104"
      },
      "source": [
        "data[data['discounted_price']==571230.000000]"
      ],
      "execution_count": 40,
      "outputs": [
        {
          "output_type": "execute_result",
          "data": {
            "text/html": [
              "<div>\n",
              "<style scoped>\n",
              "    .dataframe tbody tr th:only-of-type {\n",
              "        vertical-align: middle;\n",
              "    }\n",
              "\n",
              "    .dataframe tbody tr th {\n",
              "        vertical-align: top;\n",
              "    }\n",
              "\n",
              "    .dataframe thead th {\n",
              "        text-align: right;\n",
              "    }\n",
              "</style>\n",
              "<table border=\"1\" class=\"dataframe\">\n",
              "  <thead>\n",
              "    <tr style=\"text-align: right;\">\n",
              "      <th></th>\n",
              "      <th>uniq_id</th>\n",
              "      <th>crawl_timestamp</th>\n",
              "      <th>product_url</th>\n",
              "      <th>product_name</th>\n",
              "      <th>product_category_tree</th>\n",
              "      <th>pid</th>\n",
              "      <th>retail_price</th>\n",
              "      <th>discounted_price</th>\n",
              "      <th>image</th>\n",
              "      <th>is_FK_Advantage_product</th>\n",
              "      <th>description</th>\n",
              "      <th>product_rating</th>\n",
              "      <th>overall_rating</th>\n",
              "      <th>brand</th>\n",
              "      <th>product_specifications</th>\n",
              "      <th>crawl_year</th>\n",
              "      <th>Month</th>\n",
              "      <th>cat_level_1</th>\n",
              "      <th>cat_level_2</th>\n",
              "      <th>cat_level_3</th>\n",
              "      <th>cat_level_4</th>\n",
              "      <th>cat_level_5</th>\n",
              "      <th>cat_level_6</th>\n",
              "    </tr>\n",
              "  </thead>\n",
              "  <tbody>\n",
              "    <tr>\n",
              "      <th>116</th>\n",
              "      <td>329c5f4d7aced63e1ce3e88f41d5e7e6</td>\n",
              "      <td>2015-12-04 07:25:36+00:00</td>\n",
              "      <td>http://www.flipkart.com/breitling-ab011010-bb0...</td>\n",
              "      <td>Breitling AB011010/BB08 131S Chronomat 44 Anal...</td>\n",
              "      <td>[\"Watches &gt;&gt; Wrist Watches &gt;&gt; Breitling Wrist ...</td>\n",
              "      <td>WATE9DX9E4YSRJSY</td>\n",
              "      <td>571230.0</td>\n",
              "      <td>571230.0</td>\n",
              "      <td>[\"http://img5a.flixcart.com/image/watch/j/s/y/...</td>\n",
              "      <td>False</td>\n",
              "      <td>Breitling AB011010/BB08 131S Chronomat 44 Anal...</td>\n",
              "      <td>No rating available</td>\n",
              "      <td>No rating available</td>\n",
              "      <td>NaN</td>\n",
              "      <td>{\"product_specification\"=&gt;[{\"key\"=&gt;\"Chronograp...</td>\n",
              "      <td>2015</td>\n",
              "      <td>12</td>\n",
              "      <td>Watches</td>\n",
              "      <td>Wrist Watches</td>\n",
              "      <td>Breitling Wrist Watches\"</td>\n",
              "      <td>None</td>\n",
              "      <td>None</td>\n",
              "      <td>None</td>\n",
              "    </tr>\n",
              "  </tbody>\n",
              "</table>\n",
              "</div>"
            ],
            "text/plain": [
              "                              uniq_id  ... cat_level_6\n",
              "116  329c5f4d7aced63e1ce3e88f41d5e7e6  ...        None\n",
              "\n",
              "[1 rows x 23 columns]"
            ]
          },
          "metadata": {
            "tags": []
          },
          "execution_count": 40
        }
      ]
    },
    {
      "cell_type": "markdown",
      "metadata": {
        "id": "cyY5AGKxqm8I"
      },
      "source": [
        "Most discounted product on flipkart for this data is a \"Breitling Wrist Watch\""
      ]
    },
    {
      "cell_type": "code",
      "metadata": {
        "id": "rIpIWibFVUSZ"
      },
      "source": [
        "# discounted percentage for each product\n",
        "data['discounted_percentage']=round((data['retail_price']-data['discounted_price'])/data['retail_price']*100,1)"
      ],
      "execution_count": 41,
      "outputs": []
    },
    {
      "cell_type": "code",
      "metadata": {
        "colab": {
          "base_uri": "https://localhost:8080/",
          "height": 195
        },
        "id": "o_yfD4W7qVpW",
        "outputId": "81b6dac4-b389-43f6-a934-61fdf02e6e1b"
      },
      "source": [
        "data[['product_name','retail_price','discounted_price','discounted_percentage']].head()"
      ],
      "execution_count": 42,
      "outputs": [
        {
          "output_type": "execute_result",
          "data": {
            "text/html": [
              "<div>\n",
              "<style scoped>\n",
              "    .dataframe tbody tr th:only-of-type {\n",
              "        vertical-align: middle;\n",
              "    }\n",
              "\n",
              "    .dataframe tbody tr th {\n",
              "        vertical-align: top;\n",
              "    }\n",
              "\n",
              "    .dataframe thead th {\n",
              "        text-align: right;\n",
              "    }\n",
              "</style>\n",
              "<table border=\"1\" class=\"dataframe\">\n",
              "  <thead>\n",
              "    <tr style=\"text-align: right;\">\n",
              "      <th></th>\n",
              "      <th>product_name</th>\n",
              "      <th>retail_price</th>\n",
              "      <th>discounted_price</th>\n",
              "      <th>discounted_percentage</th>\n",
              "    </tr>\n",
              "  </thead>\n",
              "  <tbody>\n",
              "    <tr>\n",
              "      <th>0</th>\n",
              "      <td>Alisha Solid Women's Cycling Shorts</td>\n",
              "      <td>999.0</td>\n",
              "      <td>379.0</td>\n",
              "      <td>62.1</td>\n",
              "    </tr>\n",
              "    <tr>\n",
              "      <th>1</th>\n",
              "      <td>FabHomeDecor Fabric Double Sofa Bed</td>\n",
              "      <td>32157.0</td>\n",
              "      <td>22646.0</td>\n",
              "      <td>29.6</td>\n",
              "    </tr>\n",
              "    <tr>\n",
              "      <th>2</th>\n",
              "      <td>AW Bellies</td>\n",
              "      <td>999.0</td>\n",
              "      <td>499.0</td>\n",
              "      <td>50.1</td>\n",
              "    </tr>\n",
              "    <tr>\n",
              "      <th>3</th>\n",
              "      <td>Alisha Solid Women's Cycling Shorts</td>\n",
              "      <td>699.0</td>\n",
              "      <td>267.0</td>\n",
              "      <td>61.8</td>\n",
              "    </tr>\n",
              "    <tr>\n",
              "      <th>4</th>\n",
              "      <td>Sicons All Purpose Arnica Dog Shampoo</td>\n",
              "      <td>220.0</td>\n",
              "      <td>210.0</td>\n",
              "      <td>4.5</td>\n",
              "    </tr>\n",
              "  </tbody>\n",
              "</table>\n",
              "</div>"
            ],
            "text/plain": [
              "                            product_name  ...  discounted_percentage\n",
              "0    Alisha Solid Women's Cycling Shorts  ...                   62.1\n",
              "1    FabHomeDecor Fabric Double Sofa Bed  ...                   29.6\n",
              "2                             AW Bellies  ...                   50.1\n",
              "3    Alisha Solid Women's Cycling Shorts  ...                   61.8\n",
              "4  Sicons All Purpose Arnica Dog Shampoo  ...                    4.5\n",
              "\n",
              "[5 rows x 4 columns]"
            ]
          },
          "metadata": {
            "tags": []
          },
          "execution_count": 42
        }
      ]
    },
    {
      "cell_type": "markdown",
      "metadata": {
        "id": "pPHV-CLXsTR_"
      },
      "source": [
        "Creating dataframes that contain the product by category, average discounted percentages and count of each product."
      ]
    },
    {
      "cell_type": "code",
      "metadata": {
        "id": "jUoVtACOsRz8"
      },
      "source": [
        "Category_1_Discount = pd.DataFrame(data.groupby('cat_level_1').agg({'discounted_percentage':[(np.mean)],'cat_level_1':['count']}))\n",
        "Category_2_Discount = pd.DataFrame(data.groupby('cat_level_2').agg({'discounted_percentage':[np.mean],'cat_level_2':['count']}))\n",
        "Category_3_Discount = pd.DataFrame(data.groupby('cat_level_3').agg({'discounted_percentage':[np.mean],'cat_level_3':['count']}))\n",
        "Category_4_Discount = pd.DataFrame(data.groupby('cat_level_4').agg({'discounted_percentage':[np.mean],'cat_level_4':['count']}))"
      ],
      "execution_count": 43,
      "outputs": []
    },
    {
      "cell_type": "code",
      "metadata": {
        "colab": {
          "base_uri": "https://localhost:8080/",
          "height": 136
        },
        "id": "VHxkNeJesRwj",
        "outputId": "291be1ab-8060-45fa-aff7-bf6e52ad055c"
      },
      "source": [
        "Category_1_Discount.head(1)"
      ],
      "execution_count": 44,
      "outputs": [
        {
          "output_type": "execute_result",
          "data": {
            "text/html": [
              "<div>\n",
              "<style scoped>\n",
              "    .dataframe tbody tr th:only-of-type {\n",
              "        vertical-align: middle;\n",
              "    }\n",
              "\n",
              "    .dataframe tbody tr th {\n",
              "        vertical-align: top;\n",
              "    }\n",
              "\n",
              "    .dataframe thead tr th {\n",
              "        text-align: left;\n",
              "    }\n",
              "\n",
              "    .dataframe thead tr:last-of-type th {\n",
              "        text-align: right;\n",
              "    }\n",
              "</style>\n",
              "<table border=\"1\" class=\"dataframe\">\n",
              "  <thead>\n",
              "    <tr>\n",
              "      <th></th>\n",
              "      <th>discounted_percentage</th>\n",
              "      <th>cat_level_1</th>\n",
              "    </tr>\n",
              "    <tr>\n",
              "      <th></th>\n",
              "      <th>mean</th>\n",
              "      <th>count</th>\n",
              "    </tr>\n",
              "    <tr>\n",
              "      <th>cat_level_1</th>\n",
              "      <th></th>\n",
              "      <th></th>\n",
              "    </tr>\n",
              "  </thead>\n",
              "  <tbody>\n",
              "    <tr>\n",
              "      <th>883 Police Full Sleeve Solid Men's Jacket\"</th>\n",
              "      <td>15.0</td>\n",
              "      <td>1</td>\n",
              "    </tr>\n",
              "  </tbody>\n",
              "</table>\n",
              "</div>"
            ],
            "text/plain": [
              "                                           discounted_percentage cat_level_1\n",
              "                                                            mean       count\n",
              "cat_level_1                                                                 \n",
              "883 Police Full Sleeve Solid Men's Jacket\"                  15.0           1"
            ]
          },
          "metadata": {
            "tags": []
          },
          "execution_count": 44
        }
      ]
    },
    {
      "cell_type": "markdown",
      "metadata": {
        "id": "FB-50SfPtmZV"
      },
      "source": [
        "Combining the levels of column names to have a single column name"
      ]
    },
    {
      "cell_type": "code",
      "metadata": {
        "id": "fkDGTtWasRua"
      },
      "source": [
        "Category_1_Discount.columns = ['_'.join(col) for col in Category_1_Discount.columns]\n",
        "Category_2_Discount.columns = ['_'.join(col) for col in Category_2_Discount.columns]\n",
        "Category_3_Discount.columns = ['_'.join(col) for col in Category_3_Discount.columns]\n",
        "Category_4_Discount.columns = ['_'.join(col) for col in Category_4_Discount.columns]"
      ],
      "execution_count": 45,
      "outputs": []
    },
    {
      "cell_type": "code",
      "metadata": {
        "id": "LK1N5ncmsRsc"
      },
      "source": [
        "Category_1_Discount = Category_1_Discount.sort_values(by=['cat_level_1_count'],ascending=False)[:20]\n",
        "Category_2_Discount = Category_2_Discount.sort_values(by=['cat_level_2_count'],ascending=False)[:20]\n",
        "Category_3_Discount = Category_3_Discount.sort_values(by=['cat_level_3_count'],ascending=False)[:20]\n",
        "Category_4_Discount = Category_4_Discount.sort_values(by=['cat_level_4_count'],ascending=False)[:20]"
      ],
      "execution_count": 46,
      "outputs": []
    },
    {
      "cell_type": "code",
      "metadata": {
        "colab": {
          "base_uri": "https://localhost:8080/",
          "height": 106
        },
        "id": "3xstoJCPu5f6",
        "outputId": "3d937d7c-24a3-4e9c-c2fd-31803ed444f3"
      },
      "source": [
        "Category_1_Discount.head(1)"
      ],
      "execution_count": 47,
      "outputs": [
        {
          "output_type": "execute_result",
          "data": {
            "text/html": [
              "<div>\n",
              "<style scoped>\n",
              "    .dataframe tbody tr th:only-of-type {\n",
              "        vertical-align: middle;\n",
              "    }\n",
              "\n",
              "    .dataframe tbody tr th {\n",
              "        vertical-align: top;\n",
              "    }\n",
              "\n",
              "    .dataframe thead th {\n",
              "        text-align: right;\n",
              "    }\n",
              "</style>\n",
              "<table border=\"1\" class=\"dataframe\">\n",
              "  <thead>\n",
              "    <tr style=\"text-align: right;\">\n",
              "      <th></th>\n",
              "      <th>discounted_percentage_mean</th>\n",
              "      <th>cat_level_1_count</th>\n",
              "    </tr>\n",
              "    <tr>\n",
              "      <th>cat_level_1</th>\n",
              "      <th></th>\n",
              "      <th></th>\n",
              "    </tr>\n",
              "  </thead>\n",
              "  <tbody>\n",
              "    <tr>\n",
              "      <th>Clothing</th>\n",
              "      <td>45.071301</td>\n",
              "      <td>6198</td>\n",
              "    </tr>\n",
              "  </tbody>\n",
              "</table>\n",
              "</div>"
            ],
            "text/plain": [
              "             discounted_percentage_mean  cat_level_1_count\n",
              "cat_level_1                                               \n",
              "Clothing                      45.071301               6198"
            ]
          },
          "metadata": {
            "tags": []
          },
          "execution_count": 47
        }
      ]
    },
    {
      "cell_type": "markdown",
      "metadata": {
        "id": "vNl_3HNWurIL"
      },
      "source": [
        "Discounts on Category Level 1 "
      ]
    },
    {
      "cell_type": "code",
      "metadata": {
        "colab": {
          "base_uri": "https://localhost:8080/",
          "height": 747
        },
        "id": "JFlDzFllsRqt",
        "outputId": "d45a3019-7d0f-4fc9-d086-ebac37b41361"
      },
      "source": [
        "plt.figure(figsize=(10,5))\n",
        "Category_1_Discount['discounted_percentage_mean'].sort_values(ascending=True).plot(kind='barh')\n",
        "plt.title('Discounts on Category Level 1',fontsize=20)\n",
        "plt.yticks(fontsize=12)\n",
        "plt.xticks(fontsize=12)\n",
        "plt.ylabel('Cat_level_1',fontsize=12)\n",
        "plt.show()\n",
        "print('Discounts on Category Level 1 (Percentage)\\n')\n",
        "print(Category_1_Discount['discounted_percentage_mean'].sort_values(ascending=False))"
      ],
      "execution_count": 48,
      "outputs": [
        {
          "output_type": "display_data",
          "data": {
            "image/png": "[encoded data removed]",
            "text/plain": [
              "<Figure size 720x360 with 1 Axes>"
            ]
          },
          "metadata": {
            "tags": [],
            "needs_background": "light"
          }
        },
        {
          "output_type": "stream",
          "text": [
            "Discounts on Category Level 1 (Percentage)\n",
            "\n",
            "cat_level_1\n",
            "Automotive                    54.649901\n",
            "Mobiles & Accessories         51.001185\n",
            "Bags, Wallets & Belts         48.271591\n",
            "Clothing                      45.071301\n",
            "Kitchen & Dining              43.769612\n",
            "Computers                     43.464223\n",
            "Jewellery                     40.891198\n",
            "Home Furnishing               37.218143\n",
            "Home Decor & Festive Needs    36.647573\n",
            "Footwear                      36.267184\n",
            "Baby Care                     34.717672\n",
            "Furniture                     29.717778\n",
            "Tools & Hardware              29.327132\n",
            "Toys & School Supplies        27.742857\n",
            "Pens & Stationery             27.653355\n",
            "Sports & Fitness              25.278916\n",
            "Home Improvement              21.258228\n",
            "Watches                       20.169318\n",
            "Beauty and Personal Care      19.831735\n",
            "Cameras & Accessories         19.436111\n",
            "Name: discounted_percentage_mean, dtype: float64\n"
          ],
          "name": "stdout"
        }
      ]
    },
    {
      "cell_type": "markdown",
      "metadata": {
        "id": "gSwYD0wsvhsy"
      },
      "source": [
        "Most discounted products on Flipkart is \"Automotive\" then \"Mobiles & Accessories\" and \"Bags, Wallets & Belts\""
      ]
    },
    {
      "cell_type": "markdown",
      "metadata": {
        "id": "8_tAZdLWwXcm"
      },
      "source": [
        "Discounts on Category Level 2"
      ]
    },
    {
      "cell_type": "code",
      "metadata": {
        "colab": {
          "base_uri": "https://localhost:8080/",
          "height": 747
        },
        "id": "16142bsXsRot",
        "outputId": "5e409ac7-8b7f-4236-f46f-98a255c852d8"
      },
      "source": [
        "plt.figure(figsize=(10,5))\n",
        "Category_2_Discount['discounted_percentage_mean'].sort_values(ascending=True).plot(kind='barh')\n",
        "plt.title('Discounts on Category Level 2',fontsize=20)\n",
        "plt.yticks(fontsize=12)\n",
        "plt.xticks(fontsize=12)\n",
        "plt.ylabel('Cat_level_2',fontsize=12)\n",
        "plt.show()\n",
        "print('Discounts on Category Level 2 (Percentage)\\n')\n",
        "print(Category_2_Discount['discounted_percentage_mean'].sort_values(ascending=False))"
      ],
      "execution_count": 49,
      "outputs": [
        {
          "output_type": "display_data",
          "data": {
            "image/png": "[encoded data removed]",
            "text/plain": [
              "<Figure size 720x360 with 1 Axes>"
            ]
          },
          "metadata": {
            "tags": [],
            "needs_background": "light"
          }
        },
        {
          "output_type": "stream",
          "text": [
            "Discounts on Category Level 2 (Percentage)\n",
            "\n",
            "cat_level_2\n",
            "Coffee Mugs                     57.274172\n",
            "Accessories & Spare parts       55.370314\n",
            "Mobile Accessories              54.318421\n",
            "Bangles, Bracelets & Armlets    52.560111\n",
            "Women's Clothing                50.500619\n",
            "Tablet Accessories              49.673217\n",
            "Laptop Accessories              49.320354\n",
            "Wall Decor & Clocks             44.833213\n",
            "Necklaces & Chains              42.721611\n",
            "None                            38.019385\n",
            "Women's Footwear                37.906667\n",
            "Kids' Clothing                  36.518077\n",
            "Men's Clothing                  35.715754\n",
            "Men's Footwear                  32.458112\n",
            "Showpieces                      32.377483\n",
            "School Supplies                 29.571572\n",
            "Tools                           29.165664\n",
            "Rings\"                          24.945275\n",
            "Wrist Watches                   19.988868\n",
            "Fragrances                      15.731714\n",
            "Name: discounted_percentage_mean, dtype: float64\n"
          ],
          "name": "stdout"
        }
      ]
    },
    {
      "cell_type": "markdown",
      "metadata": {
        "id": "wQo2rCAyxy41"
      },
      "source": [
        "In the second catagory also there is electronics and accessories at the top also \"Coffee Mugs\". \"None\" is also present."
      ]
    },
    {
      "cell_type": "markdown",
      "metadata": {
        "id": "cNnDMreMxEQg"
      },
      "source": [
        "Discounts on Category Level 3"
      ]
    },
    {
      "cell_type": "code",
      "metadata": {
        "colab": {
          "base_uri": "https://localhost:8080/",
          "height": 747
        },
        "id": "5pPs4lgOsRmy",
        "outputId": "25a5b2a4-a166-4e08-eee1-3626d66a6ec4"
      },
      "source": [
        "plt.figure(figsize=(10,5))\n",
        "Category_3_Discount['discounted_percentage_mean'].sort_values(ascending=True).plot(kind='barh')\n",
        "plt.title('Discounts on Category Level 3',fontsize=20)\n",
        "plt.yticks(fontsize=12)\n",
        "plt.xticks(fontsize=12)\n",
        "plt.ylabel('Cat_level_3',fontsize=12)\n",
        "plt.show()\n",
        "print('Discounts on Category Level 3 (Percentage)\\n')\n",
        "print(Category_3_Discount['discounted_percentage_mean'].sort_values(ascending=False))"
      ],
      "execution_count": 50,
      "outputs": [
        {
          "output_type": "display_data",
          "data": {
            "image/png": "[encoded data removed]",
            "text/plain": [
              "<Figure size 720x360 with 1 Axes>"
            ]
          },
          "metadata": {
            "tags": [],
            "needs_background": "light"
          }
        },
        {
          "output_type": "stream",
          "text": [
            "Discounts on Category Level 3 (Percentage)\n",
            "\n",
            "cat_level_3\n",
            "Car Interior & Exterior       60.212741\n",
            "Bangles\"                      60.057809\n",
            "Lingerie, Sleep & Swimwear    59.606716\n",
            "Ethnic Wear                   51.112810\n",
            "Cases & Covers                49.741058\n",
            "Western Wear                  46.082203\n",
            "Necklaces\"                    42.543918\n",
            "Bracelets\"                    41.830400\n",
            "Girls Wear                    40.346690\n",
            "Stickers                      39.879897\n",
            "Winter & Seasonal Wear        37.723556\n",
            "Shirts                        37.511538\n",
            "T-Shirts                      35.830233\n",
            "Blankets, Quilts & Dohars\"    34.769474\n",
            "Routers                       34.769192\n",
            "Casual Shoes                  33.753097\n",
            "None                          32.319890\n",
            "Gardening Tools               30.651327\n",
            "Geometry & Pencil Boxes       27.717273\n",
            "Deodorants                    15.781186\n",
            "Name: discounted_percentage_mean, dtype: float64\n"
          ],
          "name": "stdout"
        }
      ]
    },
    {
      "cell_type": "markdown",
      "metadata": {
        "id": "AXTWu6l-yOJc"
      },
      "source": [
        "In third category, automotive parts on top again, followed by mostly jewellery and clothing. \"None\" is also present."
      ]
    },
    {
      "cell_type": "markdown",
      "metadata": {
        "id": "-0T4-1YZzZQY"
      },
      "source": [
        "# Saving the dataset"
      ]
    },
    {
      "cell_type": "code",
      "metadata": {
        "id": "_JEWgG6gyiBQ",
        "colab": {
          "base_uri": "https://localhost:8080/"
        },
        "outputId": "58fd422b-881a-452d-f9bf-43ad0acddb3a"
      },
      "source": [
        "data.to_csv(\"/content/drive/MyDrive/MIDAS/1_Post_Data_Analysis_flipkart_com-ecommerce_sample.csv\")\n",
        "print('Dataset Saved!!!')"
      ],
      "execution_count": 51,
      "outputs": [
        {
          "output_type": "stream",
          "text": [
            "Dataset Saved!!!\n"
          ],
          "name": "stdout"
        }
      ]
    },
    {
      "cell_type": "code",
      "metadata": {
        "id": "jzP42fHDhV-a"
      },
      "source": [
        ""
      ],
      "execution_count": null,
      "outputs": []
    }
  ]
}