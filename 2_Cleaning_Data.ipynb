{
  "nbformat": 4,
  "nbformat_minor": 0,
  "metadata": {
    "colab": {
      "name": "2_Cleaning_Data.ipynb",
      "provenance": [],
      "collapsed_sections": [],
      "toc_visible": true,
      "mount_file_id": "1KICz2JobMfyFa8ZwVsusSJahm4xhRvGz",
      "authorship_tag": "ABX9TyOgnMjmXPX/bUrpp0IE+hVU",
      "include_colab_link": true
    },
    "kernelspec": {
      "display_name": "Python 3",
      "name": "python3"
    },
    "language_info": {
      "name": "python"
    }
  },
  "cells": [
    {
      "cell_type": "markdown",
      "metadata": {
        "id": "view-in-github",
        "colab_type": "text"
      },
      "source": [
        "<a href=\"https://colab.research.google.com/github/manju1201/Flipkart_Data_Classification_using_Description/blob/main/2_Cleaning_Data.ipynb\" target=\"_parent\"><img src=\"https://colab.research.google.com/assets/colab-badge.svg\" alt=\"Open In Colab\"/></a>"
      ]
    },
    {
      "cell_type": "markdown",
      "metadata": {
        "id": "Z-a8my-kp9nR"
      },
      "source": [
        "# Imports\n",
        "\n"
      ]
    },
    {
      "cell_type": "code",
      "metadata": {
        "id": "3ndM46YSpuDS",
        "colab": {
          "base_uri": "https://localhost:8080/"
        },
        "outputId": "d4a3498b-3a33-475c-8cd2-c37150c520cc"
      },
      "source": [
        "import numpy as np \n",
        "import pandas as pd \n",
        "import re \n",
        "import nltk \n",
        "from sklearn import preprocessing\n",
        "from sklearn.model_selection import train_test_split\n",
        "from sklearn.feature_extraction.text import CountVectorizer, TfidfVectorizer\n",
        "from sklearn.naive_bayes import MultinomialNB\n",
        "from sklearn.metrics import classification_report\n",
        "\n",
        "from gensim.models.fasttext import FastText\n",
        "from string import punctuation\n",
        "from nltk.tokenize import word_tokenize\n",
        "from nltk.stem import WordNetLemmatizer\n",
        "from nltk.tokenize import sent_tokenize\n",
        "from nltk import WordPunctTokenizer\n",
        "\n",
        "nltk.download('punkt')\n",
        "nltk.download('wordnet')\n",
        "nltk.download('stopwords')\n",
        "en_stop = set(nltk.corpus.stopwords.words('english'))"
      ],
      "execution_count": 1,
      "outputs": [
        {
          "output_type": "stream",
          "text": [
            "[nltk_data] Downloading package punkt to /root/nltk_data...\n",
            "[nltk_data]   Unzipping tokenizers/punkt.zip.\n",
            "[nltk_data] Downloading package wordnet to /root/nltk_data...\n",
            "[nltk_data]   Unzipping corpora/wordnet.zip.\n",
            "[nltk_data] Downloading package stopwords to /root/nltk_data...\n",
            "[nltk_data]   Unzipping corpora/stopwords.zip.\n"
          ],
          "name": "stdout"
        }
      ]
    },
    {
      "cell_type": "markdown",
      "metadata": {
        "id": "BhB6q0qcxUwz"
      },
      "source": [
        "# Loading Data"
      ]
    },
    {
      "cell_type": "code",
      "metadata": {
        "id": "2mj1sJamqCQe"
      },
      "source": [
        "data = pd.read_csv('/content/drive/MyDrive/MIDAS/1_Post_Data_Analysis_flipkart_com-ecommerce_sample.csv')"
      ],
      "execution_count": 2,
      "outputs": []
    },
    {
      "cell_type": "markdown",
      "metadata": {
        "id": "BC1RF6gFGlpz"
      },
      "source": [
        "Func to preprocess the text"
      ]
    },
    {
      "cell_type": "code",
      "metadata": {
        "id": "dwBzc_7CqFbz"
      },
      "source": [
        "stemmer = WordNetLemmatizer()\n",
        "def preprocess_string(text):\n",
        "    text = re.sub(r'\\W', ' ', str(text)) #conversion of datatype to string\n",
        "    text=re.sub('[^a-z\\s]+',' ',text,flags=re.IGNORECASE) #every char except alphabets is replaced\n",
        "    text=re.sub('(\\s+)',' ',text) #multiple spaces are replaced by single space\n",
        "    text=text.lower() #converting the cleaned string to lower case\n",
        "    tokens = text.split() # splitting based on space\n",
        "    tokens = [stemmer.lemmatize(word) for word in tokens] # lemmatization(any form into root word) of words\n",
        "    tokens = [word for word in tokens if word not in en_stop] # removing Stopwords\n",
        "    tokens = [word for word in tokens if len(word) > 2] # considering words of length greater than 2\n",
        "    preprocessed_text = ' '.join(tokens)  # joining all the processed tokens into sentence\n",
        "    return preprocessed_text # returns the sentence"
      ],
      "execution_count": 3,
      "outputs": []
    },
    {
      "cell_type": "code",
      "metadata": {
        "colab": {
          "base_uri": "https://localhost:8080/",
          "height": 181
        },
        "id": "ocb7euRn1klf",
        "outputId": "156a5e5f-4eb7-4074-cb4e-b21bcd7a266a"
      },
      "source": [
        "data.head(1)"
      ],
      "execution_count": 4,
      "outputs": [
        {
          "output_type": "execute_result",
          "data": {
            "text/html": [
              "<div>\n",
              "<style scoped>\n",
              "    .dataframe tbody tr th:only-of-type {\n",
              "        vertical-align: middle;\n",
              "    }\n",
              "\n",
              "    .dataframe tbody tr th {\n",
              "        vertical-align: top;\n",
              "    }\n",
              "\n",
              "    .dataframe thead th {\n",
              "        text-align: right;\n",
              "    }\n",
              "</style>\n",
              "<table border=\"1\" class=\"dataframe\">\n",
              "  <thead>\n",
              "    <tr style=\"text-align: right;\">\n",
              "      <th></th>\n",
              "      <th>Unnamed: 0</th>\n",
              "      <th>uniq_id</th>\n",
              "      <th>crawl_timestamp</th>\n",
              "      <th>product_url</th>\n",
              "      <th>product_name</th>\n",
              "      <th>product_category_tree</th>\n",
              "      <th>pid</th>\n",
              "      <th>retail_price</th>\n",
              "      <th>discounted_price</th>\n",
              "      <th>image</th>\n",
              "      <th>is_FK_Advantage_product</th>\n",
              "      <th>description</th>\n",
              "      <th>product_rating</th>\n",
              "      <th>overall_rating</th>\n",
              "      <th>brand</th>\n",
              "      <th>product_specifications</th>\n",
              "      <th>crawl_year</th>\n",
              "      <th>Month</th>\n",
              "      <th>cat_level_1</th>\n",
              "      <th>cat_level_2</th>\n",
              "      <th>cat_level_3</th>\n",
              "      <th>cat_level_4</th>\n",
              "      <th>cat_level_5</th>\n",
              "      <th>cat_level_6</th>\n",
              "      <th>discounted_percentage</th>\n",
              "    </tr>\n",
              "  </thead>\n",
              "  <tbody>\n",
              "    <tr>\n",
              "      <th>0</th>\n",
              "      <td>0</td>\n",
              "      <td>c2d766ca982eca8304150849735ffef9</td>\n",
              "      <td>2016-03-25 22:59:23+00:00</td>\n",
              "      <td>http://www.flipkart.com/alisha-solid-women-s-c...</td>\n",
              "      <td>Alisha Solid Women's Cycling Shorts</td>\n",
              "      <td>[\"Clothing &gt;&gt; Women's Clothing &gt;&gt; Lingerie, Sl...</td>\n",
              "      <td>SRTEH2FF9KEDEFGF</td>\n",
              "      <td>999.0</td>\n",
              "      <td>379.0</td>\n",
              "      <td>[\"http://img5a.flixcart.com/image/short/u/4/a/...</td>\n",
              "      <td>False</td>\n",
              "      <td>Key Features of Alisha Solid Women's Cycling S...</td>\n",
              "      <td>No rating available</td>\n",
              "      <td>No rating available</td>\n",
              "      <td>Alisha</td>\n",
              "      <td>{\"product_specification\"=&gt;[{\"key\"=&gt;\"Number of ...</td>\n",
              "      <td>2016</td>\n",
              "      <td>3</td>\n",
              "      <td>Clothing</td>\n",
              "      <td>Women's Clothing</td>\n",
              "      <td>Lingerie, Sleep &amp; Swimwear</td>\n",
              "      <td>Shorts</td>\n",
              "      <td>Alisha Shorts</td>\n",
              "      <td>Alisha Solid Women's Cycling Shorts\"</td>\n",
              "      <td>62.1</td>\n",
              "    </tr>\n",
              "  </tbody>\n",
              "</table>\n",
              "</div>"
            ],
            "text/plain": [
              "   Unnamed: 0  ... discounted_percentage\n",
              "0           0  ...                  62.1\n",
              "\n",
              "[1 rows x 25 columns]"
            ]
          },
          "metadata": {
            "tags": []
          },
          "execution_count": 4
        }
      ]
    },
    {
      "cell_type": "markdown",
      "metadata": {
        "id": "BNYGI_1Eiohf"
      },
      "source": [
        "# Dropping the null values and preprocessing the description column "
      ]
    },
    {
      "cell_type": "code",
      "metadata": {
        "colab": {
          "base_uri": "https://localhost:8080/"
        },
        "id": "R1okN7ZH5aEx",
        "outputId": "588d1f66-e782-4dc9-c4c9-1822852beffa"
      },
      "source": [
        "data['description'].isnull().sum() # sum of null values in 'description' column"
      ],
      "execution_count": 5,
      "outputs": [
        {
          "output_type": "execute_result",
          "data": {
            "text/plain": [
              "2"
            ]
          },
          "metadata": {
            "tags": []
          },
          "execution_count": 5
        }
      ]
    },
    {
      "cell_type": "code",
      "metadata": {
        "id": "YLqzyCDpyq8x"
      },
      "source": [
        "data = data.dropna(subset=['description']) # Dropping the null values of decription rows from the dataset"
      ],
      "execution_count": 6,
      "outputs": []
    },
    {
      "cell_type": "code",
      "metadata": {
        "id": "bsQdJ5UOKx05"
      },
      "source": [
        "data['description'] = data['description'].apply(preprocess_string) # applying the preprocess_string function on description "
      ],
      "execution_count": 7,
      "outputs": []
    },
    {
      "cell_type": "code",
      "metadata": {
        "colab": {
          "base_uri": "https://localhost:8080/"
        },
        "id": "sZ7VwnTOK94P",
        "outputId": "62077de5-c52a-436c-ddbc-f150d073d247"
      },
      "source": [
        "data['description'] # seeing if the preprocessing is done or not"
      ],
      "execution_count": 8,
      "outputs": [
        {
          "output_type": "execute_result",
          "data": {
            "text/plain": [
              "0        key feature alisha solid woman cycling short c...\n",
              "1        fabhomedecor fabric double sofa bed finish col...\n",
              "2        key feature belly sandal wedge heel casuals be...\n",
              "3        key feature alisha solid woman cycling short c...\n",
              "4        specification sicons purpose arnica dog shampo...\n",
              "                               ...                        \n",
              "19995    buy walldesign small vinyl sticker online wall...\n",
              "19996    buy wallmantra large vinyl sticker sticker onl...\n",
              "19997    buy elite collection medium acrylic sticker on...\n",
              "19998    buy elite collection medium acrylic sticker on...\n",
              "19999    buy elite collection medium acrylic sticker on...\n",
              "Name: description, Length: 19998, dtype: object"
            ]
          },
          "metadata": {
            "tags": []
          },
          "execution_count": 8
        }
      ]
    },
    {
      "cell_type": "markdown",
      "metadata": {
        "id": "v1ubYLJnqNon"
      },
      "source": [
        "# Finding unique no. of rows and \"None\" values in each of the 6 splitted categories "
      ]
    },
    {
      "cell_type": "code",
      "metadata": {
        "colab": {
          "base_uri": "https://localhost:8080/",
          "height": 181
        },
        "id": "q3__hW3DdDkq",
        "outputId": "1d299295-9f9d-40f4-e6f1-59cf6b63c8a9"
      },
      "source": [
        "data.head(1)"
      ],
      "execution_count": 9,
      "outputs": [
        {
          "output_type": "execute_result",
          "data": {
            "text/html": [
              "<div>\n",
              "<style scoped>\n",
              "    .dataframe tbody tr th:only-of-type {\n",
              "        vertical-align: middle;\n",
              "    }\n",
              "\n",
              "    .dataframe tbody tr th {\n",
              "        vertical-align: top;\n",
              "    }\n",
              "\n",
              "    .dataframe thead th {\n",
              "        text-align: right;\n",
              "    }\n",
              "</style>\n",
              "<table border=\"1\" class=\"dataframe\">\n",
              "  <thead>\n",
              "    <tr style=\"text-align: right;\">\n",
              "      <th></th>\n",
              "      <th>Unnamed: 0</th>\n",
              "      <th>uniq_id</th>\n",
              "      <th>crawl_timestamp</th>\n",
              "      <th>product_url</th>\n",
              "      <th>product_name</th>\n",
              "      <th>product_category_tree</th>\n",
              "      <th>pid</th>\n",
              "      <th>retail_price</th>\n",
              "      <th>discounted_price</th>\n",
              "      <th>image</th>\n",
              "      <th>is_FK_Advantage_product</th>\n",
              "      <th>description</th>\n",
              "      <th>product_rating</th>\n",
              "      <th>overall_rating</th>\n",
              "      <th>brand</th>\n",
              "      <th>product_specifications</th>\n",
              "      <th>crawl_year</th>\n",
              "      <th>Month</th>\n",
              "      <th>cat_level_1</th>\n",
              "      <th>cat_level_2</th>\n",
              "      <th>cat_level_3</th>\n",
              "      <th>cat_level_4</th>\n",
              "      <th>cat_level_5</th>\n",
              "      <th>cat_level_6</th>\n",
              "      <th>discounted_percentage</th>\n",
              "    </tr>\n",
              "  </thead>\n",
              "  <tbody>\n",
              "    <tr>\n",
              "      <th>0</th>\n",
              "      <td>0</td>\n",
              "      <td>c2d766ca982eca8304150849735ffef9</td>\n",
              "      <td>2016-03-25 22:59:23+00:00</td>\n",
              "      <td>http://www.flipkart.com/alisha-solid-women-s-c...</td>\n",
              "      <td>Alisha Solid Women's Cycling Shorts</td>\n",
              "      <td>[\"Clothing &gt;&gt; Women's Clothing &gt;&gt; Lingerie, Sl...</td>\n",
              "      <td>SRTEH2FF9KEDEFGF</td>\n",
              "      <td>999.0</td>\n",
              "      <td>379.0</td>\n",
              "      <td>[\"http://img5a.flixcart.com/image/short/u/4/a/...</td>\n",
              "      <td>False</td>\n",
              "      <td>key feature alisha solid woman cycling short c...</td>\n",
              "      <td>No rating available</td>\n",
              "      <td>No rating available</td>\n",
              "      <td>Alisha</td>\n",
              "      <td>{\"product_specification\"=&gt;[{\"key\"=&gt;\"Number of ...</td>\n",
              "      <td>2016</td>\n",
              "      <td>3</td>\n",
              "      <td>Clothing</td>\n",
              "      <td>Women's Clothing</td>\n",
              "      <td>Lingerie, Sleep &amp; Swimwear</td>\n",
              "      <td>Shorts</td>\n",
              "      <td>Alisha Shorts</td>\n",
              "      <td>Alisha Solid Women's Cycling Shorts\"</td>\n",
              "      <td>62.1</td>\n",
              "    </tr>\n",
              "  </tbody>\n",
              "</table>\n",
              "</div>"
            ],
            "text/plain": [
              "   Unnamed: 0  ... discounted_percentage\n",
              "0           0  ...                  62.1\n",
              "\n",
              "[1 rows x 25 columns]"
            ]
          },
          "metadata": {
            "tags": []
          },
          "execution_count": 9
        }
      ]
    },
    {
      "cell_type": "code",
      "metadata": {
        "colab": {
          "base_uri": "https://localhost:8080/"
        },
        "id": "zW7tsSqiqbOs",
        "outputId": "a065c04f-cfc7-47f9-8a0e-3f055b577575"
      },
      "source": [
        "print(data['cat_level_1'].value_counts().to_dict()) # printing the dict of uniques values in cat_level_1\n",
        "print(len(data['cat_level_1'].value_counts())) # len of unique values\n",
        "len(data[data['cat_level_1']=='None'])   #len of None values"
      ],
      "execution_count": 10,
      "outputs": [
        {
          "output_type": "stream",
          "text": [
            "{'Clothing': 6197, 'Jewellery': 3531, 'Footwear': 1227, 'Mobiles & Accessories': 1099, 'Automotive': 1012, 'Home Decor & Festive Needs': 929, 'Beauty and Personal Care': 710, 'Home Furnishing': 699, 'Kitchen & Dining': 647, 'Computers': 578, 'Watches': 530, 'Baby Care': 483, 'Tools & Hardware': 391, 'Toys & School Supplies': 330, 'Pens & Stationery': 313, 'Bags, Wallets & Belts': 265, 'Furniture': 180, 'Sports & Fitness': 166, 'Cameras & Accessories': 82, 'Home Improvement': 81, 'Health & Personal Care Appliances': 43, 'Sunglasses': 35, 'Gaming': 35, 'Pet Supplies': 30, 'Home & Kitchen': 24, 'Home Entertainment': 19, 'eBooks': 15, 'Eyewear': 10, 'Clovia Women\\'s Full Coverage Bra\"': 9, 'Lilliput Top Baby Girl\\'s  Combo\"': 8, 'Vishudh Printed Women\\'s Straight Kurta\"': 8, 'Olvin Aviator Sunglasses\"': 7, 'Clovia Women\\'s T-Shirt Bra\"': 6, 'MASARA Solid Women\\'s Straight Kurta\"': 5, 'Sunglasses\"': 5, 'FEET FLOW Women Flats\"': 4, 'Pu-Good Women Flats\"': 4, 'Household Supplies': 4, 'Olvin Wayfarer Sunglasses\"': 4, 'Dressberry Gold Synthetic  Clutch\"': 4, 'Firangi Cotton, Polyester Free Floor Mat Firangi...\"': 4, 'Olvin Oval Sunglasses\"': 3, 'Treppe Bellies\"': 3, 'Dilan Jewels Alloy Zircon 18K Yellow Gold Bangle...\"': 3, 'Pout Brass Bangle\"': 3, 'Indistar Self Design Viscose Women\\'s Stole\"': 3, 'Frabjous German silver Rings For Women Alloy Zir...\"': 3, 'Ruhi\\'s Creations Polyester Silk Blend Cartoon Ki...\"': 3, 'Dassler Slim Fit Women\\'s Multicolor Jeans\"': 3, 'GALLOWAY skinny Fit Women\\'s Jeans\"': 2, 'fourgee Slim Fit Women\\'s Blue Jeans\"': 2, 'Siyas Collection Lac Cubic Zirconia Bangle Set (...\"': 2, 'TIMBERLAKE Slim Fit Fit Women\\'s Red Jeans\"': 2, 'TIMBERLAKE Slim Fit Fit Women\\'s Brown Jeans\"': 2, 'Camey Men\\'s Quarter Length Socks\"': 2, 'The Cotton Company Solid Women\\'s Polo Neck Pink ...\"': 2, 'TSG Breeze Printed Women\\'s Round Neck Multicolor...\"': 2, 'Wearable Smart Devices': 2, 'Urban Girl Foundation Brush (Pack of 10)\"': 2, 'Corcepts Universal Tablet HD Ultra Clear Transpa...\"': 2, 'ANAND ARCHIES Girls Flats\"': 2, 'EASIES Solid Single Breasted Casual Men\\'s Blazer\"': 2, 'D&D Women Flats\"': 2, 'INDILEGO Women Flats\"': 2, 'Dressberry Black Synthetic  Clutch\"': 2, 'killys Men\\'s Solid No Show Socks\"': 2, 'Ajaero Slim Fit Women\\'s Dark Blue Jeans\"': 2, 'COIRFIT Single Coir Mattress\"': 2, 'Crafty Hands Kutchchi Mirrorwork Tapestry (Maroon)\"': 2, 'Food & Nutrition': 2, 'Olvin Rectangular Sunglasses\"': 2, 'Mast & Harbour Black Synthetic  Clutch\"': 2, 'HANS Men\\'s Crew Length Socks\"': 2, 'Little Stars Girl\\'s A-line Multicolor Dress\"': 1, 'The Crazy Me 1 Compartments Eco-Friendly leather...\"': 1, 'Carbanao Chrome Grill Chevrolet Cruze Car Grill ...\"': 1, 'Mast & Harbour Gold Synthetic  Clutch\"': 1, 'Himmlisch 20503 Car Bottle Holder (Plastic)\"': 1, 'clickforsign Sound horn Before entering Emergenc...\"': 1, 'soie Fashion Women\\'s Sports Bra\"': 1, 'Samprada Modern art Tapestry (Black, Pink)\"': 1, 'Vinenzia Printed Winter Men\\'s Gloves\"': 1, 'SMART TRADERS Girls Bellies\"': 1, 'Breakbounce Men\\'s Vest\"': 1, 'ABEEZ Boys, Men, Girls (Black, Pack of 1)\"': 1, 'Legmark Slim Fit Women\\'s Blue Jeans\"': 1, 'AutoKraftZ Optimum Locking Device For Bajaj Puls...\"': 1, 'K&P Lord Ganesha Large 03 Showpiece  -  19 cm (P...\"': 1, 'Fabpoppy Printed Women\\'s Jumpsuit\"': 1, 'Srajanaa sr114 Travel Shaving Kit (Black)\"': 1, 'Lucky Thailand GL/ LG30 Glass (300 ml, Clear, Pa...\"': 1, 'Dremel 2615.023.132 Plastic Friction Work Bench ...\"': 1, 'Oly Two Fit Fit Women\\'s Dark Blue Jeans\"': 1, 'JUSF2 Black Color Hair Band (Multicolor)\"': 1, 'Wella Elements Leight Weight Renewing Conditione...\"': 1, 'Skayvon SUBMERSIBBLE THREE PHASE PUMP CONTROLLER...\"': 1, 'NEWGEN TECH EO-HS3303 218 Wired Headset (White)\"': 1, 'Zevrr Sterling Silver Swarovski Zirconia Platinu...\"': 1, 'Starsy Printed Women\\'s Round Neck Black T-Shirt\"': 1, 'SMART DENIM Solid Women\\'s White Denim Shorts\"': 1, 'Style World Women Flats\"': 1, 'Koie  Battery - For Samsung 7562 Premium Quality...\"': 1, 'Sonaxo Men Running Shoes\"': 1, 'UFO Full Sleeve Solid Girl\\'s Jacket\"': 1, 'run of luck Solid Women\\'s Round Neck Dark Blue T...\"': 1, 'Arial Morris Women Flats\"': 1, 'Wellon Fittings set (16 pieces) for RO Water Pur...\"': 1, 'Auraa Men\\'s, Women\\'s Solid No Show Socks\"': 1, 'SJ Barstel 56m / 1000m Binoculars (30 mm, Black)\"': 1, 'Sugandh Vatika 24 Natural Masala, Sandal Incense...\"': 1, 'Jazz Eyewears Over-sized Sunglasses\"': 1, 'Selfcare Women\\'s Thong Panty (Pack of 3)\"': 1, 'New Darling Women\\'s Printed Top & Pyjama Set\"': 1, 'Power Smart Quick Charging Pack For PAN CGR-DU-2...\"': 1, 'FIFO Bottom Women\\'s  Combo\"': 1, 'Rasav Jewels Yellow Gold Diamond 18 K Ring\"': 1, 'LGRL Women\\'s Leggings\"': 1, '883 Police Full Sleeve Solid Men\\'s Jacket\"': 1, 'Synergy SFJB0105 Grocery Bag (Blue)\"': 1, 'Speedwav 216510 Manual Rear View Mirror (Right, ...\"': 1, 'Sumo Baby Walker (Red)\"': 1, 'Naaz 2 in 1 Paper Quilling Board Game\"': 1, 'PrivateLifes MasterPiece Women\\'s Push-up Bra\"': 1, 'SMART TRADERS Women Wedges\"': 1, 'Sj Bushnell 119M / 1000 Binoculars (36 mm, Black)\"': 1, 'SJ Bushnell 122/1000M Binoculars (36 mm, Black)\"': 1, 'Clovia Lingerie Set\"': 1, 'K&P Dr.Ambedkar Large 04 Showpiece  -  19 cm (Po...\"': 1, 'Attitude Printed Women\\'s Round Neck Black T-Shirt\"': 1, 'Naaz Dart game Board Game\"': 1, 'ANAND ARCHIES Girls Wedges\"': 1, 'Urban Girl Foundation Brush (Pack of 12)\"': 1, 'OEM 170774 Bike Side Stand\"': 1, 'Glacier Running Shoes\"': 1, 'Vitamins Solid Baby Girl\\'s Basic Shorts\"': 1, 'Shonaya Printed Bhagalpuri Art Silk Sari\"': 1, 'SHOPOJ White Paper Sky Lantern (80 cm X 34 cm, P...\"': 1, 'classyworld Brass Cufflink (Silver-01)\"': 1, 'Vishudh Printed Women\\'s Anarkali Kurta\"': 1, 'Nine Maternity Wear Women\\'s Fit and Flare Dress\"': 1, 'Dolz Slim Fit Fit Women\\'s Brown Jeans\"': 1, 'E\\'Hiose Girl\\'s Leggings (Pack of 6)\"': 1, 'clickforsign Avoid Contanimation Wash your Hands...\"': 1, 'TIMBERLAKE Slim Fit Fit Women\\'s Blue Jeans\"': 1, 'Abhinl Fashion Cotton Printed Semi-stitched Salw...\"': 1, 'Automation & Robotics': 1, 'Pia International 10X70X70 WITH ZOOM SAKURA Bino...\"': 1, 'Small Toes Bellies\"': 1, 'ATV Pouch for Acer Liquid Z330 (STEEL BLUE)\"': 1, 'Behringer Xenyx 502 Analog Sound Mixer\"': 1, 'Yo Baby Girl\\'s Trousers\"': 1, 'SUPERMOD Men\\'s Brief\"': 1, 'Planet Waves Woodstock Strap (Multicolor)\"': 1, 'REMSON INDIA Women Flats\"': 1, 'INKT INKT A5 Wiro Notebook A5 Notebook Ring Boun...\"': 1, 'Viral Girl Women\\'s Full Coverage Bra\"': 1, 'Spa Culture Fit Fit Women\\'s Black Jeans\"': 1, 'Oly Two Fit Fit Women\\'s Black Jeans\"': 1, 'piftif Women\\'s Sports Bra\"': 1, 'Shrih Toe & Foot Protector Pain Relief Pad (Pack...\"': 1, 'e-Fresh Boy\\'s Brief (Pack of 5)\"': 1, 'Pazel Slim Fit Men\\'s Jeans\"': 1, 'Ruhi\\'s Creations Cotton Cartoon King sized Doubl...\"': 1, 'SHOPOJ Yellow Paper Sky Lantern (80 cm X 34 cm, ...\"': 1, 'Foot Candy Women Flats\"': 1, 'Royal Seal Creations 40 ST COLOR Silver Zircon N...\"': 1, 'Just Wow Women Flats\"': 1, 'SHOPOJ Purple Paper Sky Lantern (80 cm X 34 cm, ...\"': 1, 'Bootwale Bellies\"': 1, 'Bengal Blooms Rose Artificial Plant  with Pot (3...\"': 1, 'Autoplus M AP15 Arm Sleeve (Black)\"': 1, 'Joyra Heart Sterling Silver Swarovski Crystal, S...\"': 1, 'Oddy RS 1.5 X 2 100 Sheets Self Stick Reposition...\"': 1, 'UFO Self Design Round Neck Casual Girl\\'s Sweater\"': 1, 'fourgee Slim Fit Boy\\'s Black Jeans\"': 1, 'Laser X Checkered Men\\'s Boxer (Pack of 4)\"': 1, 'Asics Gel-Cumulus 17 Running Shoes\"': 1, 'Dressberry Green Synthetic  Clutch\"': 1, 'Autoplus M AP18 Arm Sleeve (Black)\"': 1, 'Gking Hand Stiched Steering Cover For Maruti Ert...\"': 1, 'Speedwav 186926 Royal Enfield 350 Twin Spark LED...\"': 1, 'Remax Rm-10000 Remax Vanguard 10000mah 10000 mAh...\"': 1, 'Favourite BikerZ 3514 RAD air filter Ionic Air F...\"': 1, 'Linzina Fashions LIN-HOSS-1.5 Faucet Set\"': 1, 'Kanvas Bellies\"': 1, 'xy decor Cotton Sofa Cover (white Pack of 6)\"': 1, 'Power Smart Quick Charging Pack For PAN CGR-D28 ...\"': 1, 'Clovia Women\\'s Plunge Bra\"': 1, 'Disney Printed Baby Boy\\'s Hooded Grey T-Shirt\"': 1, 'Kraft Seeds Rosemary Herb (Pack Of 5) Seed (75 p...\"': 1, 'Anuradha Art Stylish Hair Clip (Black)\"': 1, 'Zixtro Bug (Black, Backpack)\"': 1, 'Ocean GP/Pyramid Glass (300 ml, Clear, Pack of 12)\"': 1, 'SAY UV Sterilizer Solid Filter Cartridge (0, Pac...\"': 1, 'RajeshFashion Women\\'s Leggings\"': 1, 'INVENTURE RETAIL Nail Cutter\"': 1, 'SMART TRADERS Women Flats\"': 1, 'Kraft Seeds Thyme Herbs Seed (200 per packet)\"': 1, 'Prime Printed 8 Seater Table Cover (Multicolor, ...\"': 1, 'Noor Embroidered Women\\'s Straight Kurta\"': 1, 'Libas Printed Women\\'s Anarkali Kurta\"': 1, 'Kittens Boys Flats\"': 1, 'GM Power mate 4 Strip Surge Protector (White)\"': 1, 'Walkline Slippers\"': 1, 'soie Fashion Women\\'s Full Coverage Bra\"': 1, 'Urban Girl Foundation Brush (Pack of 7)\"': 1, 'Threads & Pals Full Sleeve Printed, Solid Men\\'s ...\"': 1, 'Nut Khut Embroidered Kurta & Churidar\"': 1, 'Klaur Melbourne Bellies\"': 1, 'Libas Printed Women\\'s A-line Kurta\"': 1, 'Be 13 Printed Boy\\'s Round Neck T-Shirt (Pack of 2)\"': 1, 'Skayvon SUMMERSIBLE SINGLE PHASE PUMP CONTROLLER...\"': 1, 'Speedwav 216456 Manual Rear View Mirror (Right, ...\"': 1, 'SRPC BAOER STARWALKER EXECUTIVE ROLLERBALL Pen G...\"': 1, 'e-Fresh Baby Boy\\'s Brief (Pack of 10)\"': 1, 'Miss Wow Slim Fit Women\\'s Blue Jeans\"': 1, 'Adidas IND PRO THI GUA Thigh Guard (White, Blue,...\"': 1, 'Kraft Seeds Dill Herb Seed (50 per packet)\"': 1, 'Siemens 5SL Betagard 5SL MCB (1)\"': 1, 'SHOPOJ Multicolor Paper Sky Lantern (80 cm X 34 ...\"': 1, 'Kombee Girl\\'s Printed Red, Pink Top & Capri Set\"': 1, 'Eternal Gandhi Super Series Crystal Paper Weight...\"': 1, 'Clickforsign Vehicles parked Illegally will be t...\"': 1, 'Shrih SH-0192 Wired USB Flexible Keyboard (Red)\"': 1, 'Boreal Roller Brush\"': 1, 'BLM Casual Printed Women\\'s Kurti\"': 1, 'classyworld Brass Cufflink (Grey-02)\"': 1, 'Sisel Printed Poly Cotton Women\\'s Stole\"': 1, 'Speedwav 216552 Manual Rear View Mirror (Right, ...\"': 1, 'V&G Professional HD-37 Hair Dryer (Red)\"': 1, 'Legmark Slim Fit Women\\'s Light Blue Jeans\"': 1, 'Escan Lace Up\"': 1, 'Areon Luxurious Fragrance Long Lasting Car,Home,...\"': 1, 'LondonHouze Printed Women\\'s Round Neck Grey T-Shirt\"': 1, 'Speedwav 186136 Manual Rear View Mirror (Right, ...\"': 1, 'Gking Hand Stiched Steering Cover For Renault Sc...\"': 1, 'Threads & Pals Full Sleeve Self Design Men\\'s Swe...\"': 1, 'Leading lady Women\\'s Camisole\"': 1, 'ANASAZI Casual 3/4 Sleeve Solid Women\\'s Top\"': 1, 'Knight Ace Kraasa Sports Running Shoes, Cycling ...\"': 1, 'BALAJI EXPORTS Bottled Wine Cooler (9 Bottles)\"': 1, 'Asics Gel-Kayano 22 Running Shoes\"': 1, 'Starsy Solid Women\\'s Round Neck Green T-Shirt\"': 1, 'Speedwav 186879 Bajaj Pulsar 200 NS DTS-i LED In...\"': 1, 'Cellbazaar Blackberry 8520 WHITE LCD LCD (YIT-562)\"': 1, 'Ruhi\\'s Creations Cotton Floral King sized Double...\"': 1, 'BuildTrack PIR Wireless Motion Sensor - One Swit...\"': 1, 'Dressberry Orange Synthetic  Clutch\"': 1, 'kem Flow Gold skinny Fit Baby Girl\\'s Blue Jeans\"': 1, 'SJ Comet Zoom DPSI Binoculars (30 mm, Black)\"': 1, 'Amita Home Furnishing Cotton Printed Single Beds...\"': 1, 'Car vastra 1pcs Car Vastra Honda Beige Backrest ...\"': 1, 'United Colors of Benetton Girl\\'s Trousers\"': 1, 'Anuradha Art Stylish Hair Clip (Blue)\"': 1, 'Kalpaveda Copper Bowl (Gold, Pack of 1)\"': 1, 'THERISE MD0005 Wired Headset (Pink)\"': 1, 'tadd Men\\'s, Women\\'s Ankle Length Socks\"': 1, 'Fly U Slim Fit Fit Women\\'s Brown Jeans\"': 1, 'NEWGEN TECH EO-HS3303 58 Wired Headset (White)\"': 1, 'Taurus Black & white Lace Up\"': 1, 'Amita Home Furnishing Cotton Floral Single Bedsh...\"': 1, 'Impala Alloy Cufflink (White)\"': 1, 'SAY Thread Wounded Candle 10\\\\\" Set of 4 pcs Solid...\"': 1, 'NEWGEN TECH EO-HS3303 179 Wired Headset (White)\"': 1, 'Zikrak Exim Women Wedges\"': 1, 'Speedwav 240437 Sun Shade For Hyundai i10 (Dashb...\"': 1}\n",
            "266\n"
          ],
          "name": "stdout"
        },
        {
          "output_type": "execute_result",
          "data": {
            "text/plain": [
              "0"
            ]
          },
          "metadata": {
            "tags": []
          },
          "execution_count": 10
        }
      ]
    },
    {
      "cell_type": "markdown",
      "metadata": {
        "id": "0IKbKb1y2cEg"
      },
      "source": [
        "Category level 1 contains 266 labels and 0 None values"
      ]
    },
    {
      "cell_type": "code",
      "metadata": {
        "colab": {
          "base_uri": "https://localhost:8080/"
        },
        "id": "jrl24l6wqfM9",
        "outputId": "80237fd7-27a4-487d-b37e-efb5f84033ac"
      },
      "source": [
        "print(data['cat_level_2'].value_counts().to_dict())\n",
        "print(len(data['cat_level_2'].value_counts()))\n",
        "len(data[data['cat_level_2']=='None'])"
      ],
      "execution_count": 11,
      "outputs": [
        {
          "output_type": "stream",
          "text": [
            "{\"Women's Clothing\": 3900, \"Men's Clothing\": 1773, 'Necklaces & Chains': 1606, 'Accessories & Spare parts': 925, 'Tablet Accessories': 801, \"Women's Footwear\": 781, 'Bangles, Bracelets & Armlets': 724, 'Rings\"': 710, 'Wrist Watches': 523, \"Kids' Clothing\": 520, 'Tools': 403, 'Fragrances': 391, 'Laptop Accessories': 343, \"Men's Footwear\": 340, 'None': 328, 'Mobile Accessories': 304, 'Showpieces': 303, 'Coffee Mugs': 302, 'School Supplies': 300, 'Wall Decor & Clocks': 278, 'Bed Linen': 217, 'Baby & Kids Gifts': 203, 'Network Components': 202, 'Bags': 195, 'Infant Wear': 187, 'Curtains & Accessories': 162, 'Jewellery Sets\"': 161, 'Table Decor & Handicrafts': 150, 'Office Supplies': 140, 'Accessories': 114, \"Kids' & Infant Footwear\": 105, 'Bath Linen': 105, 'Cookware': 102, 'Cushions, Pillows & Covers': 94, 'Earrings\"': 93, 'Decorative Lighting & Lamps': 87, 'Combos and Kits': 84, 'Camera Accessories': 82, 'Makeup': 78, 'Pet Furniture\"': 76, 'Kitchen Tools': 74, 'Body and Skin Care': 74, 'Car & Bike Accessories': 63, 'Living Room': 60, 'Team Sports': 60, 'Kitchen & Dining Linen': 49, 'Containers & Bottles': 48, 'Personal Care Appliances': 39, 'Lighting': 39, 'College Supplies': 39, 'Flowers, Plants & Vases': 35, 'Baby Bedding': 35, 'Outdoor & Adventure': 34, 'Gaming Accessories': 34, 'Rings': 33, 'Wallets & Clutches': 33, 'Action Figures': 32, 'Electricals': 31, 'Hair Care': 31, 'Pens': 29, 'Bar & Glassware': 27, 'Fitness Accessories': 27, 'Floor Coverings': 27, 'Baby Bath & Skin': 26, 'Pendants & Lockets': 26, 'Bath and Spa': 22, 'Health Care': 22, 'Other Sports': 21, 'Lawn & Gardening': 20, 'Candles & Fragrances': 19, 'Festive Decor': 19, 'Living\"': 18, 'Luggage & Travel': 18, 'Showpiece': 18, 'Storage & Feeding Utensils': 17, 'Racquet Sports': 16, 'Pendants & Lockets\"': 16, 'Tableware & Cutlery': 15, 'Suspenders': 15, 'Car Accessories': 15, 'Remote Control Toys': 15, 'Hardware': 14, 'Housekeeping & Laundry': 13, 'Living Room Furnishing': 13, 'Kitchen Appliances': 12, 'Nose Rings & Studs': 12, 'Religion & Devotion': 12, 'Home Appliances': 12, 'Bedroom Furniture': 12, 'Mangalsutras & Tanmaniyas': 11, 'Computer Peripherals': 11, 'Pressure Cookers & Pans': 11, 'Soft Toys': 11, 'Musical Instruments & Toys': 10, 'Video Players & Accessories': 10, 'Learning & Educational Toys': 10, 'Frames': 10, 'Diaries & Notebooks': 10, 'Academic Texts': 9, 'Feeding & Nursing': 9, 'Living': 9, 'Diapering & Potty Training': 9, 'Computer Components': 8, 'Study & Home Office Furniture': 8, 'Dinnerware & Crockery': 7, 'Party Supplies': 7, 'Living Room Furniture': 6, 'Watch Accessories': 6, 'Audio Players': 6, 'Furniture & Furnishings': 6, 'Track & Field': 6, 'Garden & Leisure': 6, 'Office Equipments': 6, 'Hair Accessories': 6, 'Ride Ons': 6, 'Jewellery Sets': 5, 'Baby Grooming': 5, 'Kids Room Furniture': 5, 'Puzzles & Board Games': 5, 'Home Cleaning': 4, 'Bakeware': 4, 'Nose Rings & Studs\"': 4, 'Artificial Jewellery': 4, 'Olvin Aviator Sunglasses\"': 4, 'Cars, Trains & Bikes': 4, 'Toys': 4, 'Science': 4, 'Educational Toys': 4, 'Eye Care': 4, 'Pet Apparel': 3, 'Beauty Accessories': 3, 'Olvin Wayfarer Sunglasses\"': 3, 'Storage': 3, 'AAO+ Aviator Sunglasses\"': 3, 'Home Audio': 3, \"Men's Grooming\": 3, 'Outdoor Toys': 3, 'Kitchen & Dining Furniture': 3, 'Art Supplies': 2, 'Role Play Toys': 2, 'Damemoda Wayfarer Sunglasses\"': 2, 'Storage Furniture': 2, 'Health & Nutrition': 2, 'Religion & Spirituality': 2, 'Sanitaryware': 2, \"Women's Hygiene\": 2, 'Grooming': 2, 'Laptops': 2, 'Indoor Sports & Games': 2, 'Precious Jewellery': 2, 'EYE GLASS Wayfarer Sunglasses\"': 2, 'Wearable Accessories': 2, 'Habitat': 2, 'Pepe Jeans Wayfarer Sunglasses\"': 2, 'Seating Furniture': 2, 'Consumables & Disposables': 2, 'HERDY Aviator Sunglasses\"': 2, 'Belts': 2, 'Outdoor & Cafeteria Furniture': 2, 'Zyaden Oval Sunglasses\"': 2, 'Redex Cat-eye Sunglasses\"': 2, 'Earrings': 2, 'JMD Home Furnishing': 2, 'Health & Safety': 2, 'Software': 2, 'TRUE Home Decor & Festive Needs\"': 2, 'Palakz Kitchen & Dining': 1, 'Strollers & Activity Gear': 1, \"Kripa's Home Furnishing\": 1, 'Home Storage & Organization': 1, 'Food & Health Supplies': 1, 'Olvin Oval Sunglasses\"': 1, 'C Kreul Toys & School Supplies': 1, 'Silver Kartz Beach Sky Blue Wayfarer, Rectangula...\"': 1, 'Tuelip Toys & School Supplies': 1, 'Home Utilities': 1, 'Anklets': 1, 'Tidy Home Furnishing': 1, 'Naaz Toys & School Supplies': 1, 'CEAT 4.00-8 Buland Tube Tyre\"': 1, 'CEAT 140/70-17 Zoom XL TL Tube Less Tyre\"': 1, 'Magic Kits': 1, 'Dupli Color Toys & School Supplies': 1, 'Look-Kool Unisex Wayfarer Sunglasses\"': 1, 'barbarik Wayfarer, Aviator Sunglasses\"': 1, 'piftif Clothing': 1, 'fourgee Clothing': 1, 'Toy Guns & Weapons': 1, 'Wind Spinner Toys': 1, 'sovam Home Furnishing': 1, 'HH Wayfarer Sunglasses\"': 1, 'Smart Door Locks\"': 1, 'Mikado Aviator Sunglasses\"': 1, 'General Utility Furniture': 1, 'CEAT 2.75-18 Gripp TT Tube Tyre\"': 1, 'CEAT 3.50-19 Milaze TT Tube Tyre\"': 1, 'Garment Covers': 1, 'Clovia Clothing': 1, 'Raees Wayfarer Sunglasses\"': 1, 'Dilan Jewels Alloy Zircon 18K Yellow Gold Bangle...\"': 1, 'ABCD Small Bean Bag  With Foam Filling (Black)\"': 1, 'SAY RO Membrane Housing Set Solid Filter Cartrid...\"': 1, 'HH Aviator Sunglasses\"': 1, 'Clocks': 1, 'Calculators': 1, 'Flasks & Casseroles': 1, 'Aligatorr Aviator Sunglasses\"': 1, 'CEAT 3.50-10 Milaze TT Tube Tyre\"': 1, 'HH Oval Sunglasses\"': 1, 'CEAT 100/90-17 Milaze TT Tube Tyre\"': 1, 'Gaming Components': 1, 'MP3 players/Ipods Accessories': 1, 'REMSON INDIA Women Flats\"': 1, 'CEAT 3.00-18 Secura Sport Tube Tyre\"': 1, 'VESPL Wayfarer Sunglasses\"': 1, 'CEAT 2.75-18 Secura M86 Tube Tyre\"': 1, 'Seating': 1, 'Sonpra Clothing': 1, 'Elligator Aviator Sunglasses\"': 1, 'CEAT 2.75-17 Secura F85 TL Tube Less Tyre\"': 1, 'Dark Image Wayfarer Sunglasses\"': 1, 'Grooming > Skin & Coat Care': 1, 'Cufflinks': 1, 'Bar Furniture': 1}\n",
            "224\n"
          ],
          "name": "stdout"
        },
        {
          "output_type": "execute_result",
          "data": {
            "text/plain": [
              "328"
            ]
          },
          "metadata": {
            "tags": []
          },
          "execution_count": 11
        }
      ]
    },
    {
      "cell_type": "markdown",
      "metadata": {
        "id": "HvnKi_xw2mRX"
      },
      "source": [
        "Category level 2 contains 224 labels but 328 \"None\" values"
      ]
    },
    {
      "cell_type": "code",
      "metadata": {
        "colab": {
          "base_uri": "https://localhost:8080/"
        },
        "id": "LOzBDfRWqmIE",
        "outputId": "f1970280-bc7a-4334-abe0-a7c5c569197d"
      },
      "source": [
        "print(data['cat_level_3'].value_counts().to_dict())\n",
        "print(len(data['cat_level_3'].value_counts()))\n",
        "len(data[data['cat_level_3']=='None'])"
      ],
      "execution_count": 12,
      "outputs": [
        {
          "output_type": "stream",
          "text": [
            "{'Western Wear': 1980, 'Necklaces\"': 1567, 'None': 1457, 'Lingerie, Sleep & Swimwear': 1208, 'T-Shirts': 903, 'Cases & Covers': 796, 'Car Interior & Exterior': 677, 'Ethnic Wear': 485, 'Casual Shoes': 454, 'Bangles\"': 430, 'Deodorants': 388, 'Gardening Tools': 343, 'Girls Wear': 287, 'Bracelets\"': 251, 'Shirts': 234, 'Winter & Seasonal Wear': 225, 'Geometry & Pencil Boxes': 221, 'Routers': 199, 'Stickers': 194, 'Blankets, Quilts & Dohars\"': 190, 'Wedges\"': 186, 'Ethnic': 172, 'Boys Wear': 169, 'USB Gadgets': 154, 'Accessories & Combo Sets': 135, 'Curtains\"': 131, 'Wall Decals & Stickers': 122, 'Brooches': 113, 'Showpieces': 112, 'Spares & Performance Parts': 111, \"Baby Boys' Clothes\": 99, 'Pots & Pans': 98, 'Heels\"': 97, 'Prithish Coffee Mugs\"': 94, 'Batteries': 93, 'Towels\"': 93, 'Printland Coffee Mugs\"': 89, \"Baby Girls' Clothes\": 88, 'Flats\"': 87, 'Hand Bags': 85, 'Backpacks': 78, 'Inner Wear & Sleep Wear': 75, 'Clocks': 74, 'Fusion Wear': 73, 'Maxima Wrist Watches\"': 73, 'For Boys': 72, 'Rockmantra Coffee Mugs\"': 72, 'Geometry, Pen & Pencil boxes': 69, 'Formal Shoes': 66, 'Cushion Covers\"': 66, 'Kitchen Implements': 66, 'Jeans': 65, 'Infants Wear': 63, 'Lens Hoods': 60, 'Sofas & Sectionals\"': 59, 'Sonata Wrist Watches\"': 56, 'Series Lights': 55, 'Car Electronics & Accessories': 53, 'Paintings': 51, 'Screen Protectors': 50, 'Sports & Gym Wear': 49, 'Ballerinas': 47, 'Mobile Pouches': 46, 'Face Care': 46, 'Adapters': 43, 'Heels': 42, 'Cables': 42, 'Vanity Boxes': 41, 'Car & Bike Care': 41, 'Bulbs': 39, 'Car & Bike Lighting': 38, 'Oxyglow Combos and Kits\"': 38, 'Car Accessories': 37, 'Computer Accessories Combos': 36, 'Trousers': 35, 'Punches & Punching Machines': 34, 'Slippers & Flip Flops': 33, 'Accessories': 32, 'For Girls': 32, 'Suits & Blazers': 32, 'Navaksha Men\\'s Clothing\"': 32, 'Mxofere Combos and Kits\"': 31, 'Cricket': 30, 'Timewel Wrist Watches\"': 30, 'Bottles & Sippers': 30, 'Curtains': 30, 'Switches & Accessories': 29, 'Basketball': 26, 'Files and Folders': 26, 'Sports Wear': 26, 'Headphones': 26, 'Headphones (With Mic)': 25, 'Bangles': 25, 'Tool Accessories': 25, 'Automotive Combo': 24, 'Carpets & Rugs': 24, 'Sports Shoes': 23, 'Times Wrist Watches\"': 23, 'AKUP Coffee Mugs': 22, 'Leggings & Jeggings': 22, 'Cushion Covers': 22, 'Chargers': 22, 'Baby Bath Towels': 22, 'Maternity Wear': 21, 'Camping & Hiking': 21, 'Necklaces': 21, 'Bar Glasses': 21, 'Wedges': 21, 'Cargos, Shorts & 3/4ths': 21, 'Perucci Wrist Watches\"': 20, 'Fastrack Wrist Watches\"': 20, 'Plants': 20, 'Baby Blankets': 20, 'Home Fragrances': 19, 'Formal Wear': 19, 'Kitchen Linen Sets': 19, 'Flower Vase': 19, 'Bike Essentials': 18, 'Chains': 18, 'Sandals & Floaters': 17, 'AMY Office Supplies\"': 17, 'Battery chargers': 17, 'Bowls & Bottles': 17, 'Hair Dryers': 16, 'Flippd Wrist Watches\"': 16, 'Bracelets': 16, 'Gift Island Wrist Watches\"': 16, 'Clutches': 16, 'Bedsheets': 16, 'Hand Care': 16, 'Travel Document Holders & Card Holders': 16, 'Photo Frames': 16, 'Earphone Cable Organizers': 16, 'Hardware & Electricals': 15, 'Trimmers\"': 14, 'Helmets & Riding Gear': 14, 'Table Decor': 14, 'Contemporary': 14, 'Artificial Plants': 14, 'Lips': 14, 'Flats': 13, 'Pouches and Potlis': 13, 'Hand Tools': 13, 'Car Interior': 13, 'Speakers': 13, 'Bathroom & Kitchen Fixtures': 13, 'Lunch Boxes': 13, 'Sports Sandals': 12, 'Cycling': 12, 'Health Care Devices': 12, 'Radhesh Creation Crystal Yellow Gold Plated Bras...\"': 12, 'Ball Pens': 12, 'Mats': 12, 'Desk Organizers': 11, 'Night Lamps': 11, 'HMT Wrist Watches\"': 11, 'Luba Wrist Watches\"': 11, 'Sling Bags': 11, 'Baby Bedsheets': 11, 'Posters': 11, 'Key Chains': 11, 'Laptop Adapters': 10, 'Mobile Chargers': 10, 'Car & Bike Styling': 10, 'Hair Colors': 10, 'SHOPMANIA College Supplies': 10, 'Noise Wrist Watches\"': 10, 'Skating': 10, 'Lip Care': 10, 'Lanterns': 9, 'Body and Essential Oils': 9, 'Face': 9, 'Nexus Wrist Watches\"': 9, 'Mobile Body Panels': 9, 'Decorative Platters': 9, 'Diaries': 9, 'Hair Care Accessories': 9, 'Printers & Inks': 9, 'Suitcases': 9, 'Fountain Pens': 8, 'Sofa Covers': 8, 'Conditioners': 8, 'Mattresses': 8, 'Tiedribbons Showpieces\"': 8, 'Mouse Pads': 8, 'Table Covers': 8, 'Shoppingtara Showpieces\"': 8, 'Rakhi': 8, 'Roller Ball Pens': 8, 'RYTHMX Combos and Kits': 8, 'Wall Shelves': 8, 'S C Handicrafts Showpieces\"': 8, 'Aria Rhodium Sterling Silver Pendant\"': 8, 'Bathroom Accessories': 8, 'Diwan Sets': 8, 'Holi Essentials': 7, 'Tennis': 7, 'Cups & Saucers': 7, 'Italian Fashion Wrist Watches': 7, 'Casual Shoes\"': 7, 'Bedsheets\"': 7, 'Portable Laptop Tables': 7, 'Exotic India Showpieces\"': 7, 'Table Runners\"': 7, 'Bath and Spa Accessories': 7, 'Soaps': 6, 'Inflatable Products': 6, 'Makeup Accessories': 6, 'Table Lamps': 6, 'Office Supplies Accessories': 6, 'Adaa Showpieces\"': 6, 'Showpiece': 6, 'INAYA Yellow Gold NAK Brass Pendant Set\"': 6, 'Pillows\"': 6, 'Kool Kidz Wrist Watches\"': 6, 'Rucksacks': 6, 'Bath Mats': 6, 'OTG Adapters': 6, 'School Bags': 6, 'Art & Craft': 6, 'Bar Accessories': 6, 'Nappies & Cloth Diapers': 6, 'Petrol Wrist Watches\"': 6, 'Badges': 6, 'Medical Equipment & Accessories': 6, 'Laptop Bags': 5, 'Processors': 5, 'Only Kidz Wrist Watches\"': 5, 'Fluid Wrist Watches\"': 5, 'Parinaaz Alloy Mangalsutra\"': 5, 'Golf': 5, 'Swimming': 5, 'Skmei Wrist Watches\"': 5, 'Gramophones': 5, 'United Pressure Cookers & Pans': 5, 'Nails': 5, 'Now Wrist Watches\"': 5, 'Wrist Bands': 5, 'Power Banks': 5, 'Video Accessories': 5, 'Bath Mats\"': 5, 'LUBA Wrist Watches\"': 5, 'StyleStuffs Coffee Mugs': 5, 'Utensils': 5, 'Home Theaters': 5, 'Badminton': 5, 'Combo Sets': 5, 'Franck Bella Wrist Watches\"': 5, 'Disney Wrist Watches\"': 5, 'Fengshui': 5, 'Glasses & Tumblers': 5, 'Umbrellas': 5, 'Rajesh Digital Coffee Mugs\"': 5, 'Boots': 4, 'Wallpapers': 4, 'Tableware': 4, 'Shankh': 4, 'Anti Dust Plugs': 4, 'Scheffer\\'s Wrist Watches\"': 4, 'Sofa Beds & Futons': 4, 'Lamex Wrist Watches\"': 4, 'Physics': 4, 'NEHP Showpieces\"': 4, 'CB Fashion Wrist Watches\"': 4, 'Cables & Adapters': 4, 'Board Games': 4, 'Calendars': 4, 'Amscan Track & Field\"': 4, 'Eyes': 4, 'Comfort Toys\"': 4, 'Marwar Showpieces\"': 4, 'Totes': 4, 'TOMAFO Ride Ons': 4, 'Shopmania Coffee Mugs': 4, 'Keyboards': 4, 'Ona\\'S Showpieces\"': 4, 'ESIDON Wrist Watches': 4, 'palito Wrist Watches': 4, 'Key Holders': 4, 'Table Tennis': 4, 'Neo Classic Wrist Watches\"': 4, 'Language Learning': 4, 'Vizion Wrist Watches\"': 4, 'Shavers': 4, 'Kitchen Surface Cleaners': 4, 'Urban Diseno Suspenders': 4, 'Home Cleaning': 4, 'Ballerinas\"': 4, 'Medical': 4, 'Mixer/juicer/grinders': 4, 'Shoe Racks': 4, 'SVM Wrist Watches\"': 4, 'Unravel India Showpieces\"': 4, 'Disney Action Figures': 4, 'Zevrr Sterling Silver Swarovski Zirconia Platinu...\"': 4, 'Baby Body Wash': 3, 'Greeting Cards': 3, 'Sanaa Creations Alloy Ring\"': 3, 'Desire Wrist Watches': 3, 'Daycraft Office Supplies\"': 3, 'Carlos Wrist Watches': 3, 'Coin Banks': 3, 'Clairefontaine Office Supplies\"': 3, 'Lightings': 3, 'Beds': 3, 'Global Nomad Wrist Watches\"': 3, 'Prestige Pressure Cookers & Pans\"': 3, 'Indigocart Showpieces\"': 3, 'Dining Tables, Chairs & Sets': 3, 'Baking Dishes & Pans': 3, 'Eccellente Suspenders\"': 3, 'Logues Wrist Watches\"': 3, 'Biometric Devices': 3, 'Planners & Organisers': 3, 'Coasters': 3, 'MA Design Hut Showpieces\"': 3, 'Ridas Wrist Watches\"': 3, 'Choppers & Peelers': 3, 'Kids Storage': 3, 'SF by Sonata Wrist Watches\"': 3, 'Mobile Cables': 3, 'Rasav Jewels Yellow Gold Diamond 18 K Ring\"': 3, 'Notebooks': 3, 'Sports Shoes\"': 3, 'Kitchen Racks & Trolleys': 3, 'Tucasa Office Supplies': 3, 'Eaglemoss Publications Action Figures': 3, 'Perfumes': 3, 'Modishera Suspenders': 3, 'Home Audio': 3, 'Modishera Suspenders\"': 3, 'Medicines & Treatment': 3, 'Bibs & Hankies': 3, 'Containers & Jars': 3, 'Water Bottles': 3, 'Frabjous Sterling Silver Toe Ring Set\"': 3, 'Aprons': 3, 'Hookah & Hookah Flavors': 3, 'Q&Q Wrist Watches\"': 3, 'Sitaram Wrist Watches': 3, 'Irons': 3, 'Omax Wrist Watches\"': 3, 'Pen Drives': 3, 'Sentinel Action Figures': 3, 'Takspin casual & stylish matte finish clutcher( ...\"': 2, 'Lenco Wrist Watches\"': 2, 'DICE Wrist Watches': 2, 'Fridge Magnets': 2, 'Wild Republic Action Figures': 2, 'Religions': 2, 'Food Makers': 2, 'Jugs & Pitchers': 2, 'Measuring & Layout Tools': 2, 'Fabrics': 2, 'Figo Fashion Wrist Watches\"': 2, 'Rich Club Wrist Watches\"': 2, 'Bento Musical Instruments & Toys': 2, 'Lamex Timewear Wrist Watches\"': 2, 'Bathroom Fixtures': 2, 'SwissFire Wrist Watches\"': 2, 'HP Laptops\"': 2, 'Gungun Toys Soft Toys\"': 2, 'Screen Guards': 2, 'Chappin & Nellson Wrist Watches\"': 2, 'Motherboards': 2, 'Selfie Sticks': 2, 'Home Security Cameras': 2, 'A Avon Wrist Watches\"': 2, 'Felix Wrist Watches\"': 2, 'JMD Printed Cushions Cover (Pack of 2, 40 cm*40 ...\"': 2, 'JewelFox Gold Tanmaniya\"': 2, 'Wall Photo Frames': 2, 'Mobile Phone Lens': 2, 'Trimmers': 2, 'Ceiling Lamps': 2, 'Mousepads': 2, 'Swag Wrist Watches\"': 2, 'Table Placemats': 2, 'Alternate Energy': 2, 'Siyas Collection Lac Cubic Zirconia Bangle Set (...\"': 2, 'Rorlig Wrist Watches\"': 2, 'Sewing Machines': 2, 'Sketch & Paint Markers': 2, 'Football': 2, 'Bottles & Shakers': 2, 'Sports Sandals\"': 2, 'Aapno Rajasthan Showpieces\"': 2, 'Hand Blenders': 2, 'Nendoroid Action Figures': 2, 'Cutlery': 2, 'Shampoos': 2, 'Craftter Office Supplies\"': 2, 'Pencils, Pen & Pencil Boxes': 2, 'Coasters\"': 2, 'Smart Picks Cars, Trains & Bikes': 2, 'Ted Smith Full Rim Wayfarer Frame (52 mm)\"': 2, 'Ekku Soft Toys\"': 2, 'Playhood Outdoor Toys': 2, 'Lids': 2, 'Outdoor & Cafeteria Chairs': 2, 'Wall Lamps': 2, 'Body and Skin Accessories': 2, 'Cushions': 2, 'Car Care': 2, 'VIVIANA Combos and Kits': 2, 'Alfajr Wrist Watches\"': 2, 'Balloons & Decoration': 2, 'Rastogi Handicrafts Showpieces\"': 2, 'Villcart Showpieces\"': 2, 'Jug, Glass & Tray Sets': 2, 'Zoop Wrist Watches\"': 2, 'Skin & Coat Care': 2, 'Blankets, Quilts & Dohars': 2, 'Parv Collections Showpieces\"': 2, 'Returnfavors Coffee Mugs\"': 2, 'Habitat Essentials': 2, 'Refrigerators': 2, 'Journals': 2, 'Manirathnum Manirathnum Black Star Gemstone Silv...\"': 2, 'College Bags': 2, 'Vase Fillers': 2, 'Wisdom Wrist Watches': 2, 'Kids Tables & Seating': 2, 'Colat Wrist Watches\"': 2, 'Table Placemats\"': 2, 'Silvesto India Stone Pendant\"': 2, 'Ted Smith Full Rim Wayfarer Frame (53 mm)\"': 2, 'Orange Tree Showpieces\"': 2, 'Redbag Showpieces\"': 2, 'Malhar Showpieces\"': 2, 'The Crystal Jewel Showpieces\"': 2, 'Baby Mosquito Nets': 2, 'Blocks & Building Sets': 2, 'Bowls': 2, 'Rochees Wrist Watches\"': 2, 'Aagam Coffee Mugs': 2, 'Mouse': 2, 'Unique Design Showpieces\"': 2, 'Pens & Notebooks': 2, 'Sir Time Wrist Watches\"': 2, 'VINSON LONDON Full Rim Oval Frame (53 mm)\"': 2, 'Titan Wrist Watches\"': 2, 'Manirathnum Pearl Gemstone Silver Ring Sterling ...\"': 2, 'Travel Accessories': 2, 'Art & Craft Toys': 2, 'Styling & Maintenance': 2, 'Table Linen Sets': 2, 'Campap Office Supplies\"': 2, 'Protein Supplements': 2, 'Lens Adapters': 2, 'AdraxX Remote Control Toys\"': 2, 'Spatulas & Ladles': 2, 'Wild Ferns Eye Care\"': 2, 'Takspin casual & stylish collection of clutcher ...\"': 2, 'Anti Radiation Stickers & Chips': 2, 'Vaping Devices': 2, 'Manirathnum Manirathnum Tourquise Original Gemst...\"': 1, 'Baby Shower Caps': 1, \"RAA Kids' Clothing\": 1, 'Dressing Tables': 1, 'Puja Mandir & Temple': 1, 'Gift Island Showpieces\"': 1, 'Diaper Bags': 1, 'Jacques Farel Wrist Watches\"': 1, 'Hockey': 1, 'Jack Klein Wrist Watches\"': 1, 'Power Tools': 1, 'Blizzard Entertainment Action Figures': 1, 'Cobra Paris Wrist Watches\"': 1, 'Vedic Deals Showpieces\"': 1, 'Manirathnum Manirathnum silver Gemstone Silver R...\"': 1, 'Tuelip Art Superfine Nib Sketch Pens (Set of 2, ...\"': 1, 'Predator Action Figures': 1, 'Britex Wrist Watches': 1, 'Mechanical Pencils': 1, 'Garden Stakes': 1, 'Shubham Exports Showpieces\"': 1, 'Johhny Cash Action Figures': 1, 'Water Purifier Bottles': 1, 'knp enterprise Audi Style Alloy Mangalsutra\"': 1, 'Sunrise Showpieces\"': 1, 'Slice of Bengal Showpieces\"': 1, 'Fimex Wrist Watches': 1, 'FNB Wrist Watches': 1, 'diwine jewels Silver Zircon Rhodium NA K Ring\"': 1, 'Rockstar Wrist Watches\"': 1, 'Shampoo': 1, 'Ted Smith Full Rim Wayfarer Frame (56 mm)\"': 1, 'Gehna Yellow Gold Zircon Silver Pendant\"': 1, 'Bags': 1, 'Fogg Fashion Store Wrist Watches\"': 1, 'Maserati Time Wrist Watches\"': 1, 'Hammocks & Swings': 1, 'Green House Religion & Devotion\"': 1, 'Kripa\\'s Printed Cushions Cover (Pack of 2, 45 cm...\"': 1, 'SIM Adapters': 1, 'CALTRIX Calculators': 1, 'Doctor Who Action Figures': 1, 'Amantran Jewels Om shaped Silver Zircon Sterling...\"': 1, 'Silverlit Remote Control Toys\"': 1, 'Strollers & Prams': 1, 'Vacuum Cleaners': 1, 'Manirathnum Blue Topaz Gemstone Silver Ring Ster...\"': 1, 'Imported Combos and Kits': 1, 'Electric Jug(heater)/Travel Kettles': 1, 'Mars Combos and Kits': 1, 'Hair Styling': 1, 'Golmaalshop Showpieces\"': 1, 'Scissors': 1, 'Boreal Baby Grooming': 1, 'North Moon Wrist Watches\"': 1, 'eCraftIndia Showpieces\"': 1, 'Flashes': 1, 'Supports': 1, 'MP4 / Video MP3 Players': 1, 'Orchard Showpieces\"': 1, 'Packaging Security Bags': 1, 'Pepup Track & Field\"': 1, 'Swayambhu Showpieces\"': 1, 'brass gift center Religion & Devotion': 1, 'Stol\\'n Wrist Watches\"': 1, 'Appliance Covers': 1, 'Eshoppee Showpieces\"': 1, 'Water Fountains': 1, 'Silvesto India Stone Pearl Silver Ring\"': 1, 'RREnterprizes Musical Instruments & Toys': 1, 'Positif Wrist Watches\"': 1, 'Siri Creations Showpieces\"': 1, 'Malabar Gold and Diamonds HBDAAAABLZJM Gold Ruby...\"': 1, 'fastrack Wrist Watches\"': 1, 'Jewlook Men\\'s Clothing\"': 1, 'Storm Track & Field\"': 1, 'Changing Tables': 1, 'Bharatcraft Showpiece': 1, 'Playboy Wrist Watches\"': 1, \"Zaffre's Living Room Furnishing\": 1, 'Pindia Showpieces\"': 1, 'Jazma Wrist Watches\"': 1, 'Boards & Dusters': 1, 'Forex Wrist Watches\"': 1, 'Intex Outdoor Toys': 1, 'Hala Wrist Watches\"': 1, 'Ceiling Lights': 1, 'ABCD XL Bean Bag  With Foam Filling (Orange)\"': 1, 'Calibro Wrist Watches\"': 1, 'Kitchen Knives': 1, 'D\\'SIGNER Wrist Watches\"': 1, 'Great Eastern Action Figures': 1, 'Maisto Remote Control Toys\"': 1, 'Prachin Showpieces\"': 1, 'posterchacha Coffee Mugs': 1, 'DIY Learning & Educational Toys': 1, 'Laundry': 1, 'H2O Plus Eye Care\"': 1, 'Law': 1, 'Brunte Remote Control Toys\"': 1, 'Magideal Raincoat for Dog (Black)\"': 1, 'Combo & kits': 1, 'Cushions\"': 1, 'Cufflinks & Tie Pins': 1, 'TV-Out Cable': 1, 'INDILEGO Women Flats\"': 1, \"fourgee Women's Clothing\": 1, 'Shoppingekart Wrist Watches\"': 1, 'Nitra Living Room Furnishing': 1, 'Brillare Science Combos and Kits': 1, 'Vencer Stella Wrist Watches\"': 1, 'Shoperite Office Supplies\"': 1, 'Lowe Alpine Luggage & Travel': 1, 'Carrom': 1, 'Camera Lenses': 1, 'Running': 1, 'Olvin Wrist Watches\"': 1, 'Baby Mats': 1, 'Wine Racks': 1, 'Hair Straighteners': 1, 'Tomafo Cars, Trains & Bikes': 1, 'Paint Brushes': 1, 'Shop4everything Cars, Trains & Bikes': 1, 'Tidy Printed Cushions Cover (Pack of 9, 50 cm*50...\"': 1, 'Sofas & Sectionals': 1, 'HuppmeGift Coffee Mugs': 1, 'Audio Player Accessories': 1, 'Petto Raincoat for Dog, Cat (Grey, Green)\"': 1, 'Microwave Ovens': 1, 'RosesNRibbons Rhodium Garnet, Amethyst, Citrine,...\"': 1, 'Nikko Remote Control Toys\"': 1, 'Baby Sleeping Bags': 1, 'Bluetooth Headphones (With Mic)': 1, \"Victoria's Secret Combos and Kits\": 1, 'Chinhhari Arts Showpieces\"': 1, 'Wishkey Learning & Educational Toys': 1, 'Abhushan Showpieces\"': 1, 'Aftershave': 1, 'Fighter Wrist Watches\"': 1, 'Kirati Flower Design 14K Yellow Gold Garnet, Cub...\"': 1, 'Escort Wrist Watches\"': 1, 'Taaza Garam Remote Control Toys\"': 1, 'TV & Entertainment Units': 1, 'Hair Treatments': 1, 'Ultra Pressure Cookers & Pans\"': 1, 'Beyblade Action Figures': 1, 'fourgee Slim Fit Boy\\'s Blue Jeans\"': 1, 'Gifts & Arts Remote Control Toys\"': 1, 'Stones & Pebbles': 1, 'Lois Caron Wrist Watches\"': 1, 'Creativity Centre Showpieces\"': 1, 'Dilan Jewels Alloy Crystal 18K Yellow Gold Bangl...\"': 1, 'Cosmetic Bags': 1, 'Right Florist Showpieces\"': 1, 'Paras Showpieces\"': 1, 'Timex Wrist Watches\"': 1, 'Sonpra Men\\'s Mid-calf Length Socks\"': 1, 'Pastry Brushes': 1, 'Portable Projectors': 1, 'Manirathnum Ruby Gemstone Silver Ring Sterling S...\"': 1, 'A R ENTERPRISES Musical Instruments & Toys': 1, 'Sale Funda Wrist Watches\"': 1, 'Curren Nx Wrist Watches': 1, 'Precious Articles': 1, 'Chrome Showpieces\"': 1, 'Decon Alloy Mangalsutra\"': 1, 'Food': 1, 'Mera Toy Shop Remote Control Toys\"': 1, 'Boxing': 1, 'Woodino Handicrafts Showpieces\"': 1, 'Swisstyle Wrist Watches\"': 1, 'Kitchen Tool Sets': 1, 'Oxter Wrist Watches\"': 1, 'Manirathnum Star Diopside Gemstone Gemstone Silv...\"': 1, 'Clovia Women\\'s T-Shirt Bra\"': 1, 'Wink Showpieces\"': 1, 'Unique Handicrafts Showpieces\"': 1, 'Yves Bertelin Wrist Watches': 1, 'Wishkey Action Figures': 1, 'Mosquito Killers': 1, 'Adino Wrist Watches': 1, 'Camerii Wrist Watches\"': 1, 'fabwoods Rimless Square Frame (54 mm)\"': 1, 'Romex Wrist Watches\"': 1, 'Syma Remote Control Toys\"': 1, 'Disney Soft Toys\"': 1, 'RAMs': 1, 'Humanities': 1, 'XQ Remote Control Toys\"': 1, 'Lavish Blink Full Rim Rectangle Frame (54 mm)\"': 1, 'G&G Coffee Mugs': 1, 'Rangoli Stencils': 1, 'piftif Women\\'s Sports Bra\"': 1, 'walletsnbags Suspenders': 1, 'Lotus Toy Guns & Weapons': 1, 'Classmate Office Supplies\"': 1, 'C Kreul Fabric Color Bottle (Set of 1, Sahara)\"': 1, 'RosesNRibbons Rhodium Sterling Silver\"': 1, 'Health Care Accessories': 1, 'Manirathnum Manirathnum Garnet & Peridot Gemston...\"': 1, 'Taraash Sterling Silver Jewel Set (Multicolor)\"': 1, 'Hasbro Action Figures': 1, 'Computer Tables': 1, 'Aamore Decor Showpieces\"': 1, 'Timebre Wrist Watches\"': 1, 'Besto Wearable Accessories': 1, \"Viral Girl Women's Clothing\": 1, 'Indidecor Learning & Educational Toys': 1, 'Prism Remote Control Toys\"': 1, 'Wire, Joints & Connectors': 1, 'Charging Pads': 1, 'Smiledrive Soft Toys\"': 1, 'Timer Wrist Watches\"': 1, 'R.S Wrist Watches\"': 1, 'Johareez Beautiful Black Silver NAK Spinel Sterl...\"': 1, 'Cleaning Kits': 1, 'Automotive Combo\"': 1, 'Addyz Garment Covers\"': 1, 'Storage Baskets': 1, 'Pittsburgh Polo Club Wrist Watches': 1, 'Affinity Jewellers Just like diamonds Cubic Zirc...\"': 1, 'X-Plus Action Figures': 1, 'Kits': 1, 'Utilities': 1, 'Wise Pebble Stylish Alloy Anklet\"': 1, 'Pout Brass Bangle\"': 1, 'Takspin casual collection of clutcher & hair pin...\"': 1, 'REMSON INDIA Women Flats\"': 1, \"TIMBERLAKE Women's Clothing\": 1, 'Shop & Shoppee Musical Instruments & Toys': 1, 'Baby Mattresses': 1, 'Geonaute Wrist Watches\"': 1, 'Decorations': 1, 'Designwallas Office Supplies\"': 1, 'Strength': 1, 'Dimpy Stuff Soft Toys\"': 1, 'Quartz Wearable Accessories\"': 1, 'MK Teddy Soft Toys\"': 1, 'The Crafts House Showpieces\"': 1, 'Curtain Accessories\"': 1, 'Follow Me Wrist Watches\"': 1, 'Toyhouse Remote Control Toys\"': 1, 'Happiness Is Coffee Mugs': 1, 'Shaving Creams, Foams, and Gels': 1, 'Fun Box Musical Instruments & Toys': 1, 'Cotton Buds': 1, 'Swarnim Jewellers Showpieces\"': 1, 'Estilo Wrist Watches\"': 1, 'Public Address Systems': 1, 'I SQUARE ENTERPRISES Learning & Educational Toys': 1, 'The Loyal Subjects Action Figures': 1, 'sovam Checkered Cushions Cover (Pack of 5, 32 cm...\"': 1, 'Ninety One Degree Showpieces\"': 1, 'Klaus Kobec Wrist Watches\"': 1, 'Naaz Puzzles & Board Games': 1, 'Manirathnum Green Onyx Gemstone Silver Ring Ster...\"': 1, 'Elite Neckties Men\\'s Clothing\"': 1, 'PIEXIM Wrist Watches': 1, 'Shoe Care': 1, 'Body': 1, 'Kakori Showpieces\"': 1, 'happy deals Action Figures': 1, 'Duvet Covers': 1, 'Naaz The Young Scientist for kids Board Game\"': 1, 'Stylisda Wrist Watches\"': 1, 'Minuut Wrist Watches\"': 1, 'Manirathnum Manirathnum Hematite Gemstone Silver...\"': 1, \"Starsy Women's Clothing\": 1, 'Lushomes Living Room Furnishing': 1, 'Tom and Jerry Action Figures': 1, 'Decon Metal Mangalsutra\"': 1, 'RosesNRibbons Rhodium Garnet Sterling Silver\"': 1, 'Villcart Religion & Devotion\"': 1, 'Armlets': 1, 'Firstrace Wrist Watches\"': 1, 'Animal Figurines': 1, 'Marami Soft Toys': 1, 'Tyres': 1, 'Induction Cooktops': 1, 'ARIHANT Bed Linen': 1, 'R S Jewels Showpieces\"': 1, 'WOAP Alloy Jewel Set (Blue)\"': 1, 'Omen Wrist Watches': 1, 'Port Showpieces\"': 1, 'Bottles & Accessories': 1, 'Onlineshoppee Showpieces\"': 1, 'Xemex Wrist Watches\"': 1, 'Tokidoki Action Figures': 1, 'Notepads': 1, 'Jaycoknit Religion & Devotion': 1, 'Surbhi Soft Toys\"': 1, 'RajLaxmi Showpieces\"': 1, 'Volleyball': 1, 'T STAR Wrist Watches\"': 1, 'Mavi Showpieces\"': 1, 'TAG Heuer Wrist Watches\"': 1, 'SIHRA Musical Instruments & Toys': 1, 'Makeup Kits': 1, 'AM Creation Coffee Mugs': 1, 'Manirathnum Manirathnum Garnet Gemstone Silver R...\"': 1, 'Karigaari Showpieces\"': 1, 'Texus Wrist Watches': 1, 'Home Utilities': 1, 'Anuradha Art ZBF-263 Hair Clip (Blue)\"': 1, 'Kms Wrist Watches\"': 1, 'Pool': 1, 'Jaipur Raga Showpieces\"': 1, 'Contact Lenses': 1, 'Table Clocks': 1, 'Riddhi Siddhi Role Play Toys': 1, 'Chowkis': 1, 'Babytintin Ride Ons': 1, 'Baby Oral Care': 1, 'Elantra Wrist Watches\"': 1, 'Camera Mounts': 1, 'TaraProjects Showpieces\"': 1, 'Breitling Wrist Watches\"': 1, 'Aries Gold Wrist Watches\"': 1, 'HPD Wrist Watches\"': 1, 'Jack klein Wrist Watches\"': 1, 'Four Paws Sweats for Cat, Dog (Purple)\"': 1, 'GEMKOLABWELL Learning & Educational Toys': 1, 'Insect Repellents': 1, 'Lanyards': 1, 'KALYANI COVERING Brass, Copper, Crystal Jewel Se...\"': 1, 'Sixthsense Showpieces\"': 1, 'Casela Wrist Watches\"': 1, 'Purpledip Showpieces\"': 1, 'MUCHMORE Alloy Jewel Set (Pink)\"': 1, 'Swiss Trend Wrist Watches\"': 1, 'Hourglass Wrist Watches\"': 1, 'Gas Cylinder Trolleys': 1, 'Baby Massage Oils': 1, 'Watch Boxes': 1, 'Towels': 1, 'Power Supply Units': 1, 'Zoya-JQ Wrist Watches\"': 1, 'Safari Ltd. Action Figures': 1, 'Rana Watches Wrist Watches\"': 1, 'Outdoor Kids Seating': 1, 'Bless Religion & Devotion\"': 1, 'Sanaa Creations Alloy\"': 1, 'Discovery Toys Action Figures': 1, 'D\\'Signer Wrist Watches\"': 1, 'Firangi Floor Coverings': 1, 'Festive Gift Boxes': 1, 'Tabu Learning & Educational Toys': 1, 'Piedpaper Office Supplies\"': 1, 'Invaders Wrist Watches': 1, 'Like Wrist Watches\"': 1, 'Eleganzza Wrist Watches\"': 1, 'Velvetcase Smoky Quartz Textured Earrings Quartz...\"': 1, 'Fitness Bags': 1, 'Mobile Holders': 1, 'Costa Swiss Wrist Watches\"': 1, 'classyworld Brass Cufflink (Silver-01)\"': 1, 'Gaming Speakers': 1, 'Chickraft Wood Bangle\"': 1, 'Baby Powder': 1, 'Twisha Soft Toys\"': 1, '3wish Wrist Watches\"': 1, 'Palakz Printed Foldable Storage Stool (Multicolor)\"': 1, 'VASTUGHAR 5 Mukhi Rudraksha Wood\"': 1, 'SJ Learning & Educational Toys': 1, 'Stools & Ladders': 1, 'Home Organizers & Storage': 1, 'BeYOUtiful Showpieces\"': 1, 'ZEVA Coffee Mugs': 1, 'Incense Sticks & Holders': 1, 'Floor Lamp': 1, 'You2Deal Showpieces\"': 1, 'Moulin Roty Action Figures': 1, 'RKDEAL Ride Ons': 1, 'RRTC Wrist Watches\"': 1, 'V9 Wrist Watches': 1, 'V-Luma Wrist Watches': 1, 'Circuit Breaker': 1, 'DC Universe Action Figures': 1, 'Vermello Belts': 1, 'Manirathnum Smoky Quartz Gemstone Silver Ring St...\"': 1, 'Hawkins Pressure Cookers & Pans\"': 1, 'Bento Role Play Toys': 1, 'Display Units\"': 1, 'Baby Grooming Combos': 1, 'Yijun Wind Spinner Toys\"': 1, 'Malabar Gold and Diamonds HBDAAAABLZLD Gold Emer...\"': 1, 'Home India Showpieces\"': 1, 'Steamers & Idli Makers': 1, 'Gesture Wrist Watches\"': 1, 'Airwind Musical Instruments & Toys': 1, 'Casserole & Sets': 1, 'Value Bay Coffee Mugs': 1, 'Britex Wrist Watches\"': 1, 'Parth Collection Learning & Educational Toys': 1, 'Posto Men\\'s Clothing\"': 1, 'Fitness Bands': 1, 'Archi Collection Alloy Jewel Set (White)\"': 1, 'the jewelbox Cufflinks': 1, 'Navaksha Suspenders\"': 1, 'Ligans NY Belts': 1, 'Dinoimpex Remote Control Toys\"': 1, 'METMO Slippers\"': 1, 'Craft Store India Showpieces\"': 1, 'Zotalic Showpieces\"': 1, 'YELLOW CHIMES Butterfly Fairy Alloy\"': 1, 'Dinoimpex Musical Instruments & Toys': 1, 'Door & Windows Fittings': 1, 'Manirathnum Mix Gemstone Gemstone Silver Ring St...\"': 1, 'Relish Wrist Watches\"': 1, 'Handecor Showpieces\"': 1, 'Unravel india Showpieces\"': 1, 'Geneva Wrist Watches\"': 1, 'Yepme Wrist Watches\"': 1, \"Sivanna Men's Grooming\": 1, 'Srushti Art Jewelry Wrist Watches\"': 1, 'Sandwich & Roti Makers': 1, \"DOLZ Women's Clothing\": 1, 'Voltage Stabilizers': 1, 'Dupli Color Spray Paint Bottle (Set of 1, Signal...\"': 1, 'Screen Expander For Phones': 1, 'Bean Bag Covers\"': 1, 'Calico Critters Action Figures': 1, 'Dyna Mobile Accessories\"': 1, 'Wallets': 1, 'Cartier Wrist Watches\"': 1, 'Krown Audio Players\"': 1, 'Varun Pressure Cookers & Pans\"': 1, 'Aimedu Toy Learning & Educational Toys': 1, 'Avon Combos and Kits': 1, \"Clovia Women's Clothing\": 1, 'Explore Embedded Learning & Educational Toys': 1, 'Marvel Wrist Watches\"': 1, 'CPU': 1, 'Menstrual Cups': 1, 'VK Jewels Reticular Heart Rhodium Cubic Zirconia...\"': 1, 'Mobile Displays': 1, 'Spin Master Magic Kits': 1, 'Iwonder Office Supplies\"': 1, 'Spangel Fashion Audi Style Alloy Mangalsutra\"': 1, 'GoMerryKids Musical Instruments & Toys': 1, 'Apkamart Showpieces\"': 1, 'Classic Themes Remote Control Toys\"': 1, 'Murtiwala Showpieces\"': 1, 'ULTRAVISION Full Rim Round Frame (51 mm)\"': 1}\n",
            "900\n"
          ],
          "name": "stdout"
        },
        {
          "output_type": "execute_result",
          "data": {
            "text/plain": [
              "1457"
            ]
          },
          "metadata": {
            "tags": []
          },
          "execution_count": 12
        }
      ]
    },
    {
      "cell_type": "markdown",
      "metadata": {
        "id": "xbu-y6DJ2zXb"
      },
      "source": [
        "Category level 3 contains 900 labels and about 1457 \"None\" values"
      ]
    },
    {
      "cell_type": "code",
      "metadata": {
        "colab": {
          "base_uri": "https://localhost:8080/"
        },
        "id": "Zq50b-zgqqxK",
        "outputId": "f174595f-b581-4976-9f0b-67871ce112f2"
      },
      "source": [
        "print(data['cat_level_4'].value_counts().to_dict())\n",
        "print(len(data['cat_level_4'].value_counts()))\n",
        "len(data[data['cat_level_4']=='None'])"
      ],
      "execution_count": 13,
      "outputs": [
        {
          "output_type": "stream",
          "text": [
            "{'None': 5875, 'Shirts, Tops & Tunics': 1248, 'Bras': 1036, 'Car Interior': 659, 'Dresses & Skirts': 620, 'Combos': 375, 'Plant Containers & Sets': 333, 'TheLostPuppy Cases & Covers\"': 229, 'Leggings & Jeggings': 209, 'Kurtas & Kurtis': 202, 'DailyObjects Cases & Covers\"': 144, 'Numero Uno T-Shirts\"': 135, 'Formal Shirts': 128, 'Fabric': 122, 'Boots\"': 118, 'Casual & Party Wear Shirts': 106, 'Enthopia Cases & Covers\"': 101, 'Sweatshirts': 92, 'Ethnic Wear': 90, 'Woks & Kadhais': 89, 'Car Spare Parts': 88, 'Loafers\"': 87, 'Oviyon T-Shirts\"': 87, 'Pencil Boxes': 85, 'Okane T-Shirts\"': 82, 'Religious Idols': 80, 'Wallmantra Stickers\"': 75, 'Wall Clocks': 74, 'Sweaters': 71, 'DeStudio Wall Decals & Stickers\"': 71, 'Ties': 70, 'WallDesign Stickers\"': 65, 'Pizza Cutters': 61, 'Dungarees & Jumpsuits': 58, 'Polos & T-Shirts': 51, 'Nimya T-Shirts\"': 50, 'Baby Boys': 49, 'Innerwear & Sleepwear': 47, 'Car Mobile Accessories': 46, 'Northern Lights T-Shirts\"': 46, 'Camisoles & Slips': 45, 'Ocean Race T-Shirts\"': 44, 'Nucode T-Shirts\"': 44, 'Jeans & Shorts': 43, 'Winter & Seasonal Wear': 43, 'Theskinmantra Cases & Covers\"': 43, 'JJC Lens Hoods\"': 41, 'Sarees': 40, 'Jackets': 40, 'Sunscreen': 40, 'Night Dresses & Nighties': 37, 'Mobile Holders': 37, 'PRINT SHAPES Computer Accessories Combos': 36, 'Combo Sets': 36, 'Jeans': 36, 'Fuson Cases & Covers\"': 34, 'Shrugs & Jackets': 33, 'Ethnic Sets': 33, 'Lal Haveli Ethnic\"': 33, 'Trousers & Capris': 33, 'Tootpado Punches & Punching Machines\"': 32, 'Lapguard Batteries\"': 31, 'Human Figurines': 31, 'Pyjamas & Lounge Pants': 30, 'Shorts': 30, 'Candy House T-Shirts': 30, 'Switches & Dimmers\"': 29, 'Panties': 29, 'Orange and Orchid T-Shirts\"': 28, 'Elite Collection Stickers\"': 28, 'Caps': 28, 'Tenda Routers\"': 28, 'Ethnic Bottoms': 28, 'Track Pants': 27, 'School Shoes': 27, 'Digilight Series Lights\"': 27, 'Car & Bike Covers': 27, 'T-Shirts & Tops': 27, 'Blazers': 27, 'BasketBalls': 26, 'Smartpro Adapters': 26, 'BMS Lifestyle Cases & Covers\"': 26, 'GAGA Paintings': 25, 'Shirts': 25, 'Wall Chargers': 25, 'Disney Geometry & Pencil Boxes\"': 25, 'Water bottle': 24, 'Sports Wear': 24, 'Sports Shoes': 23, 'Vests': 23, 'Bike Spare Parts': 23, 'Ninja Turtles T-Shirts\"': 22, 'TP-LINK Routers\"': 22, 'Shorts & Trousers': 22, 'Asus Routers\"': 21, '999store Stickers\"': 21, 'Thelostpuppy Cases & Covers\"': 21, 'Loafers': 21, 'Socks': 21, 'Kanu Cases & Covers\"': 20, 'Kurta Kurti': 20, 'Plant Seeds\"': 20, 'Bike Lighting': 20, 'Techone+ USB Gadgets\"': 20, 'Slippers & Flip Flops': 20, 'Reckler Jeans\"': 20, 'kits kart Mobile Pouches': 19, 'Nod\\'R T-Shirts\"': 19, 'i-KitPit Mobile Pouches\"': 19, 'Anuradha Art Silver Polished Brooch (Gold)\"': 18, 'Car Lighting': 18, 'Car Exterior': 18, 'Sports Bras': 18, 'Trousers & Cargos': 17, 'Shorts & 3/4ths': 17, 'CampusMall T-Shirts\"': 17, 'Provogue Jeans\"': 17, 'Bike Handle Grips': 16, 'Netgear Routers\"': 16, 'Manicure and Kits': 16, 'Nimbus T-Shirts\"': 15, 'Camping & Hiking Bags & Packs': 15, 'NEWGEN TECH Headphones (With Mic)': 15, 'Sandals': 15, 'Knotty Derby Casual Shoes\"': 15, 'eKolhapuri Flower Vase': 14, 'Baby Girls': 14, 'Safety Gear': 14, 'Rega IT Batteries\"': 14, 'Ninja Turtle T-Shirts\"': 14, 'Zoot24 Casual Shoes\"': 14, 'Creative Width Decor Wall Decals & Stickers\"': 14, 'Sweaters & Pullovers': 14, 'Cargos': 13, 'Lipsticks': 13, 'ortel Earphone Cable Organizers': 13, 'Sprays': 13, 'Faucet Sets': 13, 'Karta Geometry & Pencil Boxes\"': 13, 'Card Holders': 12, 'Nivia T-Shirts\"': 12, 'Bodysuits & Sleepsuits': 12, 'Arden Casual Shoes\"': 12, 'D-Link Routers\"': 12, 'Loomkart Multicolor Cotton Dhurrie (120 cm  X 18...\"': 12, 'Hoko Cases & Covers\"': 12, 'Nirvana T-Shirts\"': 12, 'Nourish Files and Folders': 12, 'Neo Gold Leaf Geometry & Pencil Boxes\"': 12, 'Hardware': 12, 'Akfoster Leggings & Jeggings\"': 12, 'Norwood T-Shirts\"': 12, 'Casual Shoes': 12, 'Goggles': 12, 'Oggo Deo Bellies\"': 12, 'Steering Covers\"': 12, 'United Bags Backpacks\"': 12, 'Briefs': 12, 'Katalogue Women Heels\"': 11, 'Screwdriver Bit Sets\"': 11, 'Klassik Geometry & Pencil Boxes\"': 11, 'Rock Cases & Covers\"': 11, 'MCB Exports Ethnic\"': 11, 'Rega IT Adapters\"': 11, 'kasemantra Cases & Covers\"': 11, 'Boxers': 11, 'Generix Cables': 11, 'One For Blue T-Shirts\"': 11, 'Fastway Cases & Covers\"': 11, 'Orange Plum T-Shirts\"': 11, 'Dress Materials': 11, 'Toners': 11, 'Lehenga Cholis': 11, 'Shortkut enterprises Speakers': 10, 'Arstoreindia Casual Shoes\"': 10, 'Kasemantra Cases & Covers\"': 10, 'Services Junction Contemporary': 10, 'Opiumstreet T-Shirts\"': 10, 'Hako Laptop Adapters': 10, 'HP Batteries\"': 10, 'Helmets & Locks': 10, 'Sovam International Ethnic\"': 10, 'Hookah & Hookah Flavours': 10, 'DECOREX Night Lamps': 10, 'Cricket Bats': 10, 'SHOPMANIA DESIGNER NOTEBOOK A5 Notebook Spiral B...\"': 10, 'Uber Urban Trousers\"': 9, 'ARB Batteries\"': 9, 'Shapewears': 9, 'Hair Accessories': 9, 'Neo Gold leaf Geometry & Pencil Boxes\"': 9, 'Police Jeans\"': 9, 'Hoopoe Decor Wall Decals & Stickers\"': 9, 'Offspring Baby Blankets\"': 9, 'Magic 22K Yellow Gold Plated Brass Chain\"': 9, 'Origin Thai T-Shirts\"': 9, 'Three Fourths': 9, 'JDK NOVELTY Hand Bags': 9, 'Nillkin Screen Protectors\"': 9, 'Aroma Oils': 9, 'Zyxel Routers\"': 9, 'Car Styling': 9, 'Tatvaarts Ethnic\"': 9, 'Pilot Roller Ball Pens\"': 8, 'Canvas': 8, 'Czds India Hand Bags': 8, 'Lip Balms': 8, 'Skates': 8, 'APS Cases & Covers\"': 8, 'Ovl T-Shirts\"': 8, 'Omtex T-Shirts\"': 8, 'Vehicle Covers': 8, 'Laviva Rakhi': 8, 'Outtaskin T-Shirts\"': 8, 'Ruchiworld Ethnic\"': 8, 'Belkin Routers\"': 8, 'Smart Wall Guru Wall Decals & Stickers': 8, 'Smartcraft Geometry & Pencil Boxes\"': 8, 'iBall Routers\"': 8, 'Salwar Kurta Dupattas': 8, 'Leather King Formal Shoes\"': 8, 'Starmark Geometry & Pencil Boxes\"': 8, 'Scarves & Stoles': 8, 'SHOPOJ Lanterns': 8, 'Adorn Women Heels\"': 7, 'RYTHMX FB NAIL POLISHES BLACK LIPSTICKS IMPORTAN...\"': 7, 'Wallmantra Paintings\"': 7, 'Icon Cases & Covers\"': 7, 'Car Audio & Video': 7, 'Casotec USB Gadgets\"': 7, 'Edimax Routers\"': 7, 'Provogue Casual Shoes\"': 7, 'Loofahs': 7, 'Aaina Home Decor Files and Folders': 7, 'Gravolite Mats': 7, 'Holi Combos': 7, 'Memore USB Gadgets\"': 7, 'Car Chargers': 7, 'Lingerie Sets': 7, 'Wrenches & Sets': 7, 'TRENDnet Routers\"': 7, 'Imbindass T-Shirts\"': 7, 'Cricket Balls': 7, 'Dresses': 7, 'Aardee Geometry & Pencil Boxes\"': 7, 'Suits': 6, 'O And O T-Shirts\"': 6, 'Sets': 6, 'Origin Sport T-Shirts\"': 6, 'Merchbay Vanity Boxes\"': 6, 'Goldencollections Vanity Boxes\"': 6, 'CASEDEAL Mobile Body Panels': 6, 'Balujas Sandals & Floaters': 6, 'Vitalwalls Paintings\"': 6, 'Thermals': 6, 'Omax Lens Hoods\"': 6, 'Tennis Balls': 6, 'RRP USB Gadgets\"': 6, 'Lapguard Adapters\"': 6, 'Unique Design Ethnic\"': 6, 'Mocassins': 6, 'Onn T-Shirts\"': 6, 'IDBC GLOBAL Hand Bags\"': 6, 'Ocean 9 T-Shirts\"': 6, 'www.thepaper.asia Geometry & Pencil Boxes\"': 6, 'Garden Sprayers': 6, 'Iconnect World USB Gadgets\"': 6, 'Style Buy Style Women Heels\"': 6, 'Backpack': 6, 'Pans & Tawas': 6, 'Jojo Cases & Covers\"': 6, 'Pinnakle Geometry & Pencil Boxes\"': 6, 'Dhiyaa Traders Key Chains': 6, 'Blouses': 6, 'Platignum Fountain Pens': 6, 'Cricket Gloves': 6, 'Fritzberg T-Shirts\"': 6, 'SNE Cases & Covers\"': 6, 'JBC Collection Bedsheets': 6, 'Wrangler T-Shirts\"': 6, 'MHK Cases & Covers\"': 6, 'Anuradha Art Silver Polished Brooch (Silver)\"': 6, 'Dupattas': 6, 'TUP Cases & Covers\"': 6, 'Zwart Backpacks\"': 6, 'Suits and Blazers': 5, 'Dilan Jewels Alloy Zircon 18K Yellow Gold Bangle...\"': 5, 'American Club Suitcases': 5, 'Ratash.Com Ethnic\"': 5, 'Orcel USB Gadgets\"': 5, 'Unique Designes Cases & Covers\"': 5, 'GAJ IMPEX Acrylic Bangle Set (Pack of 2)\"': 5, 'Shoprider Clutches': 5, 'SKI Lunch Boxes': 5, 'LAIBA Batteries': 5, 'Nuteez T-Shirts\"': 5, 'Potpourri': 5, 'Bootwale Bellies\"': 5, '4D Batteries\"': 5, 'Gloves': 5, 'Huawei Routers\"': 5, 'Netis Routers\"': 5, 'Blushes': 5, 'Officers Choice T-Shirts\"': 5, 'Nail Polishes': 5, 'Tootpado Geometry & Pencil Boxes\"': 5, 'First Choice Diwan Sets': 5, 'Baklol T-Shirts\"': 5, 'Linzina Clutches': 5, 'Brushes and Applicators': 5, 'Waistcoats': 5, 'Rejewel Alloy 18K Yellow Gold Bangle (Pack of 4)\"': 5, 'FRENEMY Mouse Pads': 5, 'Shree Homdecor Ethnic\"': 5, 'FIFO Combo Sets': 5, 'Numalo T-Shirts\"': 5, 'Chimp T-Shirts\"': 5, 'Lexel Cables': 5, 'Accessories': 5, 'snjmart Headphones': 5, 'Marwal Ethnic\"': 5, 'Rajo Raja Ethnic\"': 5, 'Police T-Shirts\"': 5, 'Pearstone Battery chargers\"': 5, 'Taj Pearl Alloy Cuff\"': 5, 'Yepme Formal Shoes\"': 5, 'Mufflers': 5, 'Harissons Backpacks': 5, 'Digimac Desk Organizers\"': 4, 'Tights': 4, 'Clincher Casual Shoes\"': 4, 'WEIDELI Backpacks': 4, 'FliFit Screen Protectors\"': 4, 'Nitlon T-Shirts\"': 4, 'JRB USB Gadgets': 4, 'Cricket Pads': 4, 'Benera Casual Shoes\"': 4, 'Bellazaara Geometry & Pencil Boxes\"': 4, 'Pilot Ball Pens\"': 4, 'SHOPOJ Women Bellies\"': 4, 'RCE Batteries\"': 4, 'Protector Screen Protectors': 4, 'TableTennis Racquets': 4, 'PINK FEVER Women Wedges\"': 4, 'Mats': 4, 'Diseases And Diagnosis': 4, 'Allen Solly Casual Shoes\"': 4, 'Anuradha Art Antique Golden Polished Brooch (Gold)\"': 4, 'Massagers': 4, 'Golf Balls': 4, 'Power Smart Battery chargers': 4, 'SayItLoud T-Shirts\"': 4, 'The House of Tara Backpacks': 4, 'Miracle Retail Artificial Plants': 4, 'Riding Gear': 4, 'Variation Diamond Flowers Brooch (White)\"': 4, 'Travel Document Holders': 4, 'Pantof Women Heels\"': 4, 'BFT Bulbs': 4, 'Paints': 4, 'Linksys Routers\"': 4, 'Outdazzle Designer Mustache for Men\\'s Suit, Jack...\"': 4, 'Urban Diseno Y- Back Suspenders for Men, Women (...\"': 4, 'Surface 180 Ethnic\"': 4, 'Remote Controllers': 4, 'Lushomes Cushion Covers': 4, 'Online Maniya T-Shirts\"': 4, 'Huetrap T-Shirts\"': 4, 'IndiWeaves Trousers': 4, 'Palakz Geometry & Pencil Boxes\"': 4, 'Pullovers': 4, 'Bandanas': 4, 'Allin Exporters Body and Essential Oils': 4, 'Smart Picks Geometry & Pencil Boxes\"': 4, 'Marvel Geometry & Pencil Boxes\"': 4, 'Edel Hand Bags': 4, 'HM International Geometry & Pencil Boxes\"': 4, 'The Intellect Bazaar Baby Bath Towels\"': 4, 'BaBylissPRO Hair Dryer Bonnet\"': 4, 'SYON Baby Bedsheets': 4, 'Water Bottles': 4, 'Edit One Geometry & Pencil Boxes\"': 4, 'Decore Sources Artificial Plants': 4, 'Intex Inflatable Products\"': 4, 'Vehicle Washing & Cleaning': 4, 'Happy walls Wall Decals & Stickers': 4, 'Jon Pep Slippers & Flip Flops': 4, 'FabHomeDecor Fabric Double Sofa Bed (Finish Colo...\"': 4, 'Apple Routers\"': 4, 'Nuclear\"': 4, 'Apaache Casual Shoes\"': 4, 'DEBOCK Screen Protectors': 4, 'Tapawire USB Gadgets\"': 4, 'giftsthatwow Bar Glasses': 4, 'Outshiny Geometry & Pencil Boxes\"': 4, 'Mod-Inn Women Wedges\"': 4, 'Track Tops': 4, 'Aviiq Cases & Covers\"': 4, 'AW Cables': 4, 'QP360 USB Gadgets\"': 4, 'T-Shirts': 4, 'Shower Curtains': 4, 'DGB USB Gadgets\"': 4, 'Wrogn T-Shirts\"': 4, 'IBS Plastic Portable Laptop Table (Finish Color ...\"': 4, 'Masks': 3, 'Tallenge Paintings\"': 3, 'Sonanjali OTG Adapters': 3, 'Doraemon Geometry & Pencil Boxes\"': 3, 'Indcrown Series Lights\"': 3, 'femitaly Women Bellies\"': 3, 'Ruchikainternational Ethnic\"': 3, 'Brahmz Table Lamps': 3, 'IBS ADJUSTABLE FOLDING KIDS MATE HOME OFFICE REA...\"': 3, 'Hako Batteries\"': 3, 'TOMAFO Car (Multicolour)\"': 3, 'Milton Bottles & Sippers\"': 3, 'Queen Steps Bellies\"': 3, 'Body Fat Analyzers': 3, 'BESTSUIT Cables': 3, 'Binatone Routers\"': 3, 'Shopat7 Geometry & Pencil Boxes\"': 3, 'Night Suits': 3, 'Reiki Crystal Products Fengshui': 3, 'Aroma Comfort Polyester Brown Self Design Eyelet...\"': 3, 'Soulful Threads Vanity Boxes': 3, 'Hitch Casual Shoes\"': 3, 'Serebroarts Decorative Platters\"': 3, 'Metro Series Lights\"': 3, 'Shirt Studs': 3, 'Kitchen Racks': 3, 'Gym Balls': 3, 'Ski Geometry & Pencil Boxes\"': 3, 'U United Backpacks': 3, 'Clairol Hair Colors': 3, 'Dong Yang Geometry & Pencil Boxes\"': 3, 'Shuttles': 3, 'Storite USB Gadgets\"': 3, 'Collapsible Wardrobes': 3, 'SAC Ethnic\"': 3, 'Furst Mobile Cables': 3, 'Wi-Bridge Routers\"': 3, 'Bibs': 3, 'KLIQVIK USB Gadgets\"': 3, 'First Aid': 3, 'LIFE LIKE Headphones': 3, 'Swimsuits': 3, 'Orico USB Gadgets\"': 3, 'Clovia Lingerie, Sleep & Swimwear': 3, 'My Party Suppliers Series Lights\"': 3, 'Accore Badges': 3, 'Art N Hub Photo Frames': 3, '@home Flower Vase': 3, 'ZOSIGN Sandals & Floaters': 3, 'Sippers': 3, 'Shopmania Happy Birthday Gift For Starting Lette...\"': 3, 'Cotonex Multicolor Cotton Kitchen Linen Set (Pac...\"': 3, 'Bigkik USB Gadgets\"': 3, 'dgold Beads Stone Necklace\"': 3, 'Karnavati Formal Shoes\"': 3, 'Designer': 3, 'Wolfpack T-Shirts\"': 3, 'NOMADIC Casual Shoes': 3, 'Corona Slippers & Flip Flops': 3, 'Marvel Baby Bath Towels\"': 3, 'Pick Pocket Sling Bags\"': 3, 'Osho Fashion Concepts T-Shirts\"': 3, 'Mydress Mystyle USB Gadgets\"': 3, 'Prime Printed 4 Seater Table Cover (Multicolor, ...\"': 3, 'President Backpacks\"': 3, 'Alicia Souza Badges': 3, 'Plant Seeds': 3, 'NITGEN Biometric Devices': 3, 'Sifty Collection Paintings': 3, 'ZarceeZ Formal Shoes\"': 3, 'Baking Dishes': 3, 'Kurtas': 3, 'Digisol Routers\"': 3, 'ALL DAY 365 Hand Bags': 3, 'KolorFish Cases & Covers\"': 3, 'Bar Set': 3, 'Thoughtroad Wall Decals & Stickers': 3, 'Hi-Fi Systems': 3, 'Action Shoes Slippers & Flip Flops': 3, 'Nikolas T-Shirts\"': 3, 'Babysid Collections Baby Blankets\"': 3, 'Ravishing Variety Ethnic\"': 3, 'Sticks': 3, 'FAB FASHION Women Wedges\"': 3, 'Feelit Formal Shoes\"': 3, 'ManeKo 1 Mobile Holder, 1 Anti Slip Mat Combo\"': 3, 'Pindia Anti Dust Plugs\"': 3, 'Wall1ders Wall Decals & Stickers\"': 3, 'Carabiners': 3, 'Get Glamr Casual Shoes\"': 3, 'Anuradha Art Chabi Challa Brooch (Gold)\"': 3, 'Dining Sets': 3, 'Wells Smith T-Shirts\"': 3, 'Whistle T-Shirts\"': 3, 'DNA T-Shirts\"': 3, 'MOOI-ZAK Sling Bags': 3, 'Hand Juicers': 3, 'Miracle Furnishings Ethnic\"': 3, 'ACM Mobile Pouches': 3, 'Rawpockets T-Shirts\"': 3, 'Lungis': 3, 'Buckle Up Casual Shoes\"': 3, 'Intel Processors\"': 3, 'Raincoats': 3, 'My Design Lac 8K Yellow Gold Bangle Set (Pack of...\"': 3, 'Graters & Slicers': 3, 'Tara Lifestyle Geometry & Pencil Boxes\"': 3, 'Eaux De Parfum': 3, 'Pruto Formal Shoes': 3, 'Spunk Casual Shoes\"': 3, 'OuttaSkin T-Shirts\"': 3, 'Babydolls': 3, 'vinaya Casual Shoes': 3, 'Cables': 3, 'Lolprint Greeting Cards': 3, 'JLRS Cases & Covers\"': 3, 'Monil Ethnic\"': 3, 'Uberlyfe Stickers\"': 3, 'Yoga Blocks': 3, 'Tyfy Battery chargers\"': 3, 'Buynow Screen Protectors': 3, 'Orange And Orchid T-Shirts\"': 3, 'Tyres & Tube': 3, 'Hookahs': 3, 'Faith Formal Shoes\"': 3, 'Go Hooked Artificial Plants': 3, 'Electricals': 3, 'Swastik Sofa Covers': 3, 'Momento Jeans\"': 3, 'Onlineshoppee Ethnic\"': 3, 'Shopaholic Geometry & Pencil Boxes\"': 3, 'Puma Backpacks\"': 3, 'TSF Casual Shoes\"': 3, 'AMZER Cases & Covers\"': 3, 'SV Creations Hand Bags': 3, 'Arial Morris Women Flats\"': 3, 'Blue Parrot Casual Shoes\"': 3, 'Cutters & Snips': 3, 'Nord51 T-Shirts\"': 3, 'Crystle USB Gadgets\"': 3, 'Transtal Wall Shelves': 3, 'Clublaptop Batteries\"': 3, 'Krg Enterprises Ethnic\"': 3, 'Baby Spoons & Forks': 3, 'Wall Decal Wall Decals & Stickers': 3, 'MH Photo Frames\"': 3, 'EDGE PLUS Mobile Body Panels': 3, 'Remax Cables\"': 2, 'Gioiabazar Cases & Covers\"': 2, 'Bruno Manetti Formal Shoes\"': 2, 'Kraftnation Ethnic\"': 2, 'Eaglemoss Publications Dc Superhero Chess & Maga...\"': 2, 'Caps & Hats': 2, 'Angel Glitter Backpacks\"': 2, 'Anuradha Art Designer Brooch (Maroon)\"': 2, 'Aroma Comfort Polyester Blue Floral Eyelet Long ...\"': 2, 'Smart Choice Furniture Shoe Racks': 2, 'Sunvi Ethnic\"': 2, 'Anuradha Art Designer Brooch (Multicolor)\"': 2, 'ANAHI SAREE PIN Brooch (Multicolor)\"': 2, 'Moladz Formal Shoes\"': 2, 'Garnier Hair Colors': 2, 'ARISE T-Shirts': 2, 'AOC Geometry & Pencil Boxes\"': 2, 'SSCP Body and Essential Oils\"': 2, 'Pasabahce Glasses & Tumblers': 2, 'Kartique Vanity Boxes': 2, 'Car Fresheners': 2, 'Xiao Zhi Xiong Geometry & Pencil Boxes\"': 2, 'LG Cables\"': 2, 'VRCT Bulbs\"': 2, 'Track Suits': 2, 'Inc.5 Women Wedges\"': 2, 'Spatulas': 2, 'Angelfish Vanity Boxes\"': 2, 'Voylla Accessories': 2, 'Goblin Suitcases': 2, 'SoleThreads Slippers & Flip Flops': 2, 'BellBut Casual Shoes\"': 2, 'Gasser Slippers & Flip Flops': 2, 'Scorpion T-Shirts\"': 2, 'NELL Women Sandals\"': 2, 'Raghav India Bar Glasses\"': 2, 'Funku Fashion Women Heels\"': 2, 'Polo House USA Suitcases': 2, 'Mahadev Handicrafts Baby Bedsheets': 2, 'Link+ USB Gadgets\"': 2, 'SANTOSH ROYAL FASHION Bedsheets': 2, 'Flat n Heels Women Heels\"': 2, 'Sparklings Baby Bedsheets': 2, 'Legato Backpacks': 2, 'Gliders Casual Shoes\"': 2, 'Mobiroy Bellies\"': 2, 'Artist Haat Vanity Boxes\"': 2, 'VRCT Series Lights': 2, 'ShadowFax USB Gadgets\"': 2, 'wallskart Wallpapers': 2, 'Finger\\'s USB Gadgets\"': 2, 'DANR Women Flats\"': 2, 'Cork Screws': 2, 'Footballs': 2, 'The Crystal Jewel Showpieces\"': 2, 'Tangerine Crystal Brooch (Gold)\"': 2, 'Springwel Single Spring Mattress (1981.199999999...\"': 2, 'Furnishing Zone Cushions': 2, 'Bharatcraft Contemporary': 2, 'Karpine Screen Protectors\"': 2, 'Car Pressure Washers\"': 2, 'Kids Bean Bags': 2, 'Mobile Skin Stickers': 2, 'MDI Series Lights\"': 2, 'Live In Trousers\"': 2, 'Klaur Melbourne Bellies\"': 2, 'Ace Headphones': 2, 'Allen Cooper Casual Shoes\"': 2, 'Steelseries Headphones (With Mic)': 2, 'Fonokase USB Gadgets\"': 2, 'Lee Parke Sports Shoes': 2, 'raju purse collection Hand Bags': 2, 'Decorative Bottles': 2, 'Kitchen Containers': 2, 'Amrita Singh Totes\"': 2, 'Adishma Printed Cushions Cover (40 cm*40 cm, Mul...\"': 2, 'JQR Sports Shoes': 2, 'Loreal Hair Colors': 2, 'Pawzone Round Stainless Steel Pet Bowl (1 L Green)\"': 2, 'Wise Guys Geometry & Pencil Boxes\"': 2, 'SViRU Photo Frames': 2, 'Jaipur Print Bedsheets': 2, 'Anuradha Art Designer Brooch (Silver)\"': 2, 'Bleu Backpacks\"': 2, 'An Yahh Art Geometry & Pencil Boxes\"': 2, 'IShoes Casual Shoes\"': 2, 'LUCINA Cups & Saucers': 2, 'Hariom Enterprises Files and Folders': 2, 'MARVEL Lunch Boxes': 2, 'Saree Falls': 2, 'Trendy Geometry & Pencil Boxes\"': 2, 'Newworld Screen Guards': 2, 'Galaxy Bulbs\"': 2, 'Shoebook Formal Shoes\"': 2, 'Shoperite Posters': 2, 'NKM T-Shirts\"': 2, 'OutMad Cases & Covers\"': 2, 'Satzuma USB Gadgets\"': 2, 'Raju purse collection Hand Bags': 2, 'Tyfy Lens Hoods\"': 2, 'Out of Print T-Shirts\"': 2, 'Tidy Kitchen Linen Sets': 2, 'Ocean Bar Glasses': 2, 'Running\"': 2, 'Ethnic Handicrafts Solid Wood Queen Bed (Finish ...\"': 2, '99Gems USB Gadgets\"': 2, 'Ahha Cases & Covers\"': 2, 'Aroma Comfort Polyester Multi Color Striped Rod ...\"': 2, 'KalaSanthe Paintings\"': 2, 'Elite Handicrafts Bar Glasses\"': 2, 'Philips Bulbs\"': 2, 'Total Care Screen Protectors\"': 2, 'Osberry T-Shirts\"': 2, 'De TechInn USB Gadgets\"': 2, 'Raju Purse Collection Hand Bags': 2, 'Glory Fashion Hand Bags\"': 2, 'ESBEDA Hand Bags': 2, 'Welhouse Baby Bath Towels\"': 2, 'Wrangler Jeans\"': 2, 'Harry Hill Casual Shoes\"': 2, 'Milky Way Bulbs\"': 2, 'casetech Cases & Covers\"': 2, 'Calipers': 2, 'Cookware Pots': 2, 'Condiment Sets': 2, 'Alex\\'s Geometry & Pencil Boxes\"': 2, 'Craftuno Ethnic\"': 2, 'Swim & Beach Wear': 2, 'Cardigans': 2, 'Smiledrive USB Gadgets\"': 2, 'FIFA Backpacks\"': 2, 'domestiq Slippers & Flip Flops': 2, 'Anti Ageing': 2, 'Syska Led Lights Bulbs\"': 2, 'Foot Candy Women Flats\"': 2, 'Pawzone Round Stainless Steel Pet Bowl (20.2 Blue)\"': 2, 'Saihan Lens Hoods': 2, 'Charu Fashionz Ethnic\"': 2, 'Gizmoz Customs Cases & Covers\"': 2, 'Eye Shadows': 2, 'GLAMWALK Festive Bellies\"': 2, 'rainfun Umbrellas': 2, 'Tech Gear Cables': 2, 'BILLYS Cases & Covers\"': 2, 'Springwel Single Spring Mattress (2133.6 X 1066....\"': 2, 'Cotonex Black, White Cotton Kitchen Linen Set (P...\"': 2, 'KARP USB Gadgets\"': 2, 'Toothpick Holders': 2, 'Empire Cases & Covers\"': 2, 'Voylla Accessories & Combo Sets': 2, 'ZOSIGN Casual Shoes': 2, 'Needbags Backpacks\"': 2, 'Forks': 2, 'Himtek USB Gadgets\"': 2, 'PROBOTT Water Bottles': 2, 'GM Trousers': 2, 'franco Casual Shoes': 2, 'Duke Casual Shoes\"': 2, 'Pens': 2, 'Intel Processors': 2, 'Www.Thepaper.Asia Geometry & Pencil Boxes\"': 2, 'VES Cases & Covers\"': 2, 'DEBOCK Headphones': 2, 'Toto Link Routers\"': 2, 'IndianShelf Ethnic\"': 2, 'Mactree Formal Shoes': 2, 'Imagination And Beyond Posters': 2, 'Pink Rose Alloy Hand Thong\"': 2, 'Leather chief Slippers & Flip Flops': 2, 'M S Rugs Pink, Blue Wool Dhurrie (120 cm  X 180 cm)\"': 2, 'Wave Walk Casual Shoes\"': 2, 'IPP Bulbs\"': 2, 'Tiedribbons Diaries\"': 2, 'Abhika Studio Geometry, Pen & Pencil boxes\"': 2, 'Rockshose Formal Shoes': 2, 'FAX Slippers & Flip Flops': 2, 'Cotonex Pink Cotton Kitchen Linen Set (Pack of 2)\"': 2, 'Amit Carpet Polyester Medium Door Mat ACI2016032...\"': 2, 'True Soles Casual Shoes\"': 2, 'Eye Liners': 2, 'Footshez Women Flats\"': 2, 'Nickelodeon Geometry & Pencil Boxes\"': 2, 'Medex Medical Equipment & Accessories': 2, 'Sippers & Cups': 2, 'ShopMantra Calendars\"': 2, 'Lord\\'s Casual Shoes\"': 2, 'N K Computers USB Gadgets\"': 2, 'mobiware Power Banks': 2, 'Home Delight Series Lights\"': 2, 'Swimsuit & Swimwear': 2, 'Gai Casual Shoes\"': 2, 'Lip Creams': 2, 'HOKO Cases & Covers\"': 2, 'MNTC Posters': 2, 'AdroitZ 1 White & Orange Two Wheeler Cover, 2 Be...\"': 2, 'Prime Printed 6 Seater Table Cover (Multicolor, ...\"': 2, 'MSC Shuangmin Ethnic\"': 2, 'Vox Pop T-Shirts\"': 2, 'Himalayan Sutra Body and Essential Oils': 2, 'VarEesha Key Holders': 2, 'Kuber Industries Vanity Boxes\"': 2, 'Tiaras & Crowns': 2, 'Shampoo': 2, 'Clazz Backpacks': 2, 'Wave Walk Formal Shoes\"': 2, 'Surgical e Sstudio Medical Equipment & Accessories': 2, 'Purpledip Multicolor Cotton Wool Blend Dhurrie (...\"': 2, 'Ville Style Polyester Maroon Floral Eyelet Door ...\"': 2, 'Brandvilla Hand Bags': 2, 'Kits': 2, 'Maayas Hand Bags': 2, 'Breakbounce Casual Shoes\"': 2, 'Posh 7 T-Shirts\"': 2, 'Mama & Bebe Baby Bath Towels\"': 2, 'Swiss Knives': 2, 'Topcolor Mousepads': 2, 'BagsHub Hand Bags': 2, 'Foreign Language Learning': 2, 'Mad(e) in India Diaries\"': 2, 'Solar Charge Controllers': 2, 'Jugs': 2, 'People Casual Shoes\"': 2, 'Dustbins': 2, 'SignKraft Ethnic\"': 2, 'Zappy Boots\"': 2, 'Marcoland Casual Shoes\"': 2, 'Gold Dust Sewing Machines': 2, 'Alberto Torresi Casual Shoes\"': 2, 'Canon Lens Hoods\"': 2, 'XEBAC Cables': 2, 'Spur T-Shirts\"': 2, 'Spe Lens Hoods\"': 2, 'Christianity': 2, 'EZRA Bar Glasses': 2, 'kamyaart Hand Bags': 2, 'Ireeya Baby Blankets\"': 2, 'Comfast Routers\"': 2, 'e-Fresh Boys Wear': 2, 'Dungri India Craft Jug, Glass & Tray Sets': 2, 'NIKsales Bulbs\"': 2, 'Seema\\'s Craft Creation Ethnic\"': 2, 'Newgen Tech OTG Adapters': 2, 'Desert Eshop Ethnic\"': 2, 'LIFE LIKE Headphones (With Mic)': 2, 'VIVIANA Nail Paint, Lipstick (Set of 5)\"': 2, 'KE Vanity Boxes': 2, 'Leoxsys Routers\"': 2, 'Aroma Oil & Diffuser Sets': 2, 'Surprise Gifts Key Chains': 2, 'Flying Port Jeans': 2, 'TP-Link Routers\"': 2, 'Amit Carpet Polyester Medium Door Mat ACI2016034...\"': 2, 'Relaxfeel Baby Blankets': 2, 'Primers': 2, 'FAUSTO Casual Shoes': 2, 'Cotonex Pink, Green Cotton Kitchen Linen Set (Pa...\"': 2, 'Zoe Marciano Clutches': 2, 'E-Cigarettes': 2, 'Badminton Racquets': 2, 'Aroma Comfort Polyester Multicolor Plain Eyelet ...\"': 2, 'FCS Geometry & Pencil Boxes\"': 2, 'Outdazzle Designer Vintage for Men\\'s Suit, Jacke...\"': 2, 'Fine Craft India Pouches and Potlis\"': 2, 'White Kalia T-Shirts\"': 2, 'Walking\"': 2, 'Umbrellas': 2, 'Megaway Series Lights\"': 2, 'Bela Home Baby Bedsheets': 2, 'Imagica Alloy Necklace\"': 2, 'DeStudio Wall Decals & Stickers': 2, 'AdroitZ 1 Black & Red Two wheeler Cover, 2 Beige...\"': 2, 'YGS Cases & Covers': 2, 'Finnexe Lunch Boxes': 2, 'Cricket Guards': 2, 'Lava Routers\"': 2, 'Nickolas Stylish Casual Bellies\"': 2, 'BornBabyKids Baby Bath Towels\"': 2, 'Stockings': 2, 'Pawzone Round Stainless Steel Pet Bowl (20 Blue)\"': 2, 'Blisshoes Casual Shoes\"': 2, 'Bracevor Cases & Covers\"': 2, 'Tallenge Posters': 2, 'Port Sports Shoes\"': 2, 'Magical Knots Cushion Covers': 2, 'Ddreamz Wall Decals & Stickers': 2, 'SHOPRIDER Mouse Pads': 2, 'iplay Series Lights\"': 2, 'Koncepts Cotton Medium Door Mat Mat, Door mat, B...\"': 2, 'Fashion Craft Rudraksh Mala Alloy Chain\"': 2, 'Winfield T-Shirts\"': 2, 'Naaz Board Games': 2, 'Cratly Vase Fillers': 2, 'Diti Enterprises Ethnic\"': 2, 'Clogs\"': 2, 'Speedwav 1 Car Bumper Sticker, 1 FLY Mobile Hold...\"': 2, 'Mactree Formal Shoes\"': 2, 'Scarfs': 2, 'Sakhi Styles Wrist Bands': 2, 'ShopToSurprise Photo Frames\"': 1, 'AS Sports Casual Shoes\"': 1, 'HP Pen Drives': 1, 'B-Fashionable Combo of Drop & Round Bead Kilangi...\"': 1, 'Saashiwear Hand Bags\"': 1, 'Psychology': 1, 'Avaron Projekt Moustache Brooch (Green)\"': 1, 'iConnect World USB Gadgets\"': 1, 'zaidis Cables': 1, 'AKUP i-love-my-mom Ceramic Mug (300 ml)\"': 1, 'House This Duvet Covers': 1, 'Cotonex Blue, Pink Cotton Kitchen Linen Set (Pac...\"': 1, 'Babysid Collection Baby Blankets\"': 1, 'Karta Geometry, Pen & Pencil boxes\"': 1, 'ATV Mobile Pouches': 1, 'Trilokani Bellies\"': 1, 'Sloper Trousers\"': 1, 'iZOTRON Routers\"': 1, 'Anker USB Gadgets\"': 1, 'PIEXIM mxre Moon Design Moving Dimonds Analog Wa...\"': 1, 'Kalakruti Vanity Boxes\"': 1, 'E2O Hand Bags\"': 1, 'Shopmania Clutches': 1, 'Neon USB Gadgets\"': 1, 'Triveni Sling Bags': 1, 'Cappuccino Pouches and Potlis\"': 1, 'Mail Boxes': 1, 'Bestway Inflatable Products\"': 1, 'AKUP happy-mothers-day Ceramic Mug (300 ml)\"': 1, 'Polki Clutches': 1, 'RAA Boy\\'s Brief (Pack of 3)\"': 1, 'Cubetek Routers\"': 1, 'CUBA OTG Adapters': 1, 'AKUP dream-big-work-hard Ceramic Mug (300 ml)\"': 1, 'Anno Dominii Watch Boxes': 1, 'Tootpado Punches & Punching Machines': 1, 'Sangaitap USB Gadgets\"': 1, '\\xa0Tarkan Umbrellas': 1, 'Khanna Jupiter Files and Folders': 1, 'Flair Ball Pens': 1, 'Techno TrendZ Screen Protectors\"': 1, 'Foot n Style Formal Shoes\"': 1, 'Tupperware Lunch Boxes': 1, 'Via Flowers Llp Pen Drives': 1, 'BCK Casual Shoes\"': 1, 'Digital': 1, 'Whirlpool Affresh Stainless Steel Cleaning Wipes...\"': 1, 'ACM Mobile Pouches\"': 1, 'Akin Towels': 1, 'Pompom Sweethearts Nappies & Cloth Diapers\"': 1, 'Cello Furniture Polypropylene Shoe Cabinet (Grey...\"': 1, 'Hunter Mosquito Killers': 1, 'K&N 1 Bike Spark Plug, 1 Air Filter-Honda CB Tri...\"': 1, 'asa products Geometry & Pencil Boxes': 1, 'Sushito Wrist Bands': 1, 'Johhny Cash 2006 \\\\\"Man In Black\\\\\" Action 7\\\\\" Figure...\"': 1, 'Neha Decorative Platters\"': 1, 'RREnterprizes JR-Drum Beat Set II (Multicolor)\"': 1, 'WI Retail Mary Brooch (Black)\"': 1, 'Erre Otto Formal Shoes\"': 1, 'Hammocks': 1, 'K&N 1 Bike Spark Plug, 1 Air Filter-TVS Sport Combo\"': 1, 'ASM Casual Shoes\"': 1, 'Highlighter Pens': 1, 'Style World Women Heels\"': 1, 'Ruvee Marwari Tika Brooch (Multicolor)\"': 1, 'Capris': 1, 'Balujas Casual Shoes\"': 1, 'IndoSurgicals Medical Equipment & Accessories\"': 1, 'Celebration Mixer/juicer/grinders': 1, \"Dr. Thapar's Shampoos\": 1, 'Delberto Boots\"': 1, 'Vardhman Geometry & Pencil Boxes\"': 1, 'Zoook Routers\"': 1, 'Sitech USB Gadgets\"': 1, 'Allen Solly Trousers\"': 1, 'Weldecor Series Lights\"': 1, 'United 5 L Pressure Cooker (Induction Bottom, Ha...\"': 1, 'Anuradha Art Chabi Challa Brooch (Gold, Red)\"': 1, 'ZeroKaata Alloy Armlet\"': 1, 'Clicktin Backpacks\"': 1, 'Ornate Bulbs\"': 1, 'Avaron Projekt Aviator Brooch (Black)\"': 1, 'Dimple Creation two sided pin with pear layer Br...\"': 1, 'Gathbandhan Shankh\"': 1, 'Tattoos': 1, 'V-Luma W600 Fashion Analog Watch  - For Men\"': 1, 'FURNISHINGLAND Maroon Silk Carpet (60 cm  X 180 cm)\"': 1, 'S Class Lens Hoods': 1, 'GoMerryKids Frozen MP3 Sing Along Voice MIC Kids...\"': 1, 'SB RETAILS Flashes': 1, 'Wrist Bands': 1, 'iAccy Cases & Covers\"': 1, 'Emartbuy Cases & Covers': 1, 'Avantree Cables\"': 1, 'Aroma Comfort Polyester Green Printed Eyelet Lon...\"': 1, 'Pawzone Round Stainless Steel Pet Bowl (20 Black)\"': 1, 'Lemon & Vodka T-Shirts\"': 1, 'Electrotherapy': 1, 'DIY Building Blocks for kids and children to bui...\"': 1, 'Akshaj USB Gadgets\"': 1, 'Dutch Benson Women Sandals\"': 1, 'Carter\\'S Baby Blankets\"': 1, 'Sicons Conditioning Conditoner Dog Shampoo (200 ml)\"': 1, 'Sivanna Baking Powder Rouge  Highlighter (Dark p...\"': 1, 'KooKoo Fashion Enamel, Alloy Necklace\"': 1, 'Swimming Caps': 1, 'BAAJ Sports Shoes': 1, 'Uniball Ball Pens\"': 1, 'Pulse Oximeters': 1, 'cm Keyboards': 1, 'Vmax Screen Protectors\"': 1, 'piftif Sports & Gym Wear': 1, 'Ivon Hair Straighteners': 1, 'Sunlast Laptop Bags': 1, 'Ornate Rucksacks\"': 1, 'Sathiyas Baby Bath Towels': 1, 'Aroma Comfort Polyester Brown Plain Eyelet Windo...\"': 1, 'Shopfloor.XYZ Cleaning Kits': 1, 'Arghyam Gramophones': 1, 'Toyto Sandals & Floaters': 1, 'DOLZ Skinny Fit Fit Women\\'s Brown Jeans\"': 1, 'i-Bag Backpacks\"': 1, 'Mashers': 1, 'Chickraft Alloy, Metal, Glass Bangle\"': 1, 'UAG Cases & Covers\"': 1, 'Qline Headphones (With Mic)': 1, 'Leo Clothing T-Shirts\"': 1, 'Boysen\\'s Casual Shoes\"': 1, 'Sneakers\"': 1, 'C Kreul Sketch & Paint Markers': 1, 'VAGON Girls Sandals\"': 1, 'Capturing Happiness Photo Frames': 1, 'Columbus Sandals & Floaters': 1, 'Seastar Casual Shoes\"': 1, 'Office Sets': 1, 'Park Avenue Soaps\"': 1, 'Planners': 1, 'Idli Makers': 1, 'Saco Screen Protectors': 1, 'Sitaram SRE155 Analog Watch  - For Girls, Women\"': 1, 'IBALL Power Supply Units': 1, 'Brooms & Brushes': 1, 'Ben Carter Jeans\"': 1, 'Jutecentral Fitness Bags': 1, 'Raydenhy Screen Protectors\"': 1, 'Tokidoki Unicornos Series 3 Figure (Multicolor)\"': 1, 'Clicko USB Gadgets\"': 1, 'Cottage Hand Bags': 1, 'Four Paws Round Plastic Pet Bottle (300 ml Pink)\"': 1, 'Bulaky Vanity Boxes\"': 1, 'X-Plus Hanna Barbera History Collection Scoo Doo...\"': 1, 'LUMENPULSE Ceiling Lamps': 1, 'hbs saree pin animal Brooch (Gold)\"': 1, 'Vcare Rucksacks\"': 1, 'SLB Backpacks\"': 1, 'Livestrong Accessories\"': 1, 'Sitaram SRE101 Digital Watch  - For Couple\"': 1, 'Anuradha Art Designer Brooch (Maroon, White)\"': 1, 'CLASSY Bar Glasses': 1, 'AKUP love-music Ceramic Mug (300 ml)\"': 1, 'Stallion Barware Bar Glasses': 1, 'JewelKraft Designs Grey Table Linen Set\"': 1, 'DENIM CAFE Jeans': 1, 'Airtel Routers\"': 1, 'AKUP i-love-music Ceramic Mug (300 ml)\"': 1, 'Anuradha Art Designer Brooch (Blue)\"': 1, 'Cazcase Cases & Covers\"': 1, 'Frankline Plus Trousers\"': 1, 'CHHOTE JANAB Baby Mattresses': 1, 'Swiss Beauty Cosmetic Bags': 1, 'Amaze Fashion USB Gadgets\"': 1, 'FS Brass Decorative Platters\"': 1, 'TREO Bar Glasses': 1, 'Dinoimpex Balloon and Beyblade Set Combo (Multic...\"': 1, 'Baggit Pouches and Potlis\"': 1, 'ARIHANT Multicolor Rod Rail Bracket\"': 1, 'Riddhi Siddhi Clone\"': 1, 'Adapters': 1, 'Ophion Cables': 1, 'Bronzers': 1, 'Classic Geometry & Pencil Boxes\"': 1, 'Intel Motherboards': 1, 'Vulcan Knight Formal Shoes\"': 1, 'SS Voltage Stabilizers\"': 1, 'Avaron Projekt Handmade Bunch Flower Brooch (Mar...\"': 1, 'Katalogue Women, Girls Flats\"': 1, 'Puma Hand Bags': 1, 'Fashiondrobe Hand Bags\"': 1, 'Transcend RAMs': 1, 'Wise Guys Mobile Pouches\"': 1, 'Smartpower USB Gadgets\"': 1, 'Rainz Gold Bulbs\"': 1, 'Filofax Planners & Organisers\"': 1, 'Onnet Routers\"': 1, 'Tantra T-Shirts\"': 1, 'Baby Bucket Baby Sleeping Bags': 1, 'Rang Rage Cases & Covers\"': 1, 'CALTRIX Basic (12 Digit)\"': 1, 'ESIDON AKADA04 Analog Watch  - For Women\"': 1, 'urbantouch Trousers\"': 1, 'Ark Creation Shankh\"': 1, 'AKUP one-gud-thing-about-music Ceramic Mug (300 ml)\"': 1, 'TIMBERLAKE Slim Fit Fit Women\\'s Blue Jeans\"': 1, 'Eurospa Baby Bath Towels': 1, 'Silver Shoppee My love Brooch (Gold, Green, Red)\"': 1, 'tryfeet Open Toe Blue Bellies\"': 1, 'MayurShilpa Flower Vase': 1, 'Srsb Geometry & Pencil Boxes\"': 1, 'Plus Value Stones & Pebbles': 1, 'Technotech Mouse': 1, 'Style Centrum Casual Shoes\"': 1, 'Weaverfinch T-Shirts\"': 1, 'Nitra Plain Decorative Cushion (Pack of2, White)\"': 1, 'AKUP league-of-legends Ceramic Mug (300 ml)\"': 1, 'Indiano Leggings & Jeggings\"': 1, 'Merchant eshop Wrist Bands': 1, 'Medimix Soaps': 1, 'NAISHA Women Wedges\"': 1, 'Rainfun Umbrellas': 1, 'Flyfilms Lens Hoods\"': 1, 'CONVENIENCE Headphones': 1, 'Purple Circle Desk Organizers\"': 1, 'Victor Bulbs\"': 1, 'chetan Mobile Displays': 1, 'Screwdrivers & Allen Keys': 1, 'MohanJodero Ethnic': 1, 'School Shoes\"': 1, 'Red Chief Casual Shoes': 1, 'Penny jewels Alloy Beads Brass Bangle Set (Pack ...\"': 1, 'Disney Frozen Mini Toddler Figurine Anna Fever (...\"': 1, 'MODWARE Lunch Boxes': 1, 'Weardo T-Shirts\"': 1, 'Mr Plus Home Theaters\"': 1, 'Springwel Single Spring Mattress (1828.8 X 762 X...\"': 1, 'Max Punches & Punching Machines\"': 1, 'Explore Embedded Tit, a supercharged Arduino Pro...\"': 1, 'SahiBUY USB Gadgets\"': 1, 'Taino My Fun Fish Self Cleaning Tank Rectangle P...\"': 1, 'MICROi Home Security Cameras': 1, 'Bendly Rucksacks\"': 1, 'BUTTERFILES Hand Bags': 1, 'Ruby Gas Cylinder Trolleys': 1, 'Nilkamal Double Coir Mattress (1829 X 1219)\"': 1, 'Glitzy Galz Women Heels\"': 1, 'Fashion Centre Baby Mosquito Nets\"': 1, 'Powell Jeans\"': 1, 'Lippy Formal Shoes\"': 1, 'Ollington St. Collection Geometry & Pencil Boxes\"': 1, 'SD Camera Mounts': 1, 'SVVM Backpacks': 1, 'D-Link Routers': 1, 'ASUS Routers\"': 1, 'Gemz Totes\"': 1, 'Mars Queen Eye Liner, Lip Gloss, EyeLiner (Set o...\"': 1, 'Krocs Slippers\"': 1, 'PIGEON Induction Cooktops': 1, 'gurjari oxidiesd kutra button brooch Brooch (Black)\"': 1, 'Wi Retail Emblem Brooch (Multicolor)\"': 1, 'Pureits Leathers Casual Shoes\"': 1, 'Claude Lorrain Casual Shoes\"': 1, 'PeepalComm Ball Pens': 1, 'induscraft Solid Wood Computer Desk (Straight, F...\"': 1, 'Merlin Routers\"': 1, 'Lavie Women Heels\"': 1, 'run of luck Western Wear': 1, 'RYAN Cotton Apron Free Size (Blue, Purple, Pack ...\"': 1, 'Techware Cups & Saucers': 1, 'ABSTAR Backpacks': 1, 'Radius Headphones': 1, 'i-gadgets Key Chains': 1, 'Ethnic Handicrafts Solid Wood Single Bed (Finish...\"': 1, 'Shyam Fashion Flower Vase': 1, 'Nillkin Cables\"': 1, 'Incense Sticks & Holders': 1, 'Futaba Earphone Cable Organizers': 1, 'Reebok Accessories\"': 1, 'OGX Hair Treatments': 1, \"Buyer's Beach Cups & Saucers\": 1, 'Mazda Energy Ceiling Lamps': 1, 'Hadwin Fengshui': 1, 'SJ Cotton Buds': 1, 'Remix Yellow-Pin Brooch (Yellow)\"': 1, 'Futaba Pastry Brushes': 1, 'Bajya Apna Yellow Gold Plated Brass Chain\"': 1, 'Eternity Table Lamps': 1, 'palito PLO 166 Analog Watch  - For Girls, Women\"': 1, 'Bhavya Velvet Sofa Cover (Grey Pack of 10)\"': 1, 'dgold Garnet Stone Necklace\"': 1, 'Foot n Style Casual Shoes\"': 1, 'Digital Marketing Screen Protectors\"': 1, 'Sun Band Fitness Bands': 1, 'Addyz Vanity Boxes\"': 1, 'Whirlpool Affresh Cooktop Cleaner Kitchen Cleane...\"': 1, 'Tangerine Flower Brooch (Green, Gold)\"': 1, 'Totu Design Cases & Covers\"': 1, 'keco Women Wedges\"': 1, 'Ocean Mouse': 1, 'gurjari oxidiesd kurta button brooch Brooch (Black)\"': 1, 'Lavie Backpacks\"': 1, 'Zaffre\\'s Purple 183 cm Table Runner (Polyester)\"': 1, 'Essart Vanity Boxes\"': 1, 'bohocraft Bohemian Colorful Wooden Beads Adjusta...\"': 1, 'SANMARIO Fountain Pens': 1, 'Instapower Bulbs\"': 1, 'Art Sets': 1, 'ZEVA Coffee/Tea s-27 Ceramic Mug (350 ml, Pack o...\"': 1, 'Craft Trade Coasters': 1, 'SKY TRENDS GIFT Coasters': 1, 'Sony Home Theaters': 1, 'Fengshui': 1, 'Packman Packaging Security Bags': 1, 'Esplindia Pouches and Potlis\"': 1, 'JUHI CREATIONS GW2 Brooch (Gold, White)\"': 1, 'Cocovey Photo Frames\"': 1, 'MAIRAAH Slippers\"': 1, \"Ruhi's Creations Baby Bedsheets\": 1, 'Royal Canin Maxi Starter 1kg Vegetable Dog Food ...\"': 1, 'Italian Fashion wt277 Analog Watch  - For Girls,...\"': 1, 'Vermello Men Casual Brown Genuine Leather Belt (...\"': 1, 'OMS ZONE Screen Protectors': 1, 'Homedesires Ethnic\"': 1, 'Eego Italy Casual Shoes\"': 1, 'DivineXt USB Gadgets\"': 1, 'Histeria Hand Bags': 1, 'AKUP without-the-rain Ceramic Mug (300 ml)\"': 1, 'Omen Om-5060 Analog Watch  - For Girls\"': 1, 'Lamy Mechanical Pencils': 1, 'Ray-Pro Ethnic\"': 1, 'Bagru Crafts Ethnic\"': 1, 'My NewBorn Baby Blankets\"': 1, 'Babytintin Car (Multicolor)\"': 1, 'Smugglerzinc T-Shirts\"': 1, 'Doraemon Gift Family Ceramic Coffee Mug Decorations': 1, 'Italian Fashion wt276 Analog Watch  - For Girls,...\"': 1, 'Estrella Companero Backpacks\"': 1, 'Cotonex Pink, Blue Cotton Kitchen Linen Set (Pac...\"': 1, 'Jewlot Brass Necklace\"': 1, 'Speedwav 1 Drink Holder, 1 LED Light Ashtray, 1 ...\"': 1, 'Brillare Science Dandruff Control Shampoo & Inte...\"': 1, 'Incense Sticks': 1, 'dilli bazaaar Bellies, Corporate Casuals, Casuals\"': 1, 'Generix USB Gadgets\"': 1, 'Shivani Art Showpieces\"': 1, 'Webplaza T-Shirts\"': 1, 'Foundations': 1, 'HOKO Cables\"': 1, 'Kelvinator Refrigerators': 1, 'Progear Lens Adapters\"': 1, 'Lapaya Rucksacks\"': 1, 'Hm International Diaries': 1, 'keshar Earphone Cable Organizers': 1, 'G-MOS Cases & Covers\"': 1, 'poonamcreation Zircon Rhodium Plated Alloy, Ston...\"': 1, 'Portland Casual Shoes\"': 1, 'Besto LED-B3PWGYR Smart Band Strap (Mullti Color)\"': 1, 'Emagica Home Security Cameras': 1, 'Elkoha Bulbs\"': 1, 'Pink Rose Alloy Bracelet\"': 1, 'Donex Backpacks\"': 1, 'Samriddhivastu Ethnic\"': 1, 'Tecnia Home Theaters\"': 1, 'Pawzone Round Stainless Steel Pet Bowl (20.2 Black)\"': 1, 'Cable Straps & Ties\"': 1, 'AKUP be-urr-own-hero 1 Ceramic Mug (300 ml)\"': 1, 'Avaron Projekt Bunch Flower Brooch (Red)\"': 1, 'Aroma Comfort Polyester Brown Geometric Eyelet D...\"': 1, 'SHEFFIELD CLASSIC Vacuum Cleaners': 1, 'Ahuja Public Address Systems\"': 1, 'Avaron projekt Bow With Pearl Detailing Brooch (...\"': 1, 'Disney Frozen Mini Toddler Figurine (Multicolor)\"': 1, 'ALIFS Hand Bags': 1, 'Golden Peacock Silver Plated Black Floral Shaped...\"': 1, 'Yepme Trousers\"': 1, 'Logitech Cases & Covers\"': 1, 'Wecart T-Shirts\"': 1, 'WI Retail Eagle Brooch (Gold)\"': 1, 'Tucasa LG-110 Table Lamp (24 cm, Red)\"': 1, 'Noritake Cups & Saucers': 1, 'Newgen Tech SIM Adapters': 1, 'Lekue Lids\"': 1, 'English Learning & Teaching': 1, 'Great Eastern Soul Eater - Maka and Soul Noteboo...\"': 1, 'TruSo Trousers': 1, 'Stable Life Mats': 1, 'United 3 L Pressure Cooker (Induction Bottom, Al...\"': 1, 'ISUN Routers\"': 1, 'Tuelip Bottles & Shakers': 1, 'Marcbeau Formal Shoes\"': 1, 'Comfort Couch Engineered Wood 3 Seater Sofa (Fin...\"': 1, 'Pg Handicrafts Ethnic\"': 1, 'BnC Mobile Phone Lens': 1, 'ManeKo 1 Dual Clip Universal Car Mobile Holder, ...\"': 1, 'Heeran Art Fengshui': 1, 'Aroma Comfort Polyester Blue Floral Eyelet Windo...\"': 1, 'Lujo Cases & Covers\"': 1, 'Basta Hand Bags\"': 1, 'ChiragBelhi Stylish and Trendy Bellies\"': 1, 'Hariom enterprises Kitchen Knives': 1, 'Kerastase Shampoos': 1, 'Frames Wall Photo Frames': 1, 'Pride Vanity Boxes\"': 1, 'Avaron Projekt Bunch Flower Brooch (Green)\"': 1, 'Tucasa LG-186 Table Lamp (13 cm, Multicolor)\"': 1, 'Calico Critters Cottontail Rabbit Twins (Multico...\"': 1, 'Ronaldo Casual Shoes\"': 1, 'Denim 86 Jeans': 1, 'Avaron Projekt Ship With Swarovski Brooch (White)\"': 1, 'happy deals 36 Crazy Loop Straws -value pack - a...\"': 1, 'Craftcart Key Holders': 1, 'Techpro Key Chains': 1, 'Aroma Comfort Polyester Pink Floral Eyelet Door ...\"': 1, 'Modishera Y- Back Suspenders for Men (Black, Red)\"': 1, 'SJ Nature Science FOR EXPERIMENTAL EXPLORERS Edu...\"': 1, 'Beyblade Metal Fusion Battle Tops - Ultimate Met...\"': 1, 'BURDY T-Shirts': 1, 'Tennis Grips': 1, 'Johareez 9.40 Grams White Cubic Zircon, White Sy...\"': 1, 'Anuradha Art Designer Brooch (Gold, Green)\"': 1, 'Handheld Air Fresheners': 1, 'Clear Shield Screen Protectors\"': 1, 'boom Headphones': 1, 'Rajrang Animal Figurines': 1, 'crompton Irons': 1, 'Yves Bertelin YBSCR557 Analog Watch  - For Women\"': 1, 'Acromax Cables\"': 1, 'United 3 L Pressure Cooker (Stainless Steel)\"': 1, 'Mee Mee Diaper Bags': 1, 'Cricket': 1, 'Parbat Sports Shoes\"': 1, 'BEcom Cases & Covers': 1, 'Lushomes Plain Back Cushion (Pack of5, Brown)\"': 1, 'Istorm Geometry & Pencil Boxes\"': 1, 'Samaa S-0003 Brooch (Blue)\"': 1, 'Dreamshomes Velvet Sofa Cover (Multicolour Pack ...\"': 1, 'Aroma Comfort Polyester Purple Printed Eyelet Lo...\"': 1, 'Do Bhai Women Wedges\"': 1, 'Anuradha Art Silver Polished Brooch (Silver, Gold)\"': 1, 'Urban Monk Creations Ethnic\"': 1, 'Smart Wall Guru Wallpapers': 1, 'CDN Cases & Covers\"': 1, 'Safari Backpacks\"': 1, 'K&N 1 Bike Spark Plug, 1 Air Filter-TVS Apache R...\"': 1, 'RoQ Keyboards': 1, 'Nature Gold Insect Repellents': 1, 'Chota Bheem Baby Bath Towels\"': 1, 'Nail Filers': 1, 'Outdazzle Designer Military for Men\\'s Suit, Jack...\"': 1, 'VRCT Series Lights\"': 1, 'Shop Swipe Headphones': 1, 'UFC Mart Ethnic\"': 1, 'JK Import Rudrash Alloy Mala Alloy, Wood Chain\"': 1, 'ETHICS Sports Shoes': 1, 'GEMKOLABWELL G-S-725-14 (White)\"': 1, 'PrixCracker Screen Protectors\"': 1, 'Leaftrend Bowls\"': 1, 'Little Frog Sandals & Floaters': 1, 'Shorts & Capris': 1, 'Dgold Onyx Stone Necklace Set\"': 1, 'Star Wars USB Gadgets\"': 1, 'Caprese Hand Bags\"': 1, 'Jaycoknit Mediterranean Sea\\'s Lucky Wooden Handc...\"': 1, 'Silver Shoppee Valentine Special Brooch (Gold, G...\"': 1, 'APOLLO+ USB Gadgets': 1, 'FURNISHINGLAND Black Polyester Carpet (90 cm  X ...\"': 1, 'Speedwav 1 Rear View Mirror Screen, 1 4.3 Screen...\"': 1, 'Nendoroid Wf2014Winter Limited Tomoe Mami Good S...\"': 1, 'signature Headphones': 1, 'Finolex Bulbs\"': 1, 'Skycandle.in Lanterns': 1, 'Fimex fx167 Analog Watch  - For Girls\"': 1, 'Pazel Jeans': 1, 'B R TRADING AYRA JEWEL Brooch (Multicolor)\"': 1, 'Tootpado Table Lamps': 1, 'R&Mshoppee Wall Shelves': 1, 'Titli Women Heels\"': 1, 'Anuradha Art Antique Golden Polished Brooch (Mul...\"': 1, 'Uberlyfe Vanity Boxes\"': 1, 'Baby Toothbrushes': 1, 'Epresent USB Gadgets\"': 1, 'Calcetto Casual Shoes\"': 1, 'Store Indya Journals\"': 1, 'La Shades Casual Shoes': 1, 'Swiss Charger Cables\"': 1, 'Navigator Laptop Bags': 1, 'Blizzard Entertainment World of Warcraft Illidan...\"': 1, 'Ocean Glasses & Tumblers': 1, 'Atoms Casual Shoes\"': 1, 'Matrix Hair Colors': 1, 'Others': 1, 'D\\'Panache Pouches and Potlis\"': 1, 'JanSport Backpacks\"': 1, \"Johnson's Baby Baby Powder\": 1, 'PrimeLine Paintings': 1, 'Aroma Comfort Polyester Purple Floral Eyelet Lon...\"': 1, 'The Loyal Subjects Diy Optimus Prime (White)\"': 1, 'BI Wallpapers': 1, 'Fun Box Dancing Duck (Multicolor)\"': 1, 'Intex Routers\"': 1, 'vency creation USB Gadgets': 1, 'Theme United Women Wedges\"': 1, 'Fotodiox Inc. Lens Hoods': 1, 'Sukhson India Bar Glasses\"': 1, 'Metro Casual Shoes\"': 1, 'Mobile Makeup Cases & Covers\"': 1, 'Cotonex Blue, White Cotton Kitchen Linen Set (Pa...\"': 1, 'Targus Cases & Covers\"': 1, 'Armstrong Safety Casual Shoes\"': 1, 'Celebration Mart Rangoli Stencils': 1, 'United United Hard andiosed 3in1 (cooker+straine...\"': 1, 'ESIDON AKADA06 Analog Watch  - For Women\"': 1, 'SRK GROUPS Puja Mandir & Temple': 1, 'Utkalika Ethnic\"': 1, 'Pawzone Round Stainless Steel Pet Bowl (2 L Red)\"': 1, 'GB Jewellery Gold Plated Chains Brass Chain\"': 1, 'RYTHMX NEW NEON IMPORTANT NAIL POLISHES AND BLAC...\"': 1, 'AapnoCrafts Photo Frames': 1, 'Tucasa LG-230 Table Lamp (17 cm, Yellow)\"': 1, 'Rajrang Diaries\"': 1, 'SUNVI Ethnic\"': 1, 'AdroitZ 1 White & Red Two Wheeler Cover, 2 Beige...\"': 1, 'Rajdoot Casual Shoes': 1, 'Parth Collection English Y-pad (Multicolor)\"': 1, 'Yoga Straps': 1, 'Westoindie Geometry & Pencil Boxes\"': 1, 'Shopizone Pen Drives': 1, 'SWAGGA Women Clogs\"': 1, 'Pyjamas': 1, 'Katalogue Women, Girls Heels\"': 1, 'Camelion Battery chargers\"': 1, 'Italian Fashion wt278 Analog Watch  - For Girls,...\"': 1, 'AKUP ur-own-kind Ceramic Mug (300 ml)\"': 1, 'ZAIN Bedsheets': 1, 'DISNEY Lunch Boxes': 1, 'AKUP happy-thanks-giving Ceramic Mug (300 ml)\"': 1, 'Danilo Calendars\"': 1, 'Iball Routers\"': 1, 'Shadowfax Fridge Magnets': 1, 'StyleStuffs AMEYMUG32 Ceramic Mug (325 ml)\"': 1, 'Dynex Headphones': 1, 'Stylla Ethnic\"': 1, 'Micromax Batteries': 1, 'Wash Basin\"': 1, 'Toe Spring Flip Flops\"': 1, 'Hua Jie Desk Organizers\"': 1, 'BMS Cases & Covers\"': 1, 'Anti Gravity Rucksacks': 1, 'WallDesign Wall Decals & Stickers\"': 1, 'Kanvas Women Heels\"': 1, 'Speedwav 1 Car Bumper Sticker, 1 Twin Color Plas...\"': 1, 'Polaroid Camera Lenses': 1, 'Dell Backpacks\"': 1, 'Garam Masala Pouches and Potlis\"': 1, 'DICE NMB-B148-4293 Numbers Analog Watch  - For M...\"': 1, 'Fashion Point Blue crystal Brooch (Blue, Silver)\"': 1, 'Black & Decker Hand Blenders': 1, 'Mavango Trousers\"': 1, 'LG Home Theaters\"': 1, 'Aroma Comfort Polyester Green Self Design Eyelet...\"': 1, 'ShopSince Mats': 1, 'Bajya Anti Radiation Stickers & Chips': 1, 'Smart Picks Die-Cast Metal Hummer Motorcycle_BLU...\"': 1, 'BellBut Formal Shoes\"': 1, 'Whirlpool Stainless steel Kitchen Cleaner (450)\"': 1, 'Modishera Y- Back Suspenders for Men (Blue)\"': 1, 'KHUSHI HANDICRAFTS Balloons & Decoration': 1, 'Leather Wood Formal Shoes\"': 1, 'Shihibas Belly Button Piercing Brooch (Platinum)\"': 1, 'Style Homez Polka Cushions Cover (45 cm*45 cm, M...\"': 1, 'Sports Shoes\"': 1, 'Bagsy Malone Hand Bags\"': 1, 'Krg Enterprises Vanity Boxes': 1, 'Italian Fashion wt259 Analog Watch  - For Girls,...\"': 1, 'MIRICHI Western Wear': 1, 'Herbal Jewellery Alloy, Wood Bracelet\"': 1, 'AKUP i-love-dubstep Ceramic Mug (300 ml)\"': 1, 'Siyas Collection Lac Cubic Zirconia Bangle Set (...\"': 1, 'Guava Casual Shoes\"': 1, 'X360 Backpacks\"': 1, 'Clear Shield Screen Protectors': 1, 'Viral Girl Women\\'s Full Coverage Bra\"': 1, 'DC Comics Geometry & Pencil Boxes\"': 1, 'Avaron Projekt Spectacles And Moustache Brooch (...\"': 1, 'Ligans NY Men Formal Black Genuine Leather Belt ...\"': 1, 'Fanideaz T-Shirts': 1, 'Mentiezi Red Flower Brooch (Gold, Red)\"': 1, 'Ortel Screen Protectors\"': 1, 'GISOLE Casual Shoes': 1, 'SANTOSH ROYAL FASHION Diwan Sets': 1, 'Dressmyphone Cases & Covers\"': 1, 'misshruts An Emerald Brooch Brooch (Gold, Green)\"': 1, 'DLOOP Hand Bags': 1, 'Be You Sterling Silver Peridot Rhodium Tennis Br...\"': 1, 'Springwel Single Spring Mattress (1828.8 X 1066....\"': 1, 'Bajaj Sandwich & Roti Makers': 1, 'APS Screen Protectors\"': 1, 'womaniya Alloy Bracelet\"': 1, 'Gadgetshieldz Screen Protectors\"': 1, 'Redwave Selfie Sticks': 1, 'Viari Hand Bags': 1, 'Vglit Bulbs\"': 1, 'DH-Discovery Home Theaters': 1, 'Speed USB Gadgets\"': 1, 'Bootwale Casual Shoes': 1, 'Disney Desk Organizers\"': 1, 'k~style Screen Protectors\"': 1, 'Cotonex Grey, Red Cotton Kitchen Linen Set (Pack...\"': 1, 'Italian Fashion wt272 Analog Watch  - For Girls,...\"': 1, 'Estilo Bottles & Shakers': 1, 'Lotto Casual Shoes\"': 1, 'Hartmann Trousers\"': 1, 'Zingalalaa Portable Projectors': 1, 'Fashion Craft Elegant Multicolor Rudraksha,Cryst...\"': 1, 'Deepvan Food Makers': 1, 'Curren Nx Blue Dial Stiched Strap Analog Watch  ...\"': 1, 'KKD Geometry & Pencil Boxes\"': 1, 'Zari Boxes Festive Gift Boxes\"': 1, 'Zoot24 Formal Shoes\"': 1, 'Bainsons USB Gadgets\"': 1, 'Hasbro Star Wars Clone Wars Exclusive Vehicle Ac...\"': 1, 'Fashion Plus Slippers & Flip Flops': 1, 'palito PLO 170 Analog Watch  - For Girls, Women\"': 1, 'ShopFloor.XYZ USB Gadgets\"': 1, 'Haier Refrigerators': 1, 'GAYATRI CREATIONS Lunch Boxes': 1, 'Airwind Xylophone001 (Multicolor)\"': 1, 'Mega product Posters': 1, 'Rajex Medical Equipment & Accessories\"': 1, 'Rhythem Listers Bulbs\"': 1, 'Yumlookup Hand Bags': 1, 'Trends On Wall Paintings': 1, 'Katwa Clasic Floral 2 Seater Table Cover (Green,...\"': 1, 'AdroitZ 1 White & Blue Two Wheeler Cover, 2 Beig...\"': 1, 'Krazy Fitness Kits': 1, 'REDMOMD RF-510 1600W, compact, with cool air sho...\"': 1, 's2s Shavers': 1, 'Art n Beyond Polyresin Wine Rack (White, 1 Bottle)\"': 1, 'TRENDIEZ Laptop Bags': 1, 'Chumbak Square Wood Coaster Set (Green, Pack of 4)\"': 1, 'Dolphin Product Hand Bags': 1, 'couponsmall Keyboards': 1, 'Kitchen Scissors': 1, 'CLYMB Sandals & Floaters': 1, 'Rdx Gaming Speakers': 1, 'Tomafo CLASSIC CAR LITHO - BLACK (Black)\"': 1, 'Adishma Printed Cushions Cover (40 cm*40 cm, Black)\"': 1, 'Headphones (With Mic)': 1, 'Crazy Deal Wrist Bands': 1, 'Aureno Casual Shoes\"': 1, 'Aster Luxury Soaps': 1, 'Cotonex Blue Cotton Kitchen Linen Set (Pack of 2)\"': 1, 'BASRA Changing Tables': 1, 'Bms Lifestyle Cases & Covers\"': 1, 'Starmark Blocks & Building Sets': 1, 'Nike Backpacks\"': 1, 'Tech Yug Headphones (With Mic)': 1, 'Cartoon Network Geometry & Pencil Boxes\"': 1, 'Le Angelique Hair Dryer Bonnet\"': 1, 'Digital Thermometers': 1, 'Pinc Ginger Series Lights\"': 1, 'Stylecentrum Formal Shoes\"': 1, 'Stylocus Pouches and Potlis\"': 1, 'Shadow Fax USB Gadgets\"': 1, 'North Union Casual Shoes\"': 1, 'Speedwav 1 Car Bumper Sticker, 1 Napoleon Air Fr...\"': 1, 'StyleStuffs AMEYMUG200 Ceramic Mug (325 ml)\"': 1, 'Neutron Screen Protectors\"': 1, 'Solo Files and Folders': 1, 'BM WOOD FURNITURE Wall Shelves': 1, 'Chevron Screen Protectors\"': 1, 'Auburn Casual Shoes\"': 1, 'The Intellect Bazaar Cotton Cartoon Single Bedsh...\"': 1, 'Fashion Point Crystal pandle holding kite Brooch...\"': 1, 'Zovi Trousers\"': 1, 'Health Care Accessories': 1, 'frontech USB Gadgets\"': 1, 'DC Universe Total Heroes Exclusive Batman Beyond...\"': 1, 'Discovery Toys MarbleworksÃ¢Â® Marble Run Starte...\"': 1, 'YoudyCo Girls, Women Heels\"': 1, 'Mahadev Handicrafts Ethnic\"': 1, 'ESIDON AKADA14 Analog Watch  - For Women\"': 1, 'Aden & M Soaps': 1, 'My Look KBSB-05-Beige-41 Bellies\"': 1, 'Pulse Audio 1 FM/USB Player, 1 Speaker Set Combo\"': 1, 'Footrendz Casual Bellies\"': 1, 'Facial Tissues': 1, 'Ethnic': 1, 'Kleio Clutches': 1, 'Storite Cables\"': 1, 'Importwala Water Fountains\"': 1, 'Aroma Comfort Polyester Brown Floral Eyelet Long...\"': 1, 'Bento Musical Drum Hen (Multicolor)\"': 1, 'The Art Treasure Shankh\"': 1, 'KoldFire USB Gadgets\"': 1, 'AND Designs Key Holders': 1, 'Shop & Shoppee Combo of Dancing Robot & Princess...\"': 1, 'Britex BT9026 Bluetec Bucherer Analog Watch  - F...\"': 1, 'United United Magic Silver 5 Ltr 5 L Pressure Co...\"': 1, 'Griiham Organic Cotton Sofa Cover (Golden maroon...\"': 1, 'Fashion Point Designer daimond holder Brooch (Si...\"': 1, 'Kolorfame Cases & Covers\"': 1, 'Naaz Tic Tac Toe mini Board Game\"': 1, 'Tile Cutters\"': 1, 'Coats': 1, 'Done By None Women, Girls Heels\"': 1, 'SHOPOJ Women Wedges\"': 1, 'Pout Brass Bangle\"': 1, 'Feather Leather Formal Shoes\"': 1, 'Bemoree Ball Pens': 1, 'Weldecor Wall Lamps': 1, 'Impala Alloy Cufflink (White)\"': 1, 'Aadyaa Collections Alloy Bangle Set (Pack of 2)\"': 1, 'Desire PT-362 Analog Watch  - For Men\"': 1, 'HNK 2300W Professional Hair Dryer SP1622W Hair D...\"': 1, 'Sam Stefy Casual Shoes\"': 1, 'Cue Sticks': 1, 'Wash Basin': 1, 'Italian Fashion wt262 Analog Watch  - For Girls,...\"': 1, 'Kiara Backpacks\"': 1, 'Snehkriti Pouches and Potlis\"': 1, 'Butterflies Hand Bags': 1, 'Darvesh Files and Folders': 1, 'Pittsburgh Polo Club PBPC-505-GRN Analog Watch  ...\"': 1, 'Aroma Comfort Polyester Cream Self Design Eyelet...\"': 1, 'Amatra Hand Bags': 1, 'Home Decor Line Wall Decals & Stickers\"': 1, 'Imagica Emerald Stone Necklace\"': 1, 'D-LINK Routers\"': 1, 'MannMohh Cases & Covers\"': 1, 'Sentinel Braveact Eren Jaeger \\\\\"Attack On Titan\\\\\" ...\"': 1, 'Usmas Cases & Covers\"': 1, 'Wisdom MW0082 Analog Watch  - For Men, Boys\"': 1, 'Priority Hand Bags': 1, 'Nilkamal Queen Spring Mattress (1905 X 1524 X 12...\"': 1, 'BELL Earphone Cable Organizers': 1, 'Facial Kits': 1, 'Soy Impulse Bulbs\"': 1, 'Pawtec Batteries': 1, 'Interio Crafts Gramophones\"': 1, 'Optokart Contact Lenses': 1, 'RoQ USB Gadgets\"': 1, 'NE Jeans\"': 1, 'Craft Store India Showpieces\"': 1, 'Treasure Trunk Notepads\"': 1, 'Planet Superheroes T-Shirts\"': 1, 'Tyres': 1, 'Lip Liners': 1, 'Digni Boots\"': 1, 'Inc.5 Bellies\"': 1, 'L Oreal Baby Body Wash': 1, 'Locks\"': 1, 'Quilt India Floral Cushions Cover (77 cm, Gold)\"': 1, 'GrandShop Series Lights\"': 1, 'Remtex Export Cartoon Single Dohar Multicolor (1...\"': 1, 'TeEye Backpacks\"': 1, 'Saco Mouse Pads': 1, 'Physical': 1, 'Celebrity Vanity Boxes\"': 1, 'Alexus Inflatable Products\"': 1, 'Nova NS217 NS 217 Trimmer, Clipper, Shaver For M...\"': 1, 'Giftwell Gramophones': 1, 'Klaska Pouches and Potlis\"': 1, 'Park Avenue Trousers': 1, 'Fashion Bizz Hand Bags\"': 1, 'Barbar Hair Dryer Bonnet\"': 1, 'GIMS Brown Viscose Carpet (165 cm  X 120 cm)\"': 1, 'Walking': 1, 'BEARDO Soaps': 1, 'Opaleena Wall Shelves': 1, 'KRAZY KATZ T-Shirts': 1, 'Pure Play Casual Shoes': 1, 'Tks Baby Bath Towels': 1, 'THINK3 Lightings': 1, 'ShoeBuzz Casual Shoes': 1, 'HRX Casual Shoes\"': 1, 'Alessia74 Hand Bags\"': 1, 'DreamShop USB Gadgets\"': 1, 'Pg handicrafts Ethnic\"': 1, 'X-WELL Hand Bags': 1, 'Sigmatech Art & Craft Toys': 1, 'Utsukushii Hand Bags': 1, 'Nova Electric Jug(heater)/Travel Kettles': 1, 'Goyal India Garden Stakes\"': 1, 'Reebok Sports Shoes\"': 1, 'Orkus Bulbs\"': 1, 'Sea Shell Cups & Saucers\"': 1, 'Purpledip Ethnic\"': 1, 'Tangerine Crystal Brooch (Copper)\"': 1, 'Aroma Diffuser': 1, 'Vency creation College Bags': 1, 'Spiderman Geometry & Pencil Boxes\"': 1, 'Style HD Sandals & Floaters': 1, 'Instyles Cases & Covers\"': 1, 'Boards': 1, 'AKUP i-loves-music Ceramic Mug (300 ml)\"': 1, 'CHKOKKO Chains Alloy Necklace\"': 1, 'Jaipur Print Diwan Sets': 1, 'Tappu Ki Dukaan Cotton Apron Free Size (Black, S...\"': 1, 'Wermin T-Shirts\"': 1, 'JewelKraft Designs Brown, Pink Table Linen Set\"': 1, 'Starsy Printed Women\\'s Round Neck Green T-Shirt\"': 1, 'GadgetGuru Routers\"': 1, 'Face Treatments': 1, 'fourgee Western Wear': 1, 'Guardian Slippers & Flip Flops': 1, 'Toygully Series Lights\"': 1, 'MINDITDADDY Casual Shoes': 1, 'Lowe Alpine Rucksack Raincover Raincover M Lugga...\"': 1, 'Blissjunkies Lanyards\"': 1, 'Case Logic Cases & Covers\"': 1, 'O Teddy Desk Organizers\"': 1, 'Showpieces & Figurines': 1, 'Black Wing T-Shirts\"': 1, 'AKUP i-creid-because Ceramic Mug (300 ml)\"': 1, 'LAMS Ethnic\"': 1, 'MyKid Nappies & Cloth Diapers\"': 1, 'Northwear Backpacks\"': 1, 'Anuradha Art Designer Brooch (Gold)\"': 1, 'Schwarzkopf Conditioners': 1, 'Exilient Batteries\"': 1, 'Tangerine Crystal Brooch (Silver)\"': 1, 'Japdan Anti Dust Plugs': 1, 'Villagsio T-Shirts\"': 1, 'Oil Dispensers': 1, 'Agrima USB Gadgets\"': 1, 'Sparx Casual Shoes\"': 1, 'Shopernow Cocktail Designer Alloy Necklace\"': 1, 'Coddle Nappies & Cloth Diapers\"': 1, 'JG Shoppe Backpacks\"': 1, 'Masterhandicraft Decorative Platters\"': 1, 'A To Z Traders Series Lights\"': 1, '@home Annulus Solid Wood Dressing Table (Finish ...\"': 1, 'Globalite Pivot Bellies\"': 1, 'Alex\\'s Geometry, Pen & Pencil boxes\"': 1, 'Happiness Is Printed Bone China Mug (300 ml)\"': 1, 'REEBOK T-Shirts\"': 1, 'Shopmania Printed-DESN-1299 Ceramic Mug (300 ml)\"': 1, 'iCare Cases & Covers\"': 1, 'Itiha Series Lights\"': 1, 'Smart Picks Friction Lamborghini Car_Red (Red)\"': 1, 'CraftGhar Cups & Saucers': 1, 'Meow Wings Hand Bags': 1, 'OceaN Glasses & Tumblers': 1, 'Kielz Casual Shoes\"': 1, 'Dilan Jewels Alloy Crystal 18K Yellow Gold Bangl...\"': 1, 'Roadster Jeans\"': 1, 'Outdazzle Designer Scorpio for Men\\'s Suit, Jacke...\"': 1, 'Walk Free Casual Shoes\"': 1, 'MeeMee Baby Mats': 1, 'OGX Conditioners': 1, 'Indian Fashion Brass Bangle Set\"': 1, 'Shoe Polishes & Creams': 1, 'Port Casual Shoes\"': 1, 'Sonilex Speakers': 1, 'Peepal Comm USB Gadgets\"': 1, 'ROYLE KATOCH Gramophones': 1, 'Ligans NY Sling Bags': 1, 'Seema\\'S Craft Creation Ethnic\"': 1, 'Sherwanis': 1, 'Zidane Headphones (With Mic)': 1, 'Salon Tech Hair Dryer Bonnet\"': 1, 'Elephant Lids\"': 1, 'Lemingo Casual Shoes\"': 1, 'Vizio Bulbs\"': 1, 'Burt s Bees Conditioners': 1, 'AKUP happy-new-year-love- Ceramic Mug (300 ml)\"': 1, 'Playhood Tree House (Green, Brown)\"': 1, 'MOBILECOPS Cases & Covers\"': 1, 'Axcess Lens Hoods': 1, 'Dragon USB Gadgets\"': 1, 'Asaba Trousers\"': 1, 'Showpiece': 1, 'BagsHub Sling Bags': 1, 'Herbal Jewellery Resin, Wood Bracelet\"': 1, 'Aroma Comfort Polyester Purple Printed Eyelet Wi...\"': 1, 'Sukhson India Decorative Platters\"': 1, 'Lotus Disk Shooter Toy (Black)\"': 1, 'Doctor Who Prisoner Zero Action Figure (Multicolor)\"': 1, 'JBI Hand Bags': 1, 'Donner Casual Shoes\"': 1, 'Playhood CB01 (Blue)\"': 1, 'Soil Manures': 1, 'Sasta Desk Organizers\"': 1, 'LivUP T-Shirts\"': 1, 'Technix Mats': 1, 'Justanned Cases & Covers\"': 1, 'Chhota Bheem Geometry & Pencil Boxes\"': 1, 'Winkel Formal Shoes\"': 1, 'Cleaning Sets': 1, 'Kapa Cases & Covers\"': 1, 'Poshuis T-Shirts\"': 1, 'Bharat Bulbs\"': 1, 'Windcheaters': 1, 'Shaving Creams': 1, 'BabyBucket Baby Bath Towels\"': 1, 'LG Microwave Ovens': 1, 'Ollington St. Collection Nappies & Cloth Diapers\"': 1, 'STREET LONDON Casual Shoes': 1, 'Dinero Hand Bags\"': 1, 'Mast & Harbour Hand Bags': 1, 'BRECKEN PAUL Ball Pens': 1, 'Npplastics Lens Adapters\"': 1, 'Cythos Casual Shoes\"': 1, 'Avaron projekt Clock Brooch (Black, Gold)\"': 1, 'Audeze Headphones': 1, 'Kujaparis Casual Shoes\"': 1, 'Home Fashion Gallery Polyester Pink Floral Eyele...\"': 1, 'Gasket Jeans\"': 1, 'Mobilecops Cases & Covers\"': 1, 'posterchacha Ishita Personalised Custom Name Hap...\"': 1, 'INDILEGO Women Flats\"': 1, 'Pro biker 1 Bike Gloves, 1 Neoprene Face Mask-Bl...\"': 1, 'Leatherworld Formal Shoes\"': 1, 'Style Homez Abstract Cushions Cover (30 cm*30 cm...\"': 1, 'Chipmunk Clutches': 1, 'Space Women Heels\"': 1, 'Sparx Casual Shoes': 1, 'Elan Journals\"': 1, 'GAI Casual Shoes\"': 1, 'Creative Textiles Bath Mats': 1, 'Mobirite USB Gadgets\"': 1, 'SayItloud T-Shirts\"': 1, 'Sentinel Mak Furige Model 07 (Multicolor)\"': 1, 'FURNISHINGLAND Brown Polyester Carpet (110 cm  X...\"': 1, 'Knobs & Handles': 1, 'Zobello Casual Shoes\"': 1, 'Car Mats\"': 1, 'tp-Link Routers\"': 1, 'RCCB': 1, 'Prime Printed 8 Seater Table Cover (Multicolor, ...\"': 1, 'Mobile Cables': 1, 'Fashion Point Ganesha design Brooch (Multicolor)\"': 1, 'Wayona Power Banks': 1, 'Tp-Link Routers\"': 1, 'Rashmi Bulbs\"': 1, 'Tootpado Art & Craft Toys': 1, 'Wild Republic Nature Tube Dino (Multicolor)\"': 1, 'Tor Casual Shoes\"': 1, 'Nilkamal Outdoor & Cafeteria Chairs': 1, 'Wi Retail Golden Deer Brooch (Gold)\"': 1, 'Gas Jeans\"': 1, 'Quechua Sports Shoes\"': 1, 'Casotec Screen Protectors\"': 1, 'Samsung Cases & Covers\"': 1, 'Surface180 Ethnic\"': 1, 'Chumbak Geometry & Pencil Boxes\"': 1, 'BGS Alloy Kada\"': 1, 'Bento Musical Teddy Bear (Multicolor)\"': 1, 'jaisayram Bedsheets': 1, '3kFactory Baby Shower Caps': 1, 'Bento Cute\"': 1, 'AW Bellies\"': 1, 'Hookah Mouth Tips': 1, 'HMO India Cases & Covers\"': 1, 'Ally The Creations Printed Cushions Cover (Pack ...\"': 1, 'Ubiquiti Routers\"': 1, 'Ibz Speakers': 1, 'Cello Mixer/juicer/grinders\"': 1, 'Craftshraft Hand Bags\"': 1, 'Anamis Showpieces\"': 1, 'Shrikant Traders Baby Bath Towels\"': 1, 'BRANDWAGON Paintings': 1, 'Anuradha Art Chabi Challa Brooch (Pink)\"': 1, 'Luigi Bormioli Glasses & Tumblers\"': 1, 'AM Creation Magic  Ceramic Mug (273 ml, Pack of 2)\"': 1, 'Viral Girl Lingerie, Sleep & Swimwear': 1, 'Masterfit Laundry': 1, 'TRESemme Baby Body Wash': 1, 'Kiya Trends Series Lights\"': 1, 'Bike Styling': 1, 'Oriflame College Bags': 1, 'Tennis Sports Shoes': 1, 'Adino ADF04 Analog Watch  - For Girls\"': 1, 'Manthan Slippers & Flip Flops': 1, 'Socks & Stockings': 1, 'Good Night Bedsheets': 1, 'Balaji Velvet Sofa Cover (Brown Pack of 6)\"': 1, 'Pawzone Round Stainless Steel Pet Bowl (20 Pink)\"': 1, 'Generix Cases & Covers\"': 1, 'Maharaja Food Makers': 1, 'Katwa Clasic Floral 6 Seater Table Cover (Beige,...\"': 1, 'INEXT IN-031 Hair Dryer (MULTI COLOUR)\"': 1, 'Gigabyte Motherboards': 1, 'SSD Geometry & Pencil Boxes\"': 1, 'Vedic Vaani Shankh\"': 1, 'Dimple Creation Pearl 5 Layer Two Sided Pin/Kalg...\"': 1, 'Fun Blox Blocks & Building Sets': 1, 'Aroma Comfort Polyester Pink Printed Eyelet Long...\"': 1, 'Pawzone Round Stainless Steel Pet Bowl (1 L Orange)\"': 1, 'GANPATI WHOLSALER USB Gadgets\"': 1, 'Simoco Bulbs\"': 1, 'Stools': 1, 'Rock Polo Backpacks\"': 1, 'Wisdom LW0065 Analog Watch  - For Women, Girls\"': 1, 'Zaicus USB Gadgets\"': 1, 'Arrow Sports Trousers\"': 1, 'Svype Cables': 1, 'Oren Empower Stickers\"': 1, 'Koie Batteries': 1, \"Khadim's Formal Shoes\": 1, 'Mayursflora Artificial Plants': 1, 'Conair Hair Dryer Bonnet\"': 1, 'Anuradha Art Stylish Designer Brooch (Gold)\"': 1, 'The Decor mart Photo Frames': 1, 'Adore London Hand Bags': 1, 'Abayas & Burqas': 1, 'BARESKIN Slippers & Flip Flops': 1, 'SENECIO \\'S 1Pair Partywear Punk Feather Angel Wi...\"': 1, 'Cookart Casserole & Sets': 1, 'Alister Casual Shoes\"': 1, 'Indidecor Double Magic Magnet Slate (Red, Pink, ...\"': 1, 'AKUP crazy-women Ceramic Mug (300 ml)\"': 1, 'Eaglemoss Publications Star Trek Starships Figur...\"': 1, 'Dhhan Headphones': 1, 'Zenescope Entertainment Board Games': 1, 'Borse Vanity Boxes\"': 1, 'Xupply Square Pack of 1 Table Placemat (Multicol...\"': 1, 'ocean Bar Glasses': 1, 'Smartpro Cables\"': 1, 'V&G Professional HD-36 Hair Dryer (Black)\"': 1, 'Bombay Dyeing Cotton Geometric King sized Double...\"': 1, 'BrandTrendz Formal Shoes': 1, 'salt n pepper Formal Shoes': 1, 'Aimedu Toy Combo Pack Of 6 Frames And 1 Carving ...\"': 1, 'Victoria\\'s Secret NEW! Noir Tease Gift Set (Set of)\"': 1, 'Only4you Backpacks\"': 1, 'Matrikas Diaries\"': 1, 'X Doria Cases & Covers\"': 1, 'Abhomedecor Cotton Abstract Double Bedsheet (1 B...\"': 1, 'Speedwav 1 Rear View Mirror Screen, 1 4.3 Inch S...\"': 1, 'Aquarium Filters\"': 1, 'CHINMAY KIDS Baby Mosquito Nets': 1, 'keco Women Heels\"': 1, 'Aerosoft Slippers\"': 1, 'Home Delight Night Lamps': 1, 'OM SHIVAKRITI Gramophones': 1, 'Wildcraft Backpacks\"': 1, 'Shopernow Intertwined Alloy Necklace\"': 1, 'Pinatas': 1, 'Four Paws oval Plastic Pet Bowl & Bottle (0.5 L ...\"': 1, 'Xenio Screen Protectors\"': 1, 'Nova Batteries\"': 1, 'Aagam TM-RTX2 Stainless Steel Mug (80 ml, Pack o...\"': 1, 'TOTU DESIGN Cases & Covers\"': 1, 'FCS Key Chains\"': 1, 'TOMAFO Car (Multicol)\"': 1, 'Sapphire Diaries Planners & Organisers\"': 1, 'Pratap Geometry & Pencil Boxes\"': 1, 'Swethamber Arts Ethnic\"': 1, 'HomeEdge Health Care Devices': 1, 'Rasa Calendars Calendars\"': 1, 'adidas Sports Shoes\"': 1, 'FURNISHINGLAND Orange Silk Carpet (60 cm  X 180 cm)\"': 1, 'Cotab Mobile Holders': 1, 'palito PLO 149 Analog Watch  - For Girls, Women\"': 1, 'umda Diaries\"': 1, 'Ravetech 7\\\\\" Mp5 Mirror monitor, car rear view ca...\"': 1, 'Vodafone Routers\"': 1, 'Zovi Casual Shoes\"': 1, 'Quilt India Floral Cushions Cover (77 cm, Brown)\"': 1, 'nogaiya Ceiling Lights': 1, 'Platinum Fountain Pens': 1, 'Desire PT-358 Analog Watch  - For Men\"': 1, 'Murcia Hand Bags\"': 1, 'Gudi Maternity Wear': 1, 'Adam\\'s Heel Formal Shoes\"': 1, 'NYN Makeup Kits\"': 1, 'Robotel Batteries': 1, 'Prajo Hand Bags': 1, 'RoyalOak Outdoor & Cafeteria Chairs': 1, 'Hotshot USB Gadgets\"': 1, 'RX7 Superlite Hair Dryer Bonnet\"': 1, 'Skipper Curtains': 1, 'Thar Handloom Vanity Boxes\"': 1, '4thneed T-Shirts\"': 1, 'Craftatoz Coin Banks': 1, 'Chandra Creations Brass Bangle Set (Pack of 2)\"': 1, 'Bajya Attractive 24K Yellow Gold Plated Brass Chain\"': 1, 'Hemden Cushion Covers': 1, 'Voril Fashion Yellow Gold Plated Plastic Necklace\"': 1, 'Travel Bottles': 1, 'TEMPO Slippers & Flip Flops': 1, 'Crompton Irons': 1, 'CHKOKKO Headphones (With Mic)': 1, 'SUNFLAME Irons': 1, 'IShoes Formal Shoes\"': 1, 'Scion Floral Saree Pin Quilling Brooch (Brown)\"': 1, 'Bharatcraft Wall Hanging Of Lord Ganesha On A Cr...\"': 1, 'aadi Sports Shoes': 1, 'Gulshan Arts Crafts Ethnic\"': 1, 'Quilt India Floral Cushions Cover (77 cm, Dark B...\"': 1, 'AROVI Women Heels\"': 1, 'Infiniti Bulbs\"': 1, 'Suave Conditioners': 1, 'Yuuup Screen Protectors\"': 1, 'Subh-Akriti Artificial Plants': 1, 'Adishma Printed Cushions Cover (40 cm*40 cm, Blue)\"': 1, 'ColorPlus Trousers': 1, 'Pawzone Round Stainless Steel Pet Bowl (1 L Black)\"': 1, 'MohanJodero Vanity Boxes': 1, 'Bottle Openers': 1, 'Wow Mobile Pouches\"': 1, 'Proence Weight Gainers, Mass Gainers (60 No, Unf...\"': 1, 'Zerogravity Rucksacks\"': 1, 'DressBerry Bellies\"': 1, 'Liberty Formal Shoes': 1, 'Wild Republic Nature Tube Rainforest (Multicolor)\"': 1, 'Aroma Comfort Polyester Dark Blue Plain Eyelet W...\"': 1, 'Tao Communications Paintings\"': 1, 'dgold Citrine Stone Necklace\"': 1, 'Alpana Arts Ethnic\"': 1, 'Black Bull Casual Shoes\"': 1, 'Tf Pro TV-Out Cable': 1, 'Aftershave Lotions': 1, 'Molife Screen Protectors\"': 1, 'Liza Women Wedges\"': 1, 'Twilight Creations Board Games': 1, 'Platignum Ball Pens\"': 1, 'RJ Headphones': 1, 'Disney Frozen Mini Toddler Figurine Anna (Multic...\"': 1, 'Warner Brothers Geometry & Pencil Boxes\"': 1, 'Clogs': 1, 'TEN Casual Shoes\"': 1, 'Shilpi Coin Banks': 1, 'Hot Muggs Bar Glasses\"': 1, 'Stuffcool USB Gadgets\"': 1, 'Clovia Women\\'s T-Shirt Bra\"': 1, 'Dragon Geometry & Pencil Boxes\"': 1, 'TIGI BED HEAD Conditioners': 1, 'G&G Minion It Was\\'t Me Ceramic Mug (350 ml)\"': 1, 'Rusk Hair Dryer Bonnet\"': 1, 'Total Furnishing Ethnic\"': 1, 'Asavari world Storage Baskets': 1, 'Spinn Sandals & Floaters': 1, 'Urban Monk Posters': 1, 'V Creations Artificial Plants': 1, 'Laploma Routers\"': 1, 'Oharish T-Shirts\"': 1, 'Atrangee Totes\"': 1, 'One11 T-Shirts\"': 1, 'FURNISHINGLAND Multicolor Polyester Carpet (150 ...\"': 1, 'Cotonex Red, White Cotton Kitchen Linen Set (Pac...\"': 1, 'Aadishwar Creations USB Gadgets\"': 1, 'Nova Professional NHC-5916 Trimmer For Men (Whit...\"': 1, \"Buyer's Beach Bar Glasses\": 1, 'Change360° Maternity Wear': 1, 'Zed Casual Shoes': 1, 'Head Kik Headphones': 1, 'Firangi Cotton, Polyester Free Floor Mat Firangi...\"': 1, 'Paint Brushes': 1, 'Freelance Water Bottles': 1, 'HK-Impex Girls Sandals\"': 1, 'Value Bay VBCMF05 Ceramic Mug (3.5 ml)\"': 1, 'Birthdaygiftwala Desk Organizers\"': 1, 'Real Blue Casual Shoes\"': 1, 'Big Mike s Lens Hoods': 1, 'Synergy Coin Banks': 1, 'King Traders Kitchen Tool Sets': 1, 'Invaders ADRL BLUBLU Analog Watch  - For Men, Boys\"': 1, 'YoudyCo Girls, Women Bellies\"': 1, 'Foot Furnish Girls, Women Wedges\"': 1, 'Vgstore Rectangular Pack of 6 Table Placemat (Da...\"': 1, 'Imported Disposable Waxing Strips With Spatula K...\"': 1, 'Weigel & Fox Hand Bags\"': 1, 'JaipurCrafts Ethnic\"': 1, 'Casual Shoes\"': 1, 'Sentinel Metamorforce Dino Getter 2 (Multicolor)\"': 1, 'Clear Face Combo & kits': 1, 'Aroma Comfort Polyester Brown Printed Eyelet Win...\"': 1, 'Teen Tees T-Shirts\"': 1, 'FabSeasons Backpacks\"': 1, 'Cotonex Beige Cotton Kitchen Linen Set (Pack of 2)\"': 1, 'Kemei Professional 01400-0015 Trimmer For Men (M...\"': 1, 'Suit Fabrics': 1, 'Shopernow Medallions Alloy Necklace\"': 1, 'Disney Frozen Mini Toddler Figurine Sparkle Elsa...\"': 1, 'Sound Logic Headphones': 1, 'Totta Mobile Pouches\"': 1, 'PURBI CRAFTS Contemporary': 1, 'Aquarium Filters': 1, 'L Oreal Hair Colors': 1, 'Innovative Wall Shelves': 1, 'Orient Bulbs\"': 1, 'StyleStuffs AMEYMUG83 Ceramic Mug (325 ml)\"': 1, 'Udaipur Art Gallery Decorative Platters\"': 1, 'Bars': 1, 'Scomp Batteries\"': 1, 'Desire PT-378 Analog Watch  - For Women\"': 1, 'dgold Quartz Stone Necklace\"': 1, 'Tanny Shoes Casual Shoes\"': 1, 'Balujas Sandals & Floaters\"': 1, 'WD Routers\"': 1, 'Stamin Mass Gainers (2 kg, Strawberry)\"': 1, 'SJ USB Gadgets\"': 1, 'Boss Mixer/juicer/grinders': 1, 'Simitoes Women Clogs\"': 1, 'Gold Dust Cables': 1, 'Naxa Electronics Headphones': 1, 'Angelfish Pouches and Potlis': 1, 'Rock USB Gadgets\"': 1, 'Excellent4U Baby Bath Towels\"': 1, 'Bottle Covers': 1, 'ruchiworld Ethnic\"': 1, 'Eveready Bulbs\"': 1, 'gurjari oxidised kurta button brooch Brooch (Black)\"': 1, 'Mivera Brooch (Pink)\"': 1, 'nayasa Water Purifier Bottles': 1, 'generic Menstrual Cups': 1, 'Boreal Plastic rectangular hair brush 633D\"': 1, 'fourgee Slim Fit Women\\'s Blue Jeans\"': 1, 'Lee Jeans\"': 1, 'Kanha poshak Chowkis': 1, 'Heels & Handles Pouches and Potlis\"': 1, 'TF Home Decor Cases & Covers\"': 1, 'Blue Me Trimmer 216 B Shaver For Men, Women (Mul...\"': 1, 'Shirt Fabrics': 1, 'TOP Q Cases & Covers\"': 1, 'Carlos CR-702741 Analog Watch  - For Girls\"': 1, 'MRK Communication USB Gadgets\"': 1, 'Zebra Formal Shoes\"': 1, 'RKDEAL Car\"': 1, 'Cotonex Yellow, Green Cotton Kitchen Linen Set (...\"': 1, 'Pico Battery chargers\"': 1, 'Furry Baby Blankets\"': 1, 'Janhvi Speakers': 1, 'Tom and Jerry 9 Piece Play Set with 9 Tom, Jerry...\"': 1, 'Urban WhiZ Casual Shoes': 1, 'Avaron Projekt Black Moustache With Swarovski De...\"': 1, 'TSG Escape T-Shirts': 1, 'Aeoss Routers\"': 1, 'Nihar Ethnic\"': 1, 'AdroitZ 1 Black & Orange Two Wheeler Cover, 2 Bl...\"': 1, 'Ovente Hair Dryer Bonnet\"': 1, 'Mentiezi Blue Maroon Flower Brooch (Gold, Blue, ...\"': 1, 'GND Headphones (With Mic)': 1, 'vinay Ball Pens': 1, 'Lollipop Lane Baby Grooming Combos\"': 1, 'Cricket Grips': 1, 'Graco Strollers & Prams': 1, 'AKUP beautiful Ceramic Mug (300 ml)\"': 1, 'Paul Mitchell Conditioners': 1, 'Brandvilla Formal Shoes': 1, 'A R ENTERPRISES musical wlking cow (Multicolor)\"': 1, 'Neopack Cases & Covers\"': 1, 'U & ME Nappies & Cloth Diapers\"': 1, 'Rosepetal Cotton Floral Diwan Set\"': 1, 'Kuts N Crvs Casual Shoes\"': 1, 'LUV USB Gadgets\"': 1, 'Ts4U Casual Shoes\"': 1, 'Forty Creek USB Gadgets\"': 1, 'Vogue Tree Sling Bags\"': 1, 'Marami 9 10 7  - 13 inch (Yellow)\"': 1, 'Lepot Casual Shoes\"': 1, 'SAG Technical Solutions Bulbs\"': 1, 'walletsnbags Y- Back Suspenders for Men (Brown)\"': 1, 'Anuradha Art Silver Polished Brooch (White)\"': 1, 'loomkart Blue Polyester Runner (55 cm  X 147 cm)\"': 1, 'Quilt India Floral Cushions Cover (77 cm, Green)\"': 1, 'Puma Laptop Bags': 1, 'X-Doria Cases & Covers\"': 1, 'WRITEFLO Ball Pens': 1, 'Sygtech USB Gadgets\"': 1, 'Fuschia Soaps\"': 1, 'I SQUARE ENTERPRISES solar kit (Green, White)\"': 1, 'Sony Battery chargers\"': 1, 'Aroma Comfort Polyester Pink Printed Eyelet Wind...\"': 1, 'Khadi Herbal Body and Essential Oils': 1, 'Indha Craft Photo Frames\"': 1, 'Craftuno Vanity Boxes\"': 1, 'sharp n style Pink Rose Brouch Brooch (Pink)\"': 1, 'Naisha Casuals\"': 1, 'JTC Platinum Appliance Covers': 1, 'Birdy Stainless Steel Collapsible\"': 1, 'HoA Nappies & Cloth Diapers\"': 1, 'AKUP keep-calm Ceramic Mug (300 ml)\"': 1, 'Predator Official Licensed7\\\\\" Vs Dutch 2 Pack (Mu...\"': 1, 'Aagam TM-RTTX4 Stainless Steel Mug (80 ml, Pack ...\"': 1, 'Ruvee Marwari Style Brooch (Red)\"': 1, 'Avaron Projekt Crown With White Stone Detailing ...\"': 1, 'Tappu Ki Dukaan Cotton Apron Free Size (Red, Sin...\"': 1, 'Elegance Polyester Multicolor Abstract Eyelet Do...\"': 1, 'palito PLO 169 Analog Watch  - For Girls, Women\"': 1, 'Harrisons Backpacks\"': 1, 'Dhhan Lightings': 1, 'StyleStuffs AMEYMUG30 Ceramic Mug (325 ml)\"': 1, 'Dloop Files and Folders': 1, 'Nike Sports Shoes': 1, 'Camt Files and Folders': 1, 'Cutebaby Geometry & Pencil Boxes\"': 1, 'Abee Series Lights\"': 1, 'Saum Creation Ethnic\"': 1, 'Painting Mantra Photo Frames\"': 1, '24 Carat Formal Shoes\"': 1, 'Wishkey 4D printing Talking Tom Learning Ipad fo...\"': 1, 'Wallmantra Wall Decals & Stickers\"': 1, 'JEWEL FUEL Hand Bags': 1, 'Dorrissini Casual Shoes\"': 1, 'NESTWELL Hand Blenders': 1, 'Texus TXMW93 Black Analog Watch  - For Men, Boys\"': 1, 'Kitchen Handi': 1, 'SAVON Jeans': 1, 'AYESHA Metal Chain\"': 1, 'dgold Spinel Stone Necklace\"': 1, 'Nick Geometry & Pencil Boxes\"': 1, 'AKUP life-is-not-living Ceramic Mug (300 ml)\"': 1, 'StyleStuffs AMEYMUG41 Ceramic Mug (325 ml)\"': 1, 'Newdort Charging Pads': 1, 'Anuradha Art Antique Golden Polished Brooch (Mar...\"': 1, 'Inego Trousers\"': 1, 'Mad(e) in India Bar Glasses': 1, '99Moves Casual Shoes\"': 1, 'Guards': 1, 'Stamp Pads': 1, 'Wood Beauty Photo Frames\"': 1, 'Airplus Cases & Covers\"': 1, 'FURNISHINGLAND Green Silk Carpet (60 cm  X 180 cm)\"': 1, 'Zebie Power Banks': 1, 'Ryka Geometry & Pencil Boxes\"': 1, 'Men Style Alloy Bracelet\"': 1, 'Capdase Cases & Covers\"': 1, 'Avalon Organics Baby Body Wash': 1, 'Love Baby Baby Bath Towels\"': 1, 'Harshita Diaries\"': 1, 'Vps Cases & Covers\"': 1, 'AKUP dad-a-daughters-first-love Ceramic Mug (300...\"': 1, 'Netgear Routers': 1, 'Karp USB Gadgets\"': 1, 'Stellar Collections Slippers\"': 1, 'OOBINNO Paintings': 1, 'Leaf Backpacks\"': 1, 'Janhvi Lightings': 1, 'Whiteboards': 1, 'Quilt India Floral Cushions Cover (77 cm, Beige)\"': 1, 'Quilt India Floral Cushions Cover (77 cm, Blue)\"': 1, 'Basics Casual Shoes\"': 1, 'SIHRA Fashion Microphone (Pink)\"': 1, 'Lingerie & Sleepwear': 1, 'Instella USB Gadgets\"': 1, 'Art n Beyond Bar Glasses': 1, 'brass gift center Showpiece  -  48 cm (Brass, Mu...\"': 1, 'IFROGZ Cases & Covers\"': 1, 'Style Foot Bellies\"': 1, 'Tupperware Geometry & Pencil Boxes\"': 1, 'SDZ Headphones (With Mic)': 1, 'Wood Active Casual Shoes\"': 1, 'Task Logistics USB Gadgets\"': 1, 'Jack & Jones Jeans\"': 1, 'Pawzone Round Stainless Steel Pet Bowl (20.4 Blue)\"': 1, 'Gato Casual Shoes': 1, 'codio World Power Banks': 1, 'Bling Cases & Covers\"': 1, 'Respiratory Exercisers': 1, 'ESIDON AKADA11 Analog Watch  - For Women\"': 1, 'STYLE CLUES FASHION Posters': 1, 'Saco Keyboards\"': 1, 'Carlos CR-7026458 Analog Watch  - For Girls\"': 1, 'Big Balaji Bulbs\"': 1, 'Breathe Women Flats\"': 1, 'Uniross Battery chargers\"': 1, 'Tweety Geometry & Pencil Boxes\"': 1, 'Transcend MP4 / Video MP3 Players\"': 1, 'Reyes Reales Women Wedges\"': 1, 'Tucano Cases & Covers\"': 1, 'FLITE Slippers & Flip Flops': 1, 'Little India Vanity Boxes\"': 1, 'Tangerine Crystal Brooch (White)\"': 1, 'Proganix Hair Styling': 1, 'Scratchgard Screen Protectors\"': 1, 'Adidas Women Sports Sandals\"': 1, 'Beetel Routers\"': 1, 'DARPAN Scissors': 1, 'Mast & Harbour Casual Shoes\"': 1, 'Intex 5 Feet Swimming Pool With Hand Pump (Multi...\"': 1, 'Red Chief Casual Shoes\"': 1, 'Tabu 22 Activities English Learner Laptop Toy (B...\"': 1, 'DGB Batteries\"': 1, 'Sharon Casual Shoes\"': 1, 'D\\'steek Abstract Cushions Cover (Pack of 5, 30.4...\"': 1, 'Knotty Derby Casual Shoes': 1, 'SMC Routers\"': 1, 'Amit Carpet Bath Mats': 1, 'XEBAC Anti Radiation Stickers & Chips': 1, 'Vector X Sports Shoes\"': 1, 'Spin Master 1 (4 to 12 Years)\"': 1, 'Van Heusen Trousers\"': 1, 'Italian Fashion wt263 Analog Watch  - For Girls,...\"': 1, 'MAK Batteries': 1, 'ADIWALK Sports Shoes': 1, 'Allora Screen Expander For Phones': 1, 'RoyalsCart Ethnic\"': 1, 'the jewelbox Brass Cufflink (C1137DIDDET)\"': 1, 'Sitaram SRE209 Digital Watch  - For Boys, Men, G...\"': 1, 'Recrafto Vanity Boxes\"': 1, 'Best Walk Casual Shoes\"': 1, 'RSI Geometry, Pen & Pencil boxes\"': 1, 'SIESTA Western Wear': 1, 'Justanned Wallets\"': 1, 'Looney Tunes Geometry & Pencil Boxes\"': 1, 'Wolf T-Shirts\"': 1, 'Dicapac Cases & Covers\"': 1, 'Carlos CR-7029965 Analog Watch  - For Girls\"': 1, 'Pawzone Round Stainless Steel Pet Bowl (20.2 Red)\"': 1, 'RIANZ New Fashion Moonlight Gem Stone Flower Fab...\"': 1, 'Bond Beatz Bluetooth Headphones (With Mic)': 1, 'GOGLE SOURCING Selfie Sticks': 1, 'Lovely Plastic Desk Chair (Finish Color - Multic...\"': 1, 'Setu Infocom Routers\"': 1, 'Lee Marc Trousers\"': 1, 'Escoda Paint Brushes': 1, 'Safari Ltd. Designer TOOBS Days of Old (Multicolor)\"': 1, 'Lee Cooper Casual Shoes\"': 1, 'Pack N Buy Desk Organizers': 1, 'The Ethnic Story Ethnic\"': 1, 'Hiakan Supports': 1, 'FabSeasons Geometry & Pencil Boxes\"': 1, 'Asian Women Sports Sandals\"': 1, 'Touristor Casual Shoes\"': 1, 'Parv Collections Hand Bags\"': 1, 'Leather Like Formal Shoes\"': 1, 'Biceps Triceps Accessories\"': 1, 'VolleyBalls': 1, 'Spunk Geometry & Pencil Boxes\"': 1, 'Rulers': 1, 'AYMH Wall Shelves': 1, 'Priya Exports Geometry & Pencil Boxes\"': 1, 'Aapno Rajasthan Vanity Boxes': 1, 'Neyth Baby Bath Towels\"': 1, 'Travel Organizers': 1, 'SSM Hand Bags': 1, 'Stellar TV & Entertainment Units': 1, 'TRINK Screen Protectors': 1, 'Krypton Hair Colors': 1, 'AND Designs Contemporary': 1, 'ACM Screen Protectors\"': 1, 'Bands': 1, 'Sutra Beauty Hair Dryer Bonnet\"': 1, 'Nendoroid Vocaloid Miku Hatsune 20 (Multicolor)\"': 1, 'Kensington USB Gadgets\"': 1, 'Tucasa Table Lamps': 1, 'Lawman Pg3 Casual Shoes\"': 1, 'Like Table Clocks': 1, 'Nutcase Floor Lamp': 1, 'STM Cases & Covers\"': 1, 'Rr Rainbow Backpacks\"': 1, 'Maharaja Whiteline Mixer/juicer/grinders\"': 1, 'Yepme Casual Shoes\"': 1, 'Tradition India Floral Single Quilts & Comforter...\"': 1, 'Aaina Home Decor Vanity Boxes\"': 1, 'Moulin Roty Les Petittes Merveilles Nighttime Sh...\"': 1, 'Xqzite Formal Shoes\"': 1, 'Ennoble Trousers': 1, 'Good Win Laptop Bags': 1, 'Dizionario USB Gadgets\"': 1, 'Bacca Bucci Casual Shoes\"': 1, 'Shop4everything Mettalic DIE CAST Alloy wheel Ga...\"': 1, 'Empreus Wall Photo Frames': 1, 'Dove  Conditioners': 1, 'Ladela Bellies\"': 1, 'V & B GALLERY Mobile Phone Lens': 1, 'Mentiezi Black Flower with Green Leave Brooch (G...\"': 1, 'Modishera Y- Back Suspenders for Men (Blue, Red)\"': 1, 'Metro Sandals & Floaters': 1, 'Pamphilos Casual Shoes\"': 1, 'Navisha Decorative Platters\"': 1, 'Infinity India Ethnic\"': 1, 'Shagun Trends Pouches and Potlis\"': 1, '99 Moves Casual Shoes\"': 1, 'Rajrang Ethnic\"': 1, 'FNB Fnb-0125 Analog Watch  - For Women\"': 1, 'CHKOKKO Alloy Chain\"': 1, 'Bike Alarm Kits': 1, 'eGizmos USB Gadgets\"': 1, 'Oswal Combo pack Kitchen Cleaner (500, Pack of 2)\"': 1, 'Frazzer Bulbs\"': 1, 'Well on T-Shirts\"': 1, 'NOVA Professional Hair NS216 Trimmer, Clipper, S...\"': 1, 'TRESemme Conditioners': 1, 'AKUP i-love-stories Ceramic Mug (300 ml)\"': 1, 'Drawing Pencils': 1, 'Aroma Comfort Polyester Brown Floral Eyelet Door...\"': 1, 'Wishkey Wishkey Combat Gun with flashing lights ...\"': 1, 'V9 METAL STRAP Analog Watch  - For Men\"': 1, 'Digni Casual Shoes\"': 1, 'Silco Headphones\"': 1, 'Shoe Day Casual Shoes': 1, 'Quilt India Floral Cushions Cover (90 cm, Multic...\"': 1, 'Aston Paris Slippers\"': 1, 'RoyalLifestyle USB Gadgets\"': 1, 'Be You Sterling Silver Quartz Rhodium Tennis Bra...\"': 1, 'Sting Casual Shoes\"': 1, 'Avon Fairness Exfoliation Face Wash and Anti-mar...\"': 1, 'Gojeeva Wall Lamps': 1, 'INDIANO Flip Flops\"': 1, 'A-maze Umbrellas': 1, 'DICE NMB-B155-4289 Numbers Analog Watch  - For M...\"': 1, 'PEDI SPIN Body and Skin Accessories': 1, 'Attache Backpacks\"': 1, 'Funku Fashion Formal Shoes\"': 1, 'JOY Cases & Covers\"': 1, 'Totes Gallore Casual Shoes\"': 1, 'Anupamaa Women Flats\"': 1, 'LittleThings Fridge Magnets': 1, 'HuppmeGift Happy Birthday Navneet Inner Red Cera...\"': 1, 'Caffeine Bowls': 1, 'Flats & Bellies': 1, 'Fashnopolism Casual Shoes\"': 1, 'Adiva Headphones': 1, 'Lifestyle-You USB Gadgets\"': 1, 'Unique Collections Jacquard Sofa Cover (Brown Pa...\"': 1, 'Uniross Battery chargers': 1, 'TLC Backpacks\"': 1, 'Fun To See Stickers\"': 1, 'Mable Ethnic\"': 1, 'Neopack Bags\"': 1, 'Shonaya Ethnic Wear': 1, 'Clever Steps Casual Shoes': 1, 'I Ball CPU': 1, 'YBC Sling Bags': 1, 'AKUP because-i-have-a-brother Ceramic Mug (300 ml)\"': 1, 'Zobello Trousers': 1, 'Shagun Gold Baby Massage Oils\"': 1, 'Wipro Bulbs\"': 1}\n",
            "2372\n"
          ],
          "name": "stdout"
        },
        {
          "output_type": "execute_result",
          "data": {
            "text/plain": [
              "5875"
            ]
          },
          "metadata": {
            "tags": []
          },
          "execution_count": 13
        }
      ]
    },
    {
      "cell_type": "markdown",
      "metadata": {
        "id": "BCJ62I4V3JGk"
      },
      "source": [
        "Category level 4 contains 2372 labels and about 1/4th \"None\" values of given data"
      ]
    },
    {
      "cell_type": "code",
      "metadata": {
        "id": "lp0nuG8Yqw6Z",
        "colab": {
          "base_uri": "https://localhost:8080/"
        },
        "outputId": "d6d0cd4b-d1d6-4874-b98a-6e22c0e20608"
      },
      "source": [
        "print(data['cat_level_5'].value_counts().to_dict())\n",
        "print(len(data['cat_level_5'].value_counts()))\n",
        "len(data[data['cat_level_5']=='None'])"
      ],
      "execution_count": 14,
      "outputs": [
        {
          "output_type": "stream",
          "text": [
            "{'None': 10641, 'Shirts': 652, 'Dresses': 534, 'Tops': 523, 'Car Mats\"': 522, 'Plant Container Sets\"': 332, 'S4S Bras\"': 197, 'Leggings & Jeggings': 184, 'Kurtis': 165, 'Grafion Bras\"': 101, 'Polos & T-Shirts': 86, 'Skirts': 77, 'Blouse Material': 70, 'Ploomz Bras\"': 70, 'Car Sun Shades': 68, 'Tia by Ten on Ten Bras\"': 51, 'Kurtas': 48, 'Dungarees': 47, 'Vehicle Horns\"': 47, 'Car Mobile Holders\"': 46, 'Ethnic Sets': 41, 'Trousers': 41, 'Regent Wall Clocks\"': 40, 'Denver Combos\"': 39, 'Jeans': 39, 'Younky Bras\"': 37, 'Vivity Bras\"': 37, 'Tunics': 36, 'Shorts': 35, 'Vaishna Bras\"': 35, 'Glus Bras\"': 31, 'Candy House Solid Men\\'s Polo Neck T-Shirt (Pack ...\"': 30, 'Nike Combos\"': 30, 'Vehicle Mirrors': 30, 'Status Bras\"': 29, 'AdroitZ Mobile Holders': 28, 'GetAbhi Ties\"': 27, 'Yardley Combos\"': 27, 'Park Avenue Combos\"': 26, 'Urbaano Bras\"': 26, 'Engage Combos\"': 25, 'Lovinoform Bras\"': 25, 'Smartpro 19.5v,3.9a Replacement Charger for Vaio...\"': 25, 'Alvaro Ties\"': 23, 'Simrit Night Dresses & Nighties': 23, \"Marc N' Park Casual & Party Wear Shirts\": 23, 'Clovia Bras\"': 22, 'Track Pants': 22, 'Car Mats': 21, 'Lajo Ethnic Sets': 21, 'LIENZ Camisoles & Slips': 21, 'Blacksmith Wall Clocks\"': 20, 'Oleva Bras\"': 19, 'Luxemburg Bras\"': 19, 'Night Suits': 19, 'Kurti': 18, 'Madaam Bras\"': 18, 'Oye Combo Sets\"': 18, 'Door & Bumper Guards\"': 18, 'Mynte Shorts': 17, 'Nutcase Water bottle\"': 17, 'Car Tray Tables': 17, 'Neo Gold Leaf Pencil Boxes\"': 17, 'Ladyland Bras\"': 16, 'Salwar Material': 16, 'Antshrike Pyjamas & Lounge Pants': 16, 'Bike Light Bulbs': 16, 'Bike Body Covers': 16, 'Car Armrests': 15, 'Wolfie Bras\"': 15, 'Kurtas & Kurtis': 15, 'ENVY 1000 Combos\"': 15, 'JSR Paris Beauty Bras\"': 15, 'PrivateLifes Bras\"': 15, 'Patialas & Salwars': 14, 'Aero Care Combos\"': 14, 'ShowTime Bras\"': 14, 'Dress Material': 14, 'Multi Purpose Fabric': 14, 'Shrugs': 14, 'Safety Helmets\"': 14, 'Jumpsuits': 13, 'Casual': 13, 'Handle Bars': 13, 'Two Dots Bras\"': 13, 'Shorts & Trousers': 13, 'Club York Sweaters\"': 12, 'Winter Jackets': 12, 'Salwar Kurta Dupattas': 12, 'Anna Andre Paris Combos\"': 12, 'Muquam Bras\"': 12, 'Adidas Combos\"': 12, 'Fogg Combos\"': 12, 'Q-rious Bras\"': 11, 'Car Body Covers': 11, 'Wild Stone Combos\"': 11, 'Clovia Bras': 11, 'SAP Bras\"': 11, 'Magiq Bras\"': 11, 'Miss Clyra Panties': 11, 'Diviniti Religious Idols\"': 11, 'Furst Wall Chargers': 10, 'Bralux Bras\"': 10, 'Harem Pants': 10, 'La Verite Bras\"': 10, 'Lehenga Cholis': 10, 'Kipsta BasketBalls\"': 10, 'Fabiya Panties': 10, 'Sweaters': 10, 'Our Rituals Bras\"': 10, 'North & South Indian Lehenga Cholis': 10, 'Thermals': 10, 'Cinthol Combos\"': 10, 'XEBAC Wall Chargers': 10, 'Orange Valley Casual & Party Wear Shirts\"': 10, 'Hemali Bras\"': 9, 'Florentyne Bras\"': 9, 'Enwraps Pencil Boxes\"': 9, 'Bike Side & Centre Stands': 9, 'Ryka Pencil Boxes\"': 9, 'Vests': 9, 'My Ego Combos\"': 9, 'Bodysuits': 9, 'Jackets': 9, 'Mode Socks': 8, 'Myesquire Aroma Oils\"': 8, 'Playboy Combos\"': 8, 'Blackberrys Blazers': 8, 'Helmet Locks': 8, 'Scott International Sweatshirts\"': 8, 'Vipul Saree Sarees': 8, 'PrettySecrets Bras\"': 8, 'Bike Body Covers\"': 8, 'Riya Gold Bras\"': 8, 'HugMe.fashion Jackets': 7, 'Archies Combos\"': 7, 'Car Headlights\\xa0': 7, 'Pyjamas': 7, 'Sweatshirts': 7, 'PTC Mart Pencil Boxes\"': 7, 'Dongli Polos & T-Shirts': 7, 'Leebonee Sweaters\"': 7, 'Boxers': 7, 'Yepme Jackets\"': 7, \"D'clair Car Chargers\": 7, 'TakeInCart Caps\"': 7, 'Spinz Combos\"': 7, 'Jumpsuit': 7, 'Highlander Casual & Party Wear Shirts\"': 7, 'Ndura Woks & Kadhais\"': 7, 'Alisha Shorts': 7, 'Pink Pearl Bras\"': 7, 'Hookah Flavors': 6, 'Shaftesbury London Casual & Party Wear Shirts': 6, 'Balujas Men Sandals\"': 6, 'Spalding BasketBalls\"': 6, 'J Marks Formal Shirts\"': 6, 'Hubberholme Track Pants': 6, 'Karta Pencil Boxes\"': 6, 'Briefs': 6, 'U. R. GOD Card Holders': 6, 'Smart Wall Guru Small Adhesive Sticker Sticker (...\"': 6, 'Wrench Sets\"': 6, 'Fashion Jackets': 6, 'Sports 52 Wear Sweatshirts\"': 6, 'Pavechas Sarees\"': 6, 'Yes Zone Jeans': 6, 'Getabhi Ties\"': 6, 'Karlsburg Formal Shirts\"': 6, 'Ebry Casual & Party Wear Shirts': 6, 'Floozy Bras\"': 6, 'Fundoo T Sweatshirts\"': 6, 'Wilkins & Tuscany Jeans': 6, 'JBC Collection Cotton Printed Single Bedsheet (1...\"': 6, 'GAGA Canvas Painting (16 inch x 20 inch)\"': 5, 'Abhira Combo Sets\"': 5, 'Peri Peri Bras\"': 5, 'Suruchi Woks & Kadhais\"': 5, 'Cotton On Kids Shirts': 5, 'Leaf Formal Shirts\"': 5, 'Romano Blazers': 5, 'AntiqueShop Loofahs': 5, 'Baaamboos Formal Shirts\"': 5, 'T-Shirts': 5, 'First Choice Cotton Embroidered Diwan Set\"': 5, 'Blazers': 5, 'Car Steering Covers': 5, 'Fs Mini Klub Polos & T-Shirts': 5, 'FRICTION Vests': 5, 'Parron Casual & Party Wear Shirts\"': 5, 'Go Hooked Pizza Cutters\"': 5, 'Shoprider Casual Multicolor Genuine Leather Canv...\"': 5, 'Layer\\'r Combos\"': 5, 'Euro Style Combos\"': 5, 'PuppetNx Jeans\"': 5, 'Legging Jegging': 5, 'Gifts By Meeta Holi Combos': 5, 'Lexel High Quality Braided Metal Head Pure Coppe...\"': 5, 'Karsci Formal Shirts\"': 5, 'Kingswood Formal Shirts\"': 5, 'Zet Zone Bras\"': 5, 'GAGA Canvas Painting (18 inch x 24 inch)\"': 5, 'Aroma Care Nail Polishes': 5, 'Platignum Studio Fountain Pen (Blue)\"': 5, 'Envy-1000 Combos\"': 5, 'Ski Pencil Boxes\"': 5, 'IPG Dupattas': 5, 'United Colors of Benetton Sweaters & Pullovers\"': 5, 'Caps': 5, 'FIFO Bottom Women\\'s  Combo\"': 5, 'Palakz Pencil Boxes\"': 5, 'GAGA Canvas Painting (12 inch x 15 inch)\"': 5, 'Jogur Formal Shirts\"': 5, '720 Armour Goggles': 4, \"L'appel Du vide Vests\": 4, 'Jon Pep Slippers\"': 4, 'Three Fourths': 4, 'Car Stickers & Decals': 4, 'Beverly Hills Polo Club Combos\"': 4, 'Car Speakers': 4, 'C.E Collection Shower Curtains': 4, 'ezyPRNT Golf Balls': 4, 'Kosher Woks & Kadhais\"': 4, 'Diseases': 4, 'Point Blank Combos\"': 4, 'Jovan Sprays': 4, 'Mahek Saree Sarees': 4, 'Silver Streak Casual & Party Wear Shirts\"': 4, 'Kolkata Knight Riders Combos\"': 4, 'Raincoats': 4, 'C9 Sports Bras': 4, 'Quoface Goggles': 4, 'Provalley Polos & T-Shirts\"': 4, 'Wear Your Opinion Sweatshirts\"': 4, 'Wajbee Sweatshirts\"': 4, 'Sherry Bras\"': 4, 'Hookah': 4, 'Armaf Combos\"': 4, 'InnovationTheStore Caps\"': 4, 'Da Intimo Bras\"': 4, 'Specimen Casual & Party Wear Shirts\"': 4, 'Decore Sources Assorted Artificial Plant  with P...\"': 4, 'Royal Sets': 4, 'Pratha Pizza Cutters\"': 4, 'Indianbeauty Sarees': 4, 'Hako 60W Magsafe Laptop Charger For APPLE MacBoo...\"': 4, 'Famaya Leggings & Jeggings': 4, 'Fieesta Plaza Wall Clocks\"': 4, 'Panties': 4, 'April6 Boxers\"': 4, 'Mudo Sweatshirts\"': 4, 'LUMBER BOY Polos & T-Shirts': 4, 'INVICTUS Formal Shirts\"': 4, 'LAWMAN PG3 Sprays': 4, 'British Cross Sweaters\"': 4, 'EASIES Blazers': 4, 'Czds India Shoulder Bag (Black)\"': 4, 'Zacharias Vests': 4, 'Gear Knobs': 4, 'KAN Travel Document Holders': 4, 'Happy walls Extra Large PVC vinyl Sticker (Pack ...\"': 4, 'Innerwear & Sleepwear': 4, 'Track Suits': 4, 'Peches Bras\"': 4, 'Leggings & Churidars': 4, 'Khushali Dress Materials\"': 4, 'Capris': 4, 'Tirupati Pizza Cutters\"': 4, 'Metallino Woks & Kadhais\"': 4, 'Lotus Sunscreen\"': 4, 'Duke Sweaters\"': 4, 'HRS Cricket Pads': 4, 'Miracle Retail Bonsai Wild Plant Artificial Plan...\"': 4, 'Gritstones Track Pants\"': 4, 'Laceandme Bras\"': 4, 'Itsmuahlife Bras\"': 4, 'UNCLE BENIT Caps': 4, 'Imlee Mojaris\"': 3, 'DEEP FASHION Loafers\"': 3, 'Jovial Mart Store Formal Shirts\"': 3, 'Handiana Dining Sets': 3, 'SportsHouse Religious Idols': 3, 'Sleepsuits': 3, 'Vincent Valentine Paris Combos\"': 3, 'YK Polos & T-Shirts': 3, 'www.thepaper.asia Pencil Boxes\"': 3, 'Kamasutra Combos\"': 3, 'Car Fog Lamps?': 3, 'Car Light Bulbs\\xa0': 3, 'Cutters\"': 3, 'Just Differ Formal Shirts\"': 3, 'French Factor Combos\"': 3, 'Simrit Pyjamas & Lounge Pants': 3, 'Senterlan Camping & Hiking Bags & Packs': 3, 'Layer\\'R Combos\"': 3, 'DesiHarem Bras\"': 3, 'Ganga Faucet Sets': 3, 'Docare Bras\"': 3, 'Pavino Casual & Party Wear Shirts': 3, 'Hot & Cold Packs': 3, 'Shoba Bras\"': 3, 'Babyoye Premium Leggings & Jeggings': 3, 'Sitaram Ethnic Sets': 3, 'Embibo Night Dresses & Nighties': 3, 'AT Lungis\"': 3, 'Thoughtroad Small PAPER Sticker (Pack of 1)\"': 3, 'Gown Material': 3, 'vinaya Casuals\"': 3, 'Fashion Tree Formal Shirts\"': 3, 'Mayor Socks': 3, 'Tara Lifestyle Pencil Boxes\"': 3, 'Status Quo Sweaters\"': 3, 'President Backpack\"': 3, 'Itiha Potpourri': 3, 'Zobello Casual & Party Wear Shirts': 3, 'Silkbazar Dress Materials\"': 3, 'Toothbrush Holders': 3, 'Nourish Cardboard 2-D- Folder (Set Of 1, Multico...\"': 3, 'Bloomers & Drawers': 3, 'Page3 Bras\"': 3, 'eKolhapuri Terracotta Vase (6 inch, Multicolor)\"': 3, 'Accore Signs & Symbols Badge\"': 3, 'UR Image Sports Bras': 3, 'Reebok T-Shirts\"': 3, 'Strak Sweatshirts\"': 3, 'Corona Slippers\"': 3, 'RadadiyaTRD Sarees': 3, 'Wsd Ties\"': 3, 'Funcart Masks': 3, 'Kristino Formal Shirts\"': 3, 'Novel Sports Bras': 3, 'KB\\'s Pizza Cutters\"': 3, 'Jovan Combos\"': 3, 'Golmaalshop Religious Idols\"': 3, 'Ms Dhoni Combos\"': 3, 'Schtaron Loafers\"': 3, 'NOMADIC Loafers\"': 3, 'ZOSIGN Men Sandals\"': 3, 'Clovia Women\\'s Full Coverage Bra\"': 3, 'Foolzy Manicure and Kits\"': 3, 'HUNYBUNI Blouses': 3, 'Romano Sweatshirts': 3, 'Dailyware Woks & Kadhais\"': 3, 'Lee Marc Formal Shirts\"': 3, 'Pigeon Woks & Kadhais\"': 3, 'NIRLON Pans & Tawas': 3, 'Deep Under Bras\"': 3, 'Shoprillo Shirts': 3, 'Shreeka Ethnic Sets': 3, 'Vehicle Horns': 3, 'Sobre Estilo Sweatshirts\"': 3, 'GAGA Canvas Painting (24 inch x 30 inch)\"': 3, 'Inmark Formal Shirts\"': 3, 'Lab No. 4 Wall Clocks': 3, 'SAYITLOUD Vests': 3, 'Sifty Collection Acrylic Painting (14 inch x 20 ...\"': 3, 'Vehicle Antennas': 3, 'Fs Mini Klub Shirts': 3, 'Aaina Home Decor Polyurethane Journal (Set Of 1,...\"': 3, 'Kingswood Sweaters\"': 3, 'Avon Combos\"': 3, 'BrandTrendz Bellies\"': 3, 'Fabpoppy Pyjamas & Lounge Pants': 3, 'YK Jeans': 3, 'Lowe Alpine Caps\"': 3, 'Go Hooked Bonsai Assorted Artificial Plant  with...\"': 3, 'Zeva Keepz U On Combos\"': 3, 'Axe Combos\"': 3, 'LOTTIE LONDON Brushes and Applicators': 3, 'Paint Bottle Set': 3, 'Nivea Combos\"': 3, 'Gravolite Yoga Blocks': 3, 'Fasense Night Dresses & Nighties\"': 3, 'Sumeet Woks & Kadhais\"': 3, 'Oshea Herbals Sunscreen\"': 3, 'Q-rious Camisoles & Slips\"': 3, 'Ishin Formal Shirts\"': 3, 'Car Pillows & Neck Rests': 3, 'Projector Lens': 3, 'Day By Day Thermals': 3, 'XLR8 Combos\"': 3, 'Goodkarma Casual & Party Wear Shirts': 3, 'Priknit Jackets\"': 3, 'Crux&Hunter Polos & T-Shirts': 3, 'Gift Studios Religious Idols\"': 3, 'Eva Combos\"': 3, 'Absurd Sweatshirts\"': 3, 'Denim Combos\"': 3, 'Sonanjali USB OTG Adapter (Pack of 1)\"': 3, 'Hako 85W Magsafe Laptop Charger For APPLE MacBoo...\"': 3, 'Wires': 3, 'SK Dreams Bras\"': 3, 'Sterling Kitchen Racks\"': 3, 'Banana Boat Sunscreen\"': 3, 'Kiaraa Formal Shirts\"': 3, 'Nourish Cardboard 2-O- Folder (Set Of 1, Multico...\"': 3, 'Auto Power Gold Tyres & Tube': 3, 'Pannkh Blazers\"': 3, 'GAGA Canvas Painting (8 inch x 10 inch)\"': 3, 'Mast & Harbour Sweaters\"': 3, 'dongli Combo Sets': 3, 'St.John Combos\"': 3, 'Car Bluetooth Devices': 3, 'CookAid Woks & Kadhais\"': 3, 'Channel Nine Bras\"': 3, 'Wake Up Competition Sweatshirts': 3, 'OTC Woks & Kadhais\"': 2, 'Monmione Sports Bras': 2, 'SViRU Generic Photo Frame (Photo Size - 13 X 18 ...\"': 2, 'Van Heusen Casual & Party Wear Shirts\"': 2, 'Bhalaria Forks': 2, 'Zadine Leggings & Jeggings\"': 2, 'Old Spice Combos\"': 2, \"Anand's Shuttles\": 2, 'Adaa Religious Idols\"': 2, 'Kalpatru Formal Shirts\"': 2, 'Novicz Goggles': 2, 'Magideal Briefs': 2, 'SoleThreads Flip Flops\"': 2, 'Lolprint Rakhi Gifts Scroll Greeting Card (Multi...\"': 2, 'Amazing India Religious Idols\"': 2, 'Dernier Wear Dresses': 2, 'Miss Clyra Bras': 2, 'BIKER BOYS Polos & T-Shirts': 2, 'Vehicle Washing Cloths': 2, 'Helmets': 2, 'Addiction Combos\"': 2, 'Shopaholic Pencil Boxes\"': 2, 'PXL Formal Shirts\"': 2, 'Funcart Baby Spoons & Forks\"': 2, 'eKolhapuri Terracotta Vase (6 inch, Black)\"': 2, 'Kraasa Formal Shirts\"': 2, 'Kurta & Kurti Fabric': 2, 'ab posters Pencil Boxes': 2, 'SHOPOJ Multicolor Paper Sky Lantern (80 cm X 34 ...\"': 2, 'Lamode Formal Shirts\"': 2, 'SYON Cotton Floral Double Bedsheet (2 BEDSHEET W...\"': 2, \"L'appel Du Vide Vests\": 2, 'Rainfun Raincoats': 2, 'Sally Hansen Manicure and Kits\"': 2, 'Beevee Three Fourths\"': 2, 'Action Shoes Slippers\"': 2, 'cherry crumble california Shirts': 2, 'NE Leggings & Jeggings\"': 2, 'Shreya Collection Hair Accessories': 2, 'Pecanz Casual & Party Wear Shirts\"': 2, 'Black Bee Casual & Party Wear Shirts': 2, 'Shrugs & Jackets': 2, 'Care N Care Bras\"': 2, 'Car Light Bulbs?': 2, 'Atc Mobile Holders\"': 2, 'Anshul fashion Lace Up\"': 2, 'Black Stallion Woks & Kadhais\"': 2, 'Hawkins Woks & Kadhais\"': 2, 'Bodyline Bras\"': 2, 'RAA Briefs': 2, 'Jaipur Print Cotton Floral King sized Double Bed...\"': 2, 'SG Cricket Bats\"': 2, 'Trudeau Pizza Cutters\"': 2, 'JadeBlue Formal Shirts\"': 2, 'Traditions Gloves': 2, 'Miss Lips Lipsticks\"': 2, 'Clovia Sports Bras': 2, 'Wetex Premium Shapewears': 2, 'nayasa Water bottle': 2, 'Art N Hub Generic Photo Frame (Photo Size - (1 p...\"': 2, 'Handles & Knobs': 2, 'Car Steering Knobs': 2, 'Triumph Bras\"': 2, 'dongli Polos & T-Shirts': 2, 'Cayman Sweatshirts\"': 2, 'Amardeep PP Collapsible Wardrobe (Finish Color -...\"': 2, 'ALX New York Sweaters\"': 2, 'Ezone Carabiners': 2, 'Zero Gravity Camping & Hiking Bags & Packs\"': 2, 'DECOREX 18W LED Surface Light (Light Colour : Co...\"': 2, 'franco Loafers\"': 2, 'Kaftans': 2, 'Newgen Tech USB, Micro USB OTG Adapter (Pack of 1)\"': 2, 'Thangamagan Shirts\"': 2, 'J Hampstead Formal Shirts\"': 2, 'Turbo Cricket Gloves': 2, 'Tiny Seed Caps\"': 2, 'Carrel Swimsuits': 2, 'Floret Bras\"': 2, 'Swimsuits': 2, 'kamyaart Shoulder Bag (Purple)\"': 2, 'Andrew Christian Briefs': 2, 'Kobo BasketBalls\"': 2, 'Shopmania Designer': 2, 'Beebay Shirts': 2, 'Triston Home Pizza Cutters\"': 2, 'Wall Decal Medium Self Adhesive Sticker (Pack of 1)\"': 2, 'UCC Sweatshirts\"': 2, 'SS Cricket Bats\"': 2, 'Do Bhai Canvas Shoes\"': 2, 'Skywalk Flip Flops\"': 2, 'blue stag Blazers': 2, \"Finger's Track Pants\": 2, 'Classique Ties\"': 2, 'ALL DAY 365 Shoulder Bag (RED)\"': 2, 'Bela Home Cotton Cartoon Single Bedsheet (1 Sing...\"': 2, 'Zeroradius Bras\"': 2, 'ANAND ARCHIES Slippers\"': 2, 'Brahmz Glass Mossiac Table Lamp (14 cm, Multi Co...\"': 2, \"Layer'r Sprays\": 2, 'Ceylin Sweatshirts\"': 2, 'SCANTIA Bellies\"': 2, 'Tales & Stories Jeans\"': 2, 'Mahadev Handicrafts Cotton Cartoon Double Bedshe...\"': 2, 'Just Henry Formal Shirts\"': 2, 'Keystone Formal Shirts\"': 2, 'eKolhapuri Terracotta Vase (7.6 inch, Multicolor)\"': 2, 'Smart Choice Furniture Wooden Standard Shoe Rack\"': 2, 'Creez Tights': 2, 'Japs Formal Shirts\"': 2, 'Speedo Swimsuit & Swimwear': 2, 'Kurta': 2, 'NYX Lip Creams': 2, 'SWARN Ties': 2, 'Wolfer Cricket Gloves': 2, 'Elfani Lipsticks\"': 2, 'Sonaxo School Lace Up Shoes\"': 2, 'CFS Eaux De Parfum\"': 2, 'Griffel Sweatshirts\"': 2, 'ARK Creation Human Figurines\"': 2, 'ATHENA Dresses': 2, 'KAVACi Jackets': 2, 'stylishvilla Salwar Kurta Dupattas': 2, 'Penny Bras\"': 2, 'Marks & Spencer Sweaters': 2, 'TAMBAS Track Pants': 2, 'Zippy Polos & T-Shirts': 2, 'TSX Sweatshirts\"': 2, 'Xerobic Gym Balls': 2, 'Khwaab Enterprise Sarees': 2, 'IndiWeaves Track Pants': 2, 'Pink Rose Hair Accessories': 2, 'Total Sticks': 2, 'Needhi Woks & Kadhais\"': 2, 'GAGA Canvas Painting (6 inch x 8 inch)\"': 2, 'Chilee Life Bras\"': 2, 'Wrangler Sweaters\"': 2, 'ZOSIGN Loafers\"': 2, 'Good Way Lip Balms': 2, 'SV Creations Shoulder Bag (Multicolor)\"': 2, 'Asian Lace Up Shoes\"': 2, 'Craftartz Religious Idols\"': 2, 'Li-Ning BasketBalls\"': 2, 'AMCO Running Shoes\"': 2, 'Quiksilver Caps\"': 2, 'Koolpals Formal Shirts\"': 2, 'Aveeno Sunscreen\"': 2, 'Nautica Sweaters': 2, 'Gasser Slippers\"': 2, 'HEAVENLY Combo Sets': 2, 'Sober Touch Bras\"': 2, 'Jovees Sunscreen\"': 2, 'The Vanca Jackets\"': 2, 'Stylenara Casual & Party Wear Shirts': 2, 'Rodid Sweatshirts\"': 2, 'Iron Crafts Human Figurines\"': 2, 'Killer X Combos\"': 2, 'Miracle Pizza Cutters\"': 2, 'Polos & Tshirts': 2, 'Priya Exports Pencil Boxes\"': 2, 'Magical Knots 3D Printed Cushions Cover (30 cm, ...\"': 2, 'Satynam Night Dresses & Nighties\"': 2, 'Amante Panties': 2, 'lil\\'posh Combo Sets\"': 2, 'Swastik Velvet Sofa Cover (Multicolor Pack of 10)\"': 2, 'Tech Gear HDMI 2.0 CABLE 4K TV BLURAY 3D DVD PS3...\"': 2, 'Madcaps Cargos\"': 2, 'Wildcraft Camping & Hiking Bags & Packs': 2, 'Indian Art Villa Woks & Kadhais\"': 2, 'KamaSutra Combos\"': 2, 'JASPO Kits': 2, 'LRIPL Remote Controllers': 2, 'Seher Human Figurines\"': 2, 'Incolor Lipsticks\"': 2, 'Okane Jackets\"': 2, 'JJ Jonex Footballs': 2, 'JQR JQR Sports Shoes Running Shoes\"': 2, 'SUNWIN Pyjamas & Lounge Pants': 2, 'Niremo Loafers\"': 2, 'TeeSort Track Pants': 2, 'Wire Joints & Connectors': 2, 'Jermyn Crest Formal Shirts\"': 2, 'Dexas Pizza Cutters\"': 2, 'OK Woks & Kadhais\"': 2, 'Saddle Bags': 2, 'FAX Slippers\"': 2, 'V3Squared Pullovers': 2, 'Arabian Nights Combos\"': 2, 'Moladz Flip Flops\"': 2, 'Avarnas Camisoles & Slips\"': 2, 'Aaina Home Decor Linen Cloth Journal (Set Of 1, ...\"': 2, 'Leather chief Slippers\"': 2, 'At Ur Door Bandanas': 2, 'Mactree Sane Bait Slip On\"': 2, 'Lavennder Shorts': 2, 'Be 13 Polos & T-Shirts': 2, 'Smart Power Mobile Holders\"': 2, 'Roller Derby Skates\"': 2, 'Invictus Formal Shirts\"': 2, 'Eurotex Mats': 2, 'Data cable Cables': 2, 'Zoe Marciano Blue Heavy-duty satin wong fabric  ...\"': 2, 'Gillette Combos\"': 2, 'Shubh Woks & Kadhais\"': 2, 'Calibra Bras\"': 2, 'CREEDS Casual & Party Wear Shirts': 2, 'Flipside Flip Flops\"': 2, 'eKolhapuri Terracotta Vase (5 inch, Multicolor)\"': 2, 'Anherb Sunscreen\"': 2, 'Sunvi Pizza Cutters\"': 2, 'Pierre Carlo Sweaters\"': 2, 'Bodymark Cargos\"': 2, 'Lee Mark Formal Shirts\"': 2, 'Flying Port Slim Fit Men\\'s Blue Jeans\"': 2, 'Bleu Casual & Party Wear Shirts\"': 2, 'DeStudio Large Wall Stickers Sticker (Pack of 1)\"': 2, 'NavyaRiti Polos & T-Shirts': 2, 'VLCC Sunscreen\"': 2, 'chamanhandicrafts Casual & Party Wear Shirts': 2, 'SSD Pencil Boxes\"': 2, 'LRB Slippers\"': 2, 'Nourish Pizza Cutters\"': 2, 'Texlon Socks': 2, 'Indian Weller Formal Shirts\"': 2, 'EON Pizza Cutters\"': 2, 'Gkidz Polos & T-Shirts': 2, 'Arm Sleeves': 2, 'Intellect Combos\"': 2, 'Bright Home Appliances Woks & Kadhais\"': 2, 'Italian\"': 2, 'Jpeters Formal Shirts\"': 2, 'Theskinmantra Mobile Skin Stickers': 2, 'Body Care Thermals': 2, 'Ddreamz Small PVC Vinyl Sticker (Pack of 1)\"': 2, 'Black Diamond Woks & Kadhais\"': 2, 'jay fashion Sarees': 2, 'Car Grill Covers': 2, 'Services Junction Gold Plated Sitting Ganesh Ido...\"': 2, 'Krasiv Camisoles & Slips': 2, 'RGT Sweatshirts\"': 2, 'Selfcare Camisoles & Slips': 2, 'BOMBAY VELVAT FAB Sarees': 2, 'Finesse Saree Falls\"': 2, 'FabSeasons Pencil Boxes\"': 2, 'Accessories': 2, 'Car Side Beadings': 2, 'Anshuhandicrafts Religious Idols': 2, 'Secret Wish Bras\"': 2, 'Steering Knobs\"': 2, 'Rakshita Collection Jackets\"': 2, 'Furncoms Human Figurines\"': 2, 'Winter & Seasonal Wear': 2, '69th Avenue Shirt Studs': 2, 'D-ROCK Combo Sets': 2, 'Vector X Track Pants': 2, 'Sports 52 Wear Cargos\"': 2, 'Selfcare Panties': 2, 'Pink Rose Tiaras & Crowns': 2, 'Mooz Pizza Cutters\"': 2, 'Art Godaam Human Figurines\"': 2, 'DIVAS CHOICE Scarves & Stoles': 2, 'Lushomes Animal Cushions Cover (Pack of 3, 30 cm...\"': 2, 'Relaxfeel Floral Single Dohar White (AC Dohar)\"': 2, 'zasmina Slippers\"': 2, 'Kalash Woks & Kadhais\"': 2, 'Veensh Hookahs': 2, 'Collectible India Religious Idols\"': 2, 'Anupam Woks & Kadhais\"': 2, 'Salwar Studio Salwar Kurta Dupattas': 2, 'Lip Rageous Lip Balms': 2, 'OASIS Wall Chargers': 2, 'ROSHNI FASHIONS Sarees': 1, 'ABSTAR LIGHT 30 L Backpack (Green)\"': 1, 'Linzina Casual, Formal Brown, Black Synthetic  C...\"': 1, 'Babyoye Premium Bibs': 1, 'Finnexe Hungry kya 3 Containers Lunch Box (750 ml)\"': 1, 'Rossini Ties': 1, 'Skipper Blends Aqua Striped Eyelet Window Curtai...\"': 1, 'Aarti Collections Shirts': 1, 'Nineteen Sweaters & Pullovers': 1, 'TOUCHWOOD KIDS UNISEX SCHOLAR WHITE SCHOOL SHOE ...\"': 1, 'Buyer\\'s Beach BB349 (Brown)\"': 1, 'Services Junction Gold Plated Ganesh Idol Showpi...\"': 1, 'Pure Source Aroma Oil & Diffuser Sets\"': 1, 'Fabme Camisoles & Slips\"': 1, 'Debenhams-Jasper Conran Camisoles & Slips\"': 1, 'Jaabili Formal Shirts\"': 1, 'The House of Tara Wanderer 27 L Backpack (Phanto...\"': 1, 'Tootpado Cartoon LED Desk Light - 1m189 - (Small...\"': 1, 'EZ Life Baby Spoons & Forks\"': 1, 'Laviva Elegant Looking Floral Design Beads Rakhi...\"': 1, 'youniqueshop Hand Juicers': 1, 'Car Seat Covers': 1, 'giftsthatwow GTW-G-06 (600 ml, White, Pack of 1)\"': 1, 'Gojeeva Sconce Wall Lamp (1)\"': 1, 'Edel Shoulder Bag (brown)\"': 1, 'Aarya 24kt Religious Idols\"': 1, 'Shoplorry Pencil Boxes\"': 1, 'DEBOCK DEBOCK Earphone For HTC Desire 320 Stereo...\"': 1, 'JDK NOVELTY Shoulder Bag (White)\"': 1, 'PeepalComm Premium Ball Pen (Pack of 6, Blue)\"': 1, 'NEWGEN TECH EO-HS3303 67 Wired Headset (White)\"': 1, 'LAIBA  Battery - Laiba Battery I9300 Lithium Ion...\"': 1, 'ortel earphone51 Earphone Cable Organizer\"': 1, 'PRINT SHAPES Deep ambition Laptop Skin with Mous...\"': 1, 'STREET LONDON Lace Up\"': 1, 'Fragrance Concoction Religious Idols\"': 1, 'Nutex Bras\"': 1, 'Sparklings Cotton Checkered Double Bedsheet (dou...\"': 1, 'Sunlast 16 inch Laptop Backpack (Yellow)\"': 1, 'Gaoyitech Mobile Holders\"': 1, 'BagsHub Women Black PU Clutch\"': 1, 'ortel earphone70 Earphone Cable Organizer\"': 1, 'ortel earphone64 Earphone Cable Organizer\"': 1, 'Zed Loafers\"': 1, 'Aden & M GREEN APPLE (90 g)\"': 1, 'Calvin Klein Briefs': 1, 'MayurShilpa Paper Vase (8 inch, Multicolor)\"': 1, 'Art Antiqua Religious Idols\"': 1, 'Quiksilver Track Pants': 1, 'RAJSAHI Party Wear\"': 1, 'chetan xaiomiredmi1s Haptic/Tactile touchscreen ...\"': 1, 'Lee Parke Running Shoes\"': 1, 'Nechams Whiteboards': 1, 'XEBAC Xebac Anti Radiation Chip For XOLO Q3000 A...\"': 1, 'Hangover Sweaters & Pullovers\"': 1, 'Treasure Fengshui': 1, 'Shyam Fashion Brass Vase (6 inch, Black)\"': 1, 'Avenue Sippers': 1, 'BrandTrendz Loafers\"': 1, 'LUCINA rC-S-30-A-30 (Multicolor)\"': 1, 'Raymond Sweaters\"': 1, 'Reebok Caps\"': 1, 'Raju Purse Collection Shoulder Bag (orange)\"': 1, 'Pedrini Cork Screws\"': 1, 'Roadster Sweatshirts': 1, 'Fila Sweatshirts\"': 1, 'Glus Lingerie Sets\"': 1, 'GKI TableTennis Racquets\"': 1, 'skhoza Scarves & Stoles': 1, 'Kartique Hand Made Box in smooth Finish with Gla...\"': 1, 'Metro Sports Cricket Balls': 1, 'V & B GALLERY Universal 3 in 1 Clip Camera profe...\"': 1, 'Astrodidi Religious Idols': 1, 'Celebration Mart RANGOLI005 Rangoli Stencil\"': 1, 'eSms Lightweight Hose Pipe 1 L Hand Held Sprayer...\"': 1, 'Shilpi NHSCN003 Coin Bank (Brown)\"': 1, 'Revine Casual & Party Wear Shirts\"': 1, 'Triumph Camping & Hiking Bags & Packs': 1, 'overstockedkitchen Spatulas': 1, 'PRINT SHAPES Peacock Feather Laptop Skin with Mo...\"': 1, 'Crompton CG_PD Dry Iron (Orange)\"': 1, 'asa products set of 46 dora and flowers Art plas...\"': 1, 'Sicons All Purpose Tea Tree Dog Shampoo (200 ml)\"': 1, 'AapnoCrafts Acrylic Photo Frame (Photo Size - 15...\"': 1, 'BnC \\xa0Universal 3 in 1 Cell Phone Camera Lens Mob...\"': 1, 'Dealcrox Travel Organizers': 1, 'T-Shirts & Tops': 1, 'Swastik Cotton Sofa Cover (Multicolor Pack of 10)\"': 1, 'Frames MDF Photo Frame (Photo Size - 15.24X20.32...\"': 1, 'TOPQ Mobile Holders': 1, 'Clench Jeans': 1, 'Power Smart Quick Charging Pack For CANN NB1L Di...\"': 1, 'Sound Logic Soundlogic Dynabass Foldable Headpho...\"': 1, 'Surprise Gifts 0019 Key Chain\"': 1, 'Gran Pizza Cutters\"': 1, 'IaD Soil Manures': 1, 'Svype Slimport to HDMI Adapter (Black)\"': 1, 'Bharatcraft Showpiece  -  5 cm (Polyresin, Brown)\"': 1, 'Jaypee Kukeezi Woks & Kadhais\"': 1, 'Excel Pizza Cutters\"': 1, 'MOOI-ZAK Girls, Women Pink PU Sling Bag\"': 1, 'Raymond Formal Shirts': 1, 'Platinum Blouses': 1, 'Blimey Cargos\"': 1, 'Chap Ice Lip Balms': 1, 'TRINK 6S Tempered Glass for APPLE IPHONE 6S\"': 1, 'KA Ethnic Sets': 1, 'Eccellente Shirt Studs': 1, 'ACM Pouch for Swipe Elite Plus (Black)\"': 1, 'Jack Martin Hi-Fi Systems\"': 1, 'BAAJ Running Shoes\"': 1, 'World-Star Woks & Kadhais\"': 1, 'DEBOCK Xiaomi MI 4 Tempered Glass for Xiaomi MI 4\"': 1, 'Legato Rugsack Bag 2.5 L Backpack (Multicolor)\"': 1, 'Nite Flite Pyjamas & Lounge Pants': 1, 'LIFE LIKE S450 3.0 WITH MIC GOOD SOUND QUALITY W...\"': 1, 'Eternity Handcrafted unique Mosaic Glass Table L...\"': 1, 'JRB 1033 Smallest Mobile Powered By OTG Enabled ...\"': 1, 'Global Ganesha Religious Idols\"': 1, 'Navigator LpBck 15 L Laptop Backpack (Blu01)\"': 1, 'Cenizas Western Mocassins\"': 1, 'Anti Gravity Black 05102 Rucksack  - 60 L (05102)\"': 1, 'Like Analog Purple Clock\"': 1, 'Yepme Kurtas': 1, 'Baltra Woks & Kadhais\"': 1, 'Generix OTG for Samsung Galaxy Tab 3 OTG Cable (...\"': 1, 'HRX by Hrithik Roshan Jackets': 1, 'Brandvilla Brandvilla Loafers\"': 1, 'Dhiyaa Traders Metal Dice Key Chain\"': 1, 'Tallenge Old Masters Collection - Port Marly by ...\"': 1, 'Czds India Shoulder Bag (Blue)\"': 1, 'Puma Casual & Party Wear Shirts\"': 1, 'WorldWearFootwear Running Shoes, Walking Shoes\"': 1, 'ortel earphone21 Earphone Cable Organizer\"': 1, 'F Factor by Pantaloons Formal Shirts\"': 1, 'Myesquire Handheld Air Fresheners\"': 1, 'Brandvilla Shoulder Bag (Brown)\"': 1, 'Khushi Fashions Salwar Kurta Dupattas': 1, 'MICROi HD AHD DVR 4 Channel Home Security Camera...\"': 1, 'English Blazer Combos\"': 1, 'Atharva BasketBalls\"': 1, 'Furnishing Zone Plain Back Cushion (Pack of2, Ma...\"': 1, 'Chazer\"': 1, 'SYON Cotton Floral Double Bedsheet (4 BEDSHEET W...\"': 1, 'Gamma Tennis Balls\"': 1, 'Garnier Nutrisse Haircolor Hair Color (43 Dark G...\"': 1, 'SkyStar Cargos\"': 1, 'Reveller Sweaters\"': 1, 'Agrasen International Religious Idols\"': 1, 'Herberto Dresses & Skirts\"': 1, 'Fellowes Office Sets': 1, 'Generix OTG for Honor 5X OTG Cable (White)\"': 1, 'New Pearl Bras\"': 1, 'Dispowear Briefs': 1, 'Swiss Beauty Just Gold make - Up Kit (Pack of 1)\"': 1, 'Shortkut enterprises Model no 460 Mobile/Tablet ...\"': 1, 'LUX Briefs': 1, 'An Yahh Art Pencil Boxes\"': 1, 'Puma Cricket Bats': 1, 'Hommate Pizza Cutters\"': 1, 'NESTWELL HAND BLENDER EGG,LASSI,BUTTER,MILK,JUIC...\"': 1, 'American Club ExclusiveTrolleyBag4DT Expandable ...\"': 1, 'Gravolite Plain Yoga Red 3 mm\"': 1, 'Mentiezi Ties\"': 1, 'R-Lon Briefs': 1, 'Histeria Hand-held Bag (Black)\"': 1, 'SYL Wall Chargers': 1, 'kits kart Pouch for Sony Xperia Z1 (Red)\"': 1, 'Zebra Outdoors\"': 1, 'Cotton World Casual & Party Wear Shirts': 1, 'Sun Sports Cricket Balls': 1, 'DECOREX 12W LED Down Light (Light Colour : Neutr...\"': 1, 'ortel earphone69 Earphone Cable Organizer\"': 1, 'STERN KS34SRI SPINE ROLL Massager (MULTICOLOR)\"': 1, 'Johnson\\'s Baby Powder, Pure Cornstarch, Aloe & V...\"': 1, 'Rajrang Carved Pattern Elephant Showpiece  -  8 ...\"': 1, 'Akshyavat Decorative Bottles\"': 1, 'Alicia Souza In Loving Memory Badge\"': 1, 'Lance Three Fourths': 1, 'Pure Play Pulse Canvas Shoes\"': 1, 'Exotic India Religious Idols\"': 1, 'Kosher Cookware Pots\"': 1, 'LAADLI JI Cardigans': 1, 'Elligator Three Fourths': 1, 'Cover Girl Lipsticks\"': 1, 'BESTSUIT White Micro-Usb Type For MOTOROLA USB C...\"': 1, 'Lux Inferno Thermals': 1, 'SUNSHINE Dustbins': 1, 'ROYLE KATOCH Showpiece  -  24 cm (Crystal, Woode...\"': 1, 'Celebrity Pizza Cutters\"': 1, 'RoQ Slim Multimedia 105key Flexible Wired USB Fl...\"': 1, 'Deep Graters & Slicers': 1, 'Shirt': 1, 'Anno Dominii ADWB0000139 Watch Box (Black, Holds...\"': 1, 'NEWGEN TECH EO-HS3303 166 Wired Headset (White)\"': 1, 'Being Trendy Quit-X eGo-Twist CE-4 Automatic Ele...\"': 1, 'Boreal Manicure and Kits': 1, 'Ajmal Combos\"': 1, 'kits kart Pouch for HTC One M9+ Supreme Camera (...\"': 1, 'Imported Water Bottles': 1, 'Speedwav 220108 Bike Handle Grip For TVS Apache ...\"': 1, 'e-Fresh Boy\\'s Brief (Pack of 5)\"': 1, 'Fame16 Pyjamas & Lounge Pants': 1, 'Black & Decker SB3220 500 W Hand Blender (White)\"': 1, 'Alark The Ethnic Sets': 1, 'Ocean OPGDG-4/100 Digital Caliper (0-100 mm)\"': 1, 'Zenescope Entertainment Wonderland The Board Game\"': 1, 'U United WILD FLOWER 14 L Backpack (Purple)\"': 1, 'reckonon Umbrellas': 1, 'Samsung Toners\"': 1, 'vatika Idli Makers': 1, 'SHOPOJ Yellow Paper Sky Lantern (80 cm X 34 cm, ...\"': 1, 'Asavari world Awp222tfp Storage Basket (Pack of 3)\"': 1, 'Generix OTG for Sony Xperia M5 OTG Cable (White)\"': 1, 'Sonari Bras\"': 1, 'Roadster Cardigans': 1, 'Zrestha Sweatshirts\"': 1, 'Go Bonjour Manicure and Kits\"': 1, 'ZEVA Bar Set': 1, 'Services Junction Beautiful Black and Purple col...\"': 1, 'Alda Woks & Kadhais\"': 1, 'Bike Tyres\"': 1, 'TEMPO Slippers\"': 1, 'Aaina Home Decor Cloth Journal (Set Of 1, Green)\"': 1, 'Tescoma Pizza Cutters\"': 1, 'kits kart Pouch for Lava Iris X1 Mini (Red)\"': 1, 'Yumlookup Shoulder Bag (CHOCLATE)\"': 1, 'Sun Band 0401-002 Fitness Band (Yellow, Pack of 1)\"': 1, 'Arghyam PAGDI GANESH Showpiece  -  14 cm (Polyre...\"': 1, 'Steelseries Siberia 200 Wired Headset (Black)\"': 1, 'PRINT SHAPES doraemon Laptop Skin with Mouse pad...\"': 1, 'Furnishing Zone Printed Back Cushion (Pack of2, ...\"': 1, 'Jacadi paris Shirts': 1, 'Pasabahce ISTDECO22 (290 ml, Multicolor, Pack of...\"': 1, 'Ceela Cricket Grips': 1, 'American Club ExclusiveTrolleyBag1AW Expandable ...\"': 1, 'GREENWICH Track Pants': 1, 'La Shades Lifestyle 2 Casuals\"': 1, 'FreeHand Kurtas': 1, 'NBA Socks\"': 1, 'JRB 1038 Smallest Mobile Powered By OTG Enabled ...\"': 1, 'Gold Dust MO3007 Automatic Sun Hand Green Manual...\"': 1, 'kits kart Pouch for Oppo 3000 (Red)\"': 1, 'Puma Adreno FG Jr Sports Shoes\"': 1, 'kawal fashion Combo Sets': 1, 'Roller Ball Pens': 1, 'CSBS Sale Perforated front Loafers\"': 1, 'Stonkraft Human Figurines\"': 1, 'IndiWeaves Regular Fit Men\\'s Linen White, Black ...\"': 1, 'adidas BasketBalls\"': 1, 'Deepvan delux quality puri press Roti/Khakhra Ma...\"': 1, 'Blue Button Safari Green Loafers\"': 1, 'PRINT SHAPES I dont want to live Laptop Skin wit...\"': 1, 'CANMP Running Shoes\"': 1, 'Artengo Shuttles': 1, 'Offspring Pencil Boxes\"': 1, 'Uniball Drawing Pencils': 1, 'Lolprint Friendship Gifts Scroll Greeting Card (...\"': 1, 'SthriElite Religious Idols\"': 1, 'Hunter Electric Insect Killer (Bat)\"': 1, 'Darvesh Polypropelene Folder (Set Of 1, Black)\"': 1, 'Coucou Bras': 1, 'Haniya Jackets\"': 1, 'Zebie SPB100096 Solar 12000 MAH Power Bank 12000...\"': 1, 'LIFE LIKE OTP-200 WITH MIC Wireless Bluetooth He...\"': 1, 'Power Smart Quick Charging Pack For PAN CGAS005E...\"': 1, 'Biotique Sunscreen\"': 1, 'piftif Women\\'s Sports Bra\"': 1, 'Maybelline Lipsticks\"': 1, 'Weldecor Picture Light Wall Lamp (2)\"': 1, 'GOLDEN GLOBE Wall Chargers': 1, 'Hand Art Human Figurines': 1, 'I Know Shirts': 1, 'Adidas Sprays': 1, 'Cottage Hand-held Bag (Blue-01)\"': 1, 'fashion point Jeans': 1, 'PHOCOS Phocos CML 5A 12V/24V Solar Charge Contro...\"': 1, 'Ocean GO/ Capri Rock Glass (270 ml, Clear, Pack ...\"': 1, 'Babeezworld Combo Sets': 1, 'Vedic Deals M20 Monk Strap\"': 1, 'Radius Earbuds Radheadphones Hp-Rhf41P Headphone...\"': 1, 'Pavo Combos\"': 1, 'Packman 8 x 10 inches Security Bags Without POD ...\"': 1, 'Pu-Right Tennis-Black School Shoes\"': 1, 'Technix Sticky Yoga Sky Blue 4 mm\"': 1, 'kits kart Pouch for Microsoft X Plus (Red)\"': 1, 'OM SHIVAKRITI Square wall Clock Showpiece  -  38...\"': 1, 'Naxa Electronics Naxa Ne-929 Wh Headphones () He...\"': 1, 'Puma Caps\"': 1, 'Oriflame Sweden Sunscreen\"': 1, 'Cotab R2 \\xa0360 Degree rotatable Ring stand holder...\"': 1, 'fourgee Jeans': 1, 'Nature Gold Glue Board (Pack of 5)\"': 1, 'President Camping & Hiking Bags & Packs\"': 1, 'The Curve Jackets\"': 1, 'CASEDEAL Nokia lumia 720 Back Panel (Black)\"': 1, 'SS Cricket Balls': 1, 'Nourish Cardboard 2-O- Folder (Set Of 1, Magenta)\"': 1, 'GAGA Canvas Painting (14 inch x 18 inch)\"': 1, 'Nutcase Multicolor Column Floor Lamp (31 cm)\"': 1, 'Scot Wilson Shirts': 1, 'Japdan USB Orange Anti-dust Plug (Laptop Pack of 9)\"': 1, 'Cotts Hub Shirt Fabrics': 1, 'Laviva Stunnig Set of Fancy & Swastik Rakhis Des...\"': 1, 'fourgee Slim Fit Women\\'s Blue Jeans\"': 1, 'Fume Wrist Bands\"': 1, 'Shikon Body Fat Analyzers\"': 1, 'Sparx Stylish Black Red\"': 1, 'Peter England Ties\"': 1, 'GAYATRI CREATIONS ORANGE KIDS SET 2 Containers L...\"': 1, 'Emagica Home Security 1 Channel Home Security Ca...\"': 1, 'Newdort Usb Charger Full Charging Pad\"': 1, 'Tootpado Punches & Punching Machines (Set Of 1, ...\"': 1, 'JSM Woks & Kadhais\"': 1, 'One Femme Mufflers\"': 1, 'The Design Factory Suits': 1, 'Graco LiteRider Click Connect � Marco (Multicolor)\"': 1, 'Leo Natura Woks & Kadhais\"': 1, 'Campusmall Sweatshirts\"': 1, 'xpert Running Shoes\"': 1, 'Zidane 503TF_BLK Wireless Bluetooth Headset (Black)\"': 1, 'topolino Polos & T-Shirts': 1, 'Tinted Sweatshirts\"': 1, 'PrimeLine Oil Painting (10 inch x 8 inch)\"': 1, 'PURAN 999 Pure Silver Idol PARSAVNATH JI (Divine...\"': 1, 'Honey by Pantaloons Camisoles & Slips\"': 1, 'MIRICHI Printed Women\\'s Polo Neck Red T-Shirt\"': 1, 'Nuride Canvas Shoes\"': 1, 'Laviva Sober & Simple Design Rakhi Set of Four w...\"': 1, 'kits kart Pouch for Intex Aqua Star HD (Red)\"': 1, 'NEWGEN TECH EO-HS3303 161 Wired Headset (White)\"': 1, 'Arghyam Religious Idols\"': 1, 'Roxy Lingerie Sets\"': 1, 'THREE WICKETS Cricket Bats': 1, 'SANMARIO Premium Fountain Pen (BLUE)\"': 1, 'SHOPRIDER DESGINER MOUSEPAD-971 Mousepad (Multic...\"': 1, 'Art N Hub Generic Photo Frame (Photo Size - (4 p...\"': 1, 'Blue Birds Usa Homeware Water bottle': 1, 'E-Studio Religious Idols\"': 1, 'Devinez Potpourri': 1, 'Red Apple Kurtas & Kurtis\"': 1, 'Merchant eshop Boys, Men, Girls, Women (Yellow, ...\"': 1, 'MAC Blushes': 1, 'giftsthatwow GTW-G-07 (90 ml, White, Pack of 1)\"': 1, 'kits kart Pouch for Videocon Infinium Z45 Nova+ ...\"': 1, 'PRINT SHAPES monster university party Laptop Ski...\"': 1, 'Odoky Vests': 1, 'Think3 Toners': 1, 'Saihan SHN-FPLH52  Lens Hood (52 mm, Black)\"': 1, 'VRK Bras\"': 1, 'Legato rugsack 2.5 L Backpack (Multicolor)\"': 1, 'MIb Blushes': 1, 'CALCULUS Shirts': 1, 'Anjalika Religious Idols\"': 1, 'mobiware mw5b mobiware ultra slim 5000mah powerb...\"': 1, 'ROSEMOORE Potpourri': 1, 'AND Designs Artistic Wooden Key Holder Wooden Ke...\"': 1, 'DH-Discovery 20200W 2.1 Home Theatre System (NA)\"': 1, 'Kraftnation Condiment Sets': 1, 'DISNEY Art Sets': 1, 'King & I Cargos\"': 1, 'UR Image Lingerie Sets': 1, 'HANS Socks': 1, 'Allin Exporters Cumin Seed Oil (Co2 Extract) (25...\"': 1, 'Dhruva Card Holders\"': 1, 'Jhondeal.com Pizza Cutters\"': 1, 'scarlet tanager bird normal POSTER Paper Print (...\"': 1, 'Furst Sync Data & Charging For Lva A76 USB Cable...\"': 1, 'Femme Couture Bronzers': 1, 'Disney Skates\"': 1, 'Services Junction Beautiful Silver Plated Blue P...\"': 1, 'Detak Pizza Cutters\"': 1, 'Vicky Skates\"': 1, 'Car Fog Lamps\\xa0': 1, 'Shopfloor.XYZ Vacuum Cleaner for Computers, Lapt...\"': 1, 'Naisha Canvas Shoes\"': 1, 'Toons Polos & T-Shirts': 1, 'Lodge Woks & Kadhais\"': 1, 'Speedwav 202058 Bike Handle Grip For Universal F...\"': 1, 'MARVEL HMRPLB 73171 - AV 1 Containers Lunch Box ...\"': 1, 'Rajindras Sweaters\"': 1, 'Home Genie Nail Filers': 1, 'TREO DRM91 (245 ml, Clear, Pack of 6)\"': 1, 'Agnihotra Creations Human Figurines\"': 1, 'GREENWICH Leggings & Jeggings': 1, 'Rugby Slippers\"': 1, 'JDK NOVELTY Hand-held Bag (Beige)\"': 1, 'zaidis data_cable USB Cable (White)\"': 1, 'AW High Power Usb for Iphone 4 Lightning Cable (...\"': 1, 'Newgen Tech NGT-38 Sim Adapter (Fiber)\"': 1, 'AVM BasketBalls\"': 1, 'Dongli Polos & T-Shirts\"': 1, 'Cratly 5I Vase Filler (Flower vase)\"': 1, 'Khoobee Dress Materials\"': 1, 'Dhiyaa Traders Manchester united Key Chain\"': 1, 'SKI WINNER GIFT SET SKYBLUE02 2 Containers Lunch...\"': 1, 'Christian Theology': 1, 'Tootpado Spring Back, Size 5.5x5.5 Inch, Craft P...\"': 1, 'Cookart Elegant S.S. Handi With Hot Pot Pack of ...\"': 1, 'ESBEDA Shoulder Bag (Coffee)\"': 1, 'MINDITDADDY Loafers\"': 1, 'Nivia BasketBalls\"': 1, 'Fragrance and Fashion Combos\"': 1, 'Desiharem Bras\"': 1, 'Bless Religious Idols\"': 1, 'London Bee Casual & Party Wear Shirts\"': 1, 'Hello Dolly Leggings & Jeggings\"': 1, 'Yonex Tennis Balls': 1, 'John Players Formal Shirts\"': 1, 'SHOPOJ 15 Sky Lanterns Yellow Paper Sky Lantern ...\"': 1, 'Stable Life Soft & Sturdy10 Yoga, Exercise & Gym...\"': 1, 'Mom Italy Pizza Cutters\"': 1, 'Lotusa Scarves & Stoles': 1, 'Vinex Boards': 1, 'ISHWA Sweatshirts': 1, 'Caffeine Handmade Tribal Print Influenced Katori...\"': 1, 'Only Coats': 1, 'PRINT SHAPES Jurassic Park Laptop Skin with Mous...\"': 1, 'Magnusdeal Mobile Holders\"': 1, 'Karukraft Religious Idols\"': 1, 'DISNEY HMHILB 169-CIN 1 Containers Lunch Box (50...\"': 1, 'SKI LIC RECESS GIFT SET PINKYELLOW01 2 Container...\"': 1, 'MUA MAKEUP ACADEMY Lip Balms': 1, 'Quirky Pizza Cutters\"': 1, 'Nourish Cardboard 2-O- Folder (Set Of 1, Purple)\"': 1, 'Just Herbs Sunscreen\"': 1, 'Polo House USA ExclusiveTrolleyBag15OE Cabin Lug...\"': 1, 'PRINT SHAPES monster with precious Laptop Skin w...\"': 1, 'Elligator Card Holders\"': 1, 'Goblin Hurricane Expandable  Check-in Luggage - ...\"': 1, 'Oriflame Waterproof Multipurpose Bag (Black, 3 i...\"': 1, '@home Glass Vase (18 inch, Grey)\"': 1, 'Capturing Happiness Wood Photo Frame (Photo Size...\"': 1, 'piftif Sports Bras': 1, 'Janhvi PS-L045B Solar Lights (Red)\"': 1, 'Speedwav 142492 Bike Handle Grip For Yamaha YBR ...\"': 1, 'Hey You Combos\"': 1, 'Phototech Wall Clocks': 1, 'InstaNote Planners\"': 1, 'Viral Girl Women\\'s Full Coverage Bra\"': 1, 'Good Night Cotton Floral King sized Double Bedsh...\"': 1, 'ortel earphone82 Earphone Cable Organizer\"': 1, 'SATYA SITA Sarees': 1, 'Vedant Lifestyle Sarees': 1, 'Famous Pizza Cutters\"': 1, 'snjmart Gold Note 4 Stereo Dynamic Earphone Wire...\"': 1, 'Czds India Shoulder Bag (Red)\"': 1, 'Being Trendy Quit-X eGo-Twist CE 5 Automatic Ele...\"': 1, 'Lovely Chick Loafers\"': 1, 'CASEDEAL Nokia lumia 225 Back Panel (Yellow)\"': 1, 'Puma Women Black PU Shoulder Bag\"': 1, 'Baby Bucket SHERIN MULTI BEAR Sleeping Bag (Green)\"': 1, 'Star Metal Woks & Kadhais\"': 1, 'American Club ExclusiveTrolleyBag8HO Expandable ...\"': 1, 'Sweaters & Pullovers': 1, 'Harissons Split 26 L Backpack (Black, Grey)\"': 1, 'Zero Leggings & Jeggings': 1, 'Space Casuals\"': 1, 'Maayas Shoulder Bag (Black)\"': 1, 'e.l.f. Cosmetics Eye Shadows': 1, 'SVVM SMGRNBLK01BP 25 L Backpack (Green with Black)\"': 1, 'Blue Dot Pizza Cutters\"': 1, 'S Class EW-73C  Lens Hood (67 mm, Black)\"': 1, 'KalaBhawan Human Figurines\"': 1, 'Redwave 360 Degree Powered Rotation Bluetooth Se...\"': 1, 'BrandTrendz Slip On\"': 1, 'Vicky Tennis Balls\"': 1, 'aadi Casuals\"': 1, 'Jafra Sunscreen\"': 1, 'Laviva Exclusive Designer Set of 3 Fancy Rakhis ...\"': 1, 'Gift Studio Water Bottles': 1, 'L Oreal Eversleek Sulfate - Free Smoothing Syste...\"': 1, 's2s Trimmer rechargeable hair remover 280r Shave...\"': 1, 'Voylla Artificial Classic Embellished Yellow Gol...\"': 1, 'DARPAN Excellent Right Hand commercial Scissors ...\"': 1, 'Frontech Hi-Fi Systems\"': 1, 'Detak Manicure and Kits\"': 1, 'Riverside Sweaters\"': 1, 'Hand Art Human Figurines\"': 1, 'ShoeBuzz Casuals\"': 1, 'Services Junction Beautiful Black and Golden col...\"': 1, 'AirFlow Stockings': 1, 'Amatra Hand-held Bag (Beige, Green)\"': 1, 'CTW Religious Idols': 1, 'Mast & Harbour Shoulder Bag (Beige)\"': 1, 'TIGI BED HEAD COLOUR GODDESS OIL INFUSED CONDITI...\"': 1, 'ARISE Self Design, Printed Men\\'s Henley Maroon T...\"': 1, 'Stellar Engineered Wood Entertainment Unit (Fini...\"': 1, 'Sherie Sprays': 1, 'Tipsy Bras': 1, 'SUNFLAME PEARL Dry Iron (White)\"': 1, 'Car Washer Liquids': 1, 'Speedo Swimsuits': 1, 'NITGEN eNBioAccess T5-HID Time & Attendance, Acc...\"': 1, 'Yc Sunscreen\"': 1, 'CLASSY N18 (200 ml, White, Pack of 25)\"': 1, 'Finnexe Hyper Time 2 Containers Lunch Box (1000 ml)\"': 1, 'King International Pizza Cutters\"': 1, 'Dove Hair Therapy Daily Moisture Conditioner (75...\"': 1, 'SANTOSH ROYAL FASHION Cotton Printed King sized ...\"': 1, 'eKolhapuri Terracotta Vase (11 inch, Multicolor)\"': 1, 'Dhhan Earphones/Handfree for Iphone 4/4s/4g/5/5c...\"': 1, 'Boss Prince 750 W Mixer Grinder (White, 3 Jars)\"': 1, 'Nourish Cardboard 2-O- Folder (Set Of 1, Black)\"': 1, 'Quechua T-Shirts\"': 1, 'Allora 3D Screen Expander With Speaker for Micro...\"': 1, 'AVM Cricket Bats\"': 1, 'Pu-Easy Life Monk Strap\"': 1, 'Tech Yug BH-503 bluethooth headset Wireless Blue...\"': 1, 'Nike 684658-003 Training & Gym Shoes, Running Shoes\"': 1, 'Intel 3.1 GHz LGA 1150 G3240 Processor (SILVER G...\"': 1, 'e-Fresh Boy\\'s Brief (Pack of 10)\"': 1, 'Benetton Combos\"': 1, 'Ben 10 Pencil Boxes\"': 1, 'Sunvalley Hair Accessories': 1, 'Pruto Monk Strap\"': 1, 'Car Fog Lamps�': 1, 'Nature\\'S Sunscreen\"': 1, 'Shamrock Mats': 1, 'Monet Combos\"': 1, 'nayasa whip 1200 ml Bottle (Pack of 1, blue)\"': 1, 'Ivon 208 Hair Straightener (Black)\"': 1, 'PRINT SHAPES think positively Laptop Skin with M...\"': 1, 'BUTTERFILES Shoulder Bag (blue 07)\"': 1, 'Intel 3.2 GHz LGA 1150 3250 Processor (BLACK)\"': 1, 'mae Panties': 1, 'Lee Sweaters\"': 1, 'i-gadgets Graters & Slicers': 1, 'NITGEN Fingkey Access Plus-HID Time & Attendance...\"': 1, 'PUSHCART REK-164-W W-B-MSG Massager (WHITE)\"': 1, 'Munchkin Sippers & Cups\"': 1, 'Ajaero Dresses': 1, 'PrettySecrets Night Dresses & Nighties\"': 1, 'CHHOTE JANAB COZY MATTRESS PROTECTOR(SET OF 2) (...\"': 1, 'LIME Sports Bras': 1, 'Dora Pencil Boxes\"': 1, 'Krasiv Babydolls': 1, 'Shopizone BMW Wheel 32 GB  Pen Drive (Black)\"': 1, 'Transtal \\'Triangle Lean\\' Corner 9\\\\\" Acrylic Wall ...\"': 1, 'Services Junction Silver plated Shreenathji Idol...\"': 1, 'Manthan Slippers\"': 1, 'Aadishwar Creations Gloves': 1, 'Right Wall Clocks': 1, 'Transtal \\'V\\' Edge 10\\\\\" Acrylic Wall Shelf (Number...\"': 1, 'Nimfill Camisoles & Slips': 1, 'PerfectBlue Sarees': 1, 'CHKOKKO Earbud Skin Wireless Bluetooth Headset (...\"': 1, 'Loreal Paris Toners': 1, 'Knot in Love Bras': 1, 'ColorPlus Slim Fit Men\\'s Black Trousers\"': 1, 'Oxelo Skates\"': 1, 'Jain\\'s Formal Shirts\"': 1, 'Soulful Threads Red Thread Aari Embroidered Blac...\"': 1, 'Crezy Water Bottles': 1, 'Czds India Shoulder Bag (orange)\"': 1, 'King Traders Baking Dishes': 1, 'LefJord Socks': 1, 'Bazaar Pirates Manicure and Kits\"': 1, 'C&E Mobile Cables': 1, 'LEAF Formal Shirts\"': 1, 'Little Frog Men Sandals\"': 1, 'Mrigoy - Foresworth Abinitio Manicure and Kits\"': 1, 'Anshul Fashion Religious Idols\"': 1, 'Keya Seth Sunscreen\"': 1, 'IBALL ZPS-290 450 Watts PSU (gray)\"': 1, 'Port Sport-Shiled Training & Gym Shoes\"': 1, 'SKOOKIE Jackets': 1, 'KAPFAB Sarees': 1, 'Recrafto Religious Idols\"': 1, 'Next Player Walking Shoes\"': 1, 'veronica Loafers\"': 1, 'EDGE PLUS BODY PANEL FOR SAMSUNG S3500 Front & B...\"': 1, 'NITGEN Hamster - DX Time & Attendance, Access Co...\"': 1, 'Thalgo Sunscreen\"': 1, 'Flair Carishma Ball Pen (Pack of 12, Blue)\"': 1, 'Jk Vallabhdas Woks & Kadhais\"': 1, 'APG Cricket Balls': 1, 'Quechua Sweaters\"': 1, 'Hawai Combo Sets\"': 1, 'KazamaKraft Jackets': 1, 'Lady Diana Lip Balms': 1, 'FAUSTO Casuals\"': 1, 'Valentine Camisoles & Slips\"': 1, 'JDK NOVELTY Hand-held Bag (Brown)\"': 1, 'CraftGhar X-02-EW-B-147-E. (Brown)\"': 1, 'Jogur Sweatshirts\"': 1, 'Foolzy Lipsticks\"': 1, 'SIESTA Slim Fit Women\\'s Black Jeans\"': 1, 'Goblin Hurricane Expandable  Cabin Luggage - 22 ...\"': 1, 'Buyer\\'s Beach BB331 (80 ml, Multicolor, Pack of 6)\"': 1, 'Sukuma Leggings & Jeggings\"': 1, 'JBI Shoulder Bag (black)\"': 1, 'BrandTrendz Pizza Cutters\"': 1, 'Tks Cotton Hair Towel (1 Hair towel, Orange)\"': 1, 'PRINT SHAPES I scare them first Laptop Skin with...\"': 1, 'Matrix Wonder Red Permanent  Hair Color (WR-6RV ...\"': 1, 'La Mode Formal Shirts\"': 1, 'Advent Crafts Religious Idols\"': 1, 'Planet Dustbins\"': 1, 'Tf Pro  TV-out Cable Tf HDMI To Vga Cable (White...\"': 1, 'Agromech Pizza Cutters\"': 1, 'sark NO015 Faucet Set\"': 1, 'Speedwav 220164 Bike Handle Grip For TVS Apache ...\"': 1, 'JayEnterprise Hand Juicers': 1, 'Himalayan Sutra Peppermint Essential Oil -Therap...\"': 1, 'Tiara Diaries Designer': 1, 'Park Avenue Regular Fit Men\\'s Brown Trousers\"': 1, 'Laviva Amazing Beads & AD Stone Rakhi Set of 4 w...\"': 1, 'Organic Harvest Sunscreen\"': 1, 'craftland Ties': 1, 'JDK NOVELTY Shoulder Bag (Cream, Beige, Multicolor)\"': 1, 'Eprilla Sweaters\"': 1, 'Crazy Deal Men, Women (Green, Pack of 1)\"': 1, 'ortel earphone44 Earphone Cable Organizer\"': 1, 'Hddecor Continental With 1 Meter Flexible Tube A...\"': 1, 'Athena Dresses': 1, 'Trends On Wall Panihari Acrylic Painting (8 inch...\"': 1, 'Hako 45W Magsafe Laptop Charger For APPLE MacBoo...\"': 1, 'Vero Moda Waistcoats': 1, 'Raju Purse Collection Shoulder Bag (beige)\"': 1, 'KOHL Bottle Covers': 1, 'Clairol Nice N Easy 2.5 Hair Color (123 Natural ...\"': 1, 'Astaberry Sunscreen\"': 1, 'Car Indicator Lights\\xa0': 1, 'Shortkut enterprises Model no 477 Mobile/Tablet ...\"': 1, 'Style HD Men Sandals\"': 1, 'Ech oly Hookah Mouth Tips': 1, 'APOLLO+ Pack Of 3 Flexible Led Light (Multicolour)\"': 1, 'Edel Shoulder Bag (sky blue)\"': 1, 'gym-weights- poster Paper Print (12 inch X 18 in...\"': 1, 'Tuelip Silver Sipper Bottle 600 ml Sipper (Pack ...\"': 1, 'Stealodeal Grand Harvest 11 Function Multi Utili...\"': 1, 'PRINT SHAPES mind haker Laptop Skin with Mouse p...\"': 1, 'Speedwav 220113 Bike Handle Grip For TVS Apache ...\"': 1, 'Woly Shoe Polishes & Creams': 1, 'Ursense Sweatshirts\"': 1, 'Secretlayer Bras\"': 1, 'Techpro with Toyota design SILVER color PRINT on...\"': 1, 'Jake Chiramel Formal Shirts\"': 1, 'ABIDA Blouses': 1, 'TruSo Slim Fit Men\\'s Beige Trousers\"': 1, 'RED HORSE Canvas Shoes\"': 1, 'Krishna Carpets Mats\"': 1, 'LIFE LIKE HBS-730 WITH MIC Wireless Bluetooth He...\"': 1, 'oxford Pans & Tawas': 1, 'Car Hanging Organizers': 1, 'GND Wired Earphones Dynamic Handsfree Wired Head...\"': 1, 'BFT 6 W LED Cool White Bulb (White, Pack of 4)\"': 1, 'Grand Bear Sweaters\"': 1, 'Life by Shoppers Stop Sweaters\"': 1, 'BURDY Backpack': 1, 'LUMENPULSE Recessed Ceiling Lamp\"': 1, 'PRINT SHAPES Abstract 3d ball Laptop Skin with M...\"': 1, '3 Degre Jackets\"': 1, 'Fashion18 Babydolls': 1, 'Pazel Slim Fit Men\\'s Jeans\"': 1, 'The House of Tara Go-Getter 19 L Backpack (Comba...\"': 1, 'Cargos': 1, 'Harissons Ultimo 32 L Backpack (Red, White)\"': 1, 'Teemoods Camisoles & Slips\"': 1, 'Pick Pocket Waistcoats': 1, 'Bracotair Bras\"': 1, 'Xtremeonlinestore One-way Bike Alarm Kit (Beep, ...\"': 1, 'Jutecentral CA16YBSMR0601 Yoga Mat Bag (Maroon, ...\"': 1, 'BEARDO ACTIVATED CHARCOAL Brick Soap - 125g (Set...\"': 1, 'Kjaggs Leggings & Jeggings\"': 1, 'Heart 2 Heart Babydolls': 1, 'Stiga TableTennis Racquets\"': 1, 'Richfeel Sunscreen\"': 1, 'Peach Woks & Kadhais\"': 1, 'Ownclique Caps\"': 1, 'PRINT SHAPES roronoa Zora Laptop Skin with Mouse...\"': 1, 'Teaching Manual\"': 1, 'Pandora Backpack': 1, 'NU9 Jackets\"': 1, 'Streax Combos\"': 1, 'Pakshal Premium Pans & Tawas': 1, 'BASRA uepgrn Green Changing Table\"': 1, 'ferari Casual & Party Wear Shirts': 1, 'Gharonda Religious Idols\"': 1, 'CUBA USB OTG Adapter (Pack of 1)\"': 1, 'Svayam Manicure and Kits\"': 1, 'Annapurna Silks Sarees\"': 1, 'Kitts N Nevis Jeans': 1, 'Artifa Human Figurines\"': 1, 'Gudi Full Sleeve Striped Women\\'s Jacket\"': 1, 'morpankh Enterprise Sarees': 1, 'Harissons Ergo 26 L Backpack (Yellow, Grey)\"': 1, 'TimberTaste Religious Idols': 1, 'Starmark Educational Building Blocks (Multicolor)\"': 1, 'Force 10 By Liberty Slip On\"': 1, 'Vibhavari Ties\"': 1, 'Bike Indicator Lights': 1, 'Optokart Two Tone Color Made In U S A By Visions...\"': 1, 'Soie Camisoles & Slips\"': 1, 'SARK 2 in 1 Bib Cock with Flange Faucet Set\"': 1, 'Gato Chief Tan Corporate Casuals\"': 1, 'Inatur Herbals Manicure and Kits\"': 1, 'Super Hornet Fighter Aircraft Poster Paper Print...\"': 1, 'T THREE Jeans': 1, 'Rajdoot Loafers\"': 1, 'Generix OTG for Nexus 6P OTG Cable (White)\"': 1, 'NAMS Pulse Oximeters': 1, 'Monte Carlo Pullovers': 1, 'F-Loop Salwar Kurta Dupattas': 1, 'Subh-Akriti Assorted Artificial Plant (66 cm, Gr...\"': 1, 'Angelfish Silk Potali Potli (Multicolor)\"': 1, \"Prrem's Sweatshirts\": 1, 'My Angel Human Figurines\"': 1, 'Flats': 1, 'Neo strike Cricket Gloves': 1, 'Ennoble Slim Fit Men\\'s Grey Trousers\"': 1, 'Okane Three Fourths': 1, 'Maped Rulers': 1, 'Royal Enfield Bandanas': 1, 'American Club ExclusiveTrolleyBag11KH Expandable...\"': 1, 'Roadster Sweaters & Pullovers\"': 1, 'Organistick Lipsticks\"': 1, 'KRiSS Formal Shirts': 1, 'painting_art_couple_love__Dance Paper Print (12 ...\"': 1, 'Escoda Round Paint Brushes (Set of 1, Blue)\"': 1, 'Acropolis by Shoppers Stop Sweaters\"': 1, 'Pearl Berry Pizza Cutters\"': 1, 'hi-tech Hiking & Trekking Shoes\"': 1, 'SKY TRENDS GIFT Square Wood Coaster (Multicolor,...\"': 1, 'vinay 1pen +1 refille Ball Pen (blue)\"': 1, 'Small Toes Slippers\"': 1, 'Menow Eye Liners': 1, 'FS Mini Klub Shirts': 1, 'rainfun Kidsumbrella08 Umbrella (multi)\"': 1, 'Blackberrys Formal Shirts\"': 1, 'SRS Manicure and Kits\"': 1, 'Oral Care Baby Toothbrushes': 1, 'Crocs Boys Sandals\"': 1, 'Steelseries Siberia 200 Wired Headset (Forged Red)\"': 1, 'Roadster Sweaters\"': 1, 'domestiq Slippers\"': 1, 'SUNPLEON Socks': 1, 'Sahara Q Shop Woks & Kadhais\"': 1, 'FTCBAZAR Kurtas': 1, 'jaisayram Cotton Abstract Single Bedsheet (1 Sin...\"': 1, 'Utsav Handicraft Religious Idols\"': 1, 'Onlinemart Remote Controllers': 1, 'Nazaqut Dress Materials\"': 1, 'NYX Primers': 1, 'SHEFFIELD CLASSIC SH-83-VC1 Hand-held Vacuum Cle...\"': 1, 'Tsavo Sweaters\"': 1, 'Shrug': 1, 'DLOOP Hand-held Bag (Multicolor-10)\"': 1, 'Nirlon Woks & Kadhais\"': 1, 'Pearl Condiment Sets': 1, 'SHOPOJ Red Paper Sky Lantern (80 cm X 34 cm, Pac...\"': 1, 'Masterfit Ironing Board\"': 1, 'BFT 6 W LED Bulb (White)\"': 1, 'Zobello Slim Fit Men\\'s Grey Trousers\"': 1, 'Lusty Lingerie Bras\"': 1, 'X-WELL Shoulder Bag (Blue)\"': 1, 'OGX Strength & Body+Bamboo Fiber-Full Thickening...\"': 1, 'Smart Wall Guru Medium Adhesive Sticker (Pack of 1)\"': 1, 'JDK NOVELTY Shoulder Bag (Blue)\"': 1, 'Chazer Running Shoes\"': 1, 'Small Toes Casuals\"': 1, 'Apex Pizza Cutters\"': 1, 'Go Hooked Toothpick Holders\"': 1, 'LAIBA  Battery - Laiba Battery - BOPA2100 Lithiu...\"': 1, 'Generix Pack of 2 Micro USB On-the-go For Mobile...\"': 1, 'Buynow Glass_53 Tempered Glass for Lenovo K5 Note\"': 1, 'Reiki Crystal Products Showpiece  -  1.5 cm (Cry...\"': 1, 'Lamy Safari Ball Pen (Black)\"': 1, 'Great Art Scarves & Stoles': 1, 'FRENEMY MPAD288 Mousepad (Multicolor)\"': 1, 'Triveni Women Pink Rexine Sling Bag\"': 1, 'Ashdan Sweatshirts': 1, 'NEWGEN TECH EO-HS3303 64 Wired Headset (White)\"': 1, 'La Roche-Posay Sunscreen\"': 1, 'Surprise Gifts 0024 Key Chain\"': 1, 'Hako 60W Magsafe1 Laptop Charger For APPLE MacBo...\"': 1, 'Osmonde Vests': 1, 'TERATONIC Digital Thermometers': 1, 'Mad(e) in India TAHGSG000023 (30 ml, Multicolor,...\"': 1, 'Khanna Jupiter Board & Art Paper Box File (Set O...\"': 1, 'HealthMax Shapewears': 1, 'Bada Saab Juniors Jeans': 1, 'H D ENTERPRISE Oil Dispensers': 1, 'O Baby Night Suits': 1, 'Innovative Single Corner Stainless Steel Wall Sh...\"': 1, 'Chefkraft Woks & Kadhais\"': 1, 'Tupperware Captain America 2 Containers Lunch Bo...\"': 1, 'BFT 9 W LED Bulb (White, Pack of 4)\"': 1, 'Specimen Formal Shirts\"': 1, 'Urbanvillage Dupattas': 1, 'Generix OTG for Lenovo K3 OTG Cable (White)\"': 1, 'Dungri India Craft Ducjug010-ducgl012-2 Jug Glas...\"': 1, 'Dhiyaa Traders Cards Key Chain\"': 1, 'Lace': 1, 'House This Queen Cotton Duvet Cover (Grey)\"': 1, 'ASHAWAY Badminton Racquets': 1, 'MODWARE HAPPINESS 1 Containers Lunch Box (550 ml)\"': 1, 'Koridor Formal Shirts\"': 1, 'HD Crafts Religious Idols\"': 1, 'WEIDELI BLACKBP001 45 L Backpack (Black)\"': 1, 'The Body Care Facial Kits': 1, 'FRENEMY MPAD206 Mousepad (Multicolor)\"': 1, 'SMS Elegant Squirt Gun 1 L Hand Held Sprayer (Pa...\"': 1, 'PRINT SHAPES msi dragon logo Laptop Skin with Mo...\"': 1, 'Raju purse collection Hand-held Bag (Red)\"': 1, 'Soie Bras\"': 1, 'BRANDWAGON DIGIPRINT Digital Reprint Painting (1...\"': 1, 'Smghut Pizza Cutters\"': 1, 'Hira Fashion Wear Sweaters\"': 1, 'Bootwale Walking Shoes\"': 1, 'Yepme Sweatshirts': 1, 'Paranoid Ties': 1, 'DEEPAK N DIVYA Ethnic Sets': 1, '@home Enchanted Cushion Ceramic Vase (8.646 inch...\"': 1, 'Aapno Rajasthan Lovely Jewellery Vanity Jeweller...\"': 1, 'KLOCX Wall Clocks': 1, 'Pollo Slip On\"': 1, 'Futaba 225-Button Shaped Winder Earphone Cable O...\"': 1, 'Mother Mary & Baby Jesus Paper Print (18 inch X ...\"': 1, 'Big Mike s 52mm lens hood  Lens Hood (Black)\"': 1, 'Liberty Formal Brown Shoes Slip On\"': 1, 'Provogue Sweaters\"': 1, 'Omic Sippers': 1, 'NEWGEN TECH EO-HS3303 60 Wired Headset (White)\"': 1, 'Metmo Flip Flops\"': 1, 'Creative Textiles Cotton Small Changing Mat Soft...\"': 1, 'Ramarrow Boxers\"': 1, 'NEWGEN TECH EO-HS3303 176 Wired Headset (White)\"': 1, 'BagsHub Shoulder Bag (Maroon)\"': 1, 'Gautam Buddha Religious Idols': 1, 'V Creations Bonsai Cactus Artificial Plant  with...\"': 1, 'Regan Pizza Cutters\"': 1, 'Wonder World Shapewears': 1, 'raju purse collection Hand-held Bag (yellow)\"': 1, 'Jaipan Woks & Kadhais\"': 1, 'Eeshha Sunscreen\"': 1, 'EZRA VGLASS0085 (210 ml, Clear, Pack of 6)\"': 1, 'Techware Microwavable Tea Cups WF13115 - Purple ...\"': 1, 'SAVON Slim Fit Men\\'s Jeans\"': 1, 'Voylla Artificial Classic Embellished Silver Cub...\"': 1, 'Gold Dust QUA101 Card Reader Connection Kit Smar...\"': 1, 'Protector G X1032 Tempered Glass for Motorola Mo...\"': 1, 'Mr Button Casual & Party Wear Shirts\"': 1, 'Kuons Avenue Formal Shirts\"': 1, 'Gadget-Wagon Hi-Fi Systems\"': 1, 'ETHICS Running Shoes\"': 1, 'Clovia Camisoles & Slips': 1, 'CASEDEAL Nokia lumia 720 Back Panel (White)\"': 1, 'Filink Toners\"': 1, 'Nova KT 728S Electric Kettle (0.5 L)\"': 1, 'Colour Me Mad Flip Flops\"': 1, 'Ninecolours Ethnic Sets': 1, 'Yati Camisoles & Slips\"': 1, 'L \\'Oreal Paris Sunscreen\"': 1, 'Klaur Melbourne Canvas Shoes\"': 1, 'Hers by Herman Lingerie Sets': 1, 'Heevaw Sweatshirts\"': 1, 'LIFE LIKE STN-840 4.1 WITH MIC Wireless Bluetoot...\"': 1, 'Heeran Art Ganesha Ashirwad Showpiece  -  8 cm (...\"': 1, 'KANCHOO Blouses': 1, 'Shortkut enterprises Model no 428 Mobile/Tablet ...\"': 1, 'Towel Holders': 1, 'Le Bison Formal Shirts\"': 1, 'Services Junction Silver Plated Ganesh Idol with...\"': 1, 'Royal Kurta Sets': 1, 'Hariom enterprises Stainless Steel Knife (Pack o...\"': 1, 'Da Intimo Lingerie Sets\"': 1, 'Lock&Lock Kitchen Containers': 1, 'Comex Acheiver-Pluto Football Shoes\"': 1, 'Sugandh Vatika Incense Sticks & Holders': 1, 'London Bee Cargos\"': 1, 'Harissons Split 26 L Backpack (Royal Blue, Light...\"': 1, 'Art n Beyond 150013 (300 ml, Clear, Pack of 6)\"': 1, 'Shower Head': 1, 'Valentine Night Dresses & Nighties': 1, 'PRINT SHAPES Graphic Dancer Laptop Skin with Mou...\"': 1, 'Aster Luxury Arabic Oudh Bathing Bar - Pack of 4...\"': 1, 'GOGLE SOURCING GS005 Selfie Stick (Black)\"': 1, 'Dhiyaa Traders Alphabet R Key Chain\"': 1, 'Bajya Anti EMR Eco Chip Radiation Protector for ...\"': 1, 'Panditnmshrimali Religious Idols': 1, 'Hadwin Tortoise Showpiece  -  7 cm (Glass, Silver)\"': 1, 'Souminie Bras': 1, 'LAST BENCH Polos & T-Shirts': 1, 'Metro Men Sandals\"': 1, 'Richard Cole Suits': 1, 'addee Backpack': 1, 'GENIAL Casuals, Loafers\"': 1, 'NAVISHA Hand Juicers': 1, 'ACM Pouch for Leeco Letv Le Max 2 (Black)\"': 1, 'Noise Bandanas': 1, 'Gravolite Plain Yoga Cherry 9 mm\"': 1, 'Vendout Pencil Boxes\"': 1, 'Natures Essence Sunscreen\"': 1, 'Envy 1000 Combos\"': 1, 'Fashiondeal Sarees': 1, 'Harissons Inferno Small 27 L Backpack (Red, Grey)\"': 1, 'Brahmz Glass Mossiac Table Lamp (18 cm, Multi Co...\"': 1, 'Sill Plates\"': 1, 'Tennis Tennis Sports Shoes Running Shoes\"': 1, 'Bajaj Majesty Grill Ultra Open Grill (Silver)\"': 1, 'Rex School Shoes\"': 1, 'AND Designs Showpiece  -  12.7 cm (Terracotta, M...\"': 1, 'prored Socks': 1, 'Cristiano Ronaldo - Great Soccer player of Real ...\"': 1, 'DOCOSS PACK OF 3-speed Jet Spray & Anox 1.5 mete...\"': 1, 'SG Cricket Balls': 1, 'Forever Sunscreen\"': 1, 'Russell Athletic Sweatshirts\"': 1, 'Reiki Crystal Products Showpiece  -  8 cm (Cryst...\"': 1, 'Arcley Yoga Straps': 1, 'Toyto Men Sandals\"': 1, 'raju purse collection Shoulder Bag (blue, pink)\"': 1, 'Equinox Body Fat Analyzers\"': 1, 'Empreus MDF Photo Frame (Photo Size - 15cmx10cm,...\"': 1, 'MohanJodero Jewellery Box Jewellery Vanity Jewel...\"': 1, 'Cheeky Chompers Bibs': 1, 'Buynow Glass_44 Tempered Glass for Lenovo K5 Note\"': 1, 'Peter England Sweatshirts\"': 1, 'Hooks': 1, 'Milani Eye Shadows': 1, 'Jorzzer Roniya Formal Shirts\"': 1, 'Port VolleyBalls\"': 1, 'Hm International Note Book A5 Diary Hard Bound (...\"': 1, 'PRINT SHAPES red Heart Laptop Skin with Mouse pa...\"': 1, 'Bull\\'s Eye Mobile Holders\"': 1, 'Rainfun RF1003 Umbrella (MultiColor)\"': 1, 'Tossido Mufflers\"': 1, 'The House of Tara Wanderer 27 L Backpack (Desert...\"': 1, 'Ethiic Jackets': 1, 'Richworth Formal Shirts\"': 1, 'Kal Se Daru Band Paper Print (18 inch X 12 inch,...\"': 1, 'Disney Pinatas\"': 1, 'NIROSHA Night Dresses & Nighties': 1, 'Saco wrist rest support Mousepad (Black)\"': 1, 'Speedwav 220102 Bike Handle Grip For TVS Apache ...\"': 1, 'Mee Mee Stockings': 1, 'N Choice Camping & Hiking Bags & Packs': 1, 'Blue Birds USA Homeware Water bottle': 1, 'Ruhi\\'s Creations Cotton Floral King sized Double...\"': 1, 'PRINT SHAPES Batman The Dark Knight Laptop Skin ...\"': 1, 'Smartpro 10.5v,2.9a for Tablet Charger 75 Adapte...\"': 1, 'PALSUN WEARS Sweatshirts': 1, 'Kalrav Formal Shirts\"': 1, 'United Woks & Kadhais\"': 1, 'PRINT SHAPES Green acer Laptop Skin with Mouse p...\"': 1, 'Sting Blazers': 1, 'Rosaline Bras': 1, 'Synergy Turtle-Blue Coin Bank (Blue)\"': 1, 'Netgear EX6120 AC1200 Mbps Wi-Fi Range Extender ...\"': 1, 'Zingalalaa LP-50 50 lm LED Corded Portable Proje...\"': 1, 'KHUSHI HANDICRAFTS Tealight Candle (Multicolor, ...\"': 1, 'PRINT SHAPES psychic Laptop Skin with Mouse pad ...\"': 1, 'FURNXT Wall Mounted Mailbox (GREY)\"': 1, 'Tara Lifestyle Jeans': 1, 'Sportking Leggings & Jeggings\"': 1, 'Conflict of Laws\"': 1, 'LUCINA rC-S-33-A-33 (Multicolor)\"': 1, 'Krypton Hot Huez Temporary Hair Chalk Hair Color...\"': 1, 'ocean VGLASS0051 (325 ml, Clear, Pack of 6)\"': 1, 'Rockshose Slip On\"': 1, 'Kirubha Tex Formal Shirts\"': 1, 'ALL DAY 365 Shoulder Bag (BLUE)\"': 1, 'Speedwav 202056 Bike Handle Grip For Universal F...\"': 1, 'Avalon Organics Bath And Shower Gel (350)\"': 1, 'MUDIT Wash Basin': 1, 'Services Junction Showpiece  -  4 cm (Pottery, B...\"': 1, 'PRINT SHAPES Sony headphone Laptop Skin with Mou...\"': 1, 'o.h.m Track Pants': 1, 'JTC Platinum Water Dispenser Cover (Multicolor)\"': 1, 'LAIBA  Battery - Laiba Battery -B150AC Lithium I...\"': 1, 'Red Chief Casuals\"': 1, 'ORKA Leatherette XXXL Teardrop Kid Bean Bag (Bea...\"': 1, 'LAIBA  Battery - Laiba Battery - LT30P Lithium I...\"': 1, 'Vichy Sunscreen\"': 1, 'JHON DIEGO Suit Fabrics': 1, 'Maveric Suits': 1, 'Karpine Toners\"': 1, 'LAIBA  Battery - Laiba Battery - Q700S Lithium I...\"': 1, 'Sport Swimming Caps\"': 1, 'Peacock Woks & Kadhais\"': 1, 'Literature & the Arts\"': 1, 'Probott Water Bottles': 1, 'Qline Superman Wired Headset (Blue)\"': 1, 'Socks': 1, 'J Marks Cargos\"': 1, 'Craft Trade Oval Wood Coaster Set (Brown, Pack o...\"': 1, 'Alda  Kitchen Handi\"': 1, 'Riot Jeans Camisoles & Slips\"': 1, 'Speedwav 157466 Bike Handle Grip For Yamaha YBR ...\"': 1, 'D\\'INDIAN CLUB Formal Shirts\"': 1, 'PRINT SHAPES Caution Laptop Skin with Mouse pad ...\"': 1, 'Generix OTG for Blackberry Priv OTG Cable (White)\"': 1, 'Divine Gifts & Artificial Jewellery Religious Idols\"': 1, 'Eshoppee Religious Idols\"': 1, 'ATV Pouch for LG G4 (STEEL BLUE)\"': 1, 'Advitiya Religious Idols\"': 1, 'HomeEdge Solid Wood King Bed (Finish Color -  Na...\"': 1, 'Ling Song Pencil Boxes\"': 1, 'SAJAY FASHIONS Scarves & Stoles': 1, 'NEWGEN TECH EO-HS3303 144 Wired Headset (White)\"': 1, 'Reiki Crystal Products Showpiece  -  6 cm (Brass...\"': 1, 'GM Regular Fit Men\\'s Black Trousers\"': 1, 'Apoxy APX-RUNNER-2-KIDS-BLUE-ORANGE Running Shoes\"': 1, 'Unravel India Religious Idols\"': 1, 'Shadowfax STRAWBERRY_MAGNET Fridge Magnet (Pack ...\"': 1, 'Paint Bottles': 1, 'DFH Three Fourths': 1, 'Giftwell Buddha Showpiece  -  28 cm (Polyresin, ...\"': 1, 'Spick Cricket Shoes\"': 1, 'R&Mshoppee MDF Wall Shelf (Number of Shelves - 1...\"': 1, 'BFT 9 W LED Bulb (White)\"': 1, 'Gravolite Plain Yoga Red 9 mm\"': 1, 'MAK  Battery - MK BT-Note (White)\"': 1, 'D\\'Panache Mojaris\"': 1, 'Generix pack of 5 Micro USB On-the-go For Mobile...\"': 1, 'SSM Hand-held Bag (Black)\"': 1, 'Pawtec  Battery - Powerful Backup- For S4 Mini I...\"': 1, 'Truk Fit Caps\"': 1, 'MSC Loafers\"': 1, 'Racks & Shelves': 1, 'ROYAL ERADO Motorcycle Design Sticker (Pack of 1)\"': 1, 'Ezee Facial Tissues': 1, 'Aarbee Sweaters\"': 1, 'SHOPOJ Blue Paper Sky Lantern (80 cm X 34 cm, Pa...\"': 1, 'snjmart For X Play Stereo Dynamic Earphone Wired...\"': 1, 'Sports\"': 1, 'U United Mad Angle DU 14 L Backpack (Red)\"': 1, 'Noritake Carnivale Mug MUGM25091058C (White, Gol...\"': 1, 'Made In China Pizza Cutters\"': 1, 'Wall Decal Small Self Adhesive Sticker (Pack of 1)\"': 1, 'Hariom Enterprises Polypropylene Plastic file co...\"': 1, 'KAJCI Waistcoats': 1, 'Knotty Derby Carrow Short Corporate Casuals, Boo...\"': 1, 'Butterflies Hand-held Bag (Mustard)\"': 1, 'Nivea Shaving Creams': 1, 'Soulful Threads Yellow Thread Aari Embroidered B...\"': 1, 'Rrsskids Hammocks': 1, 'Celebration Celeb 600 ArwaYellow 600 W Mixer Gri...\"': 1, 'SOS Electrotherapy': 1, 'Scorpio Fashions Bras\"': 1, 'Scholar Camisoles & Slips': 1, 'Herbs': 1, 'RONAKSILK Ethnic Sets': 1, 'King George V Briefs': 1, 'Real Madrid Combos\"': 1, 'Suave Naturals Everlasting Sunshine Conditioner ...\"': 1, 'Speedwav 220106 Bike Handle Grip For TVS Apache ...\"': 1, 'Rajdoot Casuals\"': 1, 'Imported Highlighter Pens': 1, 'Adidas Cricket Guards': 1, 'Fanideaz Printed Men\\'s Round Neck Grey T-Shirt\"': 1, 'Pack N Buy 4 Compartments Plastic Stationary Hol...\"': 1, '3kFactory Baby Shower Cap- Purple\"': 1, 'Axcess Adapters': 1, 'Anuze Fashions Scarfs': 1, 'TOUCHWOOD Noble Light Black Sports Running Shoes\"': 1, 'Piyo Piyo Bibs': 1, 'Lushomes Plain Cushions Cover (Pack of 10, 30 cm...\"': 1, 'Trendy Nuts Hair Accessories': 1, 'Fisher-Price Leggings & Jeggings': 1, 'AYMH MDF Wall Shelf (Number of Shelves - 3)\"': 1, 'Lovely Chick Canvas Shoes\"': 1, 'Jouer Primers': 1, 'RED HORSE Sneakers\"': 1, 'Tosiba Woks & Kadhais\"': 1, 'Akin Cotton Bath & Hand Towel Set (4 Bath Towel,...\"': 1, 'V-AARCI Vests': 1, 'Menjestic Blazers': 1, 'BEcom Sleeve for ALL 14.5 inch Tablet iPad Tab F...\"': 1, 'Marks & Spencer Sweaters & Pullovers': 1, 'Head Kik Premium Quality Solo2 S460 Wireless Blu...\"': 1, 'Peter England Sweaters\"': 1, 'Ace HEADPHONE291 Stereo Dynamic Headphone Wired ...\"': 1, 'DECOREX 6W LED Down Light (Light Colour : Neutra...\"': 1, 'Micromax  Battery - Canvas Fire A093 (GREY, BLACK)\"': 1, 'Amit Carpet Wool Medium Door Mat ACI1165458 (Red...\"': 1, 'BM WOOD FURNITURE Hexagon Wall Shelves MDF Wall ...\"': 1, 'Ajanta SkolAr Casuals\"': 1, 'Linzina Casual, Formal Pink Synthetic  Clutch\"': 1, 'BARESKIN Flip Flops\"': 1, 'Allin Exporters Vetiver Oil (30 ml)\"': 1, 'DakshCraft Woks & Kadhais\"': 1, 'Indian Terrain Formal Shirts\"': 1, 'Sonilex Sl-400dlfm Wired Home Audio Speaker (blu...\"': 1, 'C&E Cables': 1, 'Princeware Kitchen Containers': 1, 'snjmart C5 Ultra Dual Stereo Dynamic Earphone Wi...\"': 1, 'Eureka.in Physical': 1, 'Eccellente Swim & Beach Wear': 1, 'FashionPedia Canvas Shoes, Sneakers\"': 1, 'PROBOTT Sports 300 ml Water Bottle (Set of 1, Gr...\"': 1, 'Mee Mee Multifunctional Nursery Diaper Bag (Dark...\"': 1, 'Z-Support Sticks': 1, 'Vency creation Waterproof Multipurpose Bag (pink...\"': 1, 'Simran Handicrafts Baking Dishes': 1, 'UNO COTTON Sweaters\"': 1, 'Saco SG0516-35 Screen Guard for Asus A553SA-XX05...\"': 1, 'Ocean Q3 Wireless Optical Mouse Gaming Mouse (Bl...\"': 1, 'Sanitt Combos\"': 1, 'Bootwale Stylish Casual Shoes Casuals\"': 1, 'Shine Tech Toners\"': 1, 'FAUSTO Sneakers\"': 1, 'Laviva Amazing Set of 4 Beads & Stone Rakhis wit...\"': 1, 'PRINT SHAPES The Hunger girl Laptop Skin with Mo...\"': 1, 'Vivaa Camisoles & Slips\"': 1, 'Vegetable Seeds': 1, 'Medimix Transparent with Glycerine And Lakshadi ...\"': 1, 'Manufaktura Loofahs\"': 1, 'Tanita Body Fat Analyzers\"': 1, 'Speedwav 202050 Bike Handle Grip For Universal F...\"': 1, 'Sakhi Styles Boys, Men (Brown, Pack of 1)\"': 1, 'Sportking Sweaters\"': 1, 'DECOREX 12W LED Panel Light (Light Colour : Cool...\"': 1, 'Cinderella Night Dresses & Nighties': 1, 'Miss Claire Lipsticks\"': 1, 'Power Smart Quick Charging Pack For CAS NP60 Dig...\"': 1, 'NEWGEN TECH EO-HS3303 171 Wired Headset (White)\"': 1, 'NEWGEN TECH EO-HS3303 236 Wired Headset (White)\"': 1, 'Dizionario Manicure and Kits\"': 1, 'Paras Human Figurines\"': 1, 'TAB91 Night Suits': 1, 'Sarah Hair Accessories': 1, 'PurePlay Track Tops': 1, 'The balm Blushes': 1, 'Priority Hand-held Bag (Multi)\"': 1, 'Aroma Magic Sunscreen\"': 1, 'VECTOR-X Gym Balls': 1, 'Voylla Artificial Classic Plain Yellow Gold Cubi...\"': 1, 'Medex Powder Free (Size - L - 100 Pcs) Nitrile E...\"': 1, 'SPECIES Sweaters & Pullovers\"': 1, 'Chambor Lipsticks': 1, 'Man2 OSH Kimaka Shapewears': 1, 'Viyasha Shapewears': 1, 'Wetex Premium Bras\"': 1, 'giftsthatwow GTW-G-04 (300 ml, White, Pack of 1)\"': 1, 'WRITEFLO Use and Throw Ball Pen (Pack of 100, BLUE)\"': 1, 'GHPC Casual & Party Wear Shirts\"': 1, 'Tyre Valve Caps': 1, 'eSms Squirt-Water-Gun01 1 L Hand Held Sprayer (P...\"': 1, 'Apkamart Religious Idols\"': 1, 'ZAIN Polyester 3D Printed Double Bedsheet (1 DOU...\"': 1, 'ortel earphone99 Earphone Cable Organizer\"': 1, 'Skovin Boy School Shoes Lace Up\"': 1, 'Ace HEADPHONE151ONTO Stereo Dynamic Headphone Wi...\"': 1, 'PRINT SHAPES Batman vs red superman Laptop Skin ...\"': 1, 'Dhiyaa Traders Mario Key Chain\"': 1, 'Car Air Fresheners': 1, 'RIPR Pyjamas & Lounge Pants': 1, 'Fundoo T Track Suits\"': 1, 'Clazz CB 35 L Backpack (Blue and Grey)\"': 1, 'RJ philips Earphone 23000 Stereo Dynamic Headpho...\"': 1, 'Loreal Anti Ageing': 1, 'Escan Training & Gym Shoes\"': 1, 'PRINT SHAPES mary and max cartoon Laptop Skin wi...\"': 1, 'Kayara Collection Formal Shirts\"': 1, 'mobiworld4u Wall Chargers': 1, 'Bubi Travel Bottles': 1, 'Dhhan 8 watt Rechargeable Emergency Lights (White)\"': 1, 'United Colors Of Benetton Combos\"': 1, 'Wipers': 1, 'SKI LOCK SEAL GIFT SET 550 PURPLE02 2 Containers...\"': 1, 'Shoe Day Boots\"': 1, 'VarEesha Wooden Key Holder (4 Hooks, Multicolor)\"': 1, 'The Body Shop Eaux De Parfum\"': 1, 'Pasabahce ISTDECO33 (290 ml, Multicolor, Pack of...\"': 1, 'AW High Speed Charge and Sync Usb for Iphone 6 L...\"': 1, 'SHOPOJ 50 Sky Lanterns Yellow Paper Sky Lantern ...\"': 1, 'Atithi Flip Flops\"': 1, 'Femina Woks & Kadhais\"': 1, 'Topcolor mp501 Mousepad (Multicolor)\"': 1, 'Seven Days Formal Shirts\"': 1, 'Mazda Energy Flush Mount Ceiling Lamp\"': 1, 'SHOP FRENZY Pyjamas & Lounge Pants': 1, 'Glamour Casuals\"': 1, 'ARISE Self Design, Printed Men\\'s Henley Green T-...\"': 1, 'I Ball IBCTDC 160/2gb/DDR2 with Dual Core 2 RAM ...\"': 1, 'L Oreal Couleur Experte Express  Hair Color (7 D...\"': 1, 'Geol Brooms & Brushes': 1, 'Reebok Track Suits\"': 1, 'reenak Running Shoes\"': 1, 'Decot Paradise Salwar Kurta Dupattas': 1, 'Gift Island Human Figurines\"': 1, 'Wilson Tennis Balls\"': 1, 'Estilo sipper-3 450 ml Sipper (Pack of 3, Multic...\"': 1, 'SM Cricket Balls': 1, 'Viari Hand-held Bag (ROYAL BLUE)\"': 1, 'codio World A114 Sony CP-V0 112 10000 mAh (Black)\"': 1, 'BODYSENSE Vests': 1, 'Zobello Casual & Party Wear Shirts\"': 1, 'Janhvi Bluetooth Beatz Pill F Wireless Home Audi...\"': 1, 'Clairol Perfect 10 By Nice N Easy  Hair Color (0...\"': 1, 'Maple Woks & Kadhais\"': 1, 'PRINT SHAPES Asus logo yellow stripes Laptop Ski...\"': 1, 'Strawberry Lenceria Camisoles & Slips\"': 1, 'Wonderchef Cookware Pots': 1, 'Life by Shoppers Stop Cargos\"': 1, 'Gee Power Goggles': 1, 'Pruto Slip On\"': 1, 'Revlon Combos\"': 1, 'H-Cart Religious Idols\"': 1, 'SMS Lightweight Hose Pipe 1 L Hand Held Sprayer ...\"': 1, 'Stag TableTennis Racquets\"': 1, 'Ibz Micromax E390 Dock (White)\"': 1, 'Sparklings Cotton Geometric Double Bedsheet (dou...\"': 1, 'Adore London Hand-held Bag (Tan)\"': 1, 'NEWGEN TECH EO-HS3303 172 Wired Headset (White)\"': 1, 'Tatkim Suits': 1, 'kits kart Pouch for Intex Aqua Q4 (Red)\"': 1, 'BESTSUIT Black Micro-Usb Type For LG OPTIMUS USB...\"': 1, 'Bergner Woks & Kadhais\"': 1, 'Clear Face Kesar Chandan Multivitamin Nourishing...\"': 1, 'Mount Track Camping & Hiking Bags & Packs': 1, 'Stallion Barware 8908-1 (2000 ml, White, Pack of 1)\"': 1, 'Fourwalls Human Figurines\"': 1, 'kits kart Pouch for Micromax A77 Canvas Juice (Red)\"': 1, 'Pulpypapaya Jackets\"': 1, 'Singh Xpress Carabiners': 1, 'Polo House USA ExclusiveTrolleyBag13MD Check-in ...\"': 1, 'Gravolite Plain Yoga Cherry 12 mm\"': 1, 'Status Quo Sweatshirts\"': 1, 'Whiteherbs Sunscreen\"': 1, 'Smart Wall Guru Large Adhesive Sticker Sticker (...\"': 1, 'Selfiwear Scarfs': 1, 'Dolphin Product Shoulder Bag (blue)\"': 1, 'Saihan SHN ES-62 REVLNSHD 1pack  Lens Hood (58 m...\"': 1, 'Edel Shoulder Bag (purpe)\"': 1, 'Giftsnfriends Dress Materials\"': 1, 'Medex Powder Free Green (Size - M - 100 Pcs) Lat...\"': 1, 'Platex Water bottle': 1, 'Alicia Souza Trees & Plants Badge\"': 1, 'XEBAC For Alcatel One Touch Idol X+ USB Cable (W...\"': 1, 'killys Socks': 1, 'SJ Tulip multi use cotton Balls (Pack of 100)\"': 1, 'Speedwav 202051 Bike Handle Grip For Universal F...\"': 1, 'SDZ Pisten Design Pure Metal Silver Series Wired...\"': 1, 'L&T Tripper BA10100C MCB (1)\"': 1, 'Polaroid .43X Hd Wide Angle Lens 52Mm  Lens (Black)\"': 1, 'Tidy Green Cotton Kitchen Linen Set (Pack of 3)\"': 1, 'Puma Casuals\"': 1, 'LittleThings Coconut Fridge Magnet (Pack of 1, G...\"': 1, 'YOUTH GARB Sweatshirts\"': 1, 'Sona Sports Bras': 1, 'Ole Baby Classic Fashion Slip on Casual Suede Pr...\"': 1, 'Maharaja Formal Shirts\"': 1, 'Kleio Festive, Party, Casual Blue PU  Clutch\"': 1, 'PRINT SHAPES rome italy Laptop Skin with Mouse p...\"': 1, 'Voylla Artificial Classic Plain Rose Gold Alloy ...\"': 1, 'Kawachi Goggles': 1, 'Saamarth Impex Stamp Pads': 1, 'Liz Lange Polos & T-Shirts': 1, 'Mr Button Jackets\"': 1, 'Polki Casual, Party Red Leatherette  Clutch\"': 1, 'Laviva Set of Three Fancy & Stone Rakhis with Th...\"': 1, 'Speedwav 220165 Bike Handle Grip For TVS Apache ...\"': 1, 'GM Regular Fit Men\\'s Silver Trousers\"': 1, 'Lushomes Plain Cushions Cover (Pack of 5, 30 cm*...\"': 1, 'Soulful Threads Yellow Thread Aari Embroidered A...\"': 1, 'HANSFOOTNFIT Casuals\"': 1, 'Ruby Gas Cylinder Trolley (Black, Pack of 1)\"': 1, 'ALIFS Hand-held Bag (Brown)\"': 1, 'Valentine Capris': 1, 'PRINT SHAPES Red bull Laptop Skin with Mouse pad...\"': 1, 'Surface180 Ethnic\"': 1, 'Solemio Sweatshirts\"': 1, 'Nandini Herbal Care Sunscreen\"': 1, 'Generix OTG for Xiaomi Mi4 OTG Cable (White)\"': 1, 'JDK NOVELTY Shoulder Bag (Pink)\"': 1, 'Linzina Casual, Formal Purple Synthetic  Clutch\"': 1, 'Port NuWave Football Shoes\"': 1, 'PRINT SHAPES mountain wolf Laptop Skin with Mous...\"': 1, 'iwill Aroma Oils': 1, 'Giorgio Armani Lip Liners': 1, 'ShopSince Yoga and Exercise Mat (4mm) Yoga Green...\"': 1, 'Rajasthani emporium Decorative Bottles\"': 1, 'Evana Bars': 1, 'Sam Pizza Cutters\"': 1, 'kits kart Pouch for Karbonn Titanium S20 (Red)\"': 1, 'MOOI-ZAK Girls, Women Purple, Black PU Sling Bag\"': 1, 'I-Voc Casual & Party Wear Shirts\"': 1, 'MohanJodero Showpiece  -  46 cm (Iron, Multicolor)\"': 1, 'PROBOTT Sports 500 ml Water Bottle (Set of 1, Pink)\"': 1, 'Nutrispa Anti Ageing': 1, 'Prisha India Craft Jugs': 1, 'Speedwav 220175 Bike Handle Grip For TVS Apache ...\"': 1, 'Action Shoes Flip Flops\"': 1, 'Reebok Socks': 1, 'JRB 1019 Smallest Mobile Powered By OTG Enabled ...\"': 1, 'Shopmania Multicolor Artificial Leather  Clutch\"': 1, 'Blue Heaven Eye Liners': 1, 'Monte Carlo Sweaters & Pullovers': 1, 'EDGE PLUS BODY PANEL FOR NOKIA 7230 SLIDE Front ...\"': 1, 'U United Mad Angle DU 14 L Backpack (Purple)\"': 1, 'kits kart Pouch for Samsung Galaxy Grand Prime G...\"': 1, 'Allin Exporters Fennel Oil (Co2 Extract) (30 ml)\"': 1, 'Screwdriver Sets': 1, 'Bathroom Fittings & Sanitary': 1, 'Redbag Religious Idols': 1, 'XEBAC For Nokia C7 USB Cable (White)\"': 1, 'Gravolite Plain Yoga Cherry 7 mm\"': 1, 'Trendy Divva Shorts': 1, 'Ritco lhst2 Faucet Set\"': 1, 'Xpert School Shoes\"': 1, 'Pavvoin Lingerie Sets': 1, 'E.L.F Blushes': 1, 'Protector iphone 4s Tempered Glass for Apple 4s\"': 1, 'Shortkut enterprises Model no 456 Mobile/Tablet ...\"': 1, 'Speedwav 220179 Bike Handle Grip For TVS Apache ...\"': 1, 'kits kart Pouch for OnePlus One (Red)\"': 1, 'PRINT SHAPES Power of roman reigns Laptop Skin w...\"': 1, 'Camt Leather Documents File (Set Of 1, Black)\"': 1, 'Beebay Polos & T-Shirts': 1, 'Loreal Diarichesse No- 1 Black sort Svart Musta ...\"': 1, 'Surgical e Sstudio S0004 Gown, Pant Hospital Scr...\"': 1, 'IndiWeaves Regular Fit Men\\'s Linen Brown, Blue T...\"': 1, 'FRENEMY MPAD271 Mousepad (Multicolor)\"': 1, 'JEWEL FUEL Shoulder Bag (Yellow)\"': 1, 'ATIS AMCO Running Shoes\"': 1, 'LG MC3286BLT 32 L Convection Microwave Oven (Black)\"': 1, 'Linzina Wedding, Party, Festive Gold Pearls, Bea...\"': 1, 'Fashion Plus Flip Flops\"': 1, 'mobiware mw4p mobiware 4000 mah pocket powerbank...\"': 1, 'Varmora Stools': 1, 'snjmart M5 Dual Stereo Dynamic Earphone Wired He...\"': 1, 'PRINT SHAPES despicable me 2 looking upwards Lap...\"': 1, 'Aasaan Cleaning Sets': 1, 'Vvoguish Sweatshirts\"': 1, 'Goldcave Faucet Sets': 1, 'Kosher Pans & Tawas\"': 1, 'My DT Lifestyle Hair Accessories': 1, 'BagsHub Shoulder Bag (Grey)\"': 1, 'Kartique Handmade Wooden Box for Women Jewel Org...\"': 1, 'Dungarees & Jumpsuits': 1, 'Best Card Holders\"': 1, 'Kelvinator 190 L Direct Cool Single Door Refrige...\"': 1, 'Haier 247 L Frost Free Double Door Refrigerator ...\"': 1, 'Cratly 7I Vase Filler (Flower vase)\"': 1, 'Myesquire Aroma Oil & Diffuser Sets\"': 1, 'ORKA Printed Leatherette XXL Chair Kid Bean Bag ...\"': 1, 'Younky Sweatshirts\"': 1, 'CASEDEAL Nokia lumia 1320 Back Panel (Orange)\"': 1, 'signature VM-49 UNIVERSAL HANDSFREE Headphones (...\"': 1, 'Majik Hair Accessories': 1, 'Casual\"': 1, 'PRINT SHAPES Best green ball Laptop Skin with Mo...\"': 1, 'Furst Sync Data & Charging For Mzu M3 Note USB C...\"': 1, 'New Day Polos & T-Shirts\"': 1, 'Clazz CB 35 L Backpack (Purple and Grey)\"': 1, 'Ocean CPGW087 (280 ml, Clear, Pack of 6)\"': 1, 'GAGA Canvas Painting (10 inch x 12 inch)\"': 1, 'YOA Brushes and Applicators': 1, 'Weavers Villa Scarves & Stoles': 1, 'MeeMee 100% Cotton Small Sleeping Mat Mat Baby M...\"': 1, 'Czds India Shoulder Bag (Pink)\"': 1, 'Proline Sweatshirts\"': 1, 'TSG Breeze Shirts, Tops & Tunics': 1, 'Homeshopeez Pencil Boxes\"': 1, 'cm key 354 Wired USB Tablet Keyboard (Black)\"': 1, 'PRINT SHAPES Four penguins of madagascar Laptop ...\"': 1, 'CONVENIENCE vm46 headphone for XIOMI Mi4 and Mi4...\"': 1, 'Hako 45W Magsafe2 Laptop Charger For APPLE MacBo...\"': 1, 'GoWell Canvas Shoes\"': 1, 'Selfcare Briefs': 1, 'Car vastra 1pcs Car Vastra Brown & Beige Backres...\"': 1, 'Gravolite Plain Yoga Blue 3 mm\"': 1, 'SRK GROUPS Aluminium, Wooden Home Temple (Height...\"': 1, 'Nordlich Shorts': 1, 'Bajya Hookahs': 1, 'AsiaCraft Religious Idols\"': 1, 'Aavaya Fashion Salwar Kurta Dupattas': 1, 'arnavs Bottle Openers': 1, 'Ligans NY Women Beige PU Sling Bag\"': 1, 'Jonex Skates\"': 1, 'PURBI CRAFTS WOODEN BEADS HANDICRAFT HANGING Sho...\"': 1, 'Sai Senorita Tights': 1, 'Hariom Enterprises Polypropylene Stick Folders (...\"': 1, 'Karigaari Human Figurines\"': 1, 'Shortkut enterprises 510 Mobile/Tablet Speaker (...\"': 1, 'Anmol Cotton Collapsible Wardrobe (Finish Color ...\"': 1, 'BURDY Graphic Print Men\\'s Polo Neck Dark Blue T-...\"': 1, 'Zero Gravity Combos\"': 1, 'Imported Pizza Cutters\"': 1, 'Bestech Woks & Kadhais\"': 1, 'KRAZY KATZ Solid Men\\'s Round Neck T-Shirt (Pack ...\"': 1, 'INDOART Spatulas': 1, 'CASEDEAL Microsoft Nokia lumia x2 Back Panel (Wh...\"': 1, 'keshar 25868 Earphone Cable Organizer\"': 1, 'Oros Combos\"': 1, 'Pebbleyard Woks & Kadhais\"': 1, 'Edel Shoulder Bag (Multicolor)\"': 1, 'Axcess KF02-006 67mm Petal Plastic  Lens Hood (6...\"': 1, 'DECOREX 18W LED Surface Light (Warm White : Warm...\"': 1, 'Koie  Battery - For Samsung S2 Premium Quality (...\"': 1, 'SANTOSH ROYAL FASHION Cotton Printed Double Beds...\"': 1, 'SYON Cotton Floral Double Bedsheet (1 BEDSHEET W...\"': 1, 'Newworld RTNE Pack Of One -583 Tempered Glass fo...\"': 1, 'SHOPOJ White Paper Sky Lantern (80 cm X 34 cm, P...\"': 1, 'Elson Sweaters & Pullovers\"': 1, 'Jettec Toners\"': 1, 'Park Avenue Jackets\"': 1, 'Rajrang Baking Dishes': 1, 'Change360° Full Sleeve Solid Women\\'s Jacket\"': 1, 'good-night-angel-sleep-well-pics Paper Print (18...\"': 1, 'SD Extension Arm Rail Camera Mount (Black)\"': 1, 'Batman Caps\"': 1, 'Hitman By Triumph Gloves\"': 1, 'Atithee Ethnic Sets': 1, 'NEXASHOP Boxers': 1, 'Disney Combos\"': 1, 'Reebok Three Fourths': 1, 'Religious Idols': 1, 'Hoffrichter Respiratory Exercisers': 1, 'Be 13 Combo Sets': 1, 'Black Butterfly Bar Set': 1, 'Technotech Q3 Wireless Optical Mouse Gaming Mous...\"': 1, 'Sakhi Styles Men, Boys (Brown, Pack of 1)\"': 1, 'ortel earphone54 Earphone Cable Organizer\"': 1, 'DEBOCK HTC desire 526 Tempered Glass for HTC des...\"': 1, 'American Crew Track Pants\"': 1, 'FIla ECHO Women Sports Sandals\"': 1, 'Lee Parke Walking Shoes\"': 1, 'Revlon Foundations': 1, \"E'Hiose Leggings & Jeggings\": 1, 'Kumkum Woks & Kadhais\"': 1, 'Ethnic Regalia Human Figurines\"': 1, 'Garnier Nutrisse Ultra Color Hair Dye Hair Color...\"': 1, 'Gigabyte GA-B85-MD3H-A Motherboard (Black)\"': 1, 'Metmo Slippers\"': 1, 'Spinn Men Sandals\"': 1, 'Discountgod Casual & Party Wear Shirts\"': 1, 'Roopsi Vastram Bras\"': 1, 'ortel earphone83 Earphone Cable Organizer\"': 1, 'YGS Keyboard Case for Asus Memo Pad 7in Tab (Pink)\"': 1, 'Adidas Track Tops': 1, 'krishna art Religious Idols': 1, 'Jogur Jackets\"': 1, 'Plus Value PVI- 052 Regular Square Crystal Pebbl...\"': 1, 'Pruto Lace Up\"': 1, 'Plant Container Sets': 1, 'Dolphin gallery Pencil Boxes\"': 1, 'ASIAN Walking Shoes\"': 1, 'C. O. Bigelow Aftershave Lotions': 1, 'FLITE Slippers\"': 1, 'Anjali Graters & Slicers': 1, 'DECOREX 6W LED Panel Light (Light Colour : Neutr...\"': 1, 'The House of Tara Distress Finish Canvas 20 L Ba...\"': 1, 'See Designs Casual & Party Wear Shirts\"': 1, 'Berge Track Tops': 1, 'Krazy Fitness Plus Home Gym Gym & Fitness Kit\"': 1, 'GOLDEN GIRL Shapewears': 1, 'SMS Lightweight Squirt Gun1WSP 1 L Hand Held Spr...\"': 1, 'OceaN VGLASS0049 (475 ml, Clear, Pack of 6)\"': 1, 'Shopnetix Stylish & Comfort Men\\'s Lace up Mocass...\"': 1, 'domestiq Flip Flops\"': 1, 'EZRA VGLASS0087 (250 ml, Clear, Pack of 6)\"': 1, 'Laviva Most Contemporary Design AD & Fancy Rakhi...\"': 1, 'American Swan Pullovers': 1, 'Feminin Panties': 1, 'AW High Power Usb for Iphone 6 Plus Lightning Ca...\"': 1, 'OMS ZONE Privacy Anti-Fingerprint, Oleophobic Co...\"': 1, 'Veelys Skates\"': 1, 'Recon Woks & Kadhais\"': 1, 'Burt s Bees Hair Repair Shea And Grapefruit Deep...\"': 1, 'Generix Android Smart Phone OTG OTG Cable (White)\"': 1, 'Good Win Takssport 20 L Laptop Backpack (Red)\"': 1, 'Sakhi Sang Mufflers\"': 1, 'SayItLoud Sweatshirts': 1, 'Hemden Embroidered Cushions Cover (Pack of 5, 40...\"': 1, 'Nourish Cardboard 2-D- Folder (Set Of 1, Yellow)\"': 1, 'Chevron Card Holders\"': 1, 'Generix Micro USB OTG OTG Cable (White)\"': 1, 'Hitway Lace Up\"': 1, 'LIFE LIKE VM-42 3D SOUND WIRED HEADPHONES Headph...\"': 1, 'Platinum Rags Camisoles & Slips\"': 1, 'EGON 7512_TM_P Faucet Set\"': 1, 'DEBOCK Sony Xperia E3 Tempered Glass for Sony Xp...\"': 1, 'eCraftIndia Wall Clocks\"': 1, 'SR Crafts Human Figurines\"': 1, 'Opaleena MDF Wall Shelf (Number of Shelves - 3, ...\"': 1, 'Gold Dust ABC23007 Automatic Sun Hand Red Manual...\"': 1, 'Khadi Lip Balms': 1, 'Utsukushii Shoulder Bag (Beige)\"': 1, 'kits kart Pouch for Microsoft Lumia 1320 (Red)\"': 1, '@home Earthy Wine Net Ceramic Vase (9.8250000000...\"': 1, 'Da intimo Shapewears': 1, 'Aptron Manicure and Kits\"': 1, 'Glamor Woks & Kadhais\"': 1, 'Eurospa Cotton Terry Face Towel Set (20 PIECE FA...\"': 1, 'N Five Running Shoes\"': 1, 'Crocslite Flip Flops\"': 1, 'Linzina Casual, Formal Grey, Black Synthetic  Cl...\"': 1, 'Chaddy Buddy Boxers\"': 1, 'Squirrel Night Dresses & Nighties\"': 1, 'ARK Creation Religious Idols\"': 1, 'RoyalOak Metal Outdoor Chair (Finish Color - Lig...\"': 1, 'Rdx Pulse Gaming Speaker (Black, White, Red, Blu...\"': 1, 'SHOPRIDER DESGINER MOUSEPAD-556 Mousepad (Multic...\"': 1, 'Clairol Natural Instincts Vibrant Permanent  Hai...\"': 1, 'AMCO Walking Shoes\"': 1, 'kits kart Pouch for Intex Aqua i5 Mini (Red)\"': 1, 'Prestige Woks & Kadhais\"': 1, 'Hiakan KNEE FIT STRIPED Knee Support (XL, Black,...\"': 1, 'Ritco rsacf5 Faucet Set\"': 1, 'Power Smart Quick Charging Pack For PAN CGA-S008...\"': 1, 'Green House Human Figurines\"': 1, 'Clever Steps Loafers\"': 1, 'Topcolor mp548 Mousepad (Multicolor)\"': 1, 'Seven Seas Cork Screws\"': 1, 'Lehengas': 1, 'couponsmall key 343 Wired USB Tablet Keyboard (B...\"': 1, 'Supreme Cookwares Woks & Kadhais\"': 1, 'Dungri India Craft Ducjug008-ducgl017-2 Jug Glas...\"': 1, 'vendout Pencil Boxes\"': 1, 'Vijayanti Guards': 1, 'Status Quo Track Pants': 1, 'Mizuno Windcheaters': 1, 'adidas Combos\"': 1, 'Texco Track Tops': 1, 'Filtre Pizza Cutters\"': 1, 'American Club ExclusiveTrolleyBag2BE Expandable ...\"': 1, 'Home Delight Colour Changing Automatic Sensor Mu...\"': 1, 'TRESemme Naturals Nourishing Moisture Conditione...\"': 1, 'Oxemberg Formal Shirts\"': 1, 'Dresses & Skirts': 1, 'D-Link DAP1320 (White)\"': 1, 'GISOLE Basic Slip On Loafers\"': 1, 'Jads Formal Shirts\"': 1, 'WEIDELI PURPLEBP004 45 L Backpack (Purple)\"': 1, 'Pavers England Party Wear\"': 1, 'Starsy Shirts, Tops & Tunics': 1, 'Car Bottle Holders': 1, 'Levi\\'s Caps\"': 1, 'JDK NOVELTY Shoulder Bag (Black, Multicolor)\"': 1, 'Neutrogena Sunscreen\"': 1, 'Sizzlacious Shapewears': 1, 'Mechanical Pencils': 1, 'Adiva METAL EARPHONES FOR Mi 4i AND Mi 4 STEREO ...\"': 1, 'Naaz Manicure Pedicure Kit For Kids and adult Bo...\"': 1, 'Protector Xiaomi Redmi Note Prime Tempered Glass...\"': 1, 'CPEX Thrive 20 IN 1 Facial Megantic Face Pain Re...\"': 1, 'wallskart Animation & Cartoons Wallpaper (83.820...\"': 1, 'giftsthatwow GTW-G-05 (200 ml, White, Pack of 1)\"': 1, 'JRB 1042 Smallest Mobile Powered By OTG Enabled ...\"': 1, 'Gravolite Plain Yoga Pink 4 mm\"': 1, 'MOOI-ZAK Girls, Women Blue PU Sling Bag\"': 1, 'WEIDELI REDBP002 45 L Backpack (Red)\"': 1, 'Shonaya Self Design, Printed Fashion Synthetic G...\"': 1, 'Kerastase Nutritive Bain Satin 1 Complete Nutrit...\"': 1, 'nogaiya Pendants Ceiling Lamp\"': 1, 'Nilkamal CHR6020 Plastic Outdoor Chair (Finish C...\"': 1, 'Slazenger BasketBalls\"': 1, 'Shopatplaces Mufflers\"': 1, 'crompton CG aristo Steam Iron (blue)\"': 1, 'YGS Keyboard Case for Vizio Vz-706 (Pink)\"': 1, 'Campus Sutra Sweatshirts\"': 1, 'MSL Trendy Loafers\"': 1, 'PEDI SPIN FP-156892\"': 1, 'Yepme Sweatshirts\"': 1, 'Nourish Cardboard 2-O- Folder (Set Of 1, Green)\"': 1, 'Nivia School Lace Up Shoes\"': 1, 'Sushito Men (Multicolour, Pack of 1)\"': 1, 'ortel earphone90 Earphone Cable Organizer\"': 1, 'ACM Pouch for Intex Aqua Lions 3g (Purple)\"': 1, 'PRINT SHAPES Red razer logo Laptop Skin with Mou...\"': 1, 'SV Creations Shoulder Bag (Brown)\"': 1, 'Twilight Creations Humans 3 Zombiecon Board Game\"': 1, 'Pollo Lace Up\"': 1, 'Allin Exporters Ginger Oil (Co2 Extract) (50 ml)\"': 1, 'Robotel  Battery - ROBO 017 BL 4C (Malti Color)\"': 1, 'FOCI Human Figurines\"': 1, 'KDS SURGICAL Health Care Accessories': 1, 'Reinforce Three Fourths': 1, 'Transtal \\'Triangle\\' Corner 8\\\\\" Acrylic Wall Shelf...\"': 1, 'GM Cricket Bats\"': 1, 'American-Elm Waistcoats': 1, 'Vinex BasketBalls\"': 1, 'Car Hanging Decor': 1, 'AUTOSiTY AS101 Bike Handle Grip For Universal Fo...\"': 1, 'Blue Bell Sippers & Cups\"': 1, 'Sports 52 Wear Jackets\"': 1, 'Pristine Woks & Kadhais\"': 1, 'Soul Whisperer Bras\"': 1, 'kits kart Pouch for Samsung Galaxy Grand Neo i90...\"': 1, 'Meow Wings Hand-held Bag (Brown-01)\"': 1, 'Craftatoz Cr-141 Coin Bank (Brown)\"': 1, 'Vamtek Woks & Kadhais\"': 1, 'Asian Walking Shoes\"': 1, 'Tidy Blue Cotton Kitchen Linen Set (Pack of 2)\"': 1, 'Larwa Pyjamas\"': 1, 'ortel earphone18 Earphone Cable Organizer\"': 1, 'Oranje Dresses': 1, 'Love From India Camisoles & Slips\"': 1, 'Urban WhiZ Spooky Casuals\"': 1, 'Nanson Woks & Kadhais\"': 1, 'Services Junction Beautiful Black and White colo...\"': 1, 'Quechua Camping & Hiking Bags & Packs': 1, 'Jelly8 Headphones (With Mic)': 1, 'Speedwav 157497 Bike Handle Grip For Yamaha SZ-S...\"': 1, 'PIGEON RAPID ECO-LX Induction Cooktop (Black, Pu...\"': 1, 'narayan export Wall Clocks': 1, 'TRENDIEZ 15.6 inch Laptop Backpack (black)\"': 1, \"Cynthia's Fashion Ethnic Sets\": 1, 'rainfun Kidsumbrella05 Umbrella (multi)\"': 1, 'T-shirt Company Sweatshirts\"': 1, 'vency creation A02 usb a110 Led Light (Black)\"': 1, 'IndiWeaves Regular Fit Men\\'s Linen Beige, Blue T...\"': 1, 'Shiyara Leggings & Jeggings': 1, 'TSG Escape Printed Men\\'s Round Neck Multicolor T...\"': 1, 'DENIM CAFE Slim Fit Men\\'s Blue, Dark Blue Jeans\"': 1, 'Spink Sweaters & Pullovers': 1, 'Giftmania Pizza Cutters\"': 1, 'Sebamed Sunscreen\"': 1, 'Ocean CPWG086 (280 ml, Clear, Pack of 6)\"': 1, 'Basicare Loofahs\"': 1, 'tiwaritraders Jugs': 1, 'Craftcart Parrot Antique Brass Key Holder (5 Hoo...\"': 1, 'wallskart Floral & Botanical Wallpaper (35.56 cm...\"': 1, 'WPM Toners\"': 1, 'Doraemon Gift Family Ceramic Coffee Mug Multicol...\"': 1, 'Joola TableTennis Racquets': 1, 'Kanch Mall Religious Idols\"': 1, 'Skycandle.in Multicolor Paper Lantern (85 cm X 3...\"': 1, 'Fruit Seeds': 1, 'eKolhapuri Terracotta Vase (11 inch, Black)\"': 1, 'PRINT SHAPES minion superhero Laptop Skin with M...\"': 1, 'Step4deal Pizza Cutters\"': 1, 'Elephant Brand Umbrellas': 1, 'Stylowoman Sarees\"': 1, 'Zuska Combos\"': 1, 'Vaartha Woks & Kadhais\"': 1, 'Mindsutra Software Technologies Digital\"': 1, 'Naaz International Buisness Game Board Game\"': 1, 'INDIANO Loafers\"': 1, 'Indus Beats Boxers\"': 1, 'Lambency Pyjamas & Lounge Pants': 1, 'Knox Woks & Kadhais\"': 1, 'Essie Manicure and Kits\"': 1, 'BI Classics Wallpaper (520 cm X 106 cm)\"': 1, 'Sitare Religious Idols': 1, 'People Sweatshirts\"': 1, 'Demokrazy Track Pants': 1, 'Lovelady Lingerie Sets\"': 1, 'Kaatru Human Figurines\"': 1, 'Autokartindia Jackets': 1, 'Himalayan Sutra Orange Essential Oil - Therapeut...\"': 1, 'Khadim\\'s Lazard Slip On\"': 1, 'THINK3 Invisible Ink Marker 9LED UV Ultra Violet...\"': 1, 'ORIFLAME SWEDEN Toners': 1, 'Peter England Formal Shirts\"': 1, 'BACHELORS N BEYOND Blazers': 1, 'StyleToss Sweatshirts\"': 1, 'CLYMB Men Sandals\"': 1, 'OOBINNO Half Full Glass Digital Reprint Painting...\"': 1, 'The Decor mart Leatherette Photo Frame (Photo Si...\"': 1, 'Jaipur Print Cotton Floral Diwan Set\"': 1, 'Thegudlook Mufflers\"': 1, 'Gosome Skates\"': 1, 'Platinum Balance Fountain Pen (Blue)\"': 1, 'NEWGEN TECH EO-HS3303 186 Wired Headset (White)\"': 1, 'C Kreul Bullet Tip Acrylic Colour Based Medium P...\"': 1, 'i-Sports Bellies\"': 1, 'Shortkut enterprises Model no 497 Mobile/Tablet ...\"': 1, 'Nike Polos & T-Shirts': 1, 'Mahalaxmi Mobile Holders\"': 1, 'Mayursflora Bonsai Aloe, Maple, Arecaceae, Palm,...\"': 1, 'Lovelady Bras\"': 1, 'Trinity Woks & Kadhais\"': 1, 'SMS Squirt-Water-Gun05 1 L Hand Held Sprayer (Pa...\"': 1, 'Jaipur Crafts Religious Idols\"': 1, 'eKolhapuri Terracotta Vase (7.6 inch, Black)\"': 1, 'VRCT 6 inch Multicolor Rice Lights (Pack of 2)\"': 1, 'Uniross Compact 9V Battery Charger & 4U AA 1000 ...\"': 1, 'Fila Three Fourths\"': 1, 'Smile2u Retailers Toothpick Holders\"': 1, 'Hoffmen Formal Shirts': 1, 'HashTag Card Holders': 1, 'Polyfibre Tennis Grips': 1, 'Cotson Gloves': 1, 'TRESemme Naturals Vibrantly Smooth Shampoo (591)\"': 1, 'Wrench Sets': 1, 'Mast & Harbour Jackets\"': 1, 'Platinum League Sweaters\"': 1, 'Enerzy Bar Set': 1, 'Hustler Panties': 1, 'Monil Religious Idols\"': 1, 'intellect Combos\"': 1, 'boom premium quality s-450-p Dynamic Wired Headp...\"': 1, 'Scarves & Stoles': 1, 'Abhinl Fashion Fabric': 1, 'Klassik Pencil Boxes\"': 1, 'Secrid Card Holders\"': 1, 'Flat n Heels Canvas Shoes\"': 1, 'Hangrr Suits': 1, 'Sony HT-GT1 2.1 Home Theatre System\"': 1, 'Stanford Cricket Balls': 1, 'Ultrafit Bras\"': 1, 'Daxter Running Shoes\"': 1, 'Avenue Wall Clocks\"': 1, 'SHIMZA Sports Bras': 1, 'Freelance Vacuum Bottles 350 ml Bottle (Pack of ...\"': 1, 'eKolhapuri Terracotta Vase (22 inch, Black)\"': 1, 'Asian Aura Aroma Diffuser': 1, 'kits kart Pouch for Intex Aqua Style (Red)\"': 1, 'Dhiyaa Traders Superman Rubber Key Chain\"': 1, 'Clareo Ties': 1, 'DECOREX 18W LED Panel Light (Light Colour : Neut...\"': 1, 'ortel earphone66 Earphone Cable Organizer\"': 1, 'Arsenal Combos\"': 1, 'Pepe Sweaters\"': 1, 'Paul Mitchell Tea Tree Lavender Mint Moisturizin...\"': 1, 'Unicott Sweatshirts\"': 1, 'Buynow Glass_54 Tempered Glass for Xiaomi Mi 4S\"': 1, 'SKI WINNER GIFT SET PINK02 2 Containers Lunch Bo...\"': 1, 'DEBOCK DEBOCK Earphone For Samsung galaxy s adva...\"': 1, 'CHINMAY KIDS Printed Cotton Padded Mosquito Net ...\"': 1, 'Gkidz Polos & T-Shirts\"': 1, 'i-gadgets Royal Enfield Thunderbird and Bottle o...\"': 1, 'Browse House Religious Idols\"': 1, 'Newworld RTNE Pack Of One -446 Tempered Glass fo...\"': 1, 'kits kart Pouch for BLU Win HD LTE (Red)\"': 1, 'Aaina Home Decor Cloth Journal (Set Of 1, Seablue)\"': 1, 'Roadster Casual & Party Wear Shirts': 1, 'Ritco rslpf3 Faucet Set\"': 1, 'SARK Angle Valve with Flange Faucet Set\"': 1, 'ARMOIRE Polos & T-Shirts': 1, 'Urban Girl Brushes and Applicators': 1, 'Loreal Diarichesse No- 5 Light Brown ( Pack of 3...\"': 1, 'ADIWALK ATOM Running Shoes\"': 1, 'salt n pepper 16-510 BLACK Lace Up\"': 1, 'Shortkut enterprises Model no 476 Mobile/Tablet ...\"': 1, 'Sathiyas Cotton Bath Towel (3 Bath Towel, Red, Y...\"': 1, 'Raju purse collection Hand-held Bag (Purple)\"': 1, 'JDK NOVELTY Shoulder Bag (Purple)\"': 1, 'Car Air Purifiers': 1, 'SHANY Blushes': 1, 'Kum-Kum Bras\"': 1, 'KE TRAY TRAY Vanity Multi Purpose (GRAY)\"': 1, 'Rastogi Handicrafts Water bottle': 1, 'Twister Leggings & Jeggings\"': 1, 'YBC Women Pink PU Sling Bag\"': 1, 'Human Sexuality\"': 1, 'JBB Cue Sticks\"': 1, 'FRENEMY MPAD389 Mousepad (Multicolor)\"': 1, 'Rs Electrical RS-8500 Top Filter 3 in 1 More Fun...\"': 1, 'Rythmx Lipsticks\"': 1, 'A-maze ampolka-001pink Umbrella (Pink)\"': 1, 'Karukraft Human Figurines\"': 1, 'Shortkut enterprises Model no 400 Mobile/Tablet ...\"': 1, 'Dunlop Tennis Balls\"': 1, 'Wajbee Track Pants': 1, 'Jheel Jeans': 1, 'TOC Blazers': 1, 'Schwarzkopf Supersoft Color Shine Red Berries Co...\"': 1, 'Aakrati Human Figurines\"': 1, 'Surgical e Sstudio M0005 Gown, Pant Hospital Scr...\"': 1, 'Intel H61 Motherboard (Green)\"': 1, 'snjmart E5-J1 Ace Stereo Dynamic Earphone Wired ...\"': 1, 'Divinit Religious Idols\"': 1, 'Sathiyas Polos & T-Shirts\"': 1, 'Sicons All Purpose Arnica Dog Shampoo (500 ml)\"': 1, 'Lavanaya Human Figurines\"': 1, 'Puma Ferrari Replica 18.5 L Laptop Backpack (black)\"': 1, 'Clickroo Pyjamas & Lounge Pants': 1, 'Calvin Klein Casual & Party Wear Shirts': 1, 'Sports Jackets': 1, 'Lovehome Pizza Cutters\"': 1, 'Wilkins & Tuscany Sweatshirts\"': 1, 'Livastar Casual & Party Wear Shirts': 1, '\\xa0Tarkan Unique Style-2016 Umbrella (Multicolor)\"': 1, 'Coleman Camping & Hiking Bags & Packs': 1, 'Wayona 10000mAh Wireless 10000mAh Power bank Wit...\"': 1, 'KHI Panties': 1, 'AUSTIN WOOD Sweaters\"': 1, 'John Players Formal Shirts': 1, 'Twin Slippers\"': 1, 'Emartbuy Wallet Case Cover for Apple iPad Mini 3...\"': 1, 'Silver Bucks Cargos\"': 1, 'Via Flowers Llp Mirror VC89564 8 GB  Pen Drive (...\"': 1, 'Brandvilla Shoulder Bag (Multicolor)\"': 1, 'King Traders KI-BD-01 1 Kitchen Tool Set\"': 1, 'SM Cricket Bats\"': 1, 'NBA Combos\"': 1, 'Dr. Thapar\\'s Beard Wash With Aloevera (100 ml)\"': 1, 'SM Nutrition Vests': 1, 'K&P Religious Idols': 1, 'Ocean OPG/PTYDC-15 Dial Caliper (0-15 mm)\"': 1, 'DOUBLE HORSE Socks': 1, 'Maharaja Timer Electric Tandoor (Black)\"': 1, 'Transcend Premium Memory DDR2 2 GB (1x2GB) PC SD...\"': 1, 'Denim 86 Slim Fit Men\\'s Jeans\"': 1, 'Tallenge Art For Kitchen - Today\\'s Menu - Premiu...\"': 1, 'Ocean India Jeans': 1, 'Wake Up Competition Sweatshirts\"': 1, 'KAROZ Sweatshirts': 1, 'Tiny Toon Jeans\"': 1, 'Shortkut enterprises Model no 483 Mobile/Tablet ...\"': 1, 'NEWGEN TECH EO-HS3303 55 Wired Headset (White)\"': 1, 'EDGE PLUS BODY PANEL FOR SAMSUNG GALAXY S4 9500 ...\"': 1, 'Aaditri28 Religious Idols\"': 1, 'WEIDELI REDBP008 45 L Backpack (Red)\"': 1, 'Rishan Polos & T-Shirts': 1, 'FRENEMY MPAD348 Mousepad (Multicolor)\"': 1, 'Radhika\\'s World of Crafts Religious Idols\"': 1, 'CASEDEAL Nokia lumia 620 Back Panel (purple)\"': 1, 'Protector Moto E XT1021 Tempered Glass for Motor...\"': 1, 'Vero Moda Shorts': 1, 'Kazo Sweaters & Pullovers': 1, 'SG Cricket Guards': 1, 'Khaan Saab Editions Sherwanis': 1, 'Action Synergy SS07 School Shoes\"': 1, 'GENERIC Tattoos': 1, 'ELEGANZE DECOR Human Figurines': 1, 'AW High Speed Charge and Sync Usb for Iphone 6 P...\"': 1, 'Proganix Agave Nectar Plus Silica Curling Cream ...\"': 1, 'kits kart Pouch for Alcatel One Touch Hero (Red)\"': 1, 'PRINT SHAPES Gentle man Laptop Skin with Mouse p...\"': 1, 'Stylla Holi Combos': 1, 'SKI LOCK SEAL GIFT SET 550 YELLOW02 2 Containers...\"': 1, 'Bond Beatz Zipper With Excellent Sound Wired Hea...\"': 1, 'Centra Bras\"': 1, 'run of luck Solid Women\\'s Polo Neck Pink T-Shirt\"': 1, 'Rex Monk Strap\"': 1, 'Prachin Religious Idols\"': 1, 'Audeze Lcd2 In Bamboo, High Quality Planar Magne...\"': 1, 'Dilwaa Dress Materials\"': 1, 'JJ JONEX Badminton Racquets': 1, 'SB RETAILS SB02 Flash (White)\"': 1, 'Khadi Herbal Trifala Hair Oil (420 ml)\"': 1, 'SG Cricket Gloves': 1, 'Futaba Baking Silicon Flat Pastry Brush (Pack of 1)\"': 1, 'Prajo Hand-held Bag (White)\"': 1, 'Seven Seas Pizza Cutters\"': 1, 'Brahaan BLUE TAG Suits': 1, 'HP v220w 16 GB  Pen Drive (Silver, Black)\"': 1, 'Lakiya Face Treatments': 1, 'Columbus Men Sandals\"': 1, 'Alpine Enterprises Sweaters\"': 1, 'Romano Sweaters': 1, 'Garnet Water bottle': 1, 'AQUAPOLO Sippers': 1, 'Outgear Camping & Hiking Bags & Packs': 1, 'Chipmunk Casual, Party, Festive Pink, Green Arti...\"': 1, 'BESTSUIT White Micro-Usb Type For INTEX USB Cabl...\"': 1, 'Dloop Plastic Rack file (Set Of 1, Multicolor)\"': 1, 'Ophion 3.0 Male to Female 1 Meter USB Cable (Blue)\"': 1, 'Vanesa Combos\"': 1, 'eKolhapuri Terracotta Vase (11 inch, Green)\"': 1, 'ELITE STATUES Religious Idols': 1, 'baaamboos Formal Shirts\"': 1, 'Sunita Fashion Religious Idols\"': 1, 'urban monk creations Wall Clocks': 1, 'Killer Combos\"': 1, 'Sigmatech - Terracotta Beads Cutter\"': 1, 'Fotodiox Inc. 08HD-ES-62  Lens Hood (Black)\"': 1, 'Seals Jeans\"': 1, 'Cosco Tennis Balls': 1, 'BOLLYWOOD ACCESSORY Scarves & Stoles': 1, 'Clear Shield Original Anti Glare - (S315) Screen...\"': 1, 'OGX Sunkissed Blonde Lemon Highlights Conditione...\"': 1, 'Van Don Blazers': 1, 'DECOREX 18W LED Down Light (Light Colour : Neutr...\"': 1, 'SANTOSH ROYAL FASHION Cotton Embroidered Diwan Set\"': 1, 'Pu-Easy Life Lace Up Shoes\"': 1, 'Status Quo Casual & Party Wear Shirts\"': 1, 'Hats': 1, 'Send Rakhis to India Religious Idols\"': 1, 'Smart Wall Guru Decorative Wallpaper (58 cm X 70...\"': 1, 'PeepalComm Multi Purpose 11 Function Multi Utili...\"': 1, 'generic Small Reusable Menstrual Cup (Pack of 1)\"': 1, 'Escoda Paint Brushes': 1, 'John Miller Formal Shirts\"': 1, 'VRCT 196 inch Green Rice Lights (Pack of 1)\"': 1, 'Kanvin Night Suits': 1, 'MARVEL HMRPLB 256-SPM 1 Containers Lunch Box (50...\"': 1, 'AUROSHIKHA Incense Sticks': 1, 'V4STYLES Loafers\"': 1, 'FS Mini Klub Jeans': 1, 'ESBEDA Shoulder Bag (Black)\"': 1, 'Dynex Digital Full Size Headphone Dx-Hp550 Headp...\"': 1, 'JDK NOVELTY Shoulder Bag (Beige, Light Brown)\"': 1, 'NEWGEN TECH EO-HS3303 194 Wired Headset (White)\"': 1, 'SAF Holi Combos': 1, 'Abee Mashers': 1, 'Bemoree Exclusive Ball Pen (Blue)\"': 1, 'Solo Polypropylene Plastic Business Travel Organ...\"': 1, 'London Fog Sweaters\"': 1, 'PRINT SHAPES 3D feather wheel Laptop Skin with M...\"': 1, 'Checkered Chef Kitchen Scissors': 1, 'Globe Polos & T-Shirts': 1, 'Dove Sprays': 1, 'Maayas Shoulder Bag (Tan)\"': 1, 'Mankoose Jeans': 1, 'Furst Sync Data & Charging For Blade D2 USB Cabl...\"': 1, 'OXO Pizza Cutters\"': 1, 'KE GIFT BOX STOR JEWELLARY Vanity Jewellery (BLUE)\"': 1, 'Guardian Flip Flops\"': 1, 'I cube Jeans': 1, 'Ethnic Wear': 1, 'Viral Girl Bras': 1, 'Bharatcraft Showpiece  -  35 cm (Silver Finish, ...\"': 1, 'WROGN Casual & Party Wear Shirts\"': 1, 'Shortkut enterprises Model no 434 Mobile/Tablet ...\"': 1, 'Raymond Waistcoats': 1, 'DECOREX 12W LED Down Light (Warm White : Warm Wh...\"': 1, 'REAL Raincoats': 1, 'Craftcart Knobs & Handles': 1, 'Krg Enterprises Denesigr Makeup Box Vanity Multi...\"': 1, 'PHOCOS CX10 MPPT Solar Charge Controller\"': 1, 'Lehenga Choli Material': 1, 'Fun Blox Fairy Land Dining Set - 148 Pieces (Mul...\"': 1, 'Triumph Bras': 1, 'Canon Toners\"': 1, 'BELL BLEP-D10 Earphone Cable Organizer\"': 1, 'Chefn Pizza Cutters\"': 1, 'KoldFire Remote Controllers': 1, 'Jainish Formal Shirts\"': 1, 'DEBOCK Samsung Galaxy on5 Tempered Glass for Sam...\"': 1, 'BRECKEN PAUL DESIGNER Ball Pen (BLUE)\"': 1, 'NEWGEN TECH EO-HS3303 154 Wired Headset (White)\"': 1, 'Eventz Gifts Religious Idols\"': 1, 'Amirich Shorts': 1, 'Leading Lady Bras\"': 1, 'PRINT SHAPES MSI unleash the dragon Laptop Skin ...\"': 1, 'Alicia Souza Animals Badge\"': 1, 'Balaji Art Religious Idols': 1, 'Kanha poshak Wooden All Purpose Chowki (Multicolor)\"': 1, 'NEWGEN TECH EO-HS3303 187 Wired Headset (White)\"': 1, 'Collectible India Religious Idols': 1, 'Wineberry Boxers\"': 1, 'VarEesha Wooden Key Holder (8 Hooks, Multicolor)\"': 1, 'kits kart Pouch for Samsung Z3 (Red)\"': 1, 'Nourish Cardboard 2-D- Folder (Set Of 1, Black)\"': 1, 'John Morris Formal Shirts\"': 1, 'Momin Libas Abayas & Burqas': 1, 'o.h.m Sweaters': 1, 'London Bee Boxers\"': 1, 'Champ Tights': 1, 'CW Cricket Bats\"': 1, 'WonderChef Pizza Cutters\"': 1, 'Nuroma Combos\"': 1, 'Rockshose Lace Up\"': 1, 'SAJNA CELEBRATIONS Night Dresses & Nighties': 1, 'Shop Swipe Anti-Radiation Retro Style Wired Head...\"': 1, 'Wrangler Casual & Party Wear Shirts\"': 1, 'Holy Krishna Religious Idols': 1, 'JK Cartridge Toners\"': 1, 'Jack & Jones Shirts': 1, 'IndiWeaves Regular Fit Men\\'s Linen White, Cream ...\"': 1, 'Wheel Tyre Cleaners': 1, 'Sleek Line Casual & Party Wear Shirts': 1, 'Sprint Formal Shirts\"': 1, '612 League Shirts': 1, 'Magneto Boxers': 1, 'Wingold Woks & Kadhais\"': 1, 'Bourne Supermacy Canvas Art (18 inch X 12 inch, ...\"': 1, 'Platignum Retractable Fountain Pen (Blue)\"': 1, 'Tucasa LG-295 Table Lamp (15 cm, Multicolor)\"': 1, 'Body Balance Bands': 1, 'Puma Camping & Hiking Bags & Packs': 1, 'Amba Handicraft Human Figurines\"': 1}\n",
            "2638\n"
          ],
          "name": "stdout"
        },
        {
          "output_type": "execute_result",
          "data": {
            "text/plain": [
              "10641"
            ]
          },
          "metadata": {
            "tags": []
          },
          "execution_count": 14
        }
      ]
    },
    {
      "cell_type": "markdown",
      "metadata": {
        "id": "kQRVKtAj3dFf"
      },
      "source": [
        "Category level 4 contains 2638 labels and about half \"None\" values of given data. So we can reject this for considering as primary label."
      ]
    },
    {
      "cell_type": "markdown",
      "metadata": {
        "id": "LnNF355brHGL"
      },
      "source": [
        "# Prediction of level 1 category with 266 labels\n",
        "\n"
      ]
    },
    {
      "cell_type": "markdown",
      "metadata": {
        "id": "sabpynzF6s-o"
      },
      "source": [
        "*   As there are lot of labels and \"None\" values in other levels of category. \n",
        "*   Considering Level 1 Category as Primary Category works here.\n",
        "\n"
      ]
    },
    {
      "cell_type": "code",
      "metadata": {
        "id": "7ycuxjgyq44G"
      },
      "source": [
        "# Primary Category processing.\n",
        "# Considering all the 266 labels to perform prediction\n",
        "sort_level_1 = list(data.groupby('cat_level_1').count().sort_values(by='uniq_id',ascending=False).index) \n",
        "# Selecting only relevant columns that is cat_level_1 and description\n",
        "processed_df = data[data['cat_level_1'].isin(sort_level_1)][['cat_level_1','description']]\n",
        "# # Cleaning strings\n",
        "processed_df['description'] = processed_df['description'].astype('str').apply(preprocess_string)\n",
        "# Using LabelEncoder Encoding target labels with value between 0 and 265\n",
        "le = preprocessing.LabelEncoder()\n",
        "category_encoded=le.fit_transform(processed_df['cat_level_1'])\n",
        "processed_df['cat_level_1'] = category_encoded"
      ],
      "execution_count": 15,
      "outputs": []
    },
    {
      "cell_type": "code",
      "metadata": {
        "id": "Lh1LDgbxrMm9"
      },
      "source": [
        "X_train, X_test, y_train, y_test = train_test_split(processed_df['description'],processed_df['cat_level_1'],test_size=0.2)"
      ],
      "execution_count": 16,
      "outputs": []
    },
    {
      "cell_type": "code",
      "metadata": {
        "id": "SfExioRErRhv",
        "colab": {
          "base_uri": "https://localhost:8080/"
        },
        "outputId": "06ea5e7d-e488-43c1-f115-7db19e01fefa"
      },
      "source": [
        "vect = CountVectorizer(stop_words = 'english')\n",
        "X_train_matrix = vect.fit_transform(X_train) \n",
        "\n",
        "clf=MultinomialNB()  # Defining model\n",
        "clf.fit(X_train_matrix, y_train)   # Training multinomial NB model \n",
        "print(clf.score(X_train_matrix, y_train)*100)   # Scoring the trained model \n",
        "X_test_matrix = vect.transform(X_test)  # Converting the test data\n",
        "print (clf.score(X_test_matrix, y_test)*100)   # Scoring for the test data\n",
        "predicted_result=clf.predict(X_test_matrix) \n",
        "print(classification_report(y_test,predicted_result)) "
      ],
      "execution_count": 17,
      "outputs": [
        {
          "output_type": "stream",
          "text": [
            "93.63045380672584\n",
            "91.325\n",
            "              precision    recall  f1-score   support\n",
            "\n",
            "           2       0.00      0.00      0.00         1\n",
            "           7       0.00      0.00      0.00         1\n",
            "          11       0.00      0.00      0.00         1\n",
            "          13       0.00      0.00      0.00         1\n",
            "          14       0.00      0.00      0.00         1\n",
            "          16       0.00      0.00      0.00         1\n",
            "          20       0.00      0.00      0.00         1\n",
            "          21       0.91      0.99      0.95       218\n",
            "          26       0.86      0.66      0.75       100\n",
            "          27       0.69      0.48      0.57        52\n",
            "          29       0.87      0.95      0.91       137\n",
            "          33       0.00      0.00      0.00         1\n",
            "          36       0.00      0.00      0.00         1\n",
            "          37       1.00      0.25      0.40        16\n",
            "          38       0.00      0.00      0.00         1\n",
            "          41       0.00      0.00      0.00         1\n",
            "          43       0.96      0.99      0.98      1192\n",
            "          47       0.00      0.00      0.00         2\n",
            "          48       0.77      0.74      0.75       114\n",
            "          49       0.00      0.00      0.00         0\n",
            "          53       0.00      0.00      0.00         1\n",
            "          57       0.00      0.00      0.00         1\n",
            "          61       0.00      0.00      0.00         1\n",
            "          65       1.00      0.67      0.80         3\n",
            "          66       0.00      0.00      0.00         1\n",
            "          68       0.00      0.00      0.00         1\n",
            "          70       0.00      0.00      0.00         1\n",
            "          74       0.94      0.98      0.96       238\n",
            "          76       0.89      0.96      0.92        49\n",
            "          79       0.62      0.56      0.59         9\n",
            "          80       0.00      0.00      0.00         1\n",
            "          81       0.00      0.00      0.00         1\n",
            "          84       1.00      0.44      0.62         9\n",
            "          86       1.00      0.67      0.80         3\n",
            "          87       0.90      0.97      0.93       190\n",
            "          88       1.00      0.33      0.50         3\n",
            "          89       0.88      0.99      0.93       135\n",
            "          90       0.88      0.50      0.64        14\n",
            "          92       0.00      0.00      0.00         1\n",
            "          99       0.88      1.00      0.94       726\n",
            "         103       0.00      0.00      0.00         1\n",
            "         106       0.97      0.83      0.90       133\n",
            "         116       0.00      0.00      0.00         1\n",
            "         117       0.00      0.00      0.00         1\n",
            "         120       0.00      0.00      0.00         1\n",
            "         122       0.00      0.00      0.00         1\n",
            "         123       0.00      0.00      0.00         1\n",
            "         124       0.00      0.00      0.00         1\n",
            "         125       0.00      0.00      0.00         1\n",
            "         128       0.00      0.00      0.00         2\n",
            "         130       0.00      0.00      0.00         1\n",
            "         131       0.97      0.89      0.93       230\n",
            "         134       0.00      0.00      0.00         1\n",
            "         144       0.00      0.00      0.00         2\n",
            "         145       0.00      0.00      0.00         1\n",
            "         151       0.90      0.45      0.60        60\n",
            "         152       1.00      0.60      0.75         5\n",
            "         155       0.00      0.00      0.00         1\n",
            "         159       0.00      0.00      0.00         1\n",
            "         167       0.00      0.00      0.00         1\n",
            "         171       0.00      0.00      0.00         1\n",
            "         177       0.00      0.00      0.00         1\n",
            "         181       0.00      0.00      0.00         1\n",
            "         187       0.00      0.00      0.00         1\n",
            "         188       0.00      0.00      0.00         1\n",
            "         190       0.00      0.00      0.00         1\n",
            "         191       0.00      0.00      0.00         1\n",
            "         198       0.00      0.00      0.00         1\n",
            "         199       0.00      0.00      0.00         1\n",
            "         205       0.79      0.42      0.55        26\n",
            "         206       0.00      0.00      0.00         1\n",
            "         210       0.00      0.00      0.00         1\n",
            "         212       0.70      1.00      0.82         7\n",
            "         213       0.00      0.00      0.00         1\n",
            "         216       0.00      0.00      0.00         1\n",
            "         219       0.00      0.00      0.00         2\n",
            "         221       0.00      0.00      0.00         1\n",
            "         224       0.00      0.00      0.00         1\n",
            "         225       0.95      0.96      0.95        96\n",
            "         226       0.70      0.85      0.77        61\n",
            "         229       0.00      0.00      0.00         1\n",
            "         231       0.00      0.00      0.00         1\n",
            "         235       0.00      0.00      0.00         1\n",
            "         239       0.00      0.00      0.00         1\n",
            "         241       0.93      0.98      0.96       102\n",
            "         242       0.00      0.00      0.00         1\n",
            "         249       0.00      0.00      0.00         1\n",
            "         250       0.00      0.00      0.00         1\n",
            "         255       1.00      0.14      0.25         7\n",
            "         262       0.00      0.00      0.00         1\n",
            "\n",
            "    accuracy                           0.91      4000\n",
            "   macro avg       0.28      0.23      0.24      4000\n",
            "weighted avg       0.90      0.91      0.90      4000\n",
            "\n"
          ],
          "name": "stdout"
        },
        {
          "output_type": "stream",
          "text": [
            "/usr/local/lib/python3.7/dist-packages/sklearn/metrics/_classification.py:1272: UndefinedMetricWarning: Precision and F-score are ill-defined and being set to 0.0 in labels with no predicted samples. Use `zero_division` parameter to control this behavior.\n",
            "  _warn_prf(average, modifier, msg_start, len(result))\n",
            "/usr/local/lib/python3.7/dist-packages/sklearn/metrics/_classification.py:1272: UndefinedMetricWarning: Recall and F-score are ill-defined and being set to 0.0 in labels with no true samples. Use `zero_division` parameter to control this behavior.\n",
            "  _warn_prf(average, modifier, msg_start, len(result))\n"
          ],
          "name": "stderr"
        }
      ]
    },
    {
      "cell_type": "markdown",
      "metadata": {
        "id": "jwMWR_zwu4I_"
      },
      "source": [
        "# Cleaning cat_level_1\n",
        "*   These lists contains a keywords from the labels to be clubbed to get 27 labels\n",
        "*   This work is done manually looking at the primary column\n",
        "\n",
        "\n",
        "---\n",
        "\n",
        "\n",
        "Relabeling the cat_level_1 into 27 labels"
      ]
    },
    {
      "cell_type": "code",
      "metadata": {
        "id": "6U6j_4iRsbRC"
      },
      "source": [
        "Clothing = ['Socks','Jeans','Viscose ','Top','Kurta','Bra','Blazer','Shorts','Gloves','Lingerie','Sweater','Jacket','Trousers','Jumpsuit','Brief','Cotton','Creations',\n",
        "            'T-Shirt','Camisole',\"Bottom\",'Leggings','Stole','Boxer','Cufflink','Round Neck','Dress','Sari','Vest','Panty','Semi-stitched','Neck','Silk','Girls','Sleeve','Kurti','Printed']\n",
        "Sunglasses =['Eyewear','Sunglasses']\n",
        "Jewellery = ['Jewels','Rings','Bangle','Swarovski']\n",
        "Bags_Wallets_Belts = ['Clutch','Pouch','Backpack','Zixtro']\n",
        "Footwear = ['Flats','Bellies','Shoes','Slippers','Wedges','Lace','Shoes,']\n",
        "Automotive = ['Hyundai','horn','Car','Mirror','Side','Stand', 'Automation', 'Enfield', 'Bajaj', 'Renault', 'Vehicles','Maruti','Arm','Honda','BikerZ']\n",
        "Pens_Stationery = ['Pen','Notebook', 'Paper', 'Compartments']\n",
        "Kitchen_Dining = ['Bowl', 'Cooler','Oddy','Grocery','Glass']\n",
        "Computers = ['Keyboard', 'Sound','Mixer','Surge']\n",
        "Home_Furnishing = ['Floor','Mat','Table','Cover','Furnishing']\n",
        "Furniture = ['Mattress', 'Sofa']\n",
        "Beauty_and_Personal_Care = ['Boreal', 'Roller', 'Brush','Foundation', 'Hair', 'Band', 'Clip','Wella','Shaving']\n",
        "Home_Decor_Festive_Needs = ['Tapestry', 'Plant', 'Showpiece', 'Lantern', 'Seed', 'Candle', 'Herb','Fragrance','Sugandh']\n",
        "Health_Personal_Care_Appliances = ['Hair','Dryer', 'Nail' ,'Cutter','Nutrition']\n",
        "Baby_Care = ['Walker']\n",
        "Sports_Fitness = ['Thigh','Guard','Toe']\n",
        "Cameras_Accessories = ['Binoculars','Vanguard','Pia']\n",
        "Gaming = ['Game']\n",
        "Mobiles = ['Headset', 'Tablet','Samsung','Blackberry','Planet','Charging']\n",
        "tools = ['PUMP','Dremel','Betagard']\n",
        "Home_Kitchen = ['Water']\n",
        "Home_Improvement = ['BuildTrack','Cartridge','Household','Faucet']\n",
        "Watches = ['Wearable']"
      ],
      "execution_count": 18,
      "outputs": []
    },
    {
      "cell_type": "markdown",
      "metadata": {
        "id": "-lhamPPViXwY"
      },
      "source": [
        "This 3031 could not be clubbed with any of the primary category so dropping it"
      ]
    },
    {
      "cell_type": "code",
      "metadata": {
        "id": "16RhFyr_s9TB"
      },
      "source": [
        "data = data.drop(3031, axis=0) # this is the only unclubbed row into 27 labels "
      ],
      "execution_count": 19,
      "outputs": []
    },
    {
      "cell_type": "markdown",
      "metadata": {
        "id": "HrWZEru-iyPI"
      },
      "source": [
        "Renaming the labels \n",
        "*   In Primary category there are about 266 labels.\n",
        "*   Renaming the labels which has only one item to appropriate labels.\n",
        "*   At last, we will remain with 27 main labels."
      ]
    },
    {
      "cell_type": "code",
      "metadata": {
        "id": "d0sXE9RiXM1h"
      },
      "source": [
        "for i,row in data.iterrows():\n",
        "    sentence = row['cat_level_1']\n",
        "    x = str(sentence).replace('\"',' ')\n",
        "    y = str(x).replace(']',' ')\n",
        "    words = x.split()\n",
        "    for j in words:\n",
        "      if j in Clothing:\n",
        "        data.loc[i,'cat_level_1_v2'] = 'Clothing'\n",
        "        break\n",
        "      elif j in Sunglasses:\n",
        "        data.loc[i,'cat_level_1_v2'] = 'Sunglasses'\n",
        "        break\n",
        "      elif j in Jewellery:\n",
        "        data.loc[i,'cat_level_1_v2'] = 'Jewellery'\n",
        "        break\n",
        "      elif j in Bags_Wallets_Belts:\n",
        "        data.loc[i,'cat_level_1_v2'] = 'Bags, Wallets & Belts'\n",
        "        break\n",
        "      elif j in Footwear:\n",
        "        data.loc[i,'cat_level_1_v2'] = 'Footwear'\n",
        "        break\n",
        "      elif j in Automotive:\n",
        "        data.loc[i,'cat_level_1_v2'] = 'Automotive'\n",
        "        break\n",
        "      elif j in Pens_Stationery:\n",
        "        data.loc[i,'cat_level_1_v2'] = 'Pens & Stationery'\n",
        "        break\n",
        "      elif j in Kitchen_Dining:\n",
        "        data.loc[i,'cat_level_1_v2'] = 'Kitchen & Dining'\n",
        "        break\n",
        "      elif j in Computers:\n",
        "        data.loc[i,'cat_level_1_v2'] = 'Computers'\n",
        "        break\n",
        "      elif j in Home_Furnishing:\n",
        "        data.loc[i,'cat_level_1_v2'] = 'Home Furnishing'\n",
        "        break\n",
        "      elif j in Furniture:\n",
        "        data.loc[i,'cat_level_1_v2'] = 'Furniture'\n",
        "        break\n",
        "      elif j in Beauty_and_Personal_Care:\n",
        "        data.loc[i,'cat_level_1_v2'] = 'Beauty and Personal Care'\n",
        "        break\n",
        "      elif j in Home_Decor_Festive_Needs:\n",
        "        data.loc[i,'cat_level_1_v2'] = 'Home Decor & Festive Needs'\n",
        "        break\n",
        "      elif j in Health_Personal_Care_Appliances:\n",
        "        data.loc[i,'cat_level_1_v2'] = 'Health & Personal Care Appliances'\n",
        "        break\n",
        "      elif j in Baby_Care:\n",
        "        data.loc[i,'cat_level_1_v2'] = 'Baby Care'\n",
        "        break\n",
        "      elif j in Sports_Fitness:\n",
        "        data.loc[i,'cat_level_1_v2'] = 'Sports & Fitness'\n",
        "        break\n",
        "      elif j in Cameras_Accessories:\n",
        "        data.loc[i,'cat_level_1_v2'] = 'Cameras & Accessories'\n",
        "        break\n",
        "      elif j in Gaming:\n",
        "        data.loc[i,'cat_level_1_v2'] = 'Gaming'\n",
        "        break\n",
        "      elif j in Mobiles:\n",
        "        data.loc[i,'cat_level_1_v2'] = 'Mobiles & Accessories'\n",
        "        break\n",
        "      elif j in tools:\n",
        "        data.loc[i,'cat_level_1_v2'] = 'Tools & Hardware'\n",
        "        break\n",
        "      elif j in Home_Kitchen:\n",
        "        data.loc[i,'cat_level_1_v2'] = 'Home & Kitchen'\n",
        "        break\n",
        "      elif j in Home_Improvement:\n",
        "        data.loc[i,'cat_level_1_v2'] = 'Home Improvement'\n",
        "        break\n",
        "      elif j in Watches:\n",
        "        data.loc[i,'cat_level_1_v2'] = 'Watches'\n",
        "        break\n",
        "      else:\n",
        "        data.loc[i,'cat_level_1_v2'] = row['cat_level_1']"
      ],
      "execution_count": 20,
      "outputs": []
    },
    {
      "cell_type": "code",
      "metadata": {
        "colab": {
          "base_uri": "https://localhost:8080/"
        },
        "id": "HjzvmTUPOSoY",
        "outputId": "c87d3aaa-b03f-4e7a-cdc8-8484c9b6af2a"
      },
      "source": [
        "print(data['cat_level_1_v2'].value_counts().to_dict())\n",
        "print(len(data['cat_level_1_v2'].value_counts()))\n",
        "len(data[data['cat_level_1_v2']=='None'])"
      ],
      "execution_count": 21,
      "outputs": [
        {
          "output_type": "stream",
          "text": [
            "{'Clothing': 6341, 'Jewellery': 3545, 'Footwear': 1263, 'Mobiles & Accessories': 1110, 'Automotive': 1029, 'Home Decor & Festive Needs': 941, 'Beauty and Personal Care': 721, 'Home Furnishing': 707, 'Kitchen & Dining': 653, 'Computers': 582, 'Watches': 532, 'Baby Care': 484, 'Tools & Hardware': 395, 'Toys & School Supplies': 330, 'Pens & Stationery': 322, 'Bags, Wallets & Belts': 278, 'Furniture': 182, 'Sports & Fitness': 168, 'Cameras & Accessories': 88, 'Home Improvement': 88, 'Sunglasses': 67, 'Health & Personal Care Appliances': 46, 'Gaming': 36, 'Pet Supplies': 30, 'Home & Kitchen': 25, 'Home Entertainment': 19, 'eBooks': 15}\n",
            "27\n"
          ],
          "name": "stdout"
        },
        {
          "output_type": "execute_result",
          "data": {
            "text/plain": [
              "0"
            ]
          },
          "metadata": {
            "tags": []
          },
          "execution_count": 21
        }
      ]
    },
    {
      "cell_type": "code",
      "metadata": {
        "id": "if3wt_LYNEE2"
      },
      "source": [
        "data.rename(columns = {'cat_level_1_v2': 'primary_category'}, inplace = True)"
      ],
      "execution_count": 22,
      "outputs": []
    },
    {
      "cell_type": "markdown",
      "metadata": {
        "id": "-BT1Rx7phCxe"
      },
      "source": [
        "# Required Data for Implementation"
      ]
    },
    {
      "cell_type": "code",
      "metadata": {
        "id": "KECVC3DHW7ua"
      },
      "source": [
        "load_data = data[['uniq_id','description','primary_category']]"
      ],
      "execution_count": 23,
      "outputs": []
    },
    {
      "cell_type": "markdown",
      "metadata": {
        "id": "WolAuxyFxmHP"
      },
      "source": [
        "# Saving the Cleaned and Processed Dataset"
      ]
    },
    {
      "cell_type": "code",
      "metadata": {
        "id": "AiLnmJiLJC3q"
      },
      "source": [
        "load_data.to_csv('/content/drive/MyDrive/MIDAS/2_cleaned_flipkart_com_ecommerce_sample.csv')"
      ],
      "execution_count": 24,
      "outputs": []
    },
    {
      "cell_type": "markdown",
      "metadata": {
        "id": "Pl09DYExirfO"
      },
      "source": [
        "# Data preparation for CNN model"
      ]
    },
    {
      "cell_type": "code",
      "metadata": {
        "id": "pmEV3ZGvk_G8"
      },
      "source": [
        "product = pd.read_csv(\"/content/drive/MyDrive/MIDAS/2_cleaned_flipkart_com_ecommerce_sample.csv\")"
      ],
      "execution_count": 25,
      "outputs": []
    },
    {
      "cell_type": "code",
      "metadata": {
        "id": "OhxyHlRLWBEC",
        "colab": {
          "base_uri": "https://localhost:8080/",
          "height": 402
        },
        "outputId": "7db29826-cc5a-4c56-d4c0-22a64afb21f2"
      },
      "source": [
        "product"
      ],
      "execution_count": 26,
      "outputs": [
        {
          "output_type": "execute_result",
          "data": {
            "text/html": [
              "<div>\n",
              "<style scoped>\n",
              "    .dataframe tbody tr th:only-of-type {\n",
              "        vertical-align: middle;\n",
              "    }\n",
              "\n",
              "    .dataframe tbody tr th {\n",
              "        vertical-align: top;\n",
              "    }\n",
              "\n",
              "    .dataframe thead th {\n",
              "        text-align: right;\n",
              "    }\n",
              "</style>\n",
              "<table border=\"1\" class=\"dataframe\">\n",
              "  <thead>\n",
              "    <tr style=\"text-align: right;\">\n",
              "      <th></th>\n",
              "      <th>Unnamed: 0</th>\n",
              "      <th>uniq_id</th>\n",
              "      <th>description</th>\n",
              "      <th>primary_category</th>\n",
              "    </tr>\n",
              "  </thead>\n",
              "  <tbody>\n",
              "    <tr>\n",
              "      <th>0</th>\n",
              "      <td>0</td>\n",
              "      <td>c2d766ca982eca8304150849735ffef9</td>\n",
              "      <td>key feature alisha solid woman cycling short c...</td>\n",
              "      <td>Clothing</td>\n",
              "    </tr>\n",
              "    <tr>\n",
              "      <th>1</th>\n",
              "      <td>1</td>\n",
              "      <td>7f7036a6d550aaa89d34c77bd39a5e48</td>\n",
              "      <td>fabhomedecor fabric double sofa bed finish col...</td>\n",
              "      <td>Furniture</td>\n",
              "    </tr>\n",
              "    <tr>\n",
              "      <th>2</th>\n",
              "      <td>2</td>\n",
              "      <td>f449ec65dcbc041b6ae5e6a32717d01b</td>\n",
              "      <td>key feature belly sandal wedge heel casuals be...</td>\n",
              "      <td>Footwear</td>\n",
              "    </tr>\n",
              "    <tr>\n",
              "      <th>3</th>\n",
              "      <td>3</td>\n",
              "      <td>0973b37acd0c664e3de26e97e5571454</td>\n",
              "      <td>key feature alisha solid woman cycling short c...</td>\n",
              "      <td>Clothing</td>\n",
              "    </tr>\n",
              "    <tr>\n",
              "      <th>4</th>\n",
              "      <td>4</td>\n",
              "      <td>bc940ea42ee6bef5ac7cea3fb5cfbee7</td>\n",
              "      <td>specification sicons purpose arnica dog shampo...</td>\n",
              "      <td>Pet Supplies</td>\n",
              "    </tr>\n",
              "    <tr>\n",
              "      <th>...</th>\n",
              "      <td>...</td>\n",
              "      <td>...</td>\n",
              "      <td>...</td>\n",
              "      <td>...</td>\n",
              "    </tr>\n",
              "    <tr>\n",
              "      <th>19992</th>\n",
              "      <td>19995</td>\n",
              "      <td>7179d2f6c4ad50a17d014ca1d2815156</td>\n",
              "      <td>buy walldesign small vinyl sticker online wall...</td>\n",
              "      <td>Baby Care</td>\n",
              "    </tr>\n",
              "    <tr>\n",
              "      <th>19993</th>\n",
              "      <td>19996</td>\n",
              "      <td>71ac419198359d37b8fe5e3fffdfee09</td>\n",
              "      <td>buy wallmantra large vinyl sticker sticker onl...</td>\n",
              "      <td>Baby Care</td>\n",
              "    </tr>\n",
              "    <tr>\n",
              "      <th>19994</th>\n",
              "      <td>19997</td>\n",
              "      <td>93e9d343837400ce0d7980874ece471c</td>\n",
              "      <td>buy elite collection medium acrylic sticker on...</td>\n",
              "      <td>Baby Care</td>\n",
              "    </tr>\n",
              "    <tr>\n",
              "      <th>19995</th>\n",
              "      <td>19998</td>\n",
              "      <td>669e79b8fa5d9ae020841c0c97d5e935</td>\n",
              "      <td>buy elite collection medium acrylic sticker on...</td>\n",
              "      <td>Baby Care</td>\n",
              "    </tr>\n",
              "    <tr>\n",
              "      <th>19996</th>\n",
              "      <td>19999</td>\n",
              "      <td>cb4fa87a874f715fff567f7b7b3be79c</td>\n",
              "      <td>buy elite collection medium acrylic sticker on...</td>\n",
              "      <td>Baby Care</td>\n",
              "    </tr>\n",
              "  </tbody>\n",
              "</table>\n",
              "<p>19997 rows × 4 columns</p>\n",
              "</div>"
            ],
            "text/plain": [
              "       Unnamed: 0  ... primary_category\n",
              "0               0  ...         Clothing\n",
              "1               1  ...        Furniture\n",
              "2               2  ...         Footwear\n",
              "3               3  ...         Clothing\n",
              "4               4  ...     Pet Supplies\n",
              "...           ...  ...              ...\n",
              "19992       19995  ...        Baby Care\n",
              "19993       19996  ...        Baby Care\n",
              "19994       19997  ...        Baby Care\n",
              "19995       19998  ...        Baby Care\n",
              "19996       19999  ...        Baby Care\n",
              "\n",
              "[19997 rows x 4 columns]"
            ]
          },
          "metadata": {
            "tags": []
          },
          "execution_count": 26
        }
      ]
    },
    {
      "cell_type": "code",
      "metadata": {
        "id": "dpqozd1s-Hsa"
      },
      "source": [
        "desc = product[['uniq_id','description']]"
      ],
      "execution_count": 27,
      "outputs": []
    },
    {
      "cell_type": "code",
      "metadata": {
        "colab": {
          "base_uri": "https://localhost:8080/",
          "height": 402
        },
        "id": "mtjd00NB_Frm",
        "outputId": "f0c15d43-0508-4cea-faaa-494c675bb297"
      },
      "source": [
        "desc"
      ],
      "execution_count": 28,
      "outputs": [
        {
          "output_type": "execute_result",
          "data": {
            "text/html": [
              "<div>\n",
              "<style scoped>\n",
              "    .dataframe tbody tr th:only-of-type {\n",
              "        vertical-align: middle;\n",
              "    }\n",
              "\n",
              "    .dataframe tbody tr th {\n",
              "        vertical-align: top;\n",
              "    }\n",
              "\n",
              "    .dataframe thead th {\n",
              "        text-align: right;\n",
              "    }\n",
              "</style>\n",
              "<table border=\"1\" class=\"dataframe\">\n",
              "  <thead>\n",
              "    <tr style=\"text-align: right;\">\n",
              "      <th></th>\n",
              "      <th>uniq_id</th>\n",
              "      <th>description</th>\n",
              "    </tr>\n",
              "  </thead>\n",
              "  <tbody>\n",
              "    <tr>\n",
              "      <th>0</th>\n",
              "      <td>c2d766ca982eca8304150849735ffef9</td>\n",
              "      <td>key feature alisha solid woman cycling short c...</td>\n",
              "    </tr>\n",
              "    <tr>\n",
              "      <th>1</th>\n",
              "      <td>7f7036a6d550aaa89d34c77bd39a5e48</td>\n",
              "      <td>fabhomedecor fabric double sofa bed finish col...</td>\n",
              "    </tr>\n",
              "    <tr>\n",
              "      <th>2</th>\n",
              "      <td>f449ec65dcbc041b6ae5e6a32717d01b</td>\n",
              "      <td>key feature belly sandal wedge heel casuals be...</td>\n",
              "    </tr>\n",
              "    <tr>\n",
              "      <th>3</th>\n",
              "      <td>0973b37acd0c664e3de26e97e5571454</td>\n",
              "      <td>key feature alisha solid woman cycling short c...</td>\n",
              "    </tr>\n",
              "    <tr>\n",
              "      <th>4</th>\n",
              "      <td>bc940ea42ee6bef5ac7cea3fb5cfbee7</td>\n",
              "      <td>specification sicons purpose arnica dog shampo...</td>\n",
              "    </tr>\n",
              "    <tr>\n",
              "      <th>...</th>\n",
              "      <td>...</td>\n",
              "      <td>...</td>\n",
              "    </tr>\n",
              "    <tr>\n",
              "      <th>19992</th>\n",
              "      <td>7179d2f6c4ad50a17d014ca1d2815156</td>\n",
              "      <td>buy walldesign small vinyl sticker online wall...</td>\n",
              "    </tr>\n",
              "    <tr>\n",
              "      <th>19993</th>\n",
              "      <td>71ac419198359d37b8fe5e3fffdfee09</td>\n",
              "      <td>buy wallmantra large vinyl sticker sticker onl...</td>\n",
              "    </tr>\n",
              "    <tr>\n",
              "      <th>19994</th>\n",
              "      <td>93e9d343837400ce0d7980874ece471c</td>\n",
              "      <td>buy elite collection medium acrylic sticker on...</td>\n",
              "    </tr>\n",
              "    <tr>\n",
              "      <th>19995</th>\n",
              "      <td>669e79b8fa5d9ae020841c0c97d5e935</td>\n",
              "      <td>buy elite collection medium acrylic sticker on...</td>\n",
              "    </tr>\n",
              "    <tr>\n",
              "      <th>19996</th>\n",
              "      <td>cb4fa87a874f715fff567f7b7b3be79c</td>\n",
              "      <td>buy elite collection medium acrylic sticker on...</td>\n",
              "    </tr>\n",
              "  </tbody>\n",
              "</table>\n",
              "<p>19997 rows × 2 columns</p>\n",
              "</div>"
            ],
            "text/plain": [
              "                                uniq_id                                        description\n",
              "0      c2d766ca982eca8304150849735ffef9  key feature alisha solid woman cycling short c...\n",
              "1      7f7036a6d550aaa89d34c77bd39a5e48  fabhomedecor fabric double sofa bed finish col...\n",
              "2      f449ec65dcbc041b6ae5e6a32717d01b  key feature belly sandal wedge heel casuals be...\n",
              "3      0973b37acd0c664e3de26e97e5571454  key feature alisha solid woman cycling short c...\n",
              "4      bc940ea42ee6bef5ac7cea3fb5cfbee7  specification sicons purpose arnica dog shampo...\n",
              "...                                 ...                                                ...\n",
              "19992  7179d2f6c4ad50a17d014ca1d2815156  buy walldesign small vinyl sticker online wall...\n",
              "19993  71ac419198359d37b8fe5e3fffdfee09  buy wallmantra large vinyl sticker sticker onl...\n",
              "19994  93e9d343837400ce0d7980874ece471c  buy elite collection medium acrylic sticker on...\n",
              "19995  669e79b8fa5d9ae020841c0c97d5e935  buy elite collection medium acrylic sticker on...\n",
              "19996  cb4fa87a874f715fff567f7b7b3be79c  buy elite collection medium acrylic sticker on...\n",
              "\n",
              "[19997 rows x 2 columns]"
            ]
          },
          "metadata": {
            "tags": []
          },
          "execution_count": 28
        }
      ]
    },
    {
      "cell_type": "code",
      "metadata": {
        "id": "N45DYqiR-Rkw"
      },
      "source": [
        "desc.to_csv('/content/drive/MyDrive/MIDAS/desc.csv')"
      ],
      "execution_count": 29,
      "outputs": []
    },
    {
      "cell_type": "code",
      "metadata": {
        "id": "muX7_NPY_Ul9"
      },
      "source": [
        "cat = product[['uniq_id','primary_category']]"
      ],
      "execution_count": 30,
      "outputs": []
    },
    {
      "cell_type": "code",
      "metadata": {
        "colab": {
          "base_uri": "https://localhost:8080/",
          "height": 402
        },
        "id": "5Gj6MvAv_aKY",
        "outputId": "7f70cc1d-5cdd-4556-a59f-ef960873edc4"
      },
      "source": [
        "cat"
      ],
      "execution_count": 31,
      "outputs": [
        {
          "output_type": "execute_result",
          "data": {
            "text/html": [
              "<div>\n",
              "<style scoped>\n",
              "    .dataframe tbody tr th:only-of-type {\n",
              "        vertical-align: middle;\n",
              "    }\n",
              "\n",
              "    .dataframe tbody tr th {\n",
              "        vertical-align: top;\n",
              "    }\n",
              "\n",
              "    .dataframe thead th {\n",
              "        text-align: right;\n",
              "    }\n",
              "</style>\n",
              "<table border=\"1\" class=\"dataframe\">\n",
              "  <thead>\n",
              "    <tr style=\"text-align: right;\">\n",
              "      <th></th>\n",
              "      <th>uniq_id</th>\n",
              "      <th>primary_category</th>\n",
              "    </tr>\n",
              "  </thead>\n",
              "  <tbody>\n",
              "    <tr>\n",
              "      <th>0</th>\n",
              "      <td>c2d766ca982eca8304150849735ffef9</td>\n",
              "      <td>Clothing</td>\n",
              "    </tr>\n",
              "    <tr>\n",
              "      <th>1</th>\n",
              "      <td>7f7036a6d550aaa89d34c77bd39a5e48</td>\n",
              "      <td>Furniture</td>\n",
              "    </tr>\n",
              "    <tr>\n",
              "      <th>2</th>\n",
              "      <td>f449ec65dcbc041b6ae5e6a32717d01b</td>\n",
              "      <td>Footwear</td>\n",
              "    </tr>\n",
              "    <tr>\n",
              "      <th>3</th>\n",
              "      <td>0973b37acd0c664e3de26e97e5571454</td>\n",
              "      <td>Clothing</td>\n",
              "    </tr>\n",
              "    <tr>\n",
              "      <th>4</th>\n",
              "      <td>bc940ea42ee6bef5ac7cea3fb5cfbee7</td>\n",
              "      <td>Pet Supplies</td>\n",
              "    </tr>\n",
              "    <tr>\n",
              "      <th>...</th>\n",
              "      <td>...</td>\n",
              "      <td>...</td>\n",
              "    </tr>\n",
              "    <tr>\n",
              "      <th>19992</th>\n",
              "      <td>7179d2f6c4ad50a17d014ca1d2815156</td>\n",
              "      <td>Baby Care</td>\n",
              "    </tr>\n",
              "    <tr>\n",
              "      <th>19993</th>\n",
              "      <td>71ac419198359d37b8fe5e3fffdfee09</td>\n",
              "      <td>Baby Care</td>\n",
              "    </tr>\n",
              "    <tr>\n",
              "      <th>19994</th>\n",
              "      <td>93e9d343837400ce0d7980874ece471c</td>\n",
              "      <td>Baby Care</td>\n",
              "    </tr>\n",
              "    <tr>\n",
              "      <th>19995</th>\n",
              "      <td>669e79b8fa5d9ae020841c0c97d5e935</td>\n",
              "      <td>Baby Care</td>\n",
              "    </tr>\n",
              "    <tr>\n",
              "      <th>19996</th>\n",
              "      <td>cb4fa87a874f715fff567f7b7b3be79c</td>\n",
              "      <td>Baby Care</td>\n",
              "    </tr>\n",
              "  </tbody>\n",
              "</table>\n",
              "<p>19997 rows × 2 columns</p>\n",
              "</div>"
            ],
            "text/plain": [
              "                                uniq_id primary_category\n",
              "0      c2d766ca982eca8304150849735ffef9         Clothing\n",
              "1      7f7036a6d550aaa89d34c77bd39a5e48        Furniture\n",
              "2      f449ec65dcbc041b6ae5e6a32717d01b         Footwear\n",
              "3      0973b37acd0c664e3de26e97e5571454         Clothing\n",
              "4      bc940ea42ee6bef5ac7cea3fb5cfbee7     Pet Supplies\n",
              "...                                 ...              ...\n",
              "19992  7179d2f6c4ad50a17d014ca1d2815156        Baby Care\n",
              "19993  71ac419198359d37b8fe5e3fffdfee09        Baby Care\n",
              "19994  93e9d343837400ce0d7980874ece471c        Baby Care\n",
              "19995  669e79b8fa5d9ae020841c0c97d5e935        Baby Care\n",
              "19996  cb4fa87a874f715fff567f7b7b3be79c        Baby Care\n",
              "\n",
              "[19997 rows x 2 columns]"
            ]
          },
          "metadata": {
            "tags": []
          },
          "execution_count": 31
        }
      ]
    },
    {
      "cell_type": "code",
      "metadata": {
        "id": "GKPwmHmL_clr"
      },
      "source": [
        "cat.to_csv('/content/drive/MyDrive/MIDAS/cat.csv')"
      ],
      "execution_count": 32,
      "outputs": []
    },
    {
      "cell_type": "code",
      "metadata": {
        "id": "_HipfGLv_gAu"
      },
      "source": [
        ""
      ],
      "execution_count": null,
      "outputs": []
    }
  ]
}