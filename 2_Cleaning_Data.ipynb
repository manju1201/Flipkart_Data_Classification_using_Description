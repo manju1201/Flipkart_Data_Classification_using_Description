{
  "nbformat": 4,
  "nbformat_minor": 0,
  "metadata": {
    "colab": {
      "name": "2_Cleaning_Data.ipynb",
      "provenance": [],
      "collapsed_sections": [],
      "toc_visible": true,
      "mount_file_id": "1KICz2JobMfyFa8ZwVsusSJahm4xhRvGz",
      "authorship_tag": "ABX9TyNKiy3UV8gvYlK3/B/Hfm0s",
      "include_colab_link": true
    },
    "kernelspec": {
      "display_name": "Python 3",
      "name": "python3"
    },
    "language_info": {
      "name": "python"
    }
  },
  "cells": [
    {
      "cell_type": "markdown",
      "metadata": {
        "id": "view-in-github",
        "colab_type": "text"
      },
      "source": [
        "<a href=\"https://colab.research.google.com/github/manju1201/Flipkart_Data_Classification_using_Description/blob/main/2_Cleaning_Data.ipynb\" target=\"_parent\"><img src=\"https://colab.research.google.com/assets/colab-badge.svg\" alt=\"Open In Colab\"/></a>"
      ]
    },
    {
      "cell_type": "markdown",
      "metadata": {
        "id": "Z-a8my-kp9nR"
      },
      "source": [
        "# Imports\n",
        "\n"
      ]
    },
    {
      "cell_type": "code",
      "metadata": {
        "id": "3ndM46YSpuDS",
        "colab": {
          "base_uri": "https://localhost:8080/"
        },
        "outputId": "2d5c4a6c-8903-4865-91e1-a393ae47bf51"
      },
      "source": [
        "import numpy as np \n",
        "import pandas as pd \n",
        "import re \n",
        "import nltk \n",
        "from sklearn import preprocessing\n",
        "from sklearn.model_selection import train_test_split\n",
        "from sklearn.feature_extraction.text import CountVectorizer, TfidfVectorizer\n",
        "from sklearn.naive_bayes import MultinomialNB\n",
        "from sklearn.metrics import classification_report\n",
        "\n",
        "from gensim.models.fasttext import FastText\n",
        "from string import punctuation\n",
        "from nltk.tokenize import word_tokenize\n",
        "from nltk.stem import WordNetLemmatizer\n",
        "from nltk.tokenize import sent_tokenize\n",
        "from nltk import WordPunctTokenizer\n",
        "\n",
        "nltk.download('punkt')\n",
        "nltk.download('wordnet')\n",
        "nltk.download('stopwords')\n",
        "en_stop = set(nltk.corpus.stopwords.words('english'))"
      ],
      "execution_count": 1,
      "outputs": [
        {
          "output_type": "stream",
          "text": [
            "[nltk_data] Downloading package punkt to /root/nltk_data...\n",
            "[nltk_data]   Package punkt is already up-to-date!\n",
            "[nltk_data] Downloading package wordnet to /root/nltk_data...\n",
            "[nltk_data]   Package wordnet is already up-to-date!\n",
            "[nltk_data] Downloading package stopwords to /root/nltk_data...\n",
            "[nltk_data]   Package stopwords is already up-to-date!\n"
          ],
          "name": "stdout"
        }
      ]
    },
    {
      "cell_type": "markdown",
      "metadata": {
        "id": "BhB6q0qcxUwz"
      },
      "source": [
        "# Loading Data"
      ]
    },
    {
      "cell_type": "code",
      "metadata": {
        "id": "2mj1sJamqCQe"
      },
      "source": [
        "data = pd.read_csv('/content/drive/MyDrive/MIDAS/1_Post_Data_Analysis_flipkart_com-ecommerce_sample.csv')"
      ],
      "execution_count": 2,
      "outputs": []
    },
    {
      "cell_type": "markdown",
      "metadata": {
        "id": "BC1RF6gFGlpz"
      },
      "source": [
        "Func to preprocess the text"
      ]
    },
    {
      "cell_type": "code",
      "metadata": {
        "id": "dwBzc_7CqFbz"
      },
      "source": [
        "stemmer = WordNetLemmatizer()\n",
        "def preprocess_string(text):\n",
        "    text = re.sub(r'\\W', ' ', str(text)) #conversion of datatype to string\n",
        "    text=re.sub('[^a-z\\s]+',' ',text,flags=re.IGNORECASE) #every char except alphabets is replaced\n",
        "    text=re.sub('(\\s+)',' ',text) #multiple spaces are replaced by single space\n",
        "    text=text.lower() #converting the cleaned string to lower case\n",
        "    tokens = text.split() # splitting based on space\n",
        "    tokens = [stemmer.lemmatize(word) for word in tokens] # lemmatization(any form into root word) of words\n",
        "    tokens = [word for word in tokens if word not in en_stop] # removing Stopwords\n",
        "    tokens = [word for word in tokens if len(word) > 2] # considering words of length greater than 2\n",
        "    preprocessed_text = ' '.join(tokens)  # joining all the processed tokens into sentence\n",
        "    return preprocessed_text # returns the sentence"
      ],
      "execution_count": 3,
      "outputs": []
    },
    {
      "cell_type": "code",
      "metadata": {
        "colab": {
          "base_uri": "https://localhost:8080/",
          "height": 181
        },
        "id": "ocb7euRn1klf",
        "outputId": "c41442ee-3eaa-436a-deed-35c8fa62bcba"
      },
      "source": [
        "data.head(1)"
      ],
      "execution_count": 4,
      "outputs": [
        {
          "output_type": "execute_result",
          "data": {
            "text/html": [
              "<div>\n",
              "<style scoped>\n",
              "    .dataframe tbody tr th:only-of-type {\n",
              "        vertical-align: middle;\n",
              "    }\n",
              "\n",
              "    .dataframe tbody tr th {\n",
              "        vertical-align: top;\n",
              "    }\n",
              "\n",
              "    .dataframe thead th {\n",
              "        text-align: right;\n",
              "    }\n",
              "</style>\n",
              "<table border=\"1\" class=\"dataframe\">\n",
              "  <thead>\n",
              "    <tr style=\"text-align: right;\">\n",
              "      <th></th>\n",
              "      <th>Unnamed: 0</th>\n",
              "      <th>uniq_id</th>\n",
              "      <th>crawl_timestamp</th>\n",
              "      <th>product_url</th>\n",
              "      <th>product_name</th>\n",
              "      <th>product_category_tree</th>\n",
              "      <th>pid</th>\n",
              "      <th>retail_price</th>\n",
              "      <th>discounted_price</th>\n",
              "      <th>image</th>\n",
              "      <th>is_FK_Advantage_product</th>\n",
              "      <th>description</th>\n",
              "      <th>product_rating</th>\n",
              "      <th>overall_rating</th>\n",
              "      <th>brand</th>\n",
              "      <th>product_specifications</th>\n",
              "      <th>crawl_year</th>\n",
              "      <th>Month</th>\n",
              "      <th>cat_level_1</th>\n",
              "      <th>cat_level_2</th>\n",
              "      <th>cat_level_3</th>\n",
              "      <th>cat_level_4</th>\n",
              "      <th>cat_level_5</th>\n",
              "      <th>cat_level_6</th>\n",
              "      <th>discounted_percentage</th>\n",
              "    </tr>\n",
              "  </thead>\n",
              "  <tbody>\n",
              "    <tr>\n",
              "      <th>0</th>\n",
              "      <td>0</td>\n",
              "      <td>c2d766ca982eca8304150849735ffef9</td>\n",
              "      <td>2016-03-25 22:59:23+00:00</td>\n",
              "      <td>http://www.flipkart.com/alisha-solid-women-s-c...</td>\n",
              "      <td>Alisha Solid Women's Cycling Shorts</td>\n",
              "      <td>[\"Clothing &gt;&gt; Women's Clothing &gt;&gt; Lingerie, Sl...</td>\n",
              "      <td>SRTEH2FF9KEDEFGF</td>\n",
              "      <td>999.0</td>\n",
              "      <td>379.0</td>\n",
              "      <td>[\"http://img5a.flixcart.com/image/short/u/4/a/...</td>\n",
              "      <td>False</td>\n",
              "      <td>Key Features of Alisha Solid Women's Cycling S...</td>\n",
              "      <td>No rating available</td>\n",
              "      <td>No rating available</td>\n",
              "      <td>Alisha</td>\n",
              "      <td>{\"product_specification\"=&gt;[{\"key\"=&gt;\"Number of ...</td>\n",
              "      <td>2016</td>\n",
              "      <td>3</td>\n",
              "      <td>Clothing</td>\n",
              "      <td>Women's Clothing</td>\n",
              "      <td>Lingerie, Sleep &amp; Swimwear</td>\n",
              "      <td>Shorts</td>\n",
              "      <td>Alisha Shorts</td>\n",
              "      <td>Alisha Solid Women's Cycling Shorts\"</td>\n",
              "      <td>62.1</td>\n",
              "    </tr>\n",
              "  </tbody>\n",
              "</table>\n",
              "</div>"
            ],
            "text/plain": [
              "   Unnamed: 0  ... discounted_percentage\n",
              "0           0  ...                  62.1\n",
              "\n",
              "[1 rows x 25 columns]"
            ]
          },
          "metadata": {
            "tags": []
          },
          "execution_count": 4
        }
      ]
    },
    {
      "cell_type": "markdown",
      "metadata": {
        "id": "BNYGI_1Eiohf"
      },
      "source": [
        "# Dropping the null values and preprocessing the description column "
      ]
    },
    {
      "cell_type": "code",
      "metadata": {
        "colab": {
          "base_uri": "https://localhost:8080/"
        },
        "id": "R1okN7ZH5aEx",
        "outputId": "90096bcc-fa04-4403-bd9a-bbcc206bbbc3"
      },
      "source": [
        "data['description'].isnull().sum() # sum of null values in 'description' column"
      ],
      "execution_count": 5,
      "outputs": [
        {
          "output_type": "execute_result",
          "data": {
            "text/plain": [
              "2"
            ]
          },
          "metadata": {
            "tags": []
          },
          "execution_count": 5
        }
      ]
    },
    {
      "cell_type": "code",
      "metadata": {
        "id": "YLqzyCDpyq8x"
      },
      "source": [
        "data = data.dropna(subset=['description']) # Dropping the null values of decription rows from the dataset"
      ],
      "execution_count": 6,
      "outputs": []
    },
    {
      "cell_type": "code",
      "metadata": {
        "id": "bsQdJ5UOKx05"
      },
      "source": [
        "data['description'] = data['description'].apply(preprocess_string) # applying the preprocess_string function on description "
      ],
      "execution_count": 7,
      "outputs": []
    },
    {
      "cell_type": "code",
      "metadata": {
        "colab": {
          "base_uri": "https://localhost:8080/"
        },
        "id": "sZ7VwnTOK94P",
        "outputId": "4e6bef1e-7c09-45a4-866e-7d79a48cd9d4"
      },
      "source": [
        "data['description'] # seeing if the preprocessing is done or not"
      ],
      "execution_count": 8,
      "outputs": [
        {
          "output_type": "execute_result",
          "data": {
            "text/plain": [
              "0        key feature alisha solid woman cycling short c...\n",
              "1        fabhomedecor fabric double sofa bed finish col...\n",
              "2        key feature belly sandal wedge heel casuals be...\n",
              "3        key feature alisha solid woman cycling short c...\n",
              "4        specification sicons purpose arnica dog shampo...\n",
              "                               ...                        \n",
              "19995    buy walldesign small vinyl sticker online wall...\n",
              "19996    buy wallmantra large vinyl sticker sticker onl...\n",
              "19997    buy elite collection medium acrylic sticker on...\n",
              "19998    buy elite collection medium acrylic sticker on...\n",
              "19999    buy elite collection medium acrylic sticker on...\n",
              "Name: description, Length: 19998, dtype: object"
            ]
          },
          "metadata": {
            "tags": []
          },
          "execution_count": 8
        }
      ]
    },
    {
      "cell_type": "markdown",
      "metadata": {
        "id": "v1ubYLJnqNon"
      },
      "source": [
        "# Finding unique no. of rows and \"None\" values in each of the 6 splitted categories "
      ]
    },
    {
      "cell_type": "code",
      "metadata": {
        "colab": {
          "base_uri": "https://localhost:8080/",
          "height": 181
        },
        "id": "q3__hW3DdDkq",
        "outputId": "13d3fc15-9bf8-4ab8-b16d-bc0118530054"
      },
      "source": [
        "data.head(1)"
      ],
      "execution_count": 9,
      "outputs": [
        {
          "output_type": "execute_result",
          "data": {
            "text/html": [
              "<div>\n",
              "<style scoped>\n",
              "    .dataframe tbody tr th:only-of-type {\n",
              "        vertical-align: middle;\n",
              "    }\n",
              "\n",
              "    .dataframe tbody tr th {\n",
              "        vertical-align: top;\n",
              "    }\n",
              "\n",
              "    .dataframe thead th {\n",
              "        text-align: right;\n",
              "    }\n",
              "</style>\n",
              "<table border=\"1\" class=\"dataframe\">\n",
              "  <thead>\n",
              "    <tr style=\"text-align: right;\">\n",
              "      <th></th>\n",
              "      <th>Unnamed: 0</th>\n",
              "      <th>uniq_id</th>\n",
              "      <th>crawl_timestamp</th>\n",
              "      <th>product_url</th>\n",
              "      <th>product_name</th>\n",
              "      <th>product_category_tree</th>\n",
              "      <th>pid</th>\n",
              "      <th>retail_price</th>\n",
              "      <th>discounted_price</th>\n",
              "      <th>image</th>\n",
              "      <th>is_FK_Advantage_product</th>\n",
              "      <th>description</th>\n",
              "      <th>product_rating</th>\n",
              "      <th>overall_rating</th>\n",
              "      <th>brand</th>\n",
              "      <th>product_specifications</th>\n",
              "      <th>crawl_year</th>\n",
              "      <th>Month</th>\n",
              "      <th>cat_level_1</th>\n",
              "      <th>cat_level_2</th>\n",
              "      <th>cat_level_3</th>\n",
              "      <th>cat_level_4</th>\n",
              "      <th>cat_level_5</th>\n",
              "      <th>cat_level_6</th>\n",
              "      <th>discounted_percentage</th>\n",
              "    </tr>\n",
              "  </thead>\n",
              "  <tbody>\n",
              "    <tr>\n",
              "      <th>0</th>\n",
              "      <td>0</td>\n",
              "      <td>c2d766ca982eca8304150849735ffef9</td>\n",
              "      <td>2016-03-25 22:59:23+00:00</td>\n",
              "      <td>http://www.flipkart.com/alisha-solid-women-s-c...</td>\n",
              "      <td>Alisha Solid Women's Cycling Shorts</td>\n",
              "      <td>[\"Clothing &gt;&gt; Women's Clothing &gt;&gt; Lingerie, Sl...</td>\n",
              "      <td>SRTEH2FF9KEDEFGF</td>\n",
              "      <td>999.0</td>\n",
              "      <td>379.0</td>\n",
              "      <td>[\"http://img5a.flixcart.com/image/short/u/4/a/...</td>\n",
              "      <td>False</td>\n",
              "      <td>key feature alisha solid woman cycling short c...</td>\n",
              "      <td>No rating available</td>\n",
              "      <td>No rating available</td>\n",
              "      <td>Alisha</td>\n",
              "      <td>{\"product_specification\"=&gt;[{\"key\"=&gt;\"Number of ...</td>\n",
              "      <td>2016</td>\n",
              "      <td>3</td>\n",
              "      <td>Clothing</td>\n",
              "      <td>Women's Clothing</td>\n",
              "      <td>Lingerie, Sleep &amp; Swimwear</td>\n",
              "      <td>Shorts</td>\n",
              "      <td>Alisha Shorts</td>\n",
              "      <td>Alisha Solid Women's Cycling Shorts\"</td>\n",
              "      <td>62.1</td>\n",
              "    </tr>\n",
              "  </tbody>\n",
              "</table>\n",
              "</div>"
            ],
            "text/plain": [
              "   Unnamed: 0  ... discounted_percentage\n",
              "0           0  ...                  62.1\n",
              "\n",
              "[1 rows x 25 columns]"
            ]
          },
          "metadata": {
            "tags": []
          },
          "execution_count": 9
        }
      ]
    },
    {
      "cell_type": "code",
      "metadata": {
        "colab": {
          "base_uri": "https://localhost:8080/"
        },
        "id": "zW7tsSqiqbOs",
        "outputId": "fa7cd21b-20e5-4bb3-c584-d2561703366f"
      },
      "source": [
        "# print(data['cat_level_1'].value_counts().to_dict()) # printing the dict of uniques values in cat_level_1\n",
        "print(len(data['cat_level_1'].value_counts())) # len of unique values\n",
        "len(data[data['cat_level_1']=='None'])   #len of None values"
      ],
      "execution_count": 10,
      "outputs": [
        {
          "output_type": "stream",
          "text": [
            "266\n"
          ],
          "name": "stdout"
        },
        {
          "output_type": "execute_result",
          "data": {
            "text/plain": [
              "0"
            ]
          },
          "metadata": {
            "tags": []
          },
          "execution_count": 10
        }
      ]
    },
    {
      "cell_type": "markdown",
      "metadata": {
        "id": "0IKbKb1y2cEg"
      },
      "source": [
        "Category level 1 contains 266 labels and 0 None values"
      ]
    },
    {
      "cell_type": "code",
      "metadata": {
        "colab": {
          "base_uri": "https://localhost:8080/"
        },
        "id": "jrl24l6wqfM9",
        "outputId": "d9bff564-614c-4d8a-e61a-ea414d21d70a"
      },
      "source": [
        "# print(data['cat_level_2'].value_counts().to_dict())\n",
        "print(len(data['cat_level_2'].value_counts()))\n",
        "len(data[data['cat_level_2']=='None'])"
      ],
      "execution_count": 11,
      "outputs": [
        {
          "output_type": "stream",
          "text": [
            "224\n"
          ],
          "name": "stdout"
        },
        {
          "output_type": "execute_result",
          "data": {
            "text/plain": [
              "328"
            ]
          },
          "metadata": {
            "tags": []
          },
          "execution_count": 11
        }
      ]
    },
    {
      "cell_type": "markdown",
      "metadata": {
        "id": "HvnKi_xw2mRX"
      },
      "source": [
        "Category level 2 contains 224 labels but 328 \"None\" values"
      ]
    },
    {
      "cell_type": "code",
      "metadata": {
        "colab": {
          "base_uri": "https://localhost:8080/"
        },
        "id": "LOzBDfRWqmIE",
        "outputId": "4750be18-457a-44d9-81e3-21c1cd428af2"
      },
      "source": [
        "# print(data['cat_level_3'].value_counts().to_dict())\n",
        "print(len(data['cat_level_3'].value_counts()))\n",
        "len(data[data['cat_level_3']=='None'])"
      ],
      "execution_count": 12,
      "outputs": [
        {
          "output_type": "stream",
          "text": [
            "900\n"
          ],
          "name": "stdout"
        },
        {
          "output_type": "execute_result",
          "data": {
            "text/plain": [
              "1457"
            ]
          },
          "metadata": {
            "tags": []
          },
          "execution_count": 12
        }
      ]
    },
    {
      "cell_type": "markdown",
      "metadata": {
        "id": "xbu-y6DJ2zXb"
      },
      "source": [
        "Category level 3 contains 900 labels and about 1457 \"None\" values"
      ]
    },
    {
      "cell_type": "code",
      "metadata": {
        "colab": {
          "base_uri": "https://localhost:8080/"
        },
        "id": "Zq50b-zgqqxK",
        "outputId": "9892e7fc-7c59-44da-ff16-6d4f10834468"
      },
      "source": [
        "# print(data['cat_level_4'].value_counts().to_dict())\n",
        "print(len(data['cat_level_4'].value_counts()))\n",
        "len(data[data['cat_level_4']=='None'])"
      ],
      "execution_count": 13,
      "outputs": [
        {
          "output_type": "stream",
          "text": [
            "2372\n"
          ],
          "name": "stdout"
        },
        {
          "output_type": "execute_result",
          "data": {
            "text/plain": [
              "5875"
            ]
          },
          "metadata": {
            "tags": []
          },
          "execution_count": 13
        }
      ]
    },
    {
      "cell_type": "markdown",
      "metadata": {
        "id": "BCJ62I4V3JGk"
      },
      "source": [
        "Category level 4 contains 2372 labels and about 1/4th \"None\" values of given data"
      ]
    },
    {
      "cell_type": "code",
      "metadata": {
        "id": "lp0nuG8Yqw6Z",
        "colab": {
          "base_uri": "https://localhost:8080/"
        },
        "outputId": "6a42b31e-f39a-4e25-e58a-4d5b3b90ee52"
      },
      "source": [
        "# print(data['cat_level_5'].value_counts().to_dict())\n",
        "print(len(data['cat_level_5'].value_counts()))\n",
        "len(data[data['cat_level_5']=='None'])"
      ],
      "execution_count": 14,
      "outputs": [
        {
          "output_type": "stream",
          "text": [
            "2638\n"
          ],
          "name": "stdout"
        },
        {
          "output_type": "execute_result",
          "data": {
            "text/plain": [
              "10641"
            ]
          },
          "metadata": {
            "tags": []
          },
          "execution_count": 14
        }
      ]
    },
    {
      "cell_type": "markdown",
      "metadata": {
        "id": "kQRVKtAj3dFf"
      },
      "source": [
        "Category level 4 contains 2638 labels and about half \"None\" values of given data. So we can reject this for considering as primary label."
      ]
    },
    {
      "cell_type": "markdown",
      "metadata": {
        "id": "LnNF355brHGL"
      },
      "source": [
        "# Prediction of level 1 category with 266 labels\n",
        "\n"
      ]
    },
    {
      "cell_type": "markdown",
      "metadata": {
        "id": "sabpynzF6s-o"
      },
      "source": [
        "*   As there are lot of labels and \"None\" values in other levels of category. \n",
        "*   Considering Level 1 Category as Primary Category works here.\n",
        "\n"
      ]
    },
    {
      "cell_type": "code",
      "metadata": {
        "id": "7ycuxjgyq44G"
      },
      "source": [
        "# Primary Category processing.\n",
        "# Considering all the 266 labels to perform prediction\n",
        "sort_level_1 = list(data.groupby('cat_level_1').count().sort_values(by='uniq_id',ascending=False).index) \n",
        "# Selecting only relevant columns that is cat_level_1 and description\n",
        "processed_df = data[data['cat_level_1'].isin(sort_level_1)][['cat_level_1','description']]\n",
        "# # Cleaning strings\n",
        "processed_df['description'] = processed_df['description'].astype('str').apply(preprocess_string)\n",
        "# Using LabelEncoder Encoding target labels with value between 0 and 265\n",
        "le = preprocessing.LabelEncoder()\n",
        "category_encoded=le.fit_transform(processed_df['cat_level_1'])\n",
        "processed_df['cat_level_1'] = category_encoded"
      ],
      "execution_count": 15,
      "outputs": []
    },
    {
      "cell_type": "code",
      "metadata": {
        "id": "Lh1LDgbxrMm9"
      },
      "source": [
        "X_train, X_test, y_train, y_test = train_test_split(processed_df['description'],processed_df['cat_level_1'],test_size=0.2)"
      ],
      "execution_count": 16,
      "outputs": []
    },
    {
      "cell_type": "code",
      "metadata": {
        "id": "SfExioRErRhv",
        "colab": {
          "base_uri": "https://localhost:8080/"
        },
        "outputId": "64798e4c-25f4-4724-d4f1-ab2e87f00d7a"
      },
      "source": [
        "vect = CountVectorizer(stop_words = 'english')\n",
        "X_train_matrix = vect.fit_transform(X_train) \n",
        "\n",
        "clf=MultinomialNB()  # Defining model\n",
        "clf.fit(X_train_matrix, y_train)   # Training multinomial NB model \n",
        "print(clf.score(X_train_matrix, y_train)*100)   # Scoring the trained model \n",
        "X_test_matrix = vect.transform(X_test)  # Converting the test data\n",
        "print (clf.score(X_test_matrix, y_test)*100)   # Scoring for the test data\n",
        "predicted_result=clf.predict(X_test_matrix) \n",
        "print(classification_report(y_test,predicted_result)) "
      ],
      "execution_count": 17,
      "outputs": [
        {
          "output_type": "stream",
          "text": [
            "93.66170771346418\n",
            "91.77499999999999\n",
            "              precision    recall  f1-score   support\n",
            "\n",
            "           5       0.00      0.00      0.00         1\n",
            "           9       0.00      0.00      0.00         1\n",
            "          10       0.00      0.00      0.00         1\n",
            "          21       0.91      1.00      0.95       221\n",
            "          22       0.00      0.00      0.00         1\n",
            "          26       0.84      0.67      0.75        94\n",
            "          27       0.71      0.51      0.59        53\n",
            "          28       0.00      0.00      0.00         1\n",
            "          29       0.83      0.92      0.87       128\n",
            "          30       0.00      0.00      0.00         1\n",
            "          33       0.00      0.00      0.00         1\n",
            "          37       1.00      0.15      0.27        13\n",
            "          43       0.97      0.99      0.98      1262\n",
            "          45       0.00      0.00      0.00         1\n",
            "          47       0.00      0.00      0.00         3\n",
            "          48       0.84      0.75      0.79       113\n",
            "          53       0.00      0.00      0.00         1\n",
            "          54       0.00      0.00      0.00         1\n",
            "          56       0.00      0.00      0.00         1\n",
            "          58       0.00      0.00      0.00         1\n",
            "          64       0.00      0.00      0.00         1\n",
            "          65       0.00      0.00      0.00         2\n",
            "          69       0.00      0.00      0.00         1\n",
            "          71       0.00      0.00      0.00         1\n",
            "          74       0.96      0.99      0.97       226\n",
            "          76       0.93      0.96      0.95        28\n",
            "          77       0.00      0.00      0.00         1\n",
            "          79       0.71      0.83      0.77         6\n",
            "          81       0.00      0.00      0.00         1\n",
            "          84       1.00      0.44      0.62         9\n",
            "          86       1.00      0.14      0.25         7\n",
            "          87       0.91      0.98      0.94       199\n",
            "          88       0.00      0.00      0.00         5\n",
            "          89       0.87      0.98      0.92       141\n",
            "          90       0.75      0.40      0.52        15\n",
            "          91       1.00      1.00      1.00         1\n",
            "          93       0.00      0.00      0.00         1\n",
            "          95       0.00      0.00      0.00         1\n",
            "          97       0.00      0.00      0.00         1\n",
            "          99       0.88      1.00      0.94       695\n",
            "         104       0.00      0.00      0.00         1\n",
            "         106       0.97      0.86      0.91       133\n",
            "         110       0.00      0.00      0.00         1\n",
            "         112       0.00      0.00      0.00         1\n",
            "         113       0.00      0.00      0.00         1\n",
            "         122       0.00      0.00      0.00         2\n",
            "         127       0.00      0.00      0.00         1\n",
            "         128       0.00      0.00      0.00         1\n",
            "         131       0.97      0.93      0.95       232\n",
            "         138       0.00      0.00      0.00         1\n",
            "         141       0.00      0.00      0.00         1\n",
            "         143       0.00      0.00      0.00         1\n",
            "         144       0.00      0.00      0.00         1\n",
            "         145       0.00      0.00      0.00         1\n",
            "         147       0.00      0.00      0.00         1\n",
            "         149       0.00      0.00      0.00         1\n",
            "         150       0.00      0.00      0.00         1\n",
            "         151       0.89      0.48      0.63        66\n",
            "         152       1.00      0.86      0.92         7\n",
            "         166       0.00      0.00      0.00         1\n",
            "         167       0.00      0.00      0.00         1\n",
            "         174       0.00      0.00      0.00         1\n",
            "         185       0.00      0.00      0.00         1\n",
            "         191       0.00      0.00      0.00         1\n",
            "         192       0.00      0.00      0.00         1\n",
            "         202       0.00      0.00      0.00         1\n",
            "         204       0.00      0.00      0.00         1\n",
            "         205       0.95      0.50      0.65        36\n",
            "         211       0.00      0.00      0.00         1\n",
            "         212       0.69      1.00      0.82         9\n",
            "         215       0.00      0.00      0.00         1\n",
            "         220       0.00      0.00      0.00         1\n",
            "         223       0.00      0.00      0.00         1\n",
            "         225       0.86      0.92      0.89        72\n",
            "         226       0.72      0.89      0.80        53\n",
            "         229       0.00      0.00      0.00         1\n",
            "         233       0.00      0.00      0.00         1\n",
            "         238       0.00      0.00      0.00         2\n",
            "         241       0.95      0.99      0.97       109\n",
            "         242       0.00      0.00      0.00         1\n",
            "         244       0.00      0.00      0.00         1\n",
            "         246       0.00      0.00      0.00         1\n",
            "         250       0.00      0.00      0.00         1\n",
            "         254       0.00      0.00      0.00         1\n",
            "         255       1.00      1.00      1.00         1\n",
            "         258       0.00      0.00      0.00         1\n",
            "         259       0.00      0.00      0.00         1\n",
            "         262       0.00      0.00      0.00         1\n",
            "         265       0.00      0.00      0.00         1\n",
            "\n",
            "    accuracy                           0.92      4000\n",
            "   macro avg       0.27      0.24      0.24      4000\n",
            "weighted avg       0.90      0.92      0.90      4000\n",
            "\n"
          ],
          "name": "stdout"
        },
        {
          "output_type": "stream",
          "text": [
            "/usr/local/lib/python3.7/dist-packages/sklearn/metrics/_classification.py:1272: UndefinedMetricWarning: Precision and F-score are ill-defined and being set to 0.0 in labels with no predicted samples. Use `zero_division` parameter to control this behavior.\n",
            "  _warn_prf(average, modifier, msg_start, len(result))\n"
          ],
          "name": "stderr"
        }
      ]
    },
    {
      "cell_type": "markdown",
      "metadata": {
        "id": "jwMWR_zwu4I_"
      },
      "source": [
        "# Cleaning cat_level_1\n",
        "*   These lists contains a keywords from the labels to be clubbed to get 27 labels\n",
        "*   This work is done manually looking at the primary column\n",
        "\n",
        "\n",
        "---\n",
        "\n",
        "\n",
        "Relabeling the cat_level_1 into 27 labels"
      ]
    },
    {
      "cell_type": "code",
      "metadata": {
        "id": "6U6j_4iRsbRC"
      },
      "source": [
        "Clothing = ['Socks','Jeans','Viscose ','Top','Kurta','Bra','Blazer','Shorts','Gloves','Lingerie','Sweater','Jacket','Trousers','Jumpsuit','Brief','Cotton','Creations',\n",
        "            'T-Shirt','Camisole',\"Bottom\",'Leggings','Stole','Boxer','Cufflink','Round Neck','Dress','Sari','Vest','Panty','Semi-stitched','Neck','Silk','Girls','Sleeve','Kurti','Printed']\n",
        "Sunglasses =['Eyewear','Sunglasses']\n",
        "Jewellery = ['Jewels','Rings','Bangle','Swarovski']\n",
        "Bags_Wallets_Belts = ['Clutch','Pouch','Backpack','Zixtro']\n",
        "Footwear = ['Flats','Bellies','Shoes','Slippers','Wedges','Lace','Shoes,']\n",
        "Automotive = ['Hyundai','horn','Car','Mirror','Side','Stand', 'Automation', 'Enfield', 'Bajaj', 'Renault', 'Vehicles','Maruti','Arm','Honda','BikerZ']\n",
        "Pens_Stationery = ['Pen','Notebook', 'Paper', 'Compartments']\n",
        "Kitchen_Dining = ['Bowl', 'Cooler','Oddy','Grocery','Glass']\n",
        "Computers = ['Keyboard', 'Sound','Mixer','Surge']\n",
        "Home_Furnishing = ['Floor','Mat','Table','Cover','Furnishing']\n",
        "Furniture = ['Mattress', 'Sofa']\n",
        "Beauty_and_Personal_Care = ['Boreal', 'Roller', 'Brush','Foundation', 'Hair', 'Band', 'Clip','Wella','Shaving']\n",
        "Home_Decor_Festive_Needs = ['Tapestry', 'Plant', 'Showpiece', 'Lantern', 'Seed', 'Candle', 'Herb','Fragrance','Sugandh']\n",
        "Health_Personal_Care_Appliances = ['Hair','Dryer', 'Nail' ,'Cutter','Nutrition']\n",
        "Baby_Care = ['Walker']\n",
        "Sports_Fitness = ['Thigh','Guard','Toe']\n",
        "Cameras_Accessories = ['Binoculars','Vanguard','Pia']\n",
        "Gaming = ['Game']\n",
        "Mobiles = ['Headset', 'Tablet','Samsung','Blackberry','Planet','Charging']\n",
        "tools = ['PUMP','Dremel','Betagard']\n",
        "Home_Kitchen = ['Water']\n",
        "Home_Improvement = ['BuildTrack','Cartridge','Household','Faucet']\n",
        "Watches = ['Wearable']"
      ],
      "execution_count": 18,
      "outputs": []
    },
    {
      "cell_type": "markdown",
      "metadata": {
        "id": "-lhamPPViXwY"
      },
      "source": [
        "This 3031 could not be clubbed with any of the primary category so dropping it"
      ]
    },
    {
      "cell_type": "code",
      "metadata": {
        "id": "16RhFyr_s9TB"
      },
      "source": [
        "data = data.drop(3031, axis=0) # this is the only unclubbed row into 27 labels "
      ],
      "execution_count": 19,
      "outputs": []
    },
    {
      "cell_type": "markdown",
      "metadata": {
        "id": "HrWZEru-iyPI"
      },
      "source": [
        "Renaming the labels \n",
        "*   In Primary category there are about 266 labels.\n",
        "*   Renaming the labels which has only one item to appropriate labels.\n",
        "*   At last, we will remain with 27 main labels."
      ]
    },
    {
      "cell_type": "code",
      "metadata": {
        "id": "d0sXE9RiXM1h"
      },
      "source": [
        "for i,row in data.iterrows():\n",
        "    sentence = row['cat_level_1']\n",
        "    x = str(sentence).replace('\"',' ')\n",
        "    y = str(x).replace(']',' ')\n",
        "    words = x.split()\n",
        "    for j in words:\n",
        "      if j in Clothing:\n",
        "        data.loc[i,'cat_level_1_v2'] = 'Clothing'\n",
        "        break\n",
        "      elif j in Sunglasses:\n",
        "        data.loc[i,'cat_level_1_v2'] = 'Sunglasses'\n",
        "        break\n",
        "      elif j in Jewellery:\n",
        "        data.loc[i,'cat_level_1_v2'] = 'Jewellery'\n",
        "        break\n",
        "      elif j in Bags_Wallets_Belts:\n",
        "        data.loc[i,'cat_level_1_v2'] = 'Bags, Wallets & Belts'\n",
        "        break\n",
        "      elif j in Footwear:\n",
        "        data.loc[i,'cat_level_1_v2'] = 'Footwear'\n",
        "        break\n",
        "      elif j in Automotive:\n",
        "        data.loc[i,'cat_level_1_v2'] = 'Automotive'\n",
        "        break\n",
        "      elif j in Pens_Stationery:\n",
        "        data.loc[i,'cat_level_1_v2'] = 'Pens & Stationery'\n",
        "        break\n",
        "      elif j in Kitchen_Dining:\n",
        "        data.loc[i,'cat_level_1_v2'] = 'Kitchen & Dining'\n",
        "        break\n",
        "      elif j in Computers:\n",
        "        data.loc[i,'cat_level_1_v2'] = 'Computers'\n",
        "        break\n",
        "      elif j in Home_Furnishing:\n",
        "        data.loc[i,'cat_level_1_v2'] = 'Home Furnishing'\n",
        "        break\n",
        "      elif j in Furniture:\n",
        "        data.loc[i,'cat_level_1_v2'] = 'Furniture'\n",
        "        break\n",
        "      elif j in Beauty_and_Personal_Care:\n",
        "        data.loc[i,'cat_level_1_v2'] = 'Beauty and Personal Care'\n",
        "        break\n",
        "      elif j in Home_Decor_Festive_Needs:\n",
        "        data.loc[i,'cat_level_1_v2'] = 'Home Decor & Festive Needs'\n",
        "        break\n",
        "      elif j in Health_Personal_Care_Appliances:\n",
        "        data.loc[i,'cat_level_1_v2'] = 'Health & Personal Care Appliances'\n",
        "        break\n",
        "      elif j in Baby_Care:\n",
        "        data.loc[i,'cat_level_1_v2'] = 'Baby Care'\n",
        "        break\n",
        "      elif j in Sports_Fitness:\n",
        "        data.loc[i,'cat_level_1_v2'] = 'Sports & Fitness'\n",
        "        break\n",
        "      elif j in Cameras_Accessories:\n",
        "        data.loc[i,'cat_level_1_v2'] = 'Cameras & Accessories'\n",
        "        break\n",
        "      elif j in Gaming:\n",
        "        data.loc[i,'cat_level_1_v2'] = 'Gaming'\n",
        "        break\n",
        "      elif j in Mobiles:\n",
        "        data.loc[i,'cat_level_1_v2'] = 'Mobiles & Accessories'\n",
        "        break\n",
        "      elif j in tools:\n",
        "        data.loc[i,'cat_level_1_v2'] = 'Tools & Hardware'\n",
        "        break\n",
        "      elif j in Home_Kitchen:\n",
        "        data.loc[i,'cat_level_1_v2'] = 'Home & Kitchen'\n",
        "        break\n",
        "      elif j in Home_Improvement:\n",
        "        data.loc[i,'cat_level_1_v2'] = 'Home Improvement'\n",
        "        break\n",
        "      elif j in Watches:\n",
        "        data.loc[i,'cat_level_1_v2'] = 'Watches'\n",
        "        break\n",
        "      else:\n",
        "        data.loc[i,'cat_level_1_v2'] = row['cat_level_1']"
      ],
      "execution_count": 20,
      "outputs": []
    },
    {
      "cell_type": "code",
      "metadata": {
        "colab": {
          "base_uri": "https://localhost:8080/"
        },
        "id": "HjzvmTUPOSoY",
        "outputId": "1c6cb3fa-5e42-49ab-c989-47cbdbe299d0"
      },
      "source": [
        "print(data['cat_level_1_v2'].value_counts().to_dict())\n",
        "print(len(data['cat_level_1_v2'].value_counts()))\n",
        "len(data[data['cat_level_1_v2']=='None'])"
      ],
      "execution_count": 21,
      "outputs": [
        {
          "output_type": "stream",
          "text": [
            "{'Clothing': 6341, 'Jewellery': 3545, 'Footwear': 1263, 'Mobiles & Accessories': 1110, 'Automotive': 1029, 'Home Decor & Festive Needs': 941, 'Beauty and Personal Care': 721, 'Home Furnishing': 707, 'Kitchen & Dining': 653, 'Computers': 582, 'Watches': 532, 'Baby Care': 484, 'Tools & Hardware': 395, 'Toys & School Supplies': 330, 'Pens & Stationery': 322, 'Bags, Wallets & Belts': 278, 'Furniture': 182, 'Sports & Fitness': 168, 'Cameras & Accessories': 88, 'Home Improvement': 88, 'Sunglasses': 67, 'Health & Personal Care Appliances': 46, 'Gaming': 36, 'Pet Supplies': 30, 'Home & Kitchen': 25, 'Home Entertainment': 19, 'eBooks': 15}\n",
            "27\n"
          ],
          "name": "stdout"
        },
        {
          "output_type": "execute_result",
          "data": {
            "text/plain": [
              "0"
            ]
          },
          "metadata": {
            "tags": []
          },
          "execution_count": 21
        }
      ]
    },
    {
      "cell_type": "code",
      "metadata": {
        "id": "if3wt_LYNEE2"
      },
      "source": [
        "data.rename(columns = {'cat_level_1_v2': 'primary_category'}, inplace = True)"
      ],
      "execution_count": 22,
      "outputs": []
    },
    {
      "cell_type": "markdown",
      "metadata": {
        "id": "-BT1Rx7phCxe"
      },
      "source": [
        "# Required Data for Implementation"
      ]
    },
    {
      "cell_type": "code",
      "metadata": {
        "id": "KECVC3DHW7ua"
      },
      "source": [
        "load_data = data[['uniq_id','description','primary_category']]"
      ],
      "execution_count": 23,
      "outputs": []
    },
    {
      "cell_type": "markdown",
      "metadata": {
        "id": "WolAuxyFxmHP"
      },
      "source": [
        "# Saving the Cleaned and Processed Dataset"
      ]
    },
    {
      "cell_type": "code",
      "metadata": {
        "id": "AiLnmJiLJC3q"
      },
      "source": [
        "load_data.to_csv('/content/drive/MyDrive/MIDAS/2_cleaned_flipkart_com_ecommerce_sample.csv')"
      ],
      "execution_count": 24,
      "outputs": []
    },
    {
      "cell_type": "markdown",
      "metadata": {
        "id": "Pl09DYExirfO"
      },
      "source": [
        "# Data preparation for CNN model"
      ]
    },
    {
      "cell_type": "code",
      "metadata": {
        "id": "pmEV3ZGvk_G8"
      },
      "source": [
        "product = pd.read_csv(\"/content/drive/MyDrive/MIDAS/2_cleaned_flipkart_com_ecommerce_sample.csv\")"
      ],
      "execution_count": 25,
      "outputs": []
    },
    {
      "cell_type": "code",
      "metadata": {
        "id": "OhxyHlRLWBEC",
        "colab": {
          "base_uri": "https://localhost:8080/",
          "height": 402
        },
        "outputId": "ee8827dc-c7a3-45a9-8681-2d4344d26052"
      },
      "source": [
        "product"
      ],
      "execution_count": 26,
      "outputs": [
        {
          "output_type": "execute_result",
          "data": {
            "text/html": [
              "<div>\n",
              "<style scoped>\n",
              "    .dataframe tbody tr th:only-of-type {\n",
              "        vertical-align: middle;\n",
              "    }\n",
              "\n",
              "    .dataframe tbody tr th {\n",
              "        vertical-align: top;\n",
              "    }\n",
              "\n",
              "    .dataframe thead th {\n",
              "        text-align: right;\n",
              "    }\n",
              "</style>\n",
              "<table border=\"1\" class=\"dataframe\">\n",
              "  <thead>\n",
              "    <tr style=\"text-align: right;\">\n",
              "      <th></th>\n",
              "      <th>Unnamed: 0</th>\n",
              "      <th>uniq_id</th>\n",
              "      <th>description</th>\n",
              "      <th>primary_category</th>\n",
              "    </tr>\n",
              "  </thead>\n",
              "  <tbody>\n",
              "    <tr>\n",
              "      <th>0</th>\n",
              "      <td>0</td>\n",
              "      <td>c2d766ca982eca8304150849735ffef9</td>\n",
              "      <td>key feature alisha solid woman cycling short c...</td>\n",
              "      <td>Clothing</td>\n",
              "    </tr>\n",
              "    <tr>\n",
              "      <th>1</th>\n",
              "      <td>1</td>\n",
              "      <td>7f7036a6d550aaa89d34c77bd39a5e48</td>\n",
              "      <td>fabhomedecor fabric double sofa bed finish col...</td>\n",
              "      <td>Furniture</td>\n",
              "    </tr>\n",
              "    <tr>\n",
              "      <th>2</th>\n",
              "      <td>2</td>\n",
              "      <td>f449ec65dcbc041b6ae5e6a32717d01b</td>\n",
              "      <td>key feature belly sandal wedge heel casuals be...</td>\n",
              "      <td>Footwear</td>\n",
              "    </tr>\n",
              "    <tr>\n",
              "      <th>3</th>\n",
              "      <td>3</td>\n",
              "      <td>0973b37acd0c664e3de26e97e5571454</td>\n",
              "      <td>key feature alisha solid woman cycling short c...</td>\n",
              "      <td>Clothing</td>\n",
              "    </tr>\n",
              "    <tr>\n",
              "      <th>4</th>\n",
              "      <td>4</td>\n",
              "      <td>bc940ea42ee6bef5ac7cea3fb5cfbee7</td>\n",
              "      <td>specification sicons purpose arnica dog shampo...</td>\n",
              "      <td>Pet Supplies</td>\n",
              "    </tr>\n",
              "    <tr>\n",
              "      <th>...</th>\n",
              "      <td>...</td>\n",
              "      <td>...</td>\n",
              "      <td>...</td>\n",
              "      <td>...</td>\n",
              "    </tr>\n",
              "    <tr>\n",
              "      <th>19992</th>\n",
              "      <td>19995</td>\n",
              "      <td>7179d2f6c4ad50a17d014ca1d2815156</td>\n",
              "      <td>buy walldesign small vinyl sticker online wall...</td>\n",
              "      <td>Baby Care</td>\n",
              "    </tr>\n",
              "    <tr>\n",
              "      <th>19993</th>\n",
              "      <td>19996</td>\n",
              "      <td>71ac419198359d37b8fe5e3fffdfee09</td>\n",
              "      <td>buy wallmantra large vinyl sticker sticker onl...</td>\n",
              "      <td>Baby Care</td>\n",
              "    </tr>\n",
              "    <tr>\n",
              "      <th>19994</th>\n",
              "      <td>19997</td>\n",
              "      <td>93e9d343837400ce0d7980874ece471c</td>\n",
              "      <td>buy elite collection medium acrylic sticker on...</td>\n",
              "      <td>Baby Care</td>\n",
              "    </tr>\n",
              "    <tr>\n",
              "      <th>19995</th>\n",
              "      <td>19998</td>\n",
              "      <td>669e79b8fa5d9ae020841c0c97d5e935</td>\n",
              "      <td>buy elite collection medium acrylic sticker on...</td>\n",
              "      <td>Baby Care</td>\n",
              "    </tr>\n",
              "    <tr>\n",
              "      <th>19996</th>\n",
              "      <td>19999</td>\n",
              "      <td>cb4fa87a874f715fff567f7b7b3be79c</td>\n",
              "      <td>buy elite collection medium acrylic sticker on...</td>\n",
              "      <td>Baby Care</td>\n",
              "    </tr>\n",
              "  </tbody>\n",
              "</table>\n",
              "<p>19997 rows × 4 columns</p>\n",
              "</div>"
            ],
            "text/plain": [
              "       Unnamed: 0  ... primary_category\n",
              "0               0  ...         Clothing\n",
              "1               1  ...        Furniture\n",
              "2               2  ...         Footwear\n",
              "3               3  ...         Clothing\n",
              "4               4  ...     Pet Supplies\n",
              "...           ...  ...              ...\n",
              "19992       19995  ...        Baby Care\n",
              "19993       19996  ...        Baby Care\n",
              "19994       19997  ...        Baby Care\n",
              "19995       19998  ...        Baby Care\n",
              "19996       19999  ...        Baby Care\n",
              "\n",
              "[19997 rows x 4 columns]"
            ]
          },
          "metadata": {
            "tags": []
          },
          "execution_count": 26
        }
      ]
    },
    {
      "cell_type": "code",
      "metadata": {
        "id": "dpqozd1s-Hsa"
      },
      "source": [
        "desc = product[['uniq_id','description']]"
      ],
      "execution_count": 27,
      "outputs": []
    },
    {
      "cell_type": "code",
      "metadata": {
        "colab": {
          "base_uri": "https://localhost:8080/",
          "height": 402
        },
        "id": "mtjd00NB_Frm",
        "outputId": "948c2725-9e8c-4c41-8a31-95671cc198de"
      },
      "source": [
        "desc"
      ],
      "execution_count": 28,
      "outputs": [
        {
          "output_type": "execute_result",
          "data": {
            "text/html": [
              "<div>\n",
              "<style scoped>\n",
              "    .dataframe tbody tr th:only-of-type {\n",
              "        vertical-align: middle;\n",
              "    }\n",
              "\n",
              "    .dataframe tbody tr th {\n",
              "        vertical-align: top;\n",
              "    }\n",
              "\n",
              "    .dataframe thead th {\n",
              "        text-align: right;\n",
              "    }\n",
              "</style>\n",
              "<table border=\"1\" class=\"dataframe\">\n",
              "  <thead>\n",
              "    <tr style=\"text-align: right;\">\n",
              "      <th></th>\n",
              "      <th>uniq_id</th>\n",
              "      <th>description</th>\n",
              "    </tr>\n",
              "  </thead>\n",
              "  <tbody>\n",
              "    <tr>\n",
              "      <th>0</th>\n",
              "      <td>c2d766ca982eca8304150849735ffef9</td>\n",
              "      <td>key feature alisha solid woman cycling short c...</td>\n",
              "    </tr>\n",
              "    <tr>\n",
              "      <th>1</th>\n",
              "      <td>7f7036a6d550aaa89d34c77bd39a5e48</td>\n",
              "      <td>fabhomedecor fabric double sofa bed finish col...</td>\n",
              "    </tr>\n",
              "    <tr>\n",
              "      <th>2</th>\n",
              "      <td>f449ec65dcbc041b6ae5e6a32717d01b</td>\n",
              "      <td>key feature belly sandal wedge heel casuals be...</td>\n",
              "    </tr>\n",
              "    <tr>\n",
              "      <th>3</th>\n",
              "      <td>0973b37acd0c664e3de26e97e5571454</td>\n",
              "      <td>key feature alisha solid woman cycling short c...</td>\n",
              "    </tr>\n",
              "    <tr>\n",
              "      <th>4</th>\n",
              "      <td>bc940ea42ee6bef5ac7cea3fb5cfbee7</td>\n",
              "      <td>specification sicons purpose arnica dog shampo...</td>\n",
              "    </tr>\n",
              "    <tr>\n",
              "      <th>...</th>\n",
              "      <td>...</td>\n",
              "      <td>...</td>\n",
              "    </tr>\n",
              "    <tr>\n",
              "      <th>19992</th>\n",
              "      <td>7179d2f6c4ad50a17d014ca1d2815156</td>\n",
              "      <td>buy walldesign small vinyl sticker online wall...</td>\n",
              "    </tr>\n",
              "    <tr>\n",
              "      <th>19993</th>\n",
              "      <td>71ac419198359d37b8fe5e3fffdfee09</td>\n",
              "      <td>buy wallmantra large vinyl sticker sticker onl...</td>\n",
              "    </tr>\n",
              "    <tr>\n",
              "      <th>19994</th>\n",
              "      <td>93e9d343837400ce0d7980874ece471c</td>\n",
              "      <td>buy elite collection medium acrylic sticker on...</td>\n",
              "    </tr>\n",
              "    <tr>\n",
              "      <th>19995</th>\n",
              "      <td>669e79b8fa5d9ae020841c0c97d5e935</td>\n",
              "      <td>buy elite collection medium acrylic sticker on...</td>\n",
              "    </tr>\n",
              "    <tr>\n",
              "      <th>19996</th>\n",
              "      <td>cb4fa87a874f715fff567f7b7b3be79c</td>\n",
              "      <td>buy elite collection medium acrylic sticker on...</td>\n",
              "    </tr>\n",
              "  </tbody>\n",
              "</table>\n",
              "<p>19997 rows × 2 columns</p>\n",
              "</div>"
            ],
            "text/plain": [
              "                                uniq_id                                        description\n",
              "0      c2d766ca982eca8304150849735ffef9  key feature alisha solid woman cycling short c...\n",
              "1      7f7036a6d550aaa89d34c77bd39a5e48  fabhomedecor fabric double sofa bed finish col...\n",
              "2      f449ec65dcbc041b6ae5e6a32717d01b  key feature belly sandal wedge heel casuals be...\n",
              "3      0973b37acd0c664e3de26e97e5571454  key feature alisha solid woman cycling short c...\n",
              "4      bc940ea42ee6bef5ac7cea3fb5cfbee7  specification sicons purpose arnica dog shampo...\n",
              "...                                 ...                                                ...\n",
              "19992  7179d2f6c4ad50a17d014ca1d2815156  buy walldesign small vinyl sticker online wall...\n",
              "19993  71ac419198359d37b8fe5e3fffdfee09  buy wallmantra large vinyl sticker sticker onl...\n",
              "19994  93e9d343837400ce0d7980874ece471c  buy elite collection medium acrylic sticker on...\n",
              "19995  669e79b8fa5d9ae020841c0c97d5e935  buy elite collection medium acrylic sticker on...\n",
              "19996  cb4fa87a874f715fff567f7b7b3be79c  buy elite collection medium acrylic sticker on...\n",
              "\n",
              "[19997 rows x 2 columns]"
            ]
          },
          "metadata": {
            "tags": []
          },
          "execution_count": 28
        }
      ]
    },
    {
      "cell_type": "code",
      "metadata": {
        "id": "N45DYqiR-Rkw"
      },
      "source": [
        "desc.to_csv('/content/drive/MyDrive/MIDAS/desc.csv')"
      ],
      "execution_count": 29,
      "outputs": []
    },
    {
      "cell_type": "code",
      "metadata": {
        "id": "muX7_NPY_Ul9"
      },
      "source": [
        "cat = product[['uniq_id','primary_category']]"
      ],
      "execution_count": 30,
      "outputs": []
    },
    {
      "cell_type": "code",
      "metadata": {
        "colab": {
          "base_uri": "https://localhost:8080/",
          "height": 402
        },
        "id": "5Gj6MvAv_aKY",
        "outputId": "2591e5f5-8898-4ce1-8d79-24a6880abf4f"
      },
      "source": [
        "cat"
      ],
      "execution_count": 31,
      "outputs": [
        {
          "output_type": "execute_result",
          "data": {
            "text/html": [
              "<div>\n",
              "<style scoped>\n",
              "    .dataframe tbody tr th:only-of-type {\n",
              "        vertical-align: middle;\n",
              "    }\n",
              "\n",
              "    .dataframe tbody tr th {\n",
              "        vertical-align: top;\n",
              "    }\n",
              "\n",
              "    .dataframe thead th {\n",
              "        text-align: right;\n",
              "    }\n",
              "</style>\n",
              "<table border=\"1\" class=\"dataframe\">\n",
              "  <thead>\n",
              "    <tr style=\"text-align: right;\">\n",
              "      <th></th>\n",
              "      <th>uniq_id</th>\n",
              "      <th>primary_category</th>\n",
              "    </tr>\n",
              "  </thead>\n",
              "  <tbody>\n",
              "    <tr>\n",
              "      <th>0</th>\n",
              "      <td>c2d766ca982eca8304150849735ffef9</td>\n",
              "      <td>Clothing</td>\n",
              "    </tr>\n",
              "    <tr>\n",
              "      <th>1</th>\n",
              "      <td>7f7036a6d550aaa89d34c77bd39a5e48</td>\n",
              "      <td>Furniture</td>\n",
              "    </tr>\n",
              "    <tr>\n",
              "      <th>2</th>\n",
              "      <td>f449ec65dcbc041b6ae5e6a32717d01b</td>\n",
              "      <td>Footwear</td>\n",
              "    </tr>\n",
              "    <tr>\n",
              "      <th>3</th>\n",
              "      <td>0973b37acd0c664e3de26e97e5571454</td>\n",
              "      <td>Clothing</td>\n",
              "    </tr>\n",
              "    <tr>\n",
              "      <th>4</th>\n",
              "      <td>bc940ea42ee6bef5ac7cea3fb5cfbee7</td>\n",
              "      <td>Pet Supplies</td>\n",
              "    </tr>\n",
              "    <tr>\n",
              "      <th>...</th>\n",
              "      <td>...</td>\n",
              "      <td>...</td>\n",
              "    </tr>\n",
              "    <tr>\n",
              "      <th>19992</th>\n",
              "      <td>7179d2f6c4ad50a17d014ca1d2815156</td>\n",
              "      <td>Baby Care</td>\n",
              "    </tr>\n",
              "    <tr>\n",
              "      <th>19993</th>\n",
              "      <td>71ac419198359d37b8fe5e3fffdfee09</td>\n",
              "      <td>Baby Care</td>\n",
              "    </tr>\n",
              "    <tr>\n",
              "      <th>19994</th>\n",
              "      <td>93e9d343837400ce0d7980874ece471c</td>\n",
              "      <td>Baby Care</td>\n",
              "    </tr>\n",
              "    <tr>\n",
              "      <th>19995</th>\n",
              "      <td>669e79b8fa5d9ae020841c0c97d5e935</td>\n",
              "      <td>Baby Care</td>\n",
              "    </tr>\n",
              "    <tr>\n",
              "      <th>19996</th>\n",
              "      <td>cb4fa87a874f715fff567f7b7b3be79c</td>\n",
              "      <td>Baby Care</td>\n",
              "    </tr>\n",
              "  </tbody>\n",
              "</table>\n",
              "<p>19997 rows × 2 columns</p>\n",
              "</div>"
            ],
            "text/plain": [
              "                                uniq_id primary_category\n",
              "0      c2d766ca982eca8304150849735ffef9         Clothing\n",
              "1      7f7036a6d550aaa89d34c77bd39a5e48        Furniture\n",
              "2      f449ec65dcbc041b6ae5e6a32717d01b         Footwear\n",
              "3      0973b37acd0c664e3de26e97e5571454         Clothing\n",
              "4      bc940ea42ee6bef5ac7cea3fb5cfbee7     Pet Supplies\n",
              "...                                 ...              ...\n",
              "19992  7179d2f6c4ad50a17d014ca1d2815156        Baby Care\n",
              "19993  71ac419198359d37b8fe5e3fffdfee09        Baby Care\n",
              "19994  93e9d343837400ce0d7980874ece471c        Baby Care\n",
              "19995  669e79b8fa5d9ae020841c0c97d5e935        Baby Care\n",
              "19996  cb4fa87a874f715fff567f7b7b3be79c        Baby Care\n",
              "\n",
              "[19997 rows x 2 columns]"
            ]
          },
          "metadata": {
            "tags": []
          },
          "execution_count": 31
        }
      ]
    },
    {
      "cell_type": "code",
      "metadata": {
        "id": "GKPwmHmL_clr"
      },
      "source": [
        "cat.to_csv('/content/drive/MyDrive/MIDAS/cat.csv')"
      ],
      "execution_count": 32,
      "outputs": []
    }
  ]
}