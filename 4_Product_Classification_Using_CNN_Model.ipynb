{
  "nbformat": 4,
  "nbformat_minor": 0,
  "metadata": {
    "colab": {
      "name": "4_Product_Classification_Using_CNN_Model.ipynb",
      "provenance": [],
      "mount_file_id": "1OJCmUJKSSvFWjcaomvUGDGRgowTtazJ6",
      "authorship_tag": "ABX9TyMQ0r6K2Eik9Uzr58mRDbj7",
      "include_colab_link": true
    },
    "kernelspec": {
      "name": "python3",
      "display_name": "Python 3"
    },
    "language_info": {
      "name": "python"
    }
  },
  "cells": [
    {
      "cell_type": "markdown",
      "metadata": {
        "id": "view-in-github",
        "colab_type": "text"
      },
      "source": [
        "<a href=\"https://colab.research.google.com/github/manju1201/Flipkart_Data_Classification_using_Description/blob/main/4_Product_Classification_Using_CNN_Model.ipynb\" target=\"_parent\"><img src=\"https://colab.research.google.com/assets/colab-badge.svg\" alt=\"Open In Colab\"/></a>"
      ]
    },
    {
      "cell_type": "markdown",
      "metadata": {
        "id": "2g3eCDSPlMEo"
      },
      "source": [
        "# Imports"
      ]
    },
    {
      "cell_type": "code",
      "metadata": {
        "id": "vrXJNFCU4RzD"
      },
      "source": [
        "import pandas as pd\n",
        "import numpy as np\n",
        "import seaborn as sns\n",
        "import matplotlib.pyplot as plt\n",
        "import keras\n",
        "import re \n",
        "from keras.preprocessing.text import Tokenizer\n",
        "from keras.preprocessing.sequence import pad_sequences\n",
        "from sklearn.preprocessing import MultiLabelBinarizer\n",
        "from sklearn.model_selection import train_test_split\n",
        "from keras.models import Sequential\n",
        "from keras.layers import Dense, Activation, Embedding, Flatten, GlobalMaxPool1D, Dropout, Conv1D\n",
        "from keras.callbacks import ReduceLROnPlateau, EarlyStopping, ModelCheckpoint\n",
        "from keras.losses import binary_crossentropy\n",
        "from keras.optimizers import Adam"
      ],
      "execution_count": 1,
      "outputs": []
    },
    {
      "cell_type": "markdown",
      "metadata": {
        "id": "CPum2Y_5leOi"
      },
      "source": [
        "# Loading Datasets"
      ]
    },
    {
      "cell_type": "code",
      "metadata": {
        "colab": {
          "base_uri": "https://localhost:8080/",
          "height": 106
        },
        "id": "J6PwpaaS4TS3",
        "outputId": "adf7433f-bf3d-4091-c55f-a43ac8de4f7e"
      },
      "source": [
        "desc = pd.read_csv('/content/drive/MyDrive/MIDAS/desc.csv')\n",
        "category = pd.read_csv('/content/drive/MyDrive/MIDAS/cat.csv')\n",
        "desc.head(2)"
      ],
      "execution_count": 2,
      "outputs": [
        {
          "output_type": "execute_result",
          "data": {
            "text/html": [
              "<div>\n",
              "<style scoped>\n",
              "    .dataframe tbody tr th:only-of-type {\n",
              "        vertical-align: middle;\n",
              "    }\n",
              "\n",
              "    .dataframe tbody tr th {\n",
              "        vertical-align: top;\n",
              "    }\n",
              "\n",
              "    .dataframe thead th {\n",
              "        text-align: right;\n",
              "    }\n",
              "</style>\n",
              "<table border=\"1\" class=\"dataframe\">\n",
              "  <thead>\n",
              "    <tr style=\"text-align: right;\">\n",
              "      <th></th>\n",
              "      <th>Unnamed: 0</th>\n",
              "      <th>uniq_id</th>\n",
              "      <th>description</th>\n",
              "    </tr>\n",
              "  </thead>\n",
              "  <tbody>\n",
              "    <tr>\n",
              "      <th>0</th>\n",
              "      <td>0</td>\n",
              "      <td>c2d766ca982eca8304150849735ffef9</td>\n",
              "      <td>key feature alisha solid woman cycling short c...</td>\n",
              "    </tr>\n",
              "    <tr>\n",
              "      <th>1</th>\n",
              "      <td>1</td>\n",
              "      <td>7f7036a6d550aaa89d34c77bd39a5e48</td>\n",
              "      <td>fabhomedecor fabric double sofa bed finish col...</td>\n",
              "    </tr>\n",
              "  </tbody>\n",
              "</table>\n",
              "</div>"
            ],
            "text/plain": [
              "   Unnamed: 0  ...                                        description\n",
              "0           0  ...  key feature alisha solid woman cycling short c...\n",
              "1           1  ...  fabhomedecor fabric double sofa bed finish col...\n",
              "\n",
              "[2 rows x 3 columns]"
            ]
          },
          "metadata": {
            "tags": []
          },
          "execution_count": 2
        }
      ]
    },
    {
      "cell_type": "code",
      "metadata": {
        "colab": {
          "base_uri": "https://localhost:8080/",
          "height": 106
        },
        "id": "yVQhR2rU6FhI",
        "outputId": "668ac15b-4fe2-46e9-da30-82b9ccdefe02"
      },
      "source": [
        "category.head(2)"
      ],
      "execution_count": 3,
      "outputs": [
        {
          "output_type": "execute_result",
          "data": {
            "text/html": [
              "<div>\n",
              "<style scoped>\n",
              "    .dataframe tbody tr th:only-of-type {\n",
              "        vertical-align: middle;\n",
              "    }\n",
              "\n",
              "    .dataframe tbody tr th {\n",
              "        vertical-align: top;\n",
              "    }\n",
              "\n",
              "    .dataframe thead th {\n",
              "        text-align: right;\n",
              "    }\n",
              "</style>\n",
              "<table border=\"1\" class=\"dataframe\">\n",
              "  <thead>\n",
              "    <tr style=\"text-align: right;\">\n",
              "      <th></th>\n",
              "      <th>Unnamed: 0</th>\n",
              "      <th>uniq_id</th>\n",
              "      <th>primary_category</th>\n",
              "    </tr>\n",
              "  </thead>\n",
              "  <tbody>\n",
              "    <tr>\n",
              "      <th>0</th>\n",
              "      <td>0</td>\n",
              "      <td>c2d766ca982eca8304150849735ffef9</td>\n",
              "      <td>Clothing</td>\n",
              "    </tr>\n",
              "    <tr>\n",
              "      <th>1</th>\n",
              "      <td>1</td>\n",
              "      <td>7f7036a6d550aaa89d34c77bd39a5e48</td>\n",
              "      <td>Furniture</td>\n",
              "    </tr>\n",
              "  </tbody>\n",
              "</table>\n",
              "</div>"
            ],
            "text/plain": [
              "   Unnamed: 0                           uniq_id primary_category\n",
              "0           0  c2d766ca982eca8304150849735ffef9         Clothing\n",
              "1           1  7f7036a6d550aaa89d34c77bd39a5e48        Furniture"
            ]
          },
          "metadata": {
            "tags": []
          },
          "execution_count": 3
        }
      ]
    },
    {
      "cell_type": "markdown",
      "metadata": {
        "id": "Techhzi7lqLX"
      },
      "source": [
        "Analysis on Primary Category"
      ]
    },
    {
      "cell_type": "code",
      "metadata": {
        "colab": {
          "base_uri": "https://localhost:8080/"
        },
        "id": "4riDlo3u6IH4",
        "outputId": "77ed413a-535d-4c1b-9afa-ade160bfcf94"
      },
      "source": [
        "grouped_labels = category.groupby(\"primary_category\", sort='count').size().reset_index(name='count')\n",
        "grouped_labels.primary_category.describe()"
      ],
      "execution_count": 4,
      "outputs": [
        {
          "output_type": "execute_result",
          "data": {
            "text/plain": [
              "count                        27\n",
              "unique                       27\n",
              "top       Bags, Wallets & Belts\n",
              "freq                          1\n",
              "Name: primary_category, dtype: object"
            ]
          },
          "metadata": {
            "tags": []
          },
          "execution_count": 4
        }
      ]
    },
    {
      "cell_type": "code",
      "metadata": {
        "id": "ZR9X2uGF6yHm"
      },
      "source": [
        "num_classes = 27\n",
        "grouped_labels = category.groupby(\"primary_category\").size().reset_index(name='count')\n",
        "most_common_labels = grouped_labels.nlargest(num_classes, columns=\"count\")\n",
        "category.primary_category = category.primary_category.apply(lambda label : label if label in most_common_labels.primary_category.values else None)\n",
        "category = category.dropna()"
      ],
      "execution_count": 5,
      "outputs": []
    },
    {
      "cell_type": "code",
      "metadata": {
        "id": "OqRL0kxE7lbf"
      },
      "source": [
        "desc = desc.rename(columns = {'Unnamed: 0': 'Id'}, inplace = False)"
      ],
      "execution_count": 6,
      "outputs": []
    },
    {
      "cell_type": "code",
      "metadata": {
        "id": "BQC2kBep79Xn"
      },
      "source": [
        "category = category.rename(columns = {'Unnamed: 0': 'Id'}, inplace = False)"
      ],
      "execution_count": 7,
      "outputs": []
    },
    {
      "cell_type": "code",
      "metadata": {
        "id": "-35Y1HE-7cRR"
      },
      "source": [
        "def labels_for_decription(cat_id):\n",
        "    return category[category['Id'] == cat_id].primary_category.values\n",
        "\n",
        "def add_labels_column(row):\n",
        "    row['primary_category'] = labels_for_decription(row['Id'])\n",
        "    return row\n",
        "\n",
        "desc = desc.apply(add_labels_column, axis=1)"
      ],
      "execution_count": 8,
      "outputs": []
    },
    {
      "cell_type": "code",
      "metadata": {
        "colab": {
          "base_uri": "https://localhost:8080/",
          "height": 313
        },
        "id": "knHcstQ-8ZpI",
        "outputId": "39bd388f-ae53-4375-d962-176753773eb8"
      },
      "source": [
        "pd.set_option('display.max_colwidth', 400)\n",
        "desc[['Id', 'description', 'primary_category']].head()"
      ],
      "execution_count": 9,
      "outputs": [
        {
          "output_type": "execute_result",
          "data": {
            "text/html": [
              "<div>\n",
              "<style scoped>\n",
              "    .dataframe tbody tr th:only-of-type {\n",
              "        vertical-align: middle;\n",
              "    }\n",
              "\n",
              "    .dataframe tbody tr th {\n",
              "        vertical-align: top;\n",
              "    }\n",
              "\n",
              "    .dataframe thead th {\n",
              "        text-align: right;\n",
              "    }\n",
              "</style>\n",
              "<table border=\"1\" class=\"dataframe\">\n",
              "  <thead>\n",
              "    <tr style=\"text-align: right;\">\n",
              "      <th></th>\n",
              "      <th>Id</th>\n",
              "      <th>description</th>\n",
              "      <th>primary_category</th>\n",
              "    </tr>\n",
              "  </thead>\n",
              "  <tbody>\n",
              "    <tr>\n",
              "      <th>0</th>\n",
              "      <td>0</td>\n",
              "      <td>key feature alisha solid woman cycling short cotton lycra navy red navy specification alisha solid woman cycling short short detail number content sale package pack fabric cotton lycra type cycling short general detail pattern solid ideal woman fabric care gentle machine wash lukewarm water bleach additional detail style code altht box short</td>\n",
              "      <td>[Clothing]</td>\n",
              "    </tr>\n",
              "    <tr>\n",
              "      <th>1</th>\n",
              "      <td>1</td>\n",
              "      <td>fabhomedecor fabric double sofa bed finish color leatherette black mechanism type pull price fine deep seating experience save space new click clack sofa bed easy fold vice versa simple click clack mechanism chrome leg mango wood frame long term durability double cushioned sofa bed provide extra softness make fine seating experience double bed easily sleep two specification fabhomedecor fabric...</td>\n",
              "      <td>[Furniture]</td>\n",
              "    </tr>\n",
              "    <tr>\n",
              "      <th>2</th>\n",
              "      <td>2</td>\n",
              "      <td>key feature belly sandal wedge heel casuals belly price material synthetic lifestyle casual heel type wedge warranty type manufacturer product warranty manufacturing defect day care instruction allow pair shoe air odorize regular basis use shoe bag prevent stain mildew dust dry dirt surface using clean cloth use polish shiner specification belly general ideal woman occasion casual shoe detail ...</td>\n",
              "      <td>[Footwear]</td>\n",
              "    </tr>\n",
              "    <tr>\n",
              "      <th>3</th>\n",
              "      <td>3</td>\n",
              "      <td>key feature alisha solid woman cycling short cotton lycra black red specification alisha solid woman cycling short short detail number content sale package pack fabric cotton lycra type cycling short general detail pattern solid ideal woman fabric care gentle machine wash lukewarm water bleach additional detail style code altght box short</td>\n",
              "      <td>[Clothing]</td>\n",
              "    </tr>\n",
              "    <tr>\n",
              "      <th>4</th>\n",
              "      <td>4</td>\n",
              "      <td>specification sicons purpose arnica dog shampoo general pet type dog brand sicons quantity model number type purpose fragrance arnica form factor liquid box sale package shampoo sicons dog fashion arnica</td>\n",
              "      <td>[Pet Supplies]</td>\n",
              "    </tr>\n",
              "  </tbody>\n",
              "</table>\n",
              "</div>"
            ],
            "text/plain": [
              "   Id  ... primary_category\n",
              "0   0  ...       [Clothing]\n",
              "1   1  ...      [Furniture]\n",
              "2   2  ...       [Footwear]\n",
              "3   3  ...       [Clothing]\n",
              "4   4  ...   [Pet Supplies]\n",
              "\n",
              "[5 rows x 3 columns]"
            ]
          },
          "metadata": {
            "tags": []
          },
          "execution_count": 9
        }
      ]
    },
    {
      "cell_type": "code",
      "metadata": {
        "id": "KPRj-l8-8k2e"
      },
      "source": [
        "multilabel_binarizer = MultiLabelBinarizer()\n",
        "multilabel_binarizer.fit(desc.primary_category)\n",
        "labels = multilabel_binarizer.classes_\n",
        "\n",
        "maxlen = 180\n",
        "max_words = 5000\n",
        "tokenizer = Tokenizer(num_words=max_words, lower=True)\n",
        "tokenizer.fit_on_texts(desc.description)\n",
        "\n",
        "def get_features(text_series):\n",
        "    sequences = tokenizer.texts_to_sequences(text_series)\n",
        "    return pad_sequences(sequences, maxlen=maxlen)\n",
        "\n",
        "\n",
        "def prediction_to_label(prediction):\n",
        "    tag_prob = [(labels[i], prob) for i, prob in enumerate(prediction.tolist())]\n",
        "    return dict(sorted(tag_prob, key=lambda kv: kv[1], reverse=True))"
      ],
      "execution_count": 10,
      "outputs": []
    },
    {
      "cell_type": "markdown",
      "metadata": {
        "id": "S33hN9PamimK"
      },
      "source": [
        "# Train Test Split"
      ]
    },
    {
      "cell_type": "code",
      "metadata": {
        "colab": {
          "base_uri": "https://localhost:8080/"
        },
        "id": "pYvVWWVO8sQv",
        "outputId": "8df2ef63-50ba-460c-9c8f-468ceac17772"
      },
      "source": [
        "x = get_features(desc.description)\n",
        "y = multilabel_binarizer.transform(desc.primary_category)\n",
        "print(x.shape)\n",
        "\n",
        "x_train, x_test, y_train, y_test = train_test_split(x, y, test_size=0.2, random_state=9000)"
      ],
      "execution_count": 11,
      "outputs": [
        {
          "output_type": "stream",
          "text": [
            "(19997, 180)\n"
          ],
          "name": "stdout"
        }
      ]
    },
    {
      "cell_type": "markdown",
      "metadata": {
        "id": "TSgSncBCmbMb"
      },
      "source": [
        "# Class Weighting since the distribution of data is not equal"
      ]
    },
    {
      "cell_type": "code",
      "metadata": {
        "colab": {
          "base_uri": "https://localhost:8080/",
          "height": 195
        },
        "id": "vJDqH2JJ9CdI",
        "outputId": "c0a8ed39-46c7-4a5c-9eb5-479624050327"
      },
      "source": [
        "most_common_labels['class_weight'] = len(category) / most_common_labels['count']\n",
        "class_weight = {}\n",
        "for index, label in enumerate(labels):\n",
        "    class_weight[index] = most_common_labels[most_common_labels['primary_category'] == label]['class_weight'].values[0]\n",
        "    \n",
        "most_common_labels.head()"
      ],
      "execution_count": 12,
      "outputs": [
        {
          "output_type": "execute_result",
          "data": {
            "text/html": [
              "<div>\n",
              "<style scoped>\n",
              "    .dataframe tbody tr th:only-of-type {\n",
              "        vertical-align: middle;\n",
              "    }\n",
              "\n",
              "    .dataframe tbody tr th {\n",
              "        vertical-align: top;\n",
              "    }\n",
              "\n",
              "    .dataframe thead th {\n",
              "        text-align: right;\n",
              "    }\n",
              "</style>\n",
              "<table border=\"1\" class=\"dataframe\">\n",
              "  <thead>\n",
              "    <tr style=\"text-align: right;\">\n",
              "      <th></th>\n",
              "      <th>primary_category</th>\n",
              "      <th>count</th>\n",
              "      <th>class_weight</th>\n",
              "    </tr>\n",
              "  </thead>\n",
              "  <tbody>\n",
              "    <tr>\n",
              "      <th>5</th>\n",
              "      <td>Clothing</td>\n",
              "      <td>6341</td>\n",
              "      <td>3.153604</td>\n",
              "    </tr>\n",
              "    <tr>\n",
              "      <th>16</th>\n",
              "      <td>Jewellery</td>\n",
              "      <td>3545</td>\n",
              "      <td>5.640903</td>\n",
              "    </tr>\n",
              "    <tr>\n",
              "      <th>7</th>\n",
              "      <td>Footwear</td>\n",
              "      <td>1263</td>\n",
              "      <td>15.832937</td>\n",
              "    </tr>\n",
              "    <tr>\n",
              "      <th>18</th>\n",
              "      <td>Mobiles &amp; Accessories</td>\n",
              "      <td>1110</td>\n",
              "      <td>18.015315</td>\n",
              "    </tr>\n",
              "    <tr>\n",
              "      <th>0</th>\n",
              "      <td>Automotive</td>\n",
              "      <td>1029</td>\n",
              "      <td>19.433431</td>\n",
              "    </tr>\n",
              "  </tbody>\n",
              "</table>\n",
              "</div>"
            ],
            "text/plain": [
              "         primary_category  count  class_weight\n",
              "5                Clothing   6341      3.153604\n",
              "16              Jewellery   3545      5.640903\n",
              "7                Footwear   1263     15.832937\n",
              "18  Mobiles & Accessories   1110     18.015315\n",
              "0              Automotive   1029     19.433431"
            ]
          },
          "metadata": {
            "tags": []
          },
          "execution_count": 12
        }
      ]
    },
    {
      "cell_type": "markdown",
      "metadata": {
        "id": "7HtfglECmzhk"
      },
      "source": [
        "CNN Model"
      ]
    },
    {
      "cell_type": "code",
      "metadata": {
        "colab": {
          "base_uri": "https://localhost:8080/"
        },
        "id": "m1wQzcgw9IzV",
        "outputId": "d880465f-9414-48cc-ecbb-db2c62244480"
      },
      "source": [
        "filter_length = 300\n",
        "\n",
        "model = Sequential()\n",
        "model.add(Embedding(max_words, 20, input_length=maxlen))\n",
        "model.add(Dropout(0.1))\n",
        "model.add(Conv1D(filter_length, 3, padding='valid', activation='relu', strides=1))\n",
        "model.add(GlobalMaxPool1D())\n",
        "model.add(Dense(num_classes))\n",
        "model.add(Activation('sigmoid'))\n",
        "\n",
        "model.compile(optimizer='adam', loss='binary_crossentropy', metrics=['categorical_accuracy'])\n",
        "model.summary()\n",
        "\n",
        "callbacks = [\n",
        "    ReduceLROnPlateau(), \n",
        "    EarlyStopping(patience=4), \n",
        "    ModelCheckpoint(filepath='/content/drive/MyDrive/MIDAS/model-conv1d.h5', save_best_only=True)\n",
        "]\n",
        "\n",
        "history = model.fit(x_train, y_train,\n",
        "                    class_weight=class_weight,\n",
        "                    epochs=20,\n",
        "                    batch_size=32,\n",
        "                    validation_split=0.1,\n",
        "                    callbacks=callbacks)"
      ],
      "execution_count": 13,
      "outputs": [
        {
          "output_type": "stream",
          "text": [
            "Model: \"sequential\"\n",
            "_________________________________________________________________\n",
            "Layer (type)                 Output Shape              Param #   \n",
            "=================================================================\n",
            "embedding (Embedding)        (None, 180, 20)           100000    \n",
            "_________________________________________________________________\n",
            "dropout (Dropout)            (None, 180, 20)           0         \n",
            "_________________________________________________________________\n",
            "conv1d (Conv1D)              (None, 178, 300)          18300     \n",
            "_________________________________________________________________\n",
            "global_max_pooling1d (Global (None, 300)               0         \n",
            "_________________________________________________________________\n",
            "dense (Dense)                (None, 27)                8127      \n",
            "_________________________________________________________________\n",
            "activation (Activation)      (None, 27)                0         \n",
            "=================================================================\n",
            "Total params: 126,427\n",
            "Trainable params: 126,427\n",
            "Non-trainable params: 0\n",
            "_________________________________________________________________\n",
            "Epoch 1/20\n",
            "450/450 [==============================] - 17s 37ms/step - loss: 7.1211 - categorical_accuracy: 0.0625 - val_loss: 0.1005 - val_categorical_accuracy: 0.6675\n",
            "Epoch 2/20\n",
            "450/450 [==============================] - 16s 36ms/step - loss: 3.0080 - categorical_accuracy: 0.7268 - val_loss: 0.0385 - val_categorical_accuracy: 0.8813\n",
            "Epoch 3/20\n",
            "450/450 [==============================] - 16s 36ms/step - loss: 1.5494 - categorical_accuracy: 0.8862 - val_loss: 0.0250 - val_categorical_accuracy: 0.9369\n",
            "Epoch 4/20\n",
            "450/450 [==============================] - 16s 36ms/step - loss: 0.9978 - categorical_accuracy: 0.9398 - val_loss: 0.0181 - val_categorical_accuracy: 0.9475\n",
            "Epoch 5/20\n",
            "450/450 [==============================] - 16s 35ms/step - loss: 0.7236 - categorical_accuracy: 0.9567 - val_loss: 0.0160 - val_categorical_accuracy: 0.9481\n",
            "Epoch 6/20\n",
            "450/450 [==============================] - 16s 35ms/step - loss: 0.4963 - categorical_accuracy: 0.9610 - val_loss: 0.0137 - val_categorical_accuracy: 0.9519\n",
            "Epoch 7/20\n",
            "450/450 [==============================] - 16s 35ms/step - loss: 0.3327 - categorical_accuracy: 0.9710 - val_loss: 0.0130 - val_categorical_accuracy: 0.9556\n",
            "Epoch 8/20\n",
            "450/450 [==============================] - 16s 35ms/step - loss: 0.2744 - categorical_accuracy: 0.9760 - val_loss: 0.0120 - val_categorical_accuracy: 0.9600\n",
            "Epoch 9/20\n",
            "450/450 [==============================] - 16s 35ms/step - loss: 0.2157 - categorical_accuracy: 0.9792 - val_loss: 0.0109 - val_categorical_accuracy: 0.9644\n",
            "Epoch 10/20\n",
            "450/450 [==============================] - 16s 36ms/step - loss: 0.1786 - categorical_accuracy: 0.9813 - val_loss: 0.0104 - val_categorical_accuracy: 0.9656\n",
            "Epoch 11/20\n",
            "450/450 [==============================] - 16s 36ms/step - loss: 0.1347 - categorical_accuracy: 0.9849 - val_loss: 0.0107 - val_categorical_accuracy: 0.9631\n",
            "Epoch 12/20\n",
            "450/450 [==============================] - 16s 35ms/step - loss: 0.1216 - categorical_accuracy: 0.9863 - val_loss: 0.0106 - val_categorical_accuracy: 0.9638\n",
            "Epoch 13/20\n",
            "450/450 [==============================] - 16s 35ms/step - loss: 0.0975 - categorical_accuracy: 0.9889 - val_loss: 0.0110 - val_categorical_accuracy: 0.9663\n",
            "Epoch 14/20\n",
            "450/450 [==============================] - 16s 35ms/step - loss: 0.0900 - categorical_accuracy: 0.9896 - val_loss: 0.0103 - val_categorical_accuracy: 0.9706\n",
            "Epoch 15/20\n",
            "450/450 [==============================] - 16s 36ms/step - loss: 0.0737 - categorical_accuracy: 0.9894 - val_loss: 0.0100 - val_categorical_accuracy: 0.9706\n",
            "Epoch 16/20\n",
            "450/450 [==============================] - 16s 35ms/step - loss: 0.0656 - categorical_accuracy: 0.9906 - val_loss: 0.0102 - val_categorical_accuracy: 0.9706\n",
            "Epoch 17/20\n",
            "450/450 [==============================] - 16s 35ms/step - loss: 0.0536 - categorical_accuracy: 0.9944 - val_loss: 0.0103 - val_categorical_accuracy: 0.9712\n",
            "Epoch 18/20\n",
            "450/450 [==============================] - 16s 35ms/step - loss: 0.0449 - categorical_accuracy: 0.9944 - val_loss: 0.0104 - val_categorical_accuracy: 0.9681\n",
            "Epoch 19/20\n",
            "450/450 [==============================] - 16s 35ms/step - loss: 0.0438 - categorical_accuracy: 0.9945 - val_loss: 0.0101 - val_categorical_accuracy: 0.9725\n"
          ],
          "name": "stdout"
        }
      ]
    },
    {
      "cell_type": "markdown",
      "metadata": {
        "id": "Fd0Qd3RTm1wv"
      },
      "source": [
        "# Testing "
      ]
    },
    {
      "cell_type": "code",
      "metadata": {
        "colab": {
          "base_uri": "https://localhost:8080/"
        },
        "id": "i2ayMNoD9Puk",
        "outputId": "16d94d6f-d56f-4273-c93e-335fdef0bc4e"
      },
      "source": [
        "cnn_model = keras.models.load_model('/content/drive/MyDrive/MIDAS/model-conv1d.h5')\n",
        "metrics = cnn_model.evaluate(x_test, y_test)\n",
        "pred = np.argmax(cnn_model.predict(x_test), axis=-1)\n",
        "print(\"{}: {}\".format(model.metrics_names[0], metrics[0]))\n",
        "print(\"{}: {}\".format(model.metrics_names[1], metrics[1]))"
      ],
      "execution_count": 14,
      "outputs": [
        {
          "output_type": "stream",
          "text": [
            "125/125 [==============================] - 1s 9ms/step - loss: 0.0096 - categorical_accuracy: 0.9685\n",
            "loss: 0.009573369286954403\n",
            "categorical_accuracy: 0.968500018119812\n"
          ],
          "name": "stdout"
        }
      ]
    },
    {
      "cell_type": "markdown",
      "metadata": {
        "id": "VqRGak2em7Bm"
      },
      "source": [
        "# Plots"
      ]
    },
    {
      "cell_type": "code",
      "metadata": {
        "id": "FMaV4Ycb-ZS6"
      },
      "source": [
        "plt.style.use('ggplot')\n",
        "\n",
        "def plot_history(history):\n",
        "    acc = history.history['categorical_accuracy']\n",
        "    val_acc = history.history['val_categorical_accuracy']\n",
        "    loss = history.history['loss']\n",
        "    val_loss = history.history['val_loss']\n",
        "    x = range(1, len(acc) + 1)\n",
        "\n",
        "    plt.figure(figsize=(12, 5))\n",
        "    plt.subplot(1, 2, 1)\n",
        "    plt.plot(x, acc, 'b', label='Training acc')\n",
        "    plt.plot(x, val_acc, 'r', label='Test acc')\n",
        "    plt.title('Training and Test accuracy')\n",
        "    plt.legend()\n",
        "    plt.subplot(1, 2, 2)\n",
        "    plt.plot(x, loss, 'b', label='Training loss')\n",
        "    plt.plot(x, val_loss, 'r', label='Test loss')\n",
        "    plt.title('Training and Test loss')\n",
        "    plt.legend()"
      ],
      "execution_count": 15,
      "outputs": []
    },
    {
      "cell_type": "code",
      "metadata": {
        "colab": {
          "base_uri": "https://localhost:8080/",
          "height": 337
        },
        "id": "Mn3cPdF7GNF3",
        "outputId": "86155d3b-4732-4197-ce7b-109d3011df18"
      },
      "source": [
        "plot_history(history)"
      ],
      "execution_count": 16,
      "outputs": [
        {
          "output_type": "display_data",
          "data": {
            "image/png": "[encoded data removed]",
            "text/plain": [
              "<Figure size 864x360 with 2 Axes>"
            ]
          },
          "metadata": {
            "tags": []
          }
        }
      ]
    },
    {
      "cell_type": "code",
      "metadata": {
        "id": "9if4jAN1GSon"
      },
      "source": [
        ""
      ],
      "execution_count": null,
      "outputs": []
    }
  ]
}