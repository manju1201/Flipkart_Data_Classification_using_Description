{
  "nbformat": 4,
  "nbformat_minor": 0,
  "metadata": {
    "colab": {
      "name": "3_Product_Classification_Using_ML_Models.ipynb",
      "provenance": [],
      "collapsed_sections": [],
      "toc_visible": true,
      "mount_file_id": "1cnsV6PzVqJbuvJzBL9n073aqc2D25xpW",
      "authorship_tag": "ABX9TyOSqezLTDhervsXXSLZ1jLr",
      "include_colab_link": true
    },
    "kernelspec": {
      "name": "python3",
      "display_name": "Python 3"
    },
    "language_info": {
      "name": "python"
    },
    "accelerator": "GPU"
  },
  "cells": [
    {
      "cell_type": "markdown",
      "metadata": {
        "id": "view-in-github",
        "colab_type": "text"
      },
      "source": [
        "<a href=\"https://colab.research.google.com/github/manju1201/Flipkart_Data_Classification_using_Description/blob/main/3_Product_Classification_Using_ML_Models.ipynb\" target=\"_parent\"><img src=\"https://colab.research.google.com/assets/colab-badge.svg\" alt=\"Open In Colab\"/></a>"
      ]
    },
    {
      "cell_type": "markdown",
      "metadata": {
        "id": "0W4nlEwFjqth"
      },
      "source": [
        "# Imports"
      ]
    },
    {
      "cell_type": "code",
      "metadata": {
        "colab": {
          "base_uri": "https://localhost:8080/"
        },
        "id": "rARE0XFAO5_d",
        "outputId": "2e9ab5bb-b5ec-4b5e-ba73-c9bfa0495fcf"
      },
      "source": [
        "import numpy as np \n",
        "import pandas as pd \n",
        "import re \n",
        "import nltk \n",
        "from sklearn import preprocessing\n",
        "from sklearn.model_selection import train_test_split\n",
        "from sklearn.feature_extraction.text import CountVectorizer, TfidfVectorizer\n",
        "from sklearn.naive_bayes import MultinomialNB\n",
        "from sklearn.tree import DecisionTreeClassifier\n",
        "from sklearn.ensemble import RandomForestClassifier\n",
        "from sklearn.metrics import classification_report\n",
        "\n",
        "from gensim.models.fasttext import FastText\n",
        "from string import punctuation\n",
        "from nltk.tokenize import word_tokenize\n",
        "from nltk.stem import WordNetLemmatizer\n",
        "from nltk.tokenize import sent_tokenize\n",
        "from nltk import WordPunctTokenizer\n",
        "\n",
        "nltk.download('punkt')\n",
        "nltk.download('wordnet')\n",
        "nltk.download('stopwords')\n",
        "en_stop = set(nltk.corpus.stopwords.words('english'))"
      ],
      "execution_count": 1,
      "outputs": [
        {
          "output_type": "stream",
          "text": [
            "[nltk_data] Downloading package punkt to /root/nltk_data...\n",
            "[nltk_data]   Unzipping tokenizers/punkt.zip.\n",
            "[nltk_data] Downloading package wordnet to /root/nltk_data...\n",
            "[nltk_data]   Unzipping corpora/wordnet.zip.\n",
            "[nltk_data] Downloading package stopwords to /root/nltk_data...\n",
            "[nltk_data]   Unzipping corpora/stopwords.zip.\n"
          ],
          "name": "stdout"
        }
      ]
    },
    {
      "cell_type": "markdown",
      "metadata": {
        "id": "cAZ78pRSjvcN"
      },
      "source": [
        "# Data Loading"
      ]
    },
    {
      "cell_type": "code",
      "metadata": {
        "id": "i59HOtwgUhN6"
      },
      "source": [
        "data = pd.read_csv('/content/drive/MyDrive/MIDAS/2_cleaned_flipkart_com_ecommerce_sample.csv')"
      ],
      "execution_count": 2,
      "outputs": []
    },
    {
      "cell_type": "code",
      "metadata": {
        "colab": {
          "base_uri": "https://localhost:8080/",
          "height": 77
        },
        "id": "xn1TB4DiWeG7",
        "outputId": "b4db187b-04fe-4f5f-e3e9-14c8b2982986"
      },
      "source": [
        "data.head(1)"
      ],
      "execution_count": 3,
      "outputs": [
        {
          "output_type": "execute_result",
          "data": {
            "text/html": [
              "<div>\n",
              "<style scoped>\n",
              "    .dataframe tbody tr th:only-of-type {\n",
              "        vertical-align: middle;\n",
              "    }\n",
              "\n",
              "    .dataframe tbody tr th {\n",
              "        vertical-align: top;\n",
              "    }\n",
              "\n",
              "    .dataframe thead th {\n",
              "        text-align: right;\n",
              "    }\n",
              "</style>\n",
              "<table border=\"1\" class=\"dataframe\">\n",
              "  <thead>\n",
              "    <tr style=\"text-align: right;\">\n",
              "      <th></th>\n",
              "      <th>Unnamed: 0</th>\n",
              "      <th>uniq_id</th>\n",
              "      <th>description</th>\n",
              "      <th>primary_category</th>\n",
              "    </tr>\n",
              "  </thead>\n",
              "  <tbody>\n",
              "    <tr>\n",
              "      <th>0</th>\n",
              "      <td>0</td>\n",
              "      <td>c2d766ca982eca8304150849735ffef9</td>\n",
              "      <td>key feature alisha solid woman cycling short c...</td>\n",
              "      <td>Clothing</td>\n",
              "    </tr>\n",
              "  </tbody>\n",
              "</table>\n",
              "</div>"
            ],
            "text/plain": [
              "   Unnamed: 0  ... primary_category\n",
              "0           0  ...         Clothing\n",
              "\n",
              "[1 rows x 4 columns]"
            ]
          },
          "metadata": {
            "tags": []
          },
          "execution_count": 3
        }
      ]
    },
    {
      "cell_type": "markdown",
      "metadata": {
        "id": "pQzIagLlj0fQ"
      },
      "source": [
        "# PreProcessing Function"
      ]
    },
    {
      "cell_type": "code",
      "metadata": {
        "id": "YVSVg3p5WkRE"
      },
      "source": [
        "stemmer = WordNetLemmatizer()\n",
        "def preprocess_string(text):\n",
        "    text = re.sub(r'\\W', ' ', str(text)) #conversion of datatype to string\n",
        "    text=re.sub('[^a-z\\s]+',' ',text,flags=re.IGNORECASE) #every char except alphabets is replaced\n",
        "    text=re.sub('(\\s+)',' ',text) #multiple spaces are replaced by single space\n",
        "    text=text.lower() #converting the cleaned string to lower case\n",
        "    tokens = text.split() # splitting based on space\n",
        "    tokens = [stemmer.lemmatize(word) for word in tokens] # lemmatization(any form into root word) of words\n",
        "    tokens = [word for word in tokens if word not in en_stop] # removing Stopwords\n",
        "    tokens = [word for word in tokens if len(word) > 2] # considering words of length greater than 2\n",
        "    preprocessed_text = ' '.join(tokens)  # joining all the processed tokens into sentence\n",
        "    return preprocessed_text # returns the sentence"
      ],
      "execution_count": 4,
      "outputs": []
    },
    {
      "cell_type": "markdown",
      "metadata": {
        "id": "DWUK85uZj5qd"
      },
      "source": [
        "Preparing data to feed the Model"
      ]
    },
    {
      "cell_type": "code",
      "metadata": {
        "id": "hJAHXluHXug4"
      },
      "source": [
        "# primary_category processing.\n",
        "# Considering the 27 labels to perform prediction\n",
        "sort_level_1 = list(data.groupby('primary_category').count().sort_values(by='uniq_id',ascending=False).index) \n",
        "# Selecting only relevant columns that is primary_category and description\n",
        "processed_df = data[data['primary_category'].isin(sort_level_1)][['primary_category','description']]\n",
        "# # Cleaning strings\n",
        "processed_df['description'] = processed_df['description'].astype('str').apply(preprocess_string)\n",
        "# Using LabelEncoder Encoding target labels with value between 0 and 265\n",
        "le = preprocessing.LabelEncoder()\n",
        "category_encoded=le.fit_transform(processed_df['primary_category'])\n",
        "processed_df['primary_category'] = category_encoded"
      ],
      "execution_count": 5,
      "outputs": []
    },
    {
      "cell_type": "markdown",
      "metadata": {
        "id": "58O9_F9zkAMj"
      },
      "source": [
        "# Train Test Split "
      ]
    },
    {
      "cell_type": "code",
      "metadata": {
        "id": "2M98kbuFYcam"
      },
      "source": [
        "X_train, X_test, y_train, y_test = train_test_split(processed_df['description'],processed_df['primary_category'],test_size=0.2,stratify = processed_df['primary_category'])"
      ],
      "execution_count": 6,
      "outputs": []
    },
    {
      "cell_type": "markdown",
      "metadata": {
        "id": "C1fhpoofkmC6"
      },
      "source": [
        "# Multinomial Naive Bayes"
      ]
    },
    {
      "cell_type": "code",
      "metadata": {
        "colab": {
          "base_uri": "https://localhost:8080/"
        },
        "id": "TrGXMuuHYxZp",
        "outputId": "082e87b9-df15-4733-a1dd-ccef82d4c4c9"
      },
      "source": [
        "vect = CountVectorizer(stop_words = 'english')\n",
        "X_train_matrix = vect.fit_transform(X_train) \n",
        "\n",
        "# Defining model\n",
        "clf=MultinomialNB()\n",
        "# Fitting to multinomial NB model \n",
        "clf.fit(X_train_matrix, y_train)\n",
        "# Scoring the trained model \n",
        "print(clf.score(X_train_matrix, y_train)*100)\n",
        "# Converting the test data\n",
        "X_test_matrix = vect.transform(X_test) \n",
        "# Scoring for the test data\n",
        "print (clf.score(X_test_matrix, y_test)*100)\n",
        "# Classification Report\n",
        "predicted_result=clf.predict(X_test_matrix)\n",
        "print(classification_report(y_test,predicted_result))"
      ],
      "execution_count": 7,
      "outputs": [
        {
          "output_type": "stream",
          "text": [
            "94.93029943114334\n",
            "92.925\n",
            "              precision    recall  f1-score   support\n",
            "\n",
            "           0       0.91      0.99      0.95       206\n",
            "           1       0.83      0.62      0.71        97\n",
            "           2       0.88      0.66      0.76        56\n",
            "           3       0.90      0.89      0.89       144\n",
            "           4       0.75      0.17      0.27        18\n",
            "           5       0.98      0.98      0.98      1268\n",
            "           6       0.88      0.78      0.83       116\n",
            "           7       0.98      0.97      0.98       253\n",
            "           8       0.97      0.97      0.97        36\n",
            "           9       0.71      0.71      0.71         7\n",
            "          10       1.00      0.33      0.50         9\n",
            "          11       1.00      0.60      0.75         5\n",
            "          12       0.90      0.98      0.94       188\n",
            "          13       0.00      0.00      0.00         4\n",
            "          14       0.94      0.96      0.95       142\n",
            "          15       1.00      0.50      0.67        18\n",
            "          16       0.88      1.00      0.93       709\n",
            "          17       0.95      0.93      0.94       131\n",
            "          18       0.96      0.91      0.94       222\n",
            "          19       0.89      0.52      0.65        64\n",
            "          20       1.00      0.50      0.67         6\n",
            "          21       0.73      0.47      0.57        34\n",
            "          22       1.00      1.00      1.00        13\n",
            "          23       0.93      0.94      0.93        79\n",
            "          24       0.75      0.80      0.77        66\n",
            "          25       0.96      0.98      0.97       106\n",
            "          26       0.00      0.00      0.00         3\n",
            "\n",
            "    accuracy                           0.93      4000\n",
            "   macro avg       0.84      0.71      0.75      4000\n",
            "weighted avg       0.93      0.93      0.92      4000\n",
            "\n"
          ],
          "name": "stdout"
        },
        {
          "output_type": "stream",
          "text": [
            "/usr/local/lib/python3.7/dist-packages/sklearn/metrics/_classification.py:1272: UndefinedMetricWarning: Precision and F-score are ill-defined and being set to 0.0 in labels with no predicted samples. Use `zero_division` parameter to control this behavior.\n",
            "  _warn_prf(average, modifier, msg_start, len(result))\n"
          ],
          "name": "stderr"
        }
      ]
    },
    {
      "cell_type": "markdown",
      "metadata": {
        "id": "7xr2oqvikrSB"
      },
      "source": [
        "# Decision Tree Classifier"
      ]
    },
    {
      "cell_type": "code",
      "metadata": {
        "colab": {
          "base_uri": "https://localhost:8080/"
        },
        "id": "0c17tXatmLA_",
        "outputId": "40920005-04f6-42c2-bd1d-fbc8b567e3a9"
      },
      "source": [
        "vect = CountVectorizer(stop_words = 'english')\n",
        "X_train_matrix = vect.fit_transform(X_train) \n",
        "\n",
        "# Defining model\n",
        "clf1 = DecisionTreeClassifier(random_state=0)\n",
        "# Fitting to DecisionTreeClassifier \n",
        "clf1.fit(X_train_matrix, y_train)\n",
        "# Scoring the trained model \n",
        "print(clf1.score(X_train_matrix, y_train)*100)\n",
        "# Converting the test data\n",
        "X_test_matrix = vect.transform(X_test) \n",
        "# Scoring for the test data\n",
        "print (clf1.score(X_test_matrix, y_test)*100)\n",
        "# Classification Report\n",
        "predicted_result=clf1.predict(X_test_matrix)\n",
        "print(classification_report(y_test,predicted_result))"
      ],
      "execution_count": 8,
      "outputs": [
        {
          "output_type": "stream",
          "text": [
            "99.92498593486279\n",
            "95.125\n",
            "              precision    recall  f1-score   support\n",
            "\n",
            "           0       0.98      0.98      0.98       206\n",
            "           1       0.91      0.85      0.88        97\n",
            "           2       0.89      0.88      0.88        56\n",
            "           3       0.93      0.91      0.92       144\n",
            "           4       1.00      0.94      0.97        18\n",
            "           5       0.98      0.99      0.99      1268\n",
            "           6       0.90      0.89      0.89       116\n",
            "           7       0.98      0.97      0.97       253\n",
            "           8       0.80      0.92      0.86        36\n",
            "           9       0.54      1.00      0.70         7\n",
            "          10       1.00      0.56      0.71         9\n",
            "          11       0.00      0.00      0.00         5\n",
            "          12       0.95      0.94      0.94       188\n",
            "          13       1.00      0.50      0.67         4\n",
            "          14       0.95      0.91      0.93       142\n",
            "          15       0.81      0.72      0.76        18\n",
            "          16       0.99      0.99      0.99       709\n",
            "          17       0.88      0.98      0.93       131\n",
            "          18       0.93      0.93      0.93       222\n",
            "          19       0.75      0.73      0.74        64\n",
            "          20       1.00      0.83      0.91         6\n",
            "          21       0.72      0.76      0.74        34\n",
            "          22       0.92      0.85      0.88        13\n",
            "          23       0.94      0.94      0.94        79\n",
            "          24       0.76      0.80      0.78        66\n",
            "          25       0.98      0.96      0.97       106\n",
            "          26       0.00      0.00      0.00         3\n",
            "\n",
            "    accuracy                           0.95      4000\n",
            "   macro avg       0.83      0.80      0.81      4000\n",
            "weighted avg       0.95      0.95      0.95      4000\n",
            "\n"
          ],
          "name": "stdout"
        },
        {
          "output_type": "stream",
          "text": [
            "/usr/local/lib/python3.7/dist-packages/sklearn/metrics/_classification.py:1272: UndefinedMetricWarning: Precision and F-score are ill-defined and being set to 0.0 in labels with no predicted samples. Use `zero_division` parameter to control this behavior.\n",
            "  _warn_prf(average, modifier, msg_start, len(result))\n"
          ],
          "name": "stderr"
        }
      ]
    },
    {
      "cell_type": "markdown",
      "metadata": {
        "id": "GleFkaICkux_"
      },
      "source": [
        "# Random Forest Classifier"
      ]
    },
    {
      "cell_type": "code",
      "metadata": {
        "colab": {
          "base_uri": "https://localhost:8080/"
        },
        "id": "bYV_U8Dt_vPh",
        "outputId": "bea81e16-70a2-4b94-ac00-f7401bf5d76f"
      },
      "source": [
        "vect = CountVectorizer(stop_words = 'english')\n",
        "X_train_matrix = vect.fit_transform(X_train) \n",
        "\n",
        "# Defining model\n",
        "clf1 = RandomForestClassifier(max_depth=200, random_state=0)\n",
        "# Fitting to RandomForest\n",
        "clf1.fit(X_train_matrix, y_train)\n",
        "# Scoring the trained model \n",
        "print(clf1.score(X_train_matrix, y_train)*100)\n",
        "# Converting the test data\n",
        "X_test_matrix = vect.transform(X_test) \n",
        "# Scoring for the test data\n",
        "print (clf1.score(X_test_matrix, y_test)*100)\n",
        "# Classification Report\n",
        "predicted_result=clf1.predict(X_test_matrix)\n",
        "print(classification_report(y_test,predicted_result))"
      ],
      "execution_count": 9,
      "outputs": [
        {
          "output_type": "stream",
          "text": [
            "99.92498593486279\n",
            "96.25\n",
            "              precision    recall  f1-score   support\n",
            "\n",
            "           0       0.98      0.99      0.98       206\n",
            "           1       0.97      0.64      0.77        97\n",
            "           2       0.98      0.89      0.93        56\n",
            "           3       1.00      0.91      0.95       144\n",
            "           4       1.00      0.83      0.91        18\n",
            "           5       0.96      1.00      0.98      1268\n",
            "           6       0.96      0.91      0.93       116\n",
            "           7       1.00      0.98      0.99       253\n",
            "           8       1.00      0.97      0.99        36\n",
            "           9       0.78      1.00      0.88         7\n",
            "          10       1.00      0.78      0.88         9\n",
            "          11       0.00      0.00      0.00         5\n",
            "          12       0.91      0.98      0.94       188\n",
            "          13       1.00      0.25      0.40         4\n",
            "          14       0.97      0.96      0.96       142\n",
            "          15       0.94      0.89      0.91        18\n",
            "          16       0.99      1.00      1.00       709\n",
            "          17       0.89      0.97      0.93       131\n",
            "          18       0.95      0.98      0.97       222\n",
            "          19       0.87      0.75      0.81        64\n",
            "          20       1.00      0.67      0.80         6\n",
            "          21       0.90      0.82      0.86        34\n",
            "          22       1.00      1.00      1.00        13\n",
            "          23       0.99      0.94      0.96        79\n",
            "          24       0.84      0.86      0.85        66\n",
            "          25       1.00      0.99      1.00       106\n",
            "          26       0.00      0.00      0.00         3\n",
            "\n",
            "    accuracy                           0.96      4000\n",
            "   macro avg       0.88      0.81      0.84      4000\n",
            "weighted avg       0.96      0.96      0.96      4000\n",
            "\n"
          ],
          "name": "stdout"
        },
        {
          "output_type": "stream",
          "text": [
            "/usr/local/lib/python3.7/dist-packages/sklearn/metrics/_classification.py:1272: UndefinedMetricWarning: Precision and F-score are ill-defined and being set to 0.0 in labels with no predicted samples. Use `zero_division` parameter to control this behavior.\n",
            "  _warn_prf(average, modifier, msg_start, len(result))\n"
          ],
          "name": "stderr"
        }
      ]
    }
  ]
}